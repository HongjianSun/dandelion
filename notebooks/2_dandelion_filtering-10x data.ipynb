{
 "cells": [
  {
   "cell_type": "markdown",
   "metadata": {},
   "source": [
    "# *dandelion* Notebook-2\n",
    "![dandelion_logo](img/dandelion_logo.png)\n",
    "\n",
    "## Filtering\n",
    "Now that the most time-consuming but essential part of the pre-processing is done in part 1, we can move on to filtering out cells (and corresponding contigs) from the BCR data and transcriptome object loaded in *scanpy*."
   ]
  },
  {
   "cell_type": "markdown",
   "metadata": {},
   "source": [
    "#### Import *dandelion* module"
   ]
  },
  {
   "cell_type": "code",
   "execution_count": 1,
   "metadata": {},
   "outputs": [
    {
     "name": "stderr",
     "output_type": "stream",
     "text": [
      "/Users/kt16/miniconda3/envs/dandelion/lib/python3.7/site-packages/anndata/_core/anndata.py:21: FutureWarning: pandas.core.index is deprecated and will be removed in a future version.  The public classes are available in the top-level namespace.\n",
      "  from pandas.core.index import RangeIndex\n"
     ]
    }
   ],
   "source": [
    "import os\n",
    "os.chdir(os.path.expanduser('/Users/kt16/Documents/Github/dandelion'))\n",
    "import dandelion as ddl\n",
    "# change directory to somewhere more workable\n",
    "os.chdir(os.path.expanduser('/Users/kt16/Downloads/dandelion_tutorial/'))"
   ]
  },
  {
   "cell_type": "markdown",
   "metadata": {},
   "source": [
    "#### Import modules for use with scanpy"
   ]
  },
  {
   "cell_type": "code",
   "execution_count": 2,
   "metadata": {},
   "outputs": [
    {
     "name": "stdout",
     "output_type": "stream",
     "text": [
      "scanpy==1.5.1 anndata==0.7.1 umap==0.4.3 numpy==1.19.2 scipy==1.5.2 pandas==1.1.0 scikit-learn==0.23.1 statsmodels==0.11.1 python-igraph==0.8.2 louvain==0.6.1 leidenalg==0.8.0\n"
     ]
    }
   ],
   "source": [
    "import pandas as pd\n",
    "import numpy as np\n",
    "import scanpy as sc\n",
    "import warnings\n",
    "import functools\n",
    "import seaborn as sns\n",
    "import scipy.stats\n",
    "import anndata\n",
    "\n",
    "warnings.filterwarnings('ignore')\n",
    "sc.logging.print_versions()"
   ]
  },
  {
   "cell_type": "markdown",
   "metadata": {},
   "source": [
    "#### Import the transcriptome data"
   ]
  },
  {
   "cell_type": "code",
   "execution_count": 3,
   "metadata": {},
   "outputs": [
    {
     "name": "stderr",
     "output_type": "stream",
     "text": [
      "Variable names are not unique. To make them unique, call `.var_names_make_unique`.\n",
      "Variable names are not unique. To make them unique, call `.var_names_make_unique`.\n",
      "Variable names are not unique. To make them unique, call `.var_names_make_unique`.\n",
      "Variable names are not unique. To make them unique, call `.var_names_make_unique`.\n",
      "Variable names are not unique. To make them unique, call `.var_names_make_unique`.\n",
      "Variable names are not unique. To make them unique, call `.var_names_make_unique`.\n",
      "Variable names are not unique. To make them unique, call `.var_names_make_unique`.\n",
      "Variable names are not unique. To make them unique, call `.var_names_make_unique`.\n"
     ]
    },
    {
     "data": {
      "text/plain": [
       "AnnData object with n_obs × n_vars = 30471 × 31915 \n",
       "    obs: 'batch', 'sampleid'\n",
       "    var: 'gene_ids-0', 'feature_types', 'genome', 'gene_ids-1', 'gene_ids-2', 'gene_ids-3'"
      ]
     },
     "execution_count": 3,
     "metadata": {},
     "output_type": "execute_result"
    }
   ],
   "source": [
    "samples = ['sc5p_v2_hs_PBMC_1k', 'sc5p_v2_hs_PBMC_10k', 'vdj_v1_hs_pbmc3', 'vdj_nextgem_hs_pbmc3']\n",
    "adata_list = []\n",
    "for sample in samples:\n",
    "    adata = sc.read_10x_h5(sample +'/' + sample + '_filtered_feature_bc_matrix.h5', gex_only=True)\n",
    "    adata.obs['sampleid'] = sample\n",
    "    # rename cells to sample id + barcode\n",
    "    adata.obs_names = [str(sample)+'_'+str(j) for j in adata.obs_names]\n",
    "    adata.var_names_make_unique()\n",
    "    adata_list.append(adata)\n",
    "adata = adata_list[0].concatenate(adata_list[1:])\n",
    "# rename the obs_names again, this time cleaving the trailing -#\n",
    "adata.obs_names = [str(j).split('-')[0] for j in adata.obs_names]\n",
    "adata"
   ]
  },
  {
   "cell_type": "markdown",
   "metadata": {},
   "source": [
    "### *pp.recipe_scanpy_qc*\n",
    "I've included a wrapper called `pp.recipe_scanpy_qc` to run through a generic [scanpy](https://scanpy-tutorials.readthedocs.io/en/latest/pbmc3k.html) workflow that includes [scrublet](https://github.com/AllonKleinLab/scrublet) doublet detection. The function does not filter the cells and is simply a way to mark bad quality cells and potential doublets in the `.obs` slot. The scrublet doublet detection is implemented based on [kp9](kp9@sanger.ac.uk)'s *Bertie's* doublet calling [procedure](https://www.nature.com/articles/s41467-018-06318-7).\n",
    "\n",
    "Whether or not you run this is up to you. You can provide in a pre-processed `AnnData` object for the subsequent steps"
   ]
  },
  {
   "cell_type": "code",
   "execution_count": 4,
   "metadata": {
    "scrolled": true
   },
   "outputs": [
    {
     "data": {
      "text/plain": [
       "AnnData object with n_obs × n_vars = 30471 × 31915 \n",
       "    obs: 'batch', 'sampleid', 'scrublet_score', 'n_genes', 'percent_mito', 'n_counts', 'scrublet_score_bh_pval', 'is_doublet', 'filter_rna'\n",
       "    var: 'gene_ids-0', 'feature_types', 'genome', 'gene_ids-1', 'gene_ids-2', 'gene_ids-3'"
      ]
     },
     "execution_count": 4,
     "metadata": {},
     "output_type": "execute_result"
    }
   ],
   "source": [
    "ddl.pp.recipe_scanpy_qc(adata)\n",
    "adata"
   ]
  },
  {
   "cell_type": "markdown",
   "metadata": {},
   "source": [
    "As mentioned, the function doesn't actually filter any cells, but just populate the `.obs` slot with the following columns:\n",
    "```\n",
    "'n_genes'\n",
    "'percent_mito'\n",
    "'n_counts'\n",
    "'is_doublet'\n",
    "'filter_rna'\n",
    "```\n",
    "Only `'filter_rna'` is needed for the next step.\n",
    "\n",
    "If you have a pre-processed/filltered `AnnData` object that is ready, just add a `'filter_rna'` column into the `.obs` slot with every value set to `False` and you should be good to go:\n",
    "\n",
    "```python\n",
    "adata.obs['filter_rna'] = False\n",
    "```"
   ]
  },
  {
   "cell_type": "markdown",
   "metadata": {},
   "source": [
    "### *pp.filter_bcr*\n",
    "#### Filter cells that are potental doublets and poor quality in both the BCR data and transcriptome data\n",
    "We use the function `pp.filter_bcr` to mark and filter out cells and contigs from both the BCR data and transcriptome data in `AnnData`. The operation will remove bad quality cells based on transcriptome information as well as remove BCR doublets (multiplet heavy chain, and/or light chains) from the BCR data. In some situations, a single cell can have multiple heavy/light chain contigs although they have an identical V(D)J+C alignment; in situations like this, the contigs with lesser umis will be dropped and the umis transferred to duplicate_count column. The same procedure is applied to both heavy chain and light chains before identifying doublets. \n",
    "\n",
    "Cells in the gene expression object without BCR information will not be affected i.e. the `AnnData` object can hold non-B cells. Run `?ddl.pp.filter_bcr` to check what each option does."
   ]
  },
  {
   "cell_type": "code",
   "execution_count": 5,
   "metadata": {
    "scrolled": true
   },
   "outputs": [
    {
     "data": {
      "text/html": [
       "<div>\n",
       "<style scoped>\n",
       "    .dataframe tbody tr th:only-of-type {\n",
       "        vertical-align: middle;\n",
       "    }\n",
       "\n",
       "    .dataframe tbody tr th {\n",
       "        vertical-align: top;\n",
       "    }\n",
       "\n",
       "    .dataframe thead th {\n",
       "        text-align: right;\n",
       "    }\n",
       "</style>\n",
       "<table border=\"1\" class=\"dataframe\">\n",
       "  <thead>\n",
       "    <tr style=\"text-align: right;\">\n",
       "      <th></th>\n",
       "      <th>sequence_id</th>\n",
       "      <th>sequence</th>\n",
       "      <th>rev_comp</th>\n",
       "      <th>productive</th>\n",
       "      <th>v_call</th>\n",
       "      <th>d_call</th>\n",
       "      <th>j_call</th>\n",
       "      <th>sequence_alignment</th>\n",
       "      <th>germline_alignment</th>\n",
       "      <th>junction</th>\n",
       "      <th>...</th>\n",
       "      <th>c_germline_alignment</th>\n",
       "      <th>c_sequence_start</th>\n",
       "      <th>c_sequence_end</th>\n",
       "      <th>c_score</th>\n",
       "      <th>c_identity</th>\n",
       "      <th>c_support</th>\n",
       "      <th>sample_id</th>\n",
       "      <th>v_call_genotyped</th>\n",
       "      <th>germline_alignment_d_mask</th>\n",
       "      <th>mu_freq</th>\n",
       "    </tr>\n",
       "  </thead>\n",
       "  <tbody>\n",
       "    <tr>\n",
       "      <th>0</th>\n",
       "      <td>sc5p_v2_hs_PBMC_1k_AACTCCCAGGCTAGGT-1_contig_1</td>\n",
       "      <td>ACTGCGGGGGTAAGAGGTTGTGTCCACCATGGCCTGGACTCCTCTC...</td>\n",
       "      <td>F</td>\n",
       "      <td>T</td>\n",
       "      <td>IGLV5-45*03</td>\n",
       "      <td>NaN</td>\n",
       "      <td>IGLJ3*02</td>\n",
       "      <td>CAGGCTGTGCTGACTCAGCCGTCTTCC...CTCTCTGCATCTCCTG...</td>\n",
       "      <td>CAGGCTGTGCTGACTCAGCCGTCTTCC...CTCTCTGCATCTCCTG...</td>\n",
       "      <td>TGTATGATTTGGCACAGCAGCGCTTGGGTGTTC</td>\n",
       "      <td>...</td>\n",
       "      <td>GGTCAGCCCAAGGCTGCCCCCTCGGTCACTCTGTTCCCGCCCTCCT...</td>\n",
       "      <td>431.0</td>\n",
       "      <td>642.0</td>\n",
       "      <td>392.610</td>\n",
       "      <td>100.0</td>\n",
       "      <td>1.000000e-111</td>\n",
       "      <td>sc5p_v2_hs_PBMC_1k</td>\n",
       "      <td>IGLV5-45*03</td>\n",
       "      <td>CAGGCTGTGCTGACTCAGCCGTCTTCC...CTCTCTGCATCTCCTG...</td>\n",
       "      <td>0.000000</td>\n",
       "    </tr>\n",
       "    <tr>\n",
       "      <th>1</th>\n",
       "      <td>sc5p_v2_hs_PBMC_1k_AACTCCCAGGCTAGGT-1_contig_2</td>\n",
       "      <td>ATACTTTCTGAGAGTCCTGGACCTCCTGTGCAAGAACATGAAACAT...</td>\n",
       "      <td>F</td>\n",
       "      <td>T</td>\n",
       "      <td>IGHV4-61*02</td>\n",
       "      <td>IGHD3-3*01</td>\n",
       "      <td>IGHJ6*02</td>\n",
       "      <td>CAGGTGCAGCTGCAGGAGTCGGGCCCA...GGACTGGTGAAGCCTT...</td>\n",
       "      <td>CAGGTGCAGCTGCAGGAGTCGGGCCCA...GGACTGGTGAAGCCTT...</td>\n",
       "      <td>TGTGCGAGAGAAAATTACGATTTTTGGAGTGGTTATTACCACGGTG...</td>\n",
       "      <td>...</td>\n",
       "      <td>GGGAGTGCATCCGCCCCAACCCTTTTCCCCCTCGTCTCCTGTGAGA...</td>\n",
       "      <td>470.0</td>\n",
       "      <td>541.0</td>\n",
       "      <td>134.079</td>\n",
       "      <td>100.0</td>\n",
       "      <td>7.000000e-34</td>\n",
       "      <td>sc5p_v2_hs_PBMC_1k</td>\n",
       "      <td>IGHV4-61*02</td>\n",
       "      <td>CAGGTGCAGCTGCAGGAGTCGGGCCCA...GGACTGGTGAAGCCTT...</td>\n",
       "      <td>0.008571</td>\n",
       "    </tr>\n",
       "    <tr>\n",
       "      <th>2</th>\n",
       "      <td>sc5p_v2_hs_PBMC_1k_AACTCCCAGGCTAGGT-1_contig_3</td>\n",
       "      <td>GGCTGGGGTCTCAGGAGGCAGCGCTCTGGGGACGTCTCCACCATGG...</td>\n",
       "      <td>F</td>\n",
       "      <td>F</td>\n",
       "      <td>IGLV2-5*01</td>\n",
       "      <td>NaN</td>\n",
       "      <td>IGLJ3*02</td>\n",
       "      <td>CAGTCTGCCCTGATTCAGCCTCCCTCC...GTGTCCGGGTCTCCTG...</td>\n",
       "      <td>CAGTCTGCCCTGATTCAGCCTCCCTCC...GTGTCCGGGTCTCCTG...</td>\n",
       "      <td>TGCTGCTCATATACAAGCAGTGCCACTTTCTTGGGTGTTC</td>\n",
       "      <td>...</td>\n",
       "      <td>GGTCAGCCCAAGGCTGCCCCCTCGGTCACTCTGTTCCCACCCTCCT...</td>\n",
       "      <td>433.0</td>\n",
       "      <td>644.0</td>\n",
       "      <td>392.610</td>\n",
       "      <td>100.0</td>\n",
       "      <td>1.000000e-111</td>\n",
       "      <td>sc5p_v2_hs_PBMC_1k</td>\n",
       "      <td>IGLV2-5*01</td>\n",
       "      <td>CAGTCTGCCCTGATTCAGCCTCCCTCC...GTGTCCGGGTCTCCTG...</td>\n",
       "      <td>0.000000</td>\n",
       "    </tr>\n",
       "    <tr>\n",
       "      <th>3</th>\n",
       "      <td>sc5p_v2_hs_PBMC_1k_AACTCTTGTCATCGGC-1_contig_1</td>\n",
       "      <td>AGAGCTCTGGGGAGTCTGCACCATGGCTTGGACCCCACTCCTCTTC...</td>\n",
       "      <td>F</td>\n",
       "      <td>T</td>\n",
       "      <td>IGLV4-69*01</td>\n",
       "      <td>NaN</td>\n",
       "      <td>IGLJ1*01</td>\n",
       "      <td>CAGCTTGTGCTGACTCAATCGCCCTCT...GCCTCTGCCTCCCTGG...</td>\n",
       "      <td>CAGCTTGTGCTGACTCAATCGCCCTCT...GCCTCTGCCTCCCTGG...</td>\n",
       "      <td>TGTCAGACCTGGGGCACTGGCATTTATGTCTTC</td>\n",
       "      <td>...</td>\n",
       "      <td>GGTCAGCCCAAGGCCAACCCCACTGTCACTCTGTTCCCGCCCTCCT...</td>\n",
       "      <td>416.0</td>\n",
       "      <td>627.0</td>\n",
       "      <td>392.610</td>\n",
       "      <td>100.0</td>\n",
       "      <td>1.000000e-111</td>\n",
       "      <td>sc5p_v2_hs_PBMC_1k</td>\n",
       "      <td>IGLV4-69*01</td>\n",
       "      <td>CAGCTTGTGCTGACTCAATCGCCCTCT...GCCTCTGCCTCCCTGG...</td>\n",
       "      <td>0.000000</td>\n",
       "    </tr>\n",
       "    <tr>\n",
       "      <th>4</th>\n",
       "      <td>sc5p_v2_hs_PBMC_1k_AACTCTTGTCATCGGC-1_contig_2</td>\n",
       "      <td>AGCTCTGAGAGAGGAGCCTTAGCCCTGGATTCCAAGGCCTATCCAC...</td>\n",
       "      <td>F</td>\n",
       "      <td>T</td>\n",
       "      <td>IGHV3-21*01</td>\n",
       "      <td>IGHD3-22*01</td>\n",
       "      <td>IGHJ4*02</td>\n",
       "      <td>GAGGTGCAGCTGGTGGAGTCTGGGGGA...GGCCTGGTCAAGCCTG...</td>\n",
       "      <td>GAGGTGCAGCTGGTGGAGTCTGGGGGA...GGCCTGGTCAAGCCTG...</td>\n",
       "      <td>TGTGCGAGACGTTACTATGATAGTAGTGGTTATTCCGCAAACTTTG...</td>\n",
       "      <td>...</td>\n",
       "      <td>GGGAGTGCATCCGCCCCAACCCTTTTCCCCCTCGTCTCCTGTGAGA...</td>\n",
       "      <td>506.0</td>\n",
       "      <td>577.0</td>\n",
       "      <td>134.079</td>\n",
       "      <td>100.0</td>\n",
       "      <td>7.000000e-34</td>\n",
       "      <td>sc5p_v2_hs_PBMC_1k</td>\n",
       "      <td>IGHV3-21*01</td>\n",
       "      <td>GAGGTGCAGCTGGTGGAGTCTGGGGGA...GGCCTGGTCAAGCCTG...</td>\n",
       "      <td>0.000000</td>\n",
       "    </tr>\n",
       "    <tr>\n",
       "      <th>...</th>\n",
       "      <td>...</td>\n",
       "      <td>...</td>\n",
       "      <td>...</td>\n",
       "      <td>...</td>\n",
       "      <td>...</td>\n",
       "      <td>...</td>\n",
       "      <td>...</td>\n",
       "      <td>...</td>\n",
       "      <td>...</td>\n",
       "      <td>...</td>\n",
       "      <td>...</td>\n",
       "      <td>...</td>\n",
       "      <td>...</td>\n",
       "      <td>...</td>\n",
       "      <td>...</td>\n",
       "      <td>...</td>\n",
       "      <td>...</td>\n",
       "      <td>...</td>\n",
       "      <td>...</td>\n",
       "      <td>...</td>\n",
       "      <td>...</td>\n",
       "    </tr>\n",
       "    <tr>\n",
       "      <th>7340</th>\n",
       "      <td>vdj_nextgem_hs_pbmc3_TGCCCATTCCAGAGGA-1_contig_1</td>\n",
       "      <td>AGCTCTGAGAGAGGAGCCCAGCCCTGGGATTTTCAGGTGTTTTCAT...</td>\n",
       "      <td>F</td>\n",
       "      <td>T</td>\n",
       "      <td>IGHV3-23*01,IGHV3-23D*01</td>\n",
       "      <td>IGHD3-16*02</td>\n",
       "      <td>IGHJ4*02</td>\n",
       "      <td>GAGGTGCAGCTGTTGGAGTCTGGGGGA...GGCTTGGTACAGCCTG...</td>\n",
       "      <td>GAGGTGCAGCTGTTGGAGTCTGGGGGA...GGCTTGGTACAGCCTG...</td>\n",
       "      <td>TGTGCGAAAGCCCGCCCGGAGGGAAAGAAGTTATCATTGTTTAGAG...</td>\n",
       "      <td>...</td>\n",
       "      <td>GGGAGTGCATCCGCCCCAACCCTTTTCCCCCTCGTCTCCTGTGAGA...</td>\n",
       "      <td>533.0</td>\n",
       "      <td>604.0</td>\n",
       "      <td>134.079</td>\n",
       "      <td>100.0</td>\n",
       "      <td>7.000000e-34</td>\n",
       "      <td>vdj_nextgem_hs_pbmc3</td>\n",
       "      <td>IGHV3-23*01,IGHV3-23D*01</td>\n",
       "      <td>GAGGTGCAGCTGTTGGAGTCTGGGGGA...GGCTTGGTACAGCCTG...</td>\n",
       "      <td>0.000000</td>\n",
       "    </tr>\n",
       "    <tr>\n",
       "      <th>7341</th>\n",
       "      <td>vdj_nextgem_hs_pbmc3_TGCCCATTCCAGAGGA-1_contig_2</td>\n",
       "      <td>AGCTTCAGCTGTGGGTAGAGAAGACAGGACTCAGGACAATCTCCAG...</td>\n",
       "      <td>F</td>\n",
       "      <td>T</td>\n",
       "      <td>IGLV1-44*01</td>\n",
       "      <td>NaN</td>\n",
       "      <td>IGLJ2*01,IGLJ3*01</td>\n",
       "      <td>CAGTCTGTGCTGACTCAGCCACCCTCA...GCGTCTGGGACCCCCG...</td>\n",
       "      <td>CAGTCTGTGCTGACTCAGCCACCCTCA...GCGTCTGGGACCCCCG...</td>\n",
       "      <td>TGTGCAGCATGGGATGACAGCCTTTTATTC</td>\n",
       "      <td>...</td>\n",
       "      <td>GGTCAGCCCAAGGCTGCCCCCTCGGTCACTCTGTTCCCGCCCTCCT...</td>\n",
       "      <td>426.0</td>\n",
       "      <td>637.0</td>\n",
       "      <td>392.610</td>\n",
       "      <td>100.0</td>\n",
       "      <td>1.000000e-111</td>\n",
       "      <td>vdj_nextgem_hs_pbmc3</td>\n",
       "      <td>IGLV1-44*01</td>\n",
       "      <td>CAGTCTGTGCTGACTCAGCCACCCTCA...GCGTCTGGGACCCCCG...</td>\n",
       "      <td>0.000000</td>\n",
       "    </tr>\n",
       "    <tr>\n",
       "      <th>7342</th>\n",
       "      <td>vdj_nextgem_hs_pbmc3_TGGCCAGCAACAACCT-1_contig_1</td>\n",
       "      <td>GATCAGGACTTCTCAGTTCATCTTCTCACCATGAGGCTCCCTGCTC...</td>\n",
       "      <td>F</td>\n",
       "      <td>T</td>\n",
       "      <td>IGKV2D-29*01</td>\n",
       "      <td>NaN</td>\n",
       "      <td>IGKJ4*01</td>\n",
       "      <td>..TATTGTGATGACCCAGACTCCAGTCTCTCTGTCCGTCACCCCTG...</td>\n",
       "      <td>TATTGTGATGACCCAGACTCCACTCTCTCTGTCCGTCACCCCTGGA...</td>\n",
       "      <td>TGCAAGCAAAGTATACAGTTTCCGCTCACTTTC</td>\n",
       "      <td>...</td>\n",
       "      <td>CGAACTGTGGCTGCACCATCTGTCTTCATCTTCCCGCCATCTGATG...</td>\n",
       "      <td>427.0</td>\n",
       "      <td>563.0</td>\n",
       "      <td>254.111</td>\n",
       "      <td>100.0</td>\n",
       "      <td>5.000000e-70</td>\n",
       "      <td>vdj_nextgem_hs_pbmc3</td>\n",
       "      <td>IGKV2D-29*01</td>\n",
       "      <td>GATATTGTGATGACCCAGACTCCACTCTCTCTGTCCGTCACCCCTG...</td>\n",
       "      <td>0.014970</td>\n",
       "    </tr>\n",
       "    <tr>\n",
       "      <th>7343</th>\n",
       "      <td>vdj_nextgem_hs_pbmc3_TGGCGCAGTGTTGGGA-1_contig_1</td>\n",
       "      <td>TGGGGGACTCCTGTGCCCCACCATGGACACACTTTGCTACACACTC...</td>\n",
       "      <td>F</td>\n",
       "      <td>T</td>\n",
       "      <td>IGHV2-26*01</td>\n",
       "      <td>IGHD3-22*01</td>\n",
       "      <td>IGHJ4*02</td>\n",
       "      <td>CAGGTCACCTTGAAGGAGTCTGGTCCT...GTGCTGGTGAAACCCA...</td>\n",
       "      <td>CAGGTCACCTTGAAGGAGTCTGGTCCT...GTGCTGGTGAAACCCA...</td>\n",
       "      <td>TGTGCACGGATAAGCTTTGATAATAGTGCCTTTGACTACTGG</td>\n",
       "      <td>...</td>\n",
       "      <td>GGGAGTGCATCCGCCCCAACCCTTTTCCCCCTCGTCTCCTGTGAGA...</td>\n",
       "      <td>440.0</td>\n",
       "      <td>511.0</td>\n",
       "      <td>134.079</td>\n",
       "      <td>100.0</td>\n",
       "      <td>6.000000e-34</td>\n",
       "      <td>vdj_nextgem_hs_pbmc3</td>\n",
       "      <td>IGHV2-26*01</td>\n",
       "      <td>CAGGTCACCTTGAAGGAGTCTGGTCCT...GTGCTGGTGAAACCCA...</td>\n",
       "      <td>0.005831</td>\n",
       "    </tr>\n",
       "    <tr>\n",
       "      <th>7344</th>\n",
       "      <td>vdj_nextgem_hs_pbmc3_TGGCGCAGTGTTGGGA-1_contig_2</td>\n",
       "      <td>TGGGGGGGGTCTCAGGAGGCAGCGCTCTCGGGACGTCTCCACCATG...</td>\n",
       "      <td>F</td>\n",
       "      <td>T</td>\n",
       "      <td>IGLV2-14*01</td>\n",
       "      <td>NaN</td>\n",
       "      <td>IGLJ2*01,IGLJ3*01</td>\n",
       "      <td>CAGTCTGCCCTGACTCAGCCTGCCTCC...GTGTCTGGGTCTCCTG...</td>\n",
       "      <td>CAGTCTGCCCTGACTCAGCCTGCCTCC...GTGTCTGGGTCTCCTG...</td>\n",
       "      <td>TGCAGCTCATATACAAGCAGCAGCACTGTGGTATTC</td>\n",
       "      <td>...</td>\n",
       "      <td>GTCAGCCCAAGGCTGCCCCCTCGGTCACTCTGTTCCCGCCCTCCTC...</td>\n",
       "      <td>432.0</td>\n",
       "      <td>642.0</td>\n",
       "      <td>390.763</td>\n",
       "      <td>100.0</td>\n",
       "      <td>4.000000e-111</td>\n",
       "      <td>vdj_nextgem_hs_pbmc3</td>\n",
       "      <td>IGLV2-14*01</td>\n",
       "      <td>CAGTCTGCCCTGACTCAGCCTGCCTCC...GTGTCTGGGTCTCCTG...</td>\n",
       "      <td>0.006061</td>\n",
       "    </tr>\n",
       "  </tbody>\n",
       "</table>\n",
       "<p>7345 rows × 107 columns</p>\n",
       "</div>"
      ],
      "text/plain": [
       "                                           sequence_id  \\\n",
       "0       sc5p_v2_hs_PBMC_1k_AACTCCCAGGCTAGGT-1_contig_1   \n",
       "1       sc5p_v2_hs_PBMC_1k_AACTCCCAGGCTAGGT-1_contig_2   \n",
       "2       sc5p_v2_hs_PBMC_1k_AACTCCCAGGCTAGGT-1_contig_3   \n",
       "3       sc5p_v2_hs_PBMC_1k_AACTCTTGTCATCGGC-1_contig_1   \n",
       "4       sc5p_v2_hs_PBMC_1k_AACTCTTGTCATCGGC-1_contig_2   \n",
       "...                                                ...   \n",
       "7340  vdj_nextgem_hs_pbmc3_TGCCCATTCCAGAGGA-1_contig_1   \n",
       "7341  vdj_nextgem_hs_pbmc3_TGCCCATTCCAGAGGA-1_contig_2   \n",
       "7342  vdj_nextgem_hs_pbmc3_TGGCCAGCAACAACCT-1_contig_1   \n",
       "7343  vdj_nextgem_hs_pbmc3_TGGCGCAGTGTTGGGA-1_contig_1   \n",
       "7344  vdj_nextgem_hs_pbmc3_TGGCGCAGTGTTGGGA-1_contig_2   \n",
       "\n",
       "                                               sequence rev_comp productive  \\\n",
       "0     ACTGCGGGGGTAAGAGGTTGTGTCCACCATGGCCTGGACTCCTCTC...        F          T   \n",
       "1     ATACTTTCTGAGAGTCCTGGACCTCCTGTGCAAGAACATGAAACAT...        F          T   \n",
       "2     GGCTGGGGTCTCAGGAGGCAGCGCTCTGGGGACGTCTCCACCATGG...        F          F   \n",
       "3     AGAGCTCTGGGGAGTCTGCACCATGGCTTGGACCCCACTCCTCTTC...        F          T   \n",
       "4     AGCTCTGAGAGAGGAGCCTTAGCCCTGGATTCCAAGGCCTATCCAC...        F          T   \n",
       "...                                                 ...      ...        ...   \n",
       "7340  AGCTCTGAGAGAGGAGCCCAGCCCTGGGATTTTCAGGTGTTTTCAT...        F          T   \n",
       "7341  AGCTTCAGCTGTGGGTAGAGAAGACAGGACTCAGGACAATCTCCAG...        F          T   \n",
       "7342  GATCAGGACTTCTCAGTTCATCTTCTCACCATGAGGCTCCCTGCTC...        F          T   \n",
       "7343  TGGGGGACTCCTGTGCCCCACCATGGACACACTTTGCTACACACTC...        F          T   \n",
       "7344  TGGGGGGGGTCTCAGGAGGCAGCGCTCTCGGGACGTCTCCACCATG...        F          T   \n",
       "\n",
       "                        v_call       d_call             j_call  \\\n",
       "0                  IGLV5-45*03          NaN           IGLJ3*02   \n",
       "1                  IGHV4-61*02   IGHD3-3*01           IGHJ6*02   \n",
       "2                   IGLV2-5*01          NaN           IGLJ3*02   \n",
       "3                  IGLV4-69*01          NaN           IGLJ1*01   \n",
       "4                  IGHV3-21*01  IGHD3-22*01           IGHJ4*02   \n",
       "...                        ...          ...                ...   \n",
       "7340  IGHV3-23*01,IGHV3-23D*01  IGHD3-16*02           IGHJ4*02   \n",
       "7341               IGLV1-44*01          NaN  IGLJ2*01,IGLJ3*01   \n",
       "7342              IGKV2D-29*01          NaN           IGKJ4*01   \n",
       "7343               IGHV2-26*01  IGHD3-22*01           IGHJ4*02   \n",
       "7344               IGLV2-14*01          NaN  IGLJ2*01,IGLJ3*01   \n",
       "\n",
       "                                     sequence_alignment  \\\n",
       "0     CAGGCTGTGCTGACTCAGCCGTCTTCC...CTCTCTGCATCTCCTG...   \n",
       "1     CAGGTGCAGCTGCAGGAGTCGGGCCCA...GGACTGGTGAAGCCTT...   \n",
       "2     CAGTCTGCCCTGATTCAGCCTCCCTCC...GTGTCCGGGTCTCCTG...   \n",
       "3     CAGCTTGTGCTGACTCAATCGCCCTCT...GCCTCTGCCTCCCTGG...   \n",
       "4     GAGGTGCAGCTGGTGGAGTCTGGGGGA...GGCCTGGTCAAGCCTG...   \n",
       "...                                                 ...   \n",
       "7340  GAGGTGCAGCTGTTGGAGTCTGGGGGA...GGCTTGGTACAGCCTG...   \n",
       "7341  CAGTCTGTGCTGACTCAGCCACCCTCA...GCGTCTGGGACCCCCG...   \n",
       "7342  ..TATTGTGATGACCCAGACTCCAGTCTCTCTGTCCGTCACCCCTG...   \n",
       "7343  CAGGTCACCTTGAAGGAGTCTGGTCCT...GTGCTGGTGAAACCCA...   \n",
       "7344  CAGTCTGCCCTGACTCAGCCTGCCTCC...GTGTCTGGGTCTCCTG...   \n",
       "\n",
       "                                     germline_alignment  \\\n",
       "0     CAGGCTGTGCTGACTCAGCCGTCTTCC...CTCTCTGCATCTCCTG...   \n",
       "1     CAGGTGCAGCTGCAGGAGTCGGGCCCA...GGACTGGTGAAGCCTT...   \n",
       "2     CAGTCTGCCCTGATTCAGCCTCCCTCC...GTGTCCGGGTCTCCTG...   \n",
       "3     CAGCTTGTGCTGACTCAATCGCCCTCT...GCCTCTGCCTCCCTGG...   \n",
       "4     GAGGTGCAGCTGGTGGAGTCTGGGGGA...GGCCTGGTCAAGCCTG...   \n",
       "...                                                 ...   \n",
       "7340  GAGGTGCAGCTGTTGGAGTCTGGGGGA...GGCTTGGTACAGCCTG...   \n",
       "7341  CAGTCTGTGCTGACTCAGCCACCCTCA...GCGTCTGGGACCCCCG...   \n",
       "7342  TATTGTGATGACCCAGACTCCACTCTCTCTGTCCGTCACCCCTGGA...   \n",
       "7343  CAGGTCACCTTGAAGGAGTCTGGTCCT...GTGCTGGTGAAACCCA...   \n",
       "7344  CAGTCTGCCCTGACTCAGCCTGCCTCC...GTGTCTGGGTCTCCTG...   \n",
       "\n",
       "                                               junction  ...  \\\n",
       "0                     TGTATGATTTGGCACAGCAGCGCTTGGGTGTTC  ...   \n",
       "1     TGTGCGAGAGAAAATTACGATTTTTGGAGTGGTTATTACCACGGTG...  ...   \n",
       "2              TGCTGCTCATATACAAGCAGTGCCACTTTCTTGGGTGTTC  ...   \n",
       "3                     TGTCAGACCTGGGGCACTGGCATTTATGTCTTC  ...   \n",
       "4     TGTGCGAGACGTTACTATGATAGTAGTGGTTATTCCGCAAACTTTG...  ...   \n",
       "...                                                 ...  ...   \n",
       "7340  TGTGCGAAAGCCCGCCCGGAGGGAAAGAAGTTATCATTGTTTAGAG...  ...   \n",
       "7341                     TGTGCAGCATGGGATGACAGCCTTTTATTC  ...   \n",
       "7342                  TGCAAGCAAAGTATACAGTTTCCGCTCACTTTC  ...   \n",
       "7343         TGTGCACGGATAAGCTTTGATAATAGTGCCTTTGACTACTGG  ...   \n",
       "7344               TGCAGCTCATATACAAGCAGCAGCACTGTGGTATTC  ...   \n",
       "\n",
       "                                   c_germline_alignment c_sequence_start  \\\n",
       "0     GGTCAGCCCAAGGCTGCCCCCTCGGTCACTCTGTTCCCGCCCTCCT...            431.0   \n",
       "1     GGGAGTGCATCCGCCCCAACCCTTTTCCCCCTCGTCTCCTGTGAGA...            470.0   \n",
       "2     GGTCAGCCCAAGGCTGCCCCCTCGGTCACTCTGTTCCCACCCTCCT...            433.0   \n",
       "3     GGTCAGCCCAAGGCCAACCCCACTGTCACTCTGTTCCCGCCCTCCT...            416.0   \n",
       "4     GGGAGTGCATCCGCCCCAACCCTTTTCCCCCTCGTCTCCTGTGAGA...            506.0   \n",
       "...                                                 ...              ...   \n",
       "7340  GGGAGTGCATCCGCCCCAACCCTTTTCCCCCTCGTCTCCTGTGAGA...            533.0   \n",
       "7341  GGTCAGCCCAAGGCTGCCCCCTCGGTCACTCTGTTCCCGCCCTCCT...            426.0   \n",
       "7342  CGAACTGTGGCTGCACCATCTGTCTTCATCTTCCCGCCATCTGATG...            427.0   \n",
       "7343  GGGAGTGCATCCGCCCCAACCCTTTTCCCCCTCGTCTCCTGTGAGA...            440.0   \n",
       "7344  GTCAGCCCAAGGCTGCCCCCTCGGTCACTCTGTTCCCGCCCTCCTC...            432.0   \n",
       "\n",
       "     c_sequence_end  c_score c_identity      c_support             sample_id  \\\n",
       "0             642.0  392.610      100.0  1.000000e-111    sc5p_v2_hs_PBMC_1k   \n",
       "1             541.0  134.079      100.0   7.000000e-34    sc5p_v2_hs_PBMC_1k   \n",
       "2             644.0  392.610      100.0  1.000000e-111    sc5p_v2_hs_PBMC_1k   \n",
       "3             627.0  392.610      100.0  1.000000e-111    sc5p_v2_hs_PBMC_1k   \n",
       "4             577.0  134.079      100.0   7.000000e-34    sc5p_v2_hs_PBMC_1k   \n",
       "...             ...      ...        ...            ...                   ...   \n",
       "7340          604.0  134.079      100.0   7.000000e-34  vdj_nextgem_hs_pbmc3   \n",
       "7341          637.0  392.610      100.0  1.000000e-111  vdj_nextgem_hs_pbmc3   \n",
       "7342          563.0  254.111      100.0   5.000000e-70  vdj_nextgem_hs_pbmc3   \n",
       "7343          511.0  134.079      100.0   6.000000e-34  vdj_nextgem_hs_pbmc3   \n",
       "7344          642.0  390.763      100.0  4.000000e-111  vdj_nextgem_hs_pbmc3   \n",
       "\n",
       "              v_call_genotyped  \\\n",
       "0                  IGLV5-45*03   \n",
       "1                  IGHV4-61*02   \n",
       "2                   IGLV2-5*01   \n",
       "3                  IGLV4-69*01   \n",
       "4                  IGHV3-21*01   \n",
       "...                        ...   \n",
       "7340  IGHV3-23*01,IGHV3-23D*01   \n",
       "7341               IGLV1-44*01   \n",
       "7342              IGKV2D-29*01   \n",
       "7343               IGHV2-26*01   \n",
       "7344               IGLV2-14*01   \n",
       "\n",
       "                              germline_alignment_d_mask   mu_freq  \n",
       "0     CAGGCTGTGCTGACTCAGCCGTCTTCC...CTCTCTGCATCTCCTG...  0.000000  \n",
       "1     CAGGTGCAGCTGCAGGAGTCGGGCCCA...GGACTGGTGAAGCCTT...  0.008571  \n",
       "2     CAGTCTGCCCTGATTCAGCCTCCCTCC...GTGTCCGGGTCTCCTG...  0.000000  \n",
       "3     CAGCTTGTGCTGACTCAATCGCCCTCT...GCCTCTGCCTCCCTGG...  0.000000  \n",
       "4     GAGGTGCAGCTGGTGGAGTCTGGGGGA...GGCCTGGTCAAGCCTG...  0.000000  \n",
       "...                                                 ...       ...  \n",
       "7340  GAGGTGCAGCTGTTGGAGTCTGGGGGA...GGCTTGGTACAGCCTG...  0.000000  \n",
       "7341  CAGTCTGTGCTGACTCAGCCACCCTCA...GCGTCTGGGACCCCCG...  0.000000  \n",
       "7342  GATATTGTGATGACCCAGACTCCACTCTCTCTGTCCGTCACCCCTG...  0.014970  \n",
       "7343  CAGGTCACCTTGAAGGAGTCTGGTCCT...GTGCTGGTGAAACCCA...  0.005831  \n",
       "7344  CAGTCTGCCCTGACTCAGCCTGCCTCC...GTGTCTGGGTCTCCTG...  0.006061  \n",
       "\n",
       "[7345 rows x 107 columns]"
      ]
     },
     "execution_count": 5,
     "metadata": {},
     "output_type": "execute_result"
    }
   ],
   "source": [
    "# first we read in the 4 bcr files\n",
    "bcr_files = []\n",
    "for sample in samples:\n",
    "    file_location = sample +'/dandelion/data/'+sample+'_b_filtered_contig_igblast_gap_genotyped.tsv'\n",
    "    bcr_files.append(pd.read_csv(file_location, sep = '\\t'))\n",
    "bcr = bcr_files[0].append(bcr_files[1:])\n",
    "bcr.reset_index(inplace = True, drop = True)\n",
    "bcr"
   ]
  },
  {
   "cell_type": "code",
   "execution_count": 6,
   "metadata": {},
   "outputs": [
    {
     "name": "stdout",
     "output_type": "stream",
     "text": [
      "Marking barcodes with poor quality barcodes and multiplets with 3 cpus\n"
     ]
    },
    {
     "name": "stderr",
     "output_type": "stream",
     "text": [
      "Annotating in anndata obs slot : 100%|██████████| 30471/30471 [00:00<00:00, 89626.64it/s]\n"
     ]
    },
    {
     "name": "stdout",
     "output_type": "stream",
     "text": [
      "Finishing up filtering\n",
      "Initializing Dandelion object\n"
     ]
    }
   ],
   "source": [
    "# The function will return both objects. \n",
    "vdj, adata = ddl.pp.filter_bcr(bcr, adata)"
   ]
  },
  {
   "cell_type": "markdown",
   "metadata": {},
   "source": [
    "The default mode is to filter any remaining 'doublet' light chains, but some may be interested in keeping them. The option to change the behaviour is by toggling:\n",
    "```python\n",
    "filter_lightchains=False\n",
    "```\n",
    "\n",
    "Another default behavour is that if the cell in the BCR table cannot be found in the transcriptomic data, it will also be removed from the BCR data. This can be changed by toggling:\n",
    "```python\n",
    "filter_missing=False\n",
    "```\n",
    "\n",
    "Also, when contig are marked as poor quality, the default behaviour is to remove the contigs associated with the barcode, and not the barcode from the transcriptome data. This can be toggled to remove the entire cell if the intention is to retain a conservative dataset for both BCR and transcriptome data:\n",
    "```python\n",
    "filter_poorqualitybcr=True\n",
    "```\n",
    "\n",
    "And lastly, the default behaviour is to rescue the heavy chain contig with the highest umi if there are multiple contigs for a single cell. The function requires a minimum fold-difference of 2 between the highest and lowest umi in order to rescue the contig. However, if the contigs have similar number of umis, or if the sum of the umis are very low, then the entire cell will be filtered. The fold-difference cut-off can be specified via the option `umi_foldchange_cutoff`. This can be toggled to be ignore i.e. drop all multiple IGH contigs:\n",
    "```python\n",
    "rescue_igh = False\n",
    "```"
   ]
  },
  {
   "cell_type": "markdown",
   "metadata": {},
   "source": [
    "#### Check the output V(D)J table\n",
    "The vdj table is returned as a `Dandelion` class object in the `.data` slot (described in further detail in the next notebook); if a file was provided for `filter_bcr` above, a new file will be created in the same folder with the `filtered` prefix. Note that this `vdj` table is indexed based on contigs (sequence_id)."
   ]
  },
  {
   "cell_type": "code",
   "execution_count": 7,
   "metadata": {},
   "outputs": [
    {
     "data": {
      "text/plain": [
       "Dandelion class object with n_obs = 870 and n_contigs = 1761\n",
       "    data: 'sequence_id', 'sequence', 'rev_comp', 'productive', 'v_call', 'd_call', 'j_call', 'sequence_alignment', 'germline_alignment', 'junction', 'junction_aa', 'v_cigar', 'd_cigar', 'j_cigar', 'locus', 'stop_codon', 'vj_in_frame', 'sequence_alignment_aa', 'germline_alignment_aa', 'v_alignment_start', 'v_alignment_end', 'd_alignment_start', 'd_alignment_end', 'j_alignment_start', 'j_alignment_end', 'v_sequence_alignment', 'v_sequence_alignment_aa', 'v_germline_alignment', 'v_germline_alignment_aa', 'd_sequence_alignment', 'd_sequence_alignment_aa', 'd_germline_alignment', 'd_germline_alignment_aa', 'j_sequence_alignment', 'j_sequence_alignment_aa', 'j_germline_alignment', 'j_germline_alignment_aa', 'fwr1', 'fwr1_aa', 'cdr1', 'cdr1_aa', 'fwr2', 'fwr2_aa', 'cdr2', 'cdr2_aa', 'fwr3', 'fwr3_aa', 'fwr4', 'fwr4_aa', 'cdr3', 'cdr3_aa', 'junction_length', 'v_score', 'd_score', 'j_score', 'v_support', 'd_support', 'j_support', 'v_identity', 'd_identity', 'j_identity', 'v_sequence_start', 'v_sequence_end', 'v_germline_start', 'v_germline_end', 'd_sequence_start', 'd_sequence_end', 'd_germline_start', 'd_germline_end', 'j_sequence_start', 'j_sequence_end', 'j_germline_start', 'j_germline_end', 'fwr1_start', 'fwr1_end', 'cdr1_start', 'cdr1_end', 'fwr2_start', 'fwr2_end', 'cdr2_start', 'cdr2_end', 'fwr3_start', 'fwr3_end', 'fwr4_start', 'fwr4_end', 'cdr3_start', 'cdr3_end', 'np1', 'np1_length', 'np2', 'np2_length', 'junction_aa_length', 'cell_id', 'c_call', 'consensus_count', 'umi_count', 'c_sequence_alignment', 'c_germline_alignment', 'c_sequence_start', 'c_sequence_end', 'c_score', 'c_identity', 'c_support', 'sample_id', 'v_call_genotyped', 'germline_alignment_d_mask', 'mu_freq', 'duplicate_count'\n",
       "    metadata: 'sample_id', 'isotype', 'lightchain', 'status', 'vdj_status', 'productive', 'umi_counts_heavy', 'umi_counts_light', 'v_call_heavy', 'v_call_light', 'j_call_heavy', 'j_call_light', 'c_call_heavy', 'c_call_light'\n",
       "    distance: None\n",
       "    edges: None\n",
       "    layout: None\n",
       "    graph: None"
      ]
     },
     "execution_count": 7,
     "metadata": {},
     "output_type": "execute_result"
    }
   ],
   "source": [
    "vdj"
   ]
  },
  {
   "cell_type": "markdown",
   "metadata": {},
   "source": [
    "#### Check the AnnData object as well\n",
    "And the `AnnData` object is indexed based on cells."
   ]
  },
  {
   "cell_type": "code",
   "execution_count": 8,
   "metadata": {
    "scrolled": true
   },
   "outputs": [
    {
     "data": {
      "text/plain": [
       "View of AnnData object with n_obs × n_vars = 16970 × 31915 \n",
       "    obs: 'batch', 'sampleid', 'scrublet_score', 'n_genes', 'percent_mito', 'n_counts', 'scrublet_score_bh_pval', 'is_doublet', 'filter_rna', 'filter_bcr_quality', 'filter_bcr_heavy', 'filter_bcr_light', 'filter_bcr', 'has_bcr'\n",
       "    var: 'gene_ids-0', 'feature_types', 'genome', 'gene_ids-1', 'gene_ids-2', 'gene_ids-3'"
      ]
     },
     "execution_count": 8,
     "metadata": {},
     "output_type": "execute_result"
    }
   ],
   "source": [
    "adata"
   ]
  },
  {
   "cell_type": "markdown",
   "metadata": {},
   "source": [
    "#### The number of cells that actually has a matching BCR can be tabluated."
   ]
  },
  {
   "cell_type": "code",
   "execution_count": 9,
   "metadata": {
    "scrolled": true
   },
   "outputs": [
    {
     "data": {
      "text/plain": [
       "False    16100\n",
       "True       870\n",
       "Name: has_bcr, dtype: int64"
      ]
     },
     "execution_count": 9,
     "metadata": {},
     "output_type": "execute_result"
    }
   ],
   "source": [
    "adata.obs['has_bcr'].value_counts()"
   ]
  },
  {
   "cell_type": "markdown",
   "metadata": {},
   "source": [
    "#### Now actually filter the AnnData object and run through a standard workflow starting by filtering genes and normalizing the data\n",
    "Because the 'filtered' `AnnData` object was returned as a filtered but otherwise unprocessed object, we still need to normalize and run through the usual process here."
   ]
  },
  {
   "cell_type": "code",
   "execution_count": 10,
   "metadata": {},
   "outputs": [
    {
     "name": "stderr",
     "output_type": "stream",
     "text": [
      "Trying to set attribute `.var` of view, copying.\n"
     ]
    }
   ],
   "source": [
    "# filter genes\n",
    "sc.pp.filter_genes(adata, min_cells=3)\n",
    "# Normalize the counts\n",
    "sc.pp.normalize_total(adata, target_sum=1e4)\n",
    "# Logarithmize the data\n",
    "sc.pp.log1p(adata)\n",
    "# Stash the normalised counts\n",
    "adata.raw = adata"
   ]
  },
  {
   "cell_type": "markdown",
   "metadata": {},
   "source": [
    "#### Identify highly-variable genes"
   ]
  },
  {
   "cell_type": "code",
   "execution_count": 11,
   "metadata": {},
   "outputs": [
    {
     "data": {
      "image/png": "[encoded data removed]",
      "text/plain": [
       "<Figure size 864x288 with 2 Axes>"
      ]
     },
     "metadata": {
      "needs_background": "light"
     },
     "output_type": "display_data"
    }
   ],
   "source": [
    "sc.pp.highly_variable_genes(adata, min_mean=0.0125, max_mean=3, min_disp=0.5)\n",
    "sc.pl.highly_variable_genes(adata)"
   ]
  },
  {
   "cell_type": "markdown",
   "metadata": {},
   "source": [
    "#### Filter the genes to only those marked as highly-variable"
   ]
  },
  {
   "cell_type": "code",
   "execution_count": 12,
   "metadata": {},
   "outputs": [],
   "source": [
    "adata = adata[:, adata.var.highly_variable]"
   ]
  },
  {
   "cell_type": "markdown",
   "metadata": {},
   "source": [
    "#### Regress out effects of total counts per cell and the percentage of mitochondrial genes expressed.Scale the data to unit variance."
   ]
  },
  {
   "cell_type": "code",
   "execution_count": null,
   "metadata": {},
   "outputs": [
    {
     "name": "stderr",
     "output_type": "stream",
     "text": [
      "Trying to set attribute `.obs` of view, copying.\n",
      "... storing 'sampleid' as categorical\n",
      "Trying to set attribute `.var` of view, copying.\n",
      "... storing 'feature_types' as categorical\n",
      "Trying to set attribute `.var` of view, copying.\n",
      "... storing 'genome' as categorical\n"
     ]
    }
   ],
   "source": [
    "sc.pp.regress_out(adata, ['n_counts', 'percent_mito'])\n",
    "sc.pp.scale(adata, max_value=10)"
   ]
  },
  {
   "cell_type": "markdown",
   "metadata": {},
   "source": [
    "#### Run PCA"
   ]
  },
  {
   "cell_type": "code",
   "execution_count": null,
   "metadata": {},
   "outputs": [],
   "source": [
    "sc.tl.pca(adata, svd_solver='arpack')\n",
    "sc.pl.pca_variance_ratio(adata, log=True, n_pcs = 50)"
   ]
  },
  {
   "cell_type": "markdown",
   "metadata": {},
   "source": [
    "#### Computing the neighborhood graph, umap and clusters"
   ]
  },
  {
   "cell_type": "code",
   "execution_count": null,
   "metadata": {},
   "outputs": [],
   "source": [
    "# Computing the neighborhood graph\n",
    "sc.pp.neighbors(adata)\n",
    "# Embedding the neighborhood graph\n",
    "sc.tl.umap(adata)\n",
    "# Clustering the neighborhood graph\n",
    "sc.tl.leiden(adata)"
   ]
  },
  {
   "cell_type": "markdown",
   "metadata": {},
   "source": [
    "#### Visualizing the clusters and whether or not there's a corresponding BCR"
   ]
  },
  {
   "cell_type": "code",
   "execution_count": null,
   "metadata": {
    "scrolled": true
   },
   "outputs": [],
   "source": [
    "sc.pl.umap(adata, color=['leiden', 'has_bcr'])"
   ]
  },
  {
   "cell_type": "markdown",
   "metadata": {},
   "source": [
    "#### Visualizing some B cell genes"
   ]
  },
  {
   "cell_type": "code",
   "execution_count": null,
   "metadata": {
    "scrolled": true
   },
   "outputs": [],
   "source": [
    "sc.pl.umap(adata, color=['IGHM', 'JCHAIN'])"
   ]
  },
  {
   "cell_type": "markdown",
   "metadata": {},
   "source": [
    "#### Save the AnnData file\n",
    "We can save this `AnnData` object for now."
   ]
  },
  {
   "cell_type": "code",
   "execution_count": null,
   "metadata": {},
   "outputs": [],
   "source": [
    "adata.write('adata.h5ad', compression = 'gzip')"
   ]
  },
  {
   "cell_type": "markdown",
   "metadata": {},
   "source": [
    "To save the vdj object, we have two options - either save the `.data` and `.metadata` slots with pandas functions, or save the whole Dandelion class object with a built-in pickle-based write function."
   ]
  },
  {
   "cell_type": "code",
   "execution_count": null,
   "metadata": {},
   "outputs": [],
   "source": [
    "vdj.write('dandelion_results.pkl.pbz2')"
   ]
  },
  {
   "cell_type": "code",
   "execution_count": null,
   "metadata": {},
   "outputs": [],
   "source": [
    "vdj.data.to_csv('filtered_vdj_table.tsv', sep = '\\t')"
   ]
  },
  {
   "cell_type": "code",
   "execution_count": null,
   "metadata": {},
   "outputs": [],
   "source": []
  }
 ],
 "metadata": {
  "kernelspec": {
   "display_name": "Python (dandelion)",
   "language": "python",
   "name": "dandelion"
  },
  "language_info": {
   "codemirror_mode": {
    "name": "ipython",
    "version": 3
   },
   "file_extension": ".py",
   "mimetype": "text/x-python",
   "name": "python",
   "nbconvert_exporter": "python",
   "pygments_lexer": "ipython3",
   "version": "3.7.6"
  }
 },
 "nbformat": 4,
 "nbformat_minor": 2
}
