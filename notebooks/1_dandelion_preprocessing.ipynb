{
 "cells": [
  {
   "cell_type": "markdown",
   "metadata": {},
   "source": [
    "# *dandelion* Notebook-1\n",
    "\n",
    "![dandelion_logo](img/dandelion_logo.png)\n",
    "## Foreword\n",
    "***dandelion*** is written in `python==3.7.6` and it is primarily a single-cell BCR-seq analysis package. It makes use of some tools from the fantastic [*immcantation suite*](https://immcantation.readthedocs.io/) and the main idea is that it implements a workflow for the pre-processing and exploratory stages with integrated use of tools from *immcantation* for the BCR side of things and analysis tools from [*scanpy*](https://scanpy.readthedocs.io/) for the RNA-seq side of things. I hope to be able to introduce some new single-cell BCR-seq exploratory tools down the road through *dandelion*. \n",
    "\n",
    "\n",
    "## Pre-processing\n",
    "This notebook will cover the initial pre-processing of files after 10X's `cellranger vdj` immune profiling data analysis pipeline. The directory structure of a 10x output folder will typically look like this:\n",
    "```console\n",
    "(dandelion) mib113557i:Pan_Immune_BCR kt16$ tree Pan_T7918901\n",
    "Pan_T7918901\n",
    "├── all_contig.fasta\n",
    "├── all_contig.fasta.fai\n",
    "├── all_contig_annotations.csv\n",
    "├── clonotypes.csv\n",
    "├── concat_ref.fasta\n",
    "├── concat_ref.fasta.fai\n",
    "├── consensus.fasta\n",
    "├── consensus.fasta.fai\n",
    "├── consensus_annotations.csv\n",
    "├── filtered_contig.fasta\n",
    "├── filtered_contig_annotations.csv\n",
    "└── metrics_summary.csv\n",
    "```\n",
    "\n",
    "At this stage, ***dandelion*** needs the fasta files and the cellranger annotation files to start, particularly either *all_contig.fasta* or *filtered_contig.fasta* and corresponding *all_contig_annotations.csv* and *filtered_contig_annotations.csv*.\n",
    "\n",
    "In this notebook, I'm running everything with the *all_contig* files to get a sense of how long it would take when the files are considerably larger. I'm using a standard laptop for the analysis here: entry level 2017 Macbook Pro with 2.3 GHz Intel Core i5 processor and 16 GB 2133 MHz LPDDR3 ram.\n",
    "\n",
    "#### Before starting, a couple of environmental variables need to be set up to make it run smoothly:\n",
    "\n",
    "In ***shell***, export the path to the database folders like as follows:\n",
    "```bash\n",
    "echo \"export GERMLINE=/Users/kt16/Documents/Github/dandelion/database/germlines/\" >> ~/.bash_profile\n",
    "echo \"export IGDATA=/Users/kt16/Documents/Github/dandelion/database/igblast/\" >> ~/.bash_profile\n",
    "echo \"export BLASTDB=/Users/kt16/Documents/Github/dandelion/database/blast/\" >> ~/.bash_profile\n",
    "echo \"export PATH=/Users/kt16/Documents/Github/dandelion/bin:$PATH\" >> ~/.bash_profile\n",
    "source ~/.bash_profile\n",
    "```\n",
    "The databases for igblast are basically setup using [changeo's instructions](https://changeo.readthedocs.io/en/stable/examples/igblast.html). The instruction for setting up blast database is simpler and will be covered later in this notebook.\n",
    "\n",
    "Also check if the softwares can be found:\n",
    "```console\n",
    "(mypython3) mib113557i:~ kt16$ conda activate dandelion\n",
    "(dandelion) mib113557i:~ kt16$ which makeblastdb\n",
    "/Users/kt16/Documents/Github/dandelion/bin/makeblastdb\n",
    "(dandelion) mib113557i:~ kt16$ which blastn\n",
    "/Users/kt16/Documents/Github/dandelion/bin/blastn\n",
    "(dandelion) mib113557i:~ kt16$ which igblastn\n",
    "/Users/kt16/Documents/Github/dandelion/bin/igblastn\n",
    "(dandelion) mib113557i:~ kt16$ which tigger-genotype.R\n",
    "/Users/kt16/Documents/Github/dandelion/bin/tigger-genotype.R\n",
    "```\n",
    "\n",
    "If you followed the installation instructions, you should have the softwares installed already. Otherwise, you can download them manually: [blast+](https://ftp.ncbi.nih.gov/blast/executables/igblast/release/LATEST/) and [igblast](https://ftp.ncbi.nlm.nih.gov/blast/executables/blast+/LATEST/). For tigger-genotype, you can download it [here](https://bitbucket.org/kleinstein/immcantation/src/default/pipelines/). Just note that I made some minor modifications to this file, hence there's version specific that comes with this package.\n",
    "\n",
    "This notebook will demonstrate how I batch process multiple samples/files from the same donor, as it will become important for step 4."
   ]
  },
  {
   "cell_type": "code",
   "execution_count": 1,
   "metadata": {
    "scrolled": false
   },
   "outputs": [
    {
     "name": "stderr",
     "output_type": "stream",
     "text": [
      "/Users/kt16/miniconda3/envs/dandelion/lib/python3.7/site-packages/anndata/_core/anndata.py:21: FutureWarning: pandas.core.index is deprecated and will be removed in a future version.  The public classes are available in the top-level namespace.\n",
      "  from pandas.core.index import RangeIndex\n"
     ]
    }
   ],
   "source": [
    "# Import modules\n",
    "import os\n",
    "os.chdir(os.path.expanduser('/Users/kt16/Documents/Github/dandelion')) # don't need to run this\n",
    "import dandelion as ddl"
   ]
  },
  {
   "cell_type": "code",
   "execution_count": 2,
   "metadata": {},
   "outputs": [
    {
     "data": {
      "text/plain": [
       "'/Users/kt16/Documents/Clatworthy_scRNAseq/Ondrej/PIP/Pan_Immune_BCR'"
      ]
     },
     "execution_count": 2,
     "metadata": {},
     "output_type": "execute_result"
    }
   ],
   "source": [
    "# change directory to somewhere more workable\n",
    "os.chdir(os.path.expanduser('/Users/kt16/Documents/Clatworthy_scRNAseq/Ondrej/PIP/Pan_Immune_BCR/'))\n",
    "# print current working directory\n",
    "os.getcwd()"
   ]
  },
  {
   "cell_type": "markdown",
   "metadata": {},
   "source": [
    "### Step 1:\n",
    "This step immediately below is optional and is just a quick way to make a dictionary from an external file with a utility function `utl.dict_from_table`."
   ]
  },
  {
   "cell_type": "code",
   "execution_count": 3,
   "metadata": {},
   "outputs": [],
   "source": [
    "# prepare a dictionary from a meta data file.\n",
    "sampledict = ddl.utl.dict_from_table('/Users/kt16/Documents/Clatworthy_scRNAseq/Ondrej/dandelion_files/meta/PIP_sampleInfo_kt16.txt', columns = ('SANGER SAMPLE ID', 'GEX_SAMPLE_ID'))"
   ]
  },
  {
   "cell_type": "markdown",
   "metadata": {},
   "source": [
    "#### Formatting the headers of the cellranger fasta file\n",
    "Here, I'm adding a sample prefix to the headers of each contig in the fasta files using the dictionary created above, via the function `pp.format_fasta(s)`. The prefix is basically just the folder name, so in this case it's `Pan_T7918901`. The function will also create subfolders where the new fasta file and all subsequent files will be located. The function will also add the prefix to the corresponding annotation file automatically and create a copy in the same folder as the formated fasta file. \n",
    "\n",
    "This is to ensure that the barcodes are consistent throughout so as not to interfere with subsequent integration with the gene expression data, which will be covered in notebook-2. \n",
    "\n",
    "The file structure should look something like this later on if the settings are left as default.\n",
    "```console\n",
    "(dandelion) mib113557i:Pan_Immune_BCR kt16$ tree Pan_T7918901\n",
    "Pan_T7918901\n",
    "├── all_contig.fasta\n",
    "├── all_contig.fasta.fai\n",
    "├── all_contig_annotations.csv\n",
    "├── clonotypes.csv\n",
    "├── concat_ref.fasta\n",
    "├── concat_ref.fasta.fai\n",
    "├── consensus.fasta\n",
    "├── consensus.fasta.fai\n",
    "├── consensus_annotations.csv\n",
    "├── dandelion\n",
    "│   └── data\n",
    "│       ├── all_contig.fasta\n",
    "│       ├── all_contig_annotations.csv\n",
    "│       ├── all_contig_igblast_gap.tsv\n",
    "│       └── tmp\n",
    "│           └── all_contig_igblast.tsv\n",
    "├── filtered_contig.fasta\n",
    "├── filtered_contig_annotations.csv\n",
    "└── metrics_summary.csv\n",
    "```\n",
    "\n",
    "The function `pp.format_fastas` will take two options, first is a list of the fasta files to reformat, and second is a list of the prefixes to add to headers/contig_ids for each sample. If you choose not to provide a prefix, then the function will simply make a copy of the original files and place it in the ***dandelion*** sub-folders.\n",
    "\n",
    "I'm using a simple list comprehension for both options to simplify the call."
   ]
  },
  {
   "cell_type": "code",
   "execution_count": 4,
   "metadata": {},
   "outputs": [
    {
     "name": "stderr",
     "output_type": "stream",
     "text": [
      "Formating fasta(s) : 100%|██████████| 13/13 [00:39<00:00,  3.01s/it]\n"
     ]
    }
   ],
   "source": [
    "# the first option is a list of fasta files to format and the second option is the prefix to add to each file.\n",
    "samples = ['Pan_T7918901', 'Pan_T7918902', 'Pan_T7918903', 'Pan_T7918904', 'Pan_T7918905', 'Pan_T7918906', 'Pan_T7918907', 'Pan_T7918908', 'Pan_T7918909', 'Pan_T7918910', 'Pan_T7918912', 'Pan_T7918913', 'Pan_T7918914']\n",
    "ddl.pp.format_fastas([str(s)+'/all_contig.fasta' for s in samples], [sampledict[s] for s in samples])"
   ]
  },
  {
   "cell_type": "markdown",
   "metadata": {},
   "source": [
    "`pp.format_fastas` (note the plural) is essentially a wrapper for the for-loop below that calls `pp.format_fasta`.\n",
    "```python\n",
    "for s in samples:\n",
    "    filePath = s+'/all_contig.fasta'\n",
    "    ddl.pp.format_fasta(filePath, sampledict[s])\n",
    "```"
   ]
  },
  {
   "cell_type": "markdown",
   "metadata": {},
   "source": [
    "### Step 2:\n",
    "#### Reannotate the V/D/J genes with *igblastn*.\n",
    "\n",
    "`pp.reannotate_genes` uses [*changeo*](https://changeo.readthedocs.io/en/stable/examples/10x.html)'s scripts to call *igblastn* to reannotate the fasta files. Depending on the `fileformat` option, it will parse out as either an `airr` (default) or `changeo`-legacy TSV file. Importantly, with the recent update to changeo v1.0.0, all the column headers, including *changeo* format, are now adhereing to the [*AIRR*](http://docs.airr-community.org/) standard (lowercase and some column name changes). Specifying `extended = True` will return the additional 10x annotation of V/D/J genes but they are unnecessary at this stage."
   ]
  },
  {
   "cell_type": "code",
   "execution_count": 5,
   "metadata": {},
   "outputs": [
    {
     "name": "stderr",
     "output_type": "stream",
     "text": [
      "Assigning genes : 100%|██████████| 13/13 [26:51<00:00, 123.97s/it]\n"
     ]
    }
   ],
   "source": [
    "# reannotate the vdj genes with igblastn and parses output to 'airr' (default) or 'changeo' tsv formats using changeo v1.0.0 scripts\n",
    "ddl.pp.reannotate_genes(samples)"
   ]
  },
  {
   "cell_type": "markdown",
   "metadata": {},
   "source": [
    "### Step 3:\n",
    "#### Assigning constant region calls\n",
    "\n",
    "10X's annotation.csv files provides a *c_gene* column, but rather than simply relying on 10x's annotation, [hk6](https://twitter.com/hamish_king) recommended using [*immcantation-presto*'s *MaskPrimers.py*](https://presto.readthedocs.io/en/version-0.5.3---license-change/tools/MaskPrimers.html) with his custom primer list and I tested that; worked well but it took ***20 min*** for the first file (~6k contigs). It also only calls the constant region for the heavy chains. The processing speed for MaskPrimers can be sped up with using the filtered file.\n",
    "\n",
    "Anyway, as an alternative, I wrote a pre-processing function, `pp.assign_isotype`, to use *blast* to annotate constant region calls for all contigs and retrieves the call, merging it with the tsv files.\n",
    "\n",
    "This function will simply overwrite the output from previous steps and add a *c_call* column at the end, or replace the existing column if it already exists.\n",
    "\n",
    "==========================\n",
    "\n",
    "Before running, there is a need to set up a database with IMGT constant gene fasta sequences using *makeblastdb*,\n",
    "basically following the instructions from https://www.ncbi.nlm.nih.gov/books/NBK279688/. ***This only needs to be done once.***\n",
    "\n",
    "The fasta files were downloaded from IMGT and only sequences corresponding to *CH1* region for each constant gene/allele were retained. The headers were trimmed to only keep the gene and allele information. Links to find the sequences can be found here : [***human***](http://www.imgt.org/genedb/GENElect?query=7.2+IGHC&species=Homo+sapiens) and [***mouse***](http://www.imgt.org/genedb/GENElect?query=7.2+IGHC&species=Mus).\n",
    "\n",
    "The database file is provided in the repository and I've written a utility function `utl.makeblastdb` to prep new fasta files/databases if you need to.\n",
    "```python\n",
    "ddl.utl.makeblastdb('/Users/kt16/Documents/Github/dandelion/database/blast/human/human_BCR_C.fasta')\n",
    "```\n",
    "\n",
    "**Again, we really only need to do it once**; the file path can be added as an environmental variable after running:\n",
    "```bash\n",
    "echo \"export BLASTDB=/Users/kt16/Documents/Github/dandelion/database/blast/\" >> ~/.bash_profile\n",
    "source ~/.bash_profile\n",
    "```\n",
    "\n",
    "I've set it up so that if the default option for `blastdb` is left as `None`, the function will retrieve a relative path from the environmental variable `$BLASTDB` and then, depending on which organism was specified (default = human), point to the correct fasta file. If you choose not to add it to environment, you can provide a string specifying a path to the fasta file for the `blastdb` option. The string has to point directly to the fasta file, i.e. end with `.fasta`.\n",
    "\n",
    "=========================="
   ]
  },
  {
   "cell_type": "code",
   "execution_count": 6,
   "metadata": {
    "scrolled": false
   },
   "outputs": [
    {
     "name": "stderr",
     "output_type": "stream",
     "text": [
      "Retrieving contant region calls, parallelizing with 4 cpus : 100%|██████████| 6356/6356 [01:39<00:00, 64.13it/s]\n",
      "Retrieving contant region calls, parallelizing with 4 cpus : 100%|██████████| 502/502 [00:00<00:00, 1388.26it/s]\n",
      "Retrieving contant region calls, parallelizing with 4 cpus : 100%|██████████| 3835/3835 [00:32<00:00, 117.15it/s]\n",
      "Retrieving contant region calls, parallelizing with 4 cpus : 100%|██████████| 8651/8651 [02:26<00:00, 58.96it/s]\n",
      "Retrieving contant region calls, parallelizing with 4 cpus : 100%|██████████| 10213/10213 [03:38<00:00, 46.70it/s]\n",
      "Retrieving contant region calls, parallelizing with 4 cpus : 100%|██████████| 32052/32052 [33:58<00:00, 15.73it/s]\n",
      "Retrieving contant region calls, parallelizing with 4 cpus : 100%|██████████| 10880/10880 [04:49<00:00, 37.58it/s]\n",
      "Retrieving contant region calls, parallelizing with 4 cpus : 100%|██████████| 3374/3374 [00:29<00:00, 113.77it/s]\n",
      "Retrieving contant region calls, parallelizing with 4 cpus : 100%|██████████| 4656/4656 [01:09<00:00, 67.32it/s]\n",
      "Retrieving contant region calls, parallelizing with 4 cpus : 100%|██████████| 5352/5352 [01:22<00:00, 65.22it/s]\n",
      "Retrieving contant region calls, parallelizing with 4 cpus : 100%|██████████| 10922/10922 [03:22<00:00, 53.84it/s]\n",
      "Retrieving contant region calls, parallelizing with 4 cpus : 100%|██████████| 16829/16829 [11:53<00:00, 23.59it/s]\n",
      "Retrieving contant region calls, parallelizing with 4 cpus : 100%|██████████| 18745/18745 [10:01<00:00, 31.17it/s]\n"
     ]
    }
   ],
   "source": [
    "for s in samples:\n",
    "    filePath = s+'/dandelion/data/all_contig.fasta'\n",
    "    ddl.pp.assign_isotype(filePath)"
   ]
  },
  {
   "cell_type": "markdown",
   "metadata": {},
   "source": [
    "Initial assessment by just comparing what isn't matching between this method and *MaskPrimers.py* was basically the light chains constant regions were not called by *MarkPrimers.py* (because lack of input IgK/L primer sequences). But as far as i could see, it caught most of the discrepancies that [hk6](https://twitter.com/hamish_king) was talking about (IGHA1/IGHA2 and IGHG2/IGHG4 mis-calling) and also reduced the processing time by 10x (***~20 min*** to ***~2 min***), so I'm happy with this.\n",
    "\n",
    "This still takes a while when dealing with large files; the number of cpus to size of file isn't exactly linear. Nevertheless, I have enabled parallelization as default because there were noticeable improvements in processing speeds with the smaller files. Maybe it will work better on a cluster with more cpus, rather than just a standard laptop. Other than a couple of samples that took about ***~10-40min***, most ran within ***2-5min***. I expect that this should run faster with filtered files too. Also, the function can be run with can be run with `fileformat = 'changeo'` if preferred."
   ]
  },
  {
   "cell_type": "markdown",
   "metadata": {},
   "source": [
    "Just in case, It's worth while to manually check the the sequences for constant calls returned as IGHGA1, IGHA2, IGHG2 and IGHG4. Also check if the length of the constant region sequence is not too short or the call would not be accurate."
   ]
  },
  {
   "cell_type": "markdown",
   "metadata": {},
   "source": [
    "### Step 4 *(optional but recommended)*:\n",
    "#### Reassigning heavy chain V gene alleles.\n",
    "\n",
    "Last step for part one of pre-processing is to use *immcantation-tigger*'s method to reassign allelic calls for heavy chain V genes with `pp.reassign_alleles`. As stated in tigger's [website](https://tigger.readthedocs.io/en/stable/) and [manuscript](https://pubmed.ncbi.nlm.nih.gov/25675496/), *'TIgGER is a computational method that significantly improves V(D)J allele assignments by first determining the complete set of gene segments carried by an individual (including novel alleles) from V(D)J-rearrange sequences. TIgGER can then infer a subject’s genotype from these sequences, and use this genotype to correct the initial V(D)J allele assignments.'*\n",
    "\n",
    "This impact's on how ***dandelion*** picks contigs to go forward for finding clones so it's highly recommended to run it. It's also important when considering to do mutational analysis. However, the main caveat is that this needs to be run on multiple samples from the same subject to allow for more information to be used to confidently assign a genotyped *v_call*. In this case, all the samples I have been processing above are BCR data from different organs of a single patient. So while important, this step can be skipped if you don't have the samples to do this. \n",
    "\n",
    "`pp.reassign_alleles` will call tigger and also run `pp.create_germlines` using the germline database updated with the germline corrections from tigger. The default behavior is that it will return a `germline_alignment_d_mask` column in the final output. This can be changed by specifying `germ_types` option; see [here](https://changeo.readthedocs.io/en/stable/tools/CreateGermlines.html#creategermlines) for other options.\n",
    "\n",
    "Specifying `fileformat = 'changeo'` will run on changeo formatted files if this was run earlier; but it's probably best to stick to airr's standard format."
   ]
  },
  {
   "cell_type": "code",
   "execution_count": 7,
   "metadata": {},
   "outputs": [
    {
     "name": "stderr",
     "output_type": "stream",
     "text": [
      "Processing data file(s) : 100%|██████████| 13/13 [00:01<00:00,  6.89it/s]\n"
     ]
    },
    {
     "name": "stdout",
     "output_type": "stream",
     "text": [
      "Concatenating objects\n",
      "   Writing out concatenated object\n",
      "      Reassigning alleles\n"
     ]
    },
    {
     "name": "stderr",
     "output_type": "stream",
     "text": [
      "   Returning light chain V calls: 100%|██████████| 36313/36313 [00:11<00:00, 3071.64it/s]\n",
      "   Building dmask germline sequences: 36313it [01:08, 533.08it/s]\n"
     ]
    },
    {
     "name": "stdout",
     "output_type": "stream",
     "text": [
      "   Saving corrected genotyped object\n"
     ]
    },
    {
     "name": "stderr",
     "output_type": "stream",
     "text": [
      "Writing out to individual folders : 100%|██████████| 13/13 [00:03<00:00,  3.76it/s]\n"
     ]
    },
    {
     "name": "stdout",
     "output_type": "stream",
     "text": [
      "Returning summary plot\n"
     ]
    },
    {
     "data": {
      "image/png": "[encoded data removed]",
      "text/plain": [
       "<Figure size 400x300 with 2 Axes>"
      ]
     },
     "metadata": {},
     "output_type": "display_data"
    },
    {
     "data": {
      "text/plain": [
       "<ggplot: (316974429)>"
      ]
     },
     "execution_count": 7,
     "metadata": {},
     "output_type": "execute_result"
    }
   ],
   "source": [
    "# this is also a for loop for multiple samples from the same subject\n",
    "ddl.pp.reassign_alleles(samples, out_folder = 'A31', sample_dict = sampledict)"
   ]
  },
  {
   "cell_type": "markdown",
   "metadata": {},
   "source": [
    "We can see that most of the original ambiguous V calls have now been corrected and only a few remain. These will be flagged as multi later on and should probably be excluded from detailed analyses. For now, leaving them in the data will not impact on subsequent analyses."
   ]
  },
  {
   "cell_type": "code",
   "execution_count": null,
   "metadata": {},
   "outputs": [],
   "source": []
  }
 ],
 "metadata": {
  "kernelspec": {
   "display_name": "Python (dandelion)",
   "language": "python",
   "name": "dandelion"
  },
  "language_info": {
   "codemirror_mode": {
    "name": "ipython",
    "version": 3
   },
   "file_extension": ".py",
   "mimetype": "text/x-python",
   "name": "python",
   "nbconvert_exporter": "python",
   "pygments_lexer": "ipython3",
   "version": "3.7.6"
  }
 },
 "nbformat": 4,
 "nbformat_minor": 2
}
