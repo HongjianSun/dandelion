{
 "cells": [
  {
   "cell_type": "markdown",
   "metadata": {},
   "source": [
    "# *dandelion* Notebook-4\n",
    "\n",
    "![dandelion_logo](img/dandelion_logo.png)\n",
    "\n",
    "***dandelion*** is primarily a single-cell BCR-seq analysis package but the initial part of the pre-processing can be applied to TCR-seq from 10X's VDJ output as well since both can be run through *igblastn* for reannotation. The output can then be transferred for analysis with other TCR focused tools like [scirpy](https://icbi-lab.github.io/scirpy/).\n",
    "\n",
    "\n",
    "## Pre-processing - TCR"
   ]
  },
  {
   "cell_type": "code",
   "execution_count": 1,
   "metadata": {
    "scrolled": false
   },
   "outputs": [
    {
     "name": "stderr",
     "output_type": "stream",
     "text": [
      "/Users/kt16/miniconda3/envs/dandelion/lib/python3.7/site-packages/anndata/_core/anndata.py:21: FutureWarning: pandas.core.index is deprecated and will be removed in a future version.  The public classes are available in the top-level namespace.\n",
      "  from pandas.core.index import RangeIndex\n"
     ]
    }
   ],
   "source": [
    "# import modules\n",
    "import os\n",
    "os.chdir(os.path.expanduser('/Users/kt16/Documents/Github/dandelion'))\n",
    "import dandelion as ddl"
   ]
  },
  {
   "cell_type": "code",
   "execution_count": 2,
   "metadata": {},
   "outputs": [
    {
     "data": {
      "text/plain": [
       "'/Users/kt16/Documents/Clatworthy_scRNAseq/Ondrej/PIP/Pan_Immune_TCR'"
      ]
     },
     "execution_count": 2,
     "metadata": {},
     "output_type": "execute_result"
    }
   ],
   "source": [
    "# change directory to somewhere more workable\n",
    "os.chdir(os.path.expanduser('/Users/kt16/Documents/Clatworthy_scRNAseq/Ondrej/PIP/Pan_Immune_TCR/'))\n",
    "# print current working directory\n",
    "os.getcwd()"
   ]
  },
  {
   "cell_type": "markdown",
   "metadata": {},
   "source": [
    "### Step 1:\n",
    "#### Formatting the headers of the cellranger fasta file.\n",
    "This step immediately below is optional and is just a lazy way to make a dictionary from an external file using a utility function `utl.dict_from_table`."
   ]
  },
  {
   "cell_type": "code",
   "execution_count": 3,
   "metadata": {},
   "outputs": [],
   "source": [
    "# prepare a dictionary from a meta data file.\n",
    "sampledict = ddl.utl.dict_from_table('/Users/kt16/Documents/Clatworthy_scRNAseq/Ondrej/dandelion_files/meta/PIP_sampleInfo_kt16.txt', columns = ('SANGER SAMPLE ID', 'GEX_SAMPLE_ID')) # optional"
   ]
  },
  {
   "cell_type": "code",
   "execution_count": 4,
   "metadata": {},
   "outputs": [],
   "source": [
    "# the first option is a list of fasta files to format and the second option is the prefix to add to each file.\n",
    "sample = 'Pan_T7918887'\n",
    "ddl.pp.format_fasta(sample+'/all_contig.fasta', sampledict[sample])"
   ]
  },
  {
   "cell_type": "markdown",
   "metadata": {},
   "source": [
    "### Step 2:\n",
    "#### Reannotate the V/D/J genes with *igblastn*.\n",
    "\n",
    "`pp.reannotate_genes` uses [*changeo*](https://changeo.readthedocs.io/en/stable/examples/10x.html)'s scripts to call *igblastn* to reannotate the fasta files. I just need to specify `loci = 'tr'` and it should work. For the purpose of this notebook, I will be running it on the `filtered_contigs` file(s) but the `all_contigs` file(s) should work equally fine. Specifying `filtered = True` will pull the `filtered_contig.fasta` file."
   ]
  },
  {
   "cell_type": "code",
   "execution_count": 5,
   "metadata": {},
   "outputs": [
    {
     "name": "stderr",
     "output_type": "stream",
     "text": [
      "Assigning genes : 100%|██████████| 1/1 [00:28<00:00, 28.30s/it]\n"
     ]
    }
   ],
   "source": [
    "# reannotate the vdj genes with igblastn and parses output to 'airr' (default) or 'changeo' tsv formats using changeo v1.0.0 scripts\n",
    "ddl.pp.reannotate_genes(sample, loci='tr', filtered = True)"
   ]
  },
  {
   "cell_type": "markdown",
   "metadata": {},
   "source": [
    "#### Quick check on how well the function worked\n",
    "We can read in the original `filtered_contig_annotations.csv` and compare with the `igblastn` annotated files:"
   ]
  },
  {
   "cell_type": "code",
   "execution_count": 6,
   "metadata": {
    "scrolled": true
   },
   "outputs": [
    {
     "data": {
      "text/html": [
       "<div>\n",
       "<style scoped>\n",
       "    .dataframe tbody tr th:only-of-type {\n",
       "        vertical-align: middle;\n",
       "    }\n",
       "\n",
       "    .dataframe tbody tr th {\n",
       "        vertical-align: top;\n",
       "    }\n",
       "\n",
       "    .dataframe thead th {\n",
       "        text-align: right;\n",
       "    }\n",
       "</style>\n",
       "<table border=\"1\" class=\"dataframe\">\n",
       "  <thead>\n",
       "    <tr style=\"text-align: right;\">\n",
       "      <th></th>\n",
       "      <th>barcode</th>\n",
       "      <th>is_cell</th>\n",
       "      <th>contig_id</th>\n",
       "      <th>high_confidence</th>\n",
       "      <th>length</th>\n",
       "      <th>chain</th>\n",
       "      <th>v_gene</th>\n",
       "      <th>d_gene</th>\n",
       "      <th>j_gene</th>\n",
       "      <th>c_gene</th>\n",
       "      <th>full_length</th>\n",
       "      <th>productive</th>\n",
       "      <th>cdr3</th>\n",
       "      <th>cdr3_nt</th>\n",
       "      <th>reads</th>\n",
       "      <th>umis</th>\n",
       "      <th>raw_clonotype_id</th>\n",
       "      <th>raw_consensus_id</th>\n",
       "    </tr>\n",
       "    <tr>\n",
       "      <th>index</th>\n",
       "      <th></th>\n",
       "      <th></th>\n",
       "      <th></th>\n",
       "      <th></th>\n",
       "      <th></th>\n",
       "      <th></th>\n",
       "      <th></th>\n",
       "      <th></th>\n",
       "      <th></th>\n",
       "      <th></th>\n",
       "      <th></th>\n",
       "      <th></th>\n",
       "      <th></th>\n",
       "      <th></th>\n",
       "      <th></th>\n",
       "      <th></th>\n",
       "      <th></th>\n",
       "      <th></th>\n",
       "    </tr>\n",
       "  </thead>\n",
       "  <tbody>\n",
       "    <tr>\n",
       "      <th>Pan_T7917815_AAACCTGAGGCCATAG-1_contig_1</th>\n",
       "      <td>AAACCTGAGGCCATAG-1</td>\n",
       "      <td>True</td>\n",
       "      <td>AAACCTGAGGCCATAG-1_contig_1</td>\n",
       "      <td>True</td>\n",
       "      <td>335</td>\n",
       "      <td>TRB</td>\n",
       "      <td>TRBV16</td>\n",
       "      <td>TRBD1</td>\n",
       "      <td>TRBJ2-3</td>\n",
       "      <td>TRBC2</td>\n",
       "      <td>False</td>\n",
       "      <td>None</td>\n",
       "      <td>None</td>\n",
       "      <td>None</td>\n",
       "      <td>1343</td>\n",
       "      <td>5</td>\n",
       "      <td>None</td>\n",
       "      <td>None</td>\n",
       "    </tr>\n",
       "    <tr>\n",
       "      <th>Pan_T7917815_AAACCTGAGTGTTGAA-1_contig_1</th>\n",
       "      <td>AAACCTGAGTGTTGAA-1</td>\n",
       "      <td>True</td>\n",
       "      <td>AAACCTGAGTGTTGAA-1_contig_1</td>\n",
       "      <td>True</td>\n",
       "      <td>492</td>\n",
       "      <td>TRB</td>\n",
       "      <td>TRBV29-1</td>\n",
       "      <td>TRBD1</td>\n",
       "      <td>TRBJ1-1</td>\n",
       "      <td>TRBC1</td>\n",
       "      <td>True</td>\n",
       "      <td>True</td>\n",
       "      <td>CSVDNRRQGGWAFF</td>\n",
       "      <td>TGCAGCGTTGACAATCGCCGACAGGGCGGTTGGGCTTTCTTT</td>\n",
       "      <td>4288</td>\n",
       "      <td>5</td>\n",
       "      <td>clonotype83</td>\n",
       "      <td>clonotype83_consensus_1</td>\n",
       "    </tr>\n",
       "    <tr>\n",
       "      <th>Pan_T7917815_AAACCTGGTCAGCTAT-1_contig_1</th>\n",
       "      <td>AAACCTGGTCAGCTAT-1</td>\n",
       "      <td>True</td>\n",
       "      <td>AAACCTGGTCAGCTAT-1_contig_1</td>\n",
       "      <td>True</td>\n",
       "      <td>823</td>\n",
       "      <td>TRB</td>\n",
       "      <td>TRBV30</td>\n",
       "      <td>TRBD1</td>\n",
       "      <td>TRBJ1-1</td>\n",
       "      <td>TRBC1</td>\n",
       "      <td>True</td>\n",
       "      <td>True</td>\n",
       "      <td>CAWSPGGGAEAFF</td>\n",
       "      <td>TGTGCCTGGAGTCCTGGGGGGGGGGCTGAAGCTTTCTTT</td>\n",
       "      <td>13700</td>\n",
       "      <td>22</td>\n",
       "      <td>clonotype30</td>\n",
       "      <td>clonotype30_consensus_2</td>\n",
       "    </tr>\n",
       "    <tr>\n",
       "      <th>Pan_T7917815_AAACCTGGTCAGCTAT-1_contig_2</th>\n",
       "      <td>AAACCTGGTCAGCTAT-1</td>\n",
       "      <td>True</td>\n",
       "      <td>AAACCTGGTCAGCTAT-1_contig_2</td>\n",
       "      <td>True</td>\n",
       "      <td>515</td>\n",
       "      <td>TRA</td>\n",
       "      <td>TRAV20</td>\n",
       "      <td>None</td>\n",
       "      <td>TRAJ10</td>\n",
       "      <td>TRAC</td>\n",
       "      <td>True</td>\n",
       "      <td>True</td>\n",
       "      <td>CAVQDAGGGNKLTF</td>\n",
       "      <td>TGTGCTGTGCAGGACGCGGGAGGAGGAAACAAACTCACCTTT</td>\n",
       "      <td>2800</td>\n",
       "      <td>2</td>\n",
       "      <td>clonotype30</td>\n",
       "      <td>clonotype30_consensus_1</td>\n",
       "    </tr>\n",
       "    <tr>\n",
       "      <th>Pan_T7917815_AAACGGGCAAGCTGAG-1_contig_1</th>\n",
       "      <td>AAACGGGCAAGCTGAG-1</td>\n",
       "      <td>True</td>\n",
       "      <td>AAACGGGCAAGCTGAG-1_contig_1</td>\n",
       "      <td>True</td>\n",
       "      <td>371</td>\n",
       "      <td>Multi</td>\n",
       "      <td>IGHV1-2</td>\n",
       "      <td>None</td>\n",
       "      <td>None</td>\n",
       "      <td>TRBC1</td>\n",
       "      <td>False</td>\n",
       "      <td>None</td>\n",
       "      <td>None</td>\n",
       "      <td>None</td>\n",
       "      <td>1747</td>\n",
       "      <td>2</td>\n",
       "      <td>None</td>\n",
       "      <td>None</td>\n",
       "    </tr>\n",
       "    <tr>\n",
       "      <th>...</th>\n",
       "      <td>...</td>\n",
       "      <td>...</td>\n",
       "      <td>...</td>\n",
       "      <td>...</td>\n",
       "      <td>...</td>\n",
       "      <td>...</td>\n",
       "      <td>...</td>\n",
       "      <td>...</td>\n",
       "      <td>...</td>\n",
       "      <td>...</td>\n",
       "      <td>...</td>\n",
       "      <td>...</td>\n",
       "      <td>...</td>\n",
       "      <td>...</td>\n",
       "      <td>...</td>\n",
       "      <td>...</td>\n",
       "      <td>...</td>\n",
       "      <td>...</td>\n",
       "    </tr>\n",
       "    <tr>\n",
       "      <th>Pan_T7917815_TTTGGTTGTCATTAGC-1_contig_3</th>\n",
       "      <td>TTTGGTTGTCATTAGC-1</td>\n",
       "      <td>True</td>\n",
       "      <td>TTTGGTTGTCATTAGC-1_contig_3</td>\n",
       "      <td>True</td>\n",
       "      <td>333</td>\n",
       "      <td>Multi</td>\n",
       "      <td>IGHV1-2</td>\n",
       "      <td>None</td>\n",
       "      <td>None</td>\n",
       "      <td>TRBC1</td>\n",
       "      <td>False</td>\n",
       "      <td>None</td>\n",
       "      <td>None</td>\n",
       "      <td>None</td>\n",
       "      <td>1352</td>\n",
       "      <td>2</td>\n",
       "      <td>None</td>\n",
       "      <td>None</td>\n",
       "    </tr>\n",
       "    <tr>\n",
       "      <th>Pan_T7917815_TTTGGTTTCTTTACAC-1_contig_1</th>\n",
       "      <td>TTTGGTTTCTTTACAC-1</td>\n",
       "      <td>True</td>\n",
       "      <td>TTTGGTTTCTTTACAC-1_contig_1</td>\n",
       "      <td>True</td>\n",
       "      <td>567</td>\n",
       "      <td>TRA</td>\n",
       "      <td>TRAV6</td>\n",
       "      <td>None</td>\n",
       "      <td>TRAJ3</td>\n",
       "      <td>TRAC</td>\n",
       "      <td>True</td>\n",
       "      <td>False</td>\n",
       "      <td>CFISQPPSLQTQLPTSVPLGIIF</td>\n",
       "      <td>TGTTTCATATCACAGCCTCCCAGCCTGCAGACTCAGCTACCTACCT...</td>\n",
       "      <td>916</td>\n",
       "      <td>2</td>\n",
       "      <td>clonotype4</td>\n",
       "      <td>None</td>\n",
       "    </tr>\n",
       "    <tr>\n",
       "      <th>Pan_T7917815_TTTGGTTTCTTTACAC-1_contig_2</th>\n",
       "      <td>TTTGGTTTCTTTACAC-1</td>\n",
       "      <td>True</td>\n",
       "      <td>TTTGGTTTCTTTACAC-1_contig_2</td>\n",
       "      <td>True</td>\n",
       "      <td>500</td>\n",
       "      <td>TRB</td>\n",
       "      <td>TRBV6-4</td>\n",
       "      <td>None</td>\n",
       "      <td>TRBJ2-1</td>\n",
       "      <td>TRBC2</td>\n",
       "      <td>True</td>\n",
       "      <td>True</td>\n",
       "      <td>CASSDGDRNEQFF</td>\n",
       "      <td>TGTGCCAGCAGTGACGGGGATCGCAATGAGCAGTTCTTC</td>\n",
       "      <td>1072</td>\n",
       "      <td>4</td>\n",
       "      <td>clonotype4</td>\n",
       "      <td>clonotype4_consensus_1</td>\n",
       "    </tr>\n",
       "    <tr>\n",
       "      <th>Pan_T7917815_TTTGTCAAGCTGGAAC-1_contig_1</th>\n",
       "      <td>TTTGTCAAGCTGGAAC-1</td>\n",
       "      <td>True</td>\n",
       "      <td>TTTGTCAAGCTGGAAC-1_contig_1</td>\n",
       "      <td>True</td>\n",
       "      <td>507</td>\n",
       "      <td>TRB</td>\n",
       "      <td>TRBV3-1</td>\n",
       "      <td>TRBD1</td>\n",
       "      <td>TRBJ2-2</td>\n",
       "      <td>TRBC2</td>\n",
       "      <td>True</td>\n",
       "      <td>True</td>\n",
       "      <td>CASSQRPGVNTGELFF</td>\n",
       "      <td>TGTGCCAGCAGCCAAAGACCAGGGGTGAACACCGGGGAGCTGTTTTTT</td>\n",
       "      <td>1951</td>\n",
       "      <td>2</td>\n",
       "      <td>clonotype26</td>\n",
       "      <td>clonotype26_consensus_2</td>\n",
       "    </tr>\n",
       "    <tr>\n",
       "      <th>Pan_T7917815_TTTGTCAAGCTGGAAC-1_contig_3</th>\n",
       "      <td>TTTGTCAAGCTGGAAC-1</td>\n",
       "      <td>True</td>\n",
       "      <td>TTTGTCAAGCTGGAAC-1_contig_3</td>\n",
       "      <td>True</td>\n",
       "      <td>498</td>\n",
       "      <td>TRA</td>\n",
       "      <td>TRAV38-2DV8</td>\n",
       "      <td>None</td>\n",
       "      <td>TRAJ26</td>\n",
       "      <td>TRAC</td>\n",
       "      <td>True</td>\n",
       "      <td>True</td>\n",
       "      <td>CAYRSAGLGQNFVF</td>\n",
       "      <td>TGTGCTTATAGGAGCGCGGGCCTTGGTCAGAATTTTGTCTTT</td>\n",
       "      <td>580</td>\n",
       "      <td>1</td>\n",
       "      <td>clonotype26</td>\n",
       "      <td>clonotype26_consensus_1</td>\n",
       "    </tr>\n",
       "  </tbody>\n",
       "</table>\n",
       "<p>2640 rows × 18 columns</p>\n",
       "</div>"
      ],
      "text/plain": [
       "                                                     barcode  is_cell  \\\n",
       "index                                                                   \n",
       "Pan_T7917815_AAACCTGAGGCCATAG-1_contig_1  AAACCTGAGGCCATAG-1     True   \n",
       "Pan_T7917815_AAACCTGAGTGTTGAA-1_contig_1  AAACCTGAGTGTTGAA-1     True   \n",
       "Pan_T7917815_AAACCTGGTCAGCTAT-1_contig_1  AAACCTGGTCAGCTAT-1     True   \n",
       "Pan_T7917815_AAACCTGGTCAGCTAT-1_contig_2  AAACCTGGTCAGCTAT-1     True   \n",
       "Pan_T7917815_AAACGGGCAAGCTGAG-1_contig_1  AAACGGGCAAGCTGAG-1     True   \n",
       "...                                                      ...      ...   \n",
       "Pan_T7917815_TTTGGTTGTCATTAGC-1_contig_3  TTTGGTTGTCATTAGC-1     True   \n",
       "Pan_T7917815_TTTGGTTTCTTTACAC-1_contig_1  TTTGGTTTCTTTACAC-1     True   \n",
       "Pan_T7917815_TTTGGTTTCTTTACAC-1_contig_2  TTTGGTTTCTTTACAC-1     True   \n",
       "Pan_T7917815_TTTGTCAAGCTGGAAC-1_contig_1  TTTGTCAAGCTGGAAC-1     True   \n",
       "Pan_T7917815_TTTGTCAAGCTGGAAC-1_contig_3  TTTGTCAAGCTGGAAC-1     True   \n",
       "\n",
       "                                                            contig_id  \\\n",
       "index                                                                   \n",
       "Pan_T7917815_AAACCTGAGGCCATAG-1_contig_1  AAACCTGAGGCCATAG-1_contig_1   \n",
       "Pan_T7917815_AAACCTGAGTGTTGAA-1_contig_1  AAACCTGAGTGTTGAA-1_contig_1   \n",
       "Pan_T7917815_AAACCTGGTCAGCTAT-1_contig_1  AAACCTGGTCAGCTAT-1_contig_1   \n",
       "Pan_T7917815_AAACCTGGTCAGCTAT-1_contig_2  AAACCTGGTCAGCTAT-1_contig_2   \n",
       "Pan_T7917815_AAACGGGCAAGCTGAG-1_contig_1  AAACGGGCAAGCTGAG-1_contig_1   \n",
       "...                                                               ...   \n",
       "Pan_T7917815_TTTGGTTGTCATTAGC-1_contig_3  TTTGGTTGTCATTAGC-1_contig_3   \n",
       "Pan_T7917815_TTTGGTTTCTTTACAC-1_contig_1  TTTGGTTTCTTTACAC-1_contig_1   \n",
       "Pan_T7917815_TTTGGTTTCTTTACAC-1_contig_2  TTTGGTTTCTTTACAC-1_contig_2   \n",
       "Pan_T7917815_TTTGTCAAGCTGGAAC-1_contig_1  TTTGTCAAGCTGGAAC-1_contig_1   \n",
       "Pan_T7917815_TTTGTCAAGCTGGAAC-1_contig_3  TTTGTCAAGCTGGAAC-1_contig_3   \n",
       "\n",
       "                                          high_confidence  length  chain  \\\n",
       "index                                                                      \n",
       "Pan_T7917815_AAACCTGAGGCCATAG-1_contig_1             True     335    TRB   \n",
       "Pan_T7917815_AAACCTGAGTGTTGAA-1_contig_1             True     492    TRB   \n",
       "Pan_T7917815_AAACCTGGTCAGCTAT-1_contig_1             True     823    TRB   \n",
       "Pan_T7917815_AAACCTGGTCAGCTAT-1_contig_2             True     515    TRA   \n",
       "Pan_T7917815_AAACGGGCAAGCTGAG-1_contig_1             True     371  Multi   \n",
       "...                                                   ...     ...    ...   \n",
       "Pan_T7917815_TTTGGTTGTCATTAGC-1_contig_3             True     333  Multi   \n",
       "Pan_T7917815_TTTGGTTTCTTTACAC-1_contig_1             True     567    TRA   \n",
       "Pan_T7917815_TTTGGTTTCTTTACAC-1_contig_2             True     500    TRB   \n",
       "Pan_T7917815_TTTGTCAAGCTGGAAC-1_contig_1             True     507    TRB   \n",
       "Pan_T7917815_TTTGTCAAGCTGGAAC-1_contig_3             True     498    TRA   \n",
       "\n",
       "                                               v_gene d_gene   j_gene c_gene  \\\n",
       "index                                                                          \n",
       "Pan_T7917815_AAACCTGAGGCCATAG-1_contig_1       TRBV16  TRBD1  TRBJ2-3  TRBC2   \n",
       "Pan_T7917815_AAACCTGAGTGTTGAA-1_contig_1     TRBV29-1  TRBD1  TRBJ1-1  TRBC1   \n",
       "Pan_T7917815_AAACCTGGTCAGCTAT-1_contig_1       TRBV30  TRBD1  TRBJ1-1  TRBC1   \n",
       "Pan_T7917815_AAACCTGGTCAGCTAT-1_contig_2       TRAV20   None   TRAJ10   TRAC   \n",
       "Pan_T7917815_AAACGGGCAAGCTGAG-1_contig_1      IGHV1-2   None     None  TRBC1   \n",
       "...                                               ...    ...      ...    ...   \n",
       "Pan_T7917815_TTTGGTTGTCATTAGC-1_contig_3      IGHV1-2   None     None  TRBC1   \n",
       "Pan_T7917815_TTTGGTTTCTTTACAC-1_contig_1        TRAV6   None    TRAJ3   TRAC   \n",
       "Pan_T7917815_TTTGGTTTCTTTACAC-1_contig_2      TRBV6-4   None  TRBJ2-1  TRBC2   \n",
       "Pan_T7917815_TTTGTCAAGCTGGAAC-1_contig_1      TRBV3-1  TRBD1  TRBJ2-2  TRBC2   \n",
       "Pan_T7917815_TTTGTCAAGCTGGAAC-1_contig_3  TRAV38-2DV8   None   TRAJ26   TRAC   \n",
       "\n",
       "                                          full_length productive  \\\n",
       "index                                                              \n",
       "Pan_T7917815_AAACCTGAGGCCATAG-1_contig_1        False       None   \n",
       "Pan_T7917815_AAACCTGAGTGTTGAA-1_contig_1         True       True   \n",
       "Pan_T7917815_AAACCTGGTCAGCTAT-1_contig_1         True       True   \n",
       "Pan_T7917815_AAACCTGGTCAGCTAT-1_contig_2         True       True   \n",
       "Pan_T7917815_AAACGGGCAAGCTGAG-1_contig_1        False       None   \n",
       "...                                               ...        ...   \n",
       "Pan_T7917815_TTTGGTTGTCATTAGC-1_contig_3        False       None   \n",
       "Pan_T7917815_TTTGGTTTCTTTACAC-1_contig_1         True      False   \n",
       "Pan_T7917815_TTTGGTTTCTTTACAC-1_contig_2         True       True   \n",
       "Pan_T7917815_TTTGTCAAGCTGGAAC-1_contig_1         True       True   \n",
       "Pan_T7917815_TTTGTCAAGCTGGAAC-1_contig_3         True       True   \n",
       "\n",
       "                                                             cdr3  \\\n",
       "index                                                               \n",
       "Pan_T7917815_AAACCTGAGGCCATAG-1_contig_1                     None   \n",
       "Pan_T7917815_AAACCTGAGTGTTGAA-1_contig_1           CSVDNRRQGGWAFF   \n",
       "Pan_T7917815_AAACCTGGTCAGCTAT-1_contig_1            CAWSPGGGAEAFF   \n",
       "Pan_T7917815_AAACCTGGTCAGCTAT-1_contig_2           CAVQDAGGGNKLTF   \n",
       "Pan_T7917815_AAACGGGCAAGCTGAG-1_contig_1                     None   \n",
       "...                                                           ...   \n",
       "Pan_T7917815_TTTGGTTGTCATTAGC-1_contig_3                     None   \n",
       "Pan_T7917815_TTTGGTTTCTTTACAC-1_contig_1  CFISQPPSLQTQLPTSVPLGIIF   \n",
       "Pan_T7917815_TTTGGTTTCTTTACAC-1_contig_2            CASSDGDRNEQFF   \n",
       "Pan_T7917815_TTTGTCAAGCTGGAAC-1_contig_1         CASSQRPGVNTGELFF   \n",
       "Pan_T7917815_TTTGTCAAGCTGGAAC-1_contig_3           CAYRSAGLGQNFVF   \n",
       "\n",
       "                                                                                    cdr3_nt  \\\n",
       "index                                                                                         \n",
       "Pan_T7917815_AAACCTGAGGCCATAG-1_contig_1                                               None   \n",
       "Pan_T7917815_AAACCTGAGTGTTGAA-1_contig_1         TGCAGCGTTGACAATCGCCGACAGGGCGGTTGGGCTTTCTTT   \n",
       "Pan_T7917815_AAACCTGGTCAGCTAT-1_contig_1            TGTGCCTGGAGTCCTGGGGGGGGGGCTGAAGCTTTCTTT   \n",
       "Pan_T7917815_AAACCTGGTCAGCTAT-1_contig_2         TGTGCTGTGCAGGACGCGGGAGGAGGAAACAAACTCACCTTT   \n",
       "Pan_T7917815_AAACGGGCAAGCTGAG-1_contig_1                                               None   \n",
       "...                                                                                     ...   \n",
       "Pan_T7917815_TTTGGTTGTCATTAGC-1_contig_3                                               None   \n",
       "Pan_T7917815_TTTGGTTTCTTTACAC-1_contig_1  TGTTTCATATCACAGCCTCCCAGCCTGCAGACTCAGCTACCTACCT...   \n",
       "Pan_T7917815_TTTGGTTTCTTTACAC-1_contig_2            TGTGCCAGCAGTGACGGGGATCGCAATGAGCAGTTCTTC   \n",
       "Pan_T7917815_TTTGTCAAGCTGGAAC-1_contig_1   TGTGCCAGCAGCCAAAGACCAGGGGTGAACACCGGGGAGCTGTTTTTT   \n",
       "Pan_T7917815_TTTGTCAAGCTGGAAC-1_contig_3         TGTGCTTATAGGAGCGCGGGCCTTGGTCAGAATTTTGTCTTT   \n",
       "\n",
       "                                          reads  umis raw_clonotype_id  \\\n",
       "index                                                                    \n",
       "Pan_T7917815_AAACCTGAGGCCATAG-1_contig_1   1343     5             None   \n",
       "Pan_T7917815_AAACCTGAGTGTTGAA-1_contig_1   4288     5      clonotype83   \n",
       "Pan_T7917815_AAACCTGGTCAGCTAT-1_contig_1  13700    22      clonotype30   \n",
       "Pan_T7917815_AAACCTGGTCAGCTAT-1_contig_2   2800     2      clonotype30   \n",
       "Pan_T7917815_AAACGGGCAAGCTGAG-1_contig_1   1747     2             None   \n",
       "...                                         ...   ...              ...   \n",
       "Pan_T7917815_TTTGGTTGTCATTAGC-1_contig_3   1352     2             None   \n",
       "Pan_T7917815_TTTGGTTTCTTTACAC-1_contig_1    916     2       clonotype4   \n",
       "Pan_T7917815_TTTGGTTTCTTTACAC-1_contig_2   1072     4       clonotype4   \n",
       "Pan_T7917815_TTTGTCAAGCTGGAAC-1_contig_1   1951     2      clonotype26   \n",
       "Pan_T7917815_TTTGTCAAGCTGGAAC-1_contig_3    580     1      clonotype26   \n",
       "\n",
       "                                                 raw_consensus_id  \n",
       "index                                                              \n",
       "Pan_T7917815_AAACCTGAGGCCATAG-1_contig_1                     None  \n",
       "Pan_T7917815_AAACCTGAGTGTTGAA-1_contig_1  clonotype83_consensus_1  \n",
       "Pan_T7917815_AAACCTGGTCAGCTAT-1_contig_1  clonotype30_consensus_2  \n",
       "Pan_T7917815_AAACCTGGTCAGCTAT-1_contig_2  clonotype30_consensus_1  \n",
       "Pan_T7917815_AAACGGGCAAGCTGAG-1_contig_1                     None  \n",
       "...                                                           ...  \n",
       "Pan_T7917815_TTTGGTTGTCATTAGC-1_contig_3                     None  \n",
       "Pan_T7917815_TTTGGTTTCTTTACAC-1_contig_1                     None  \n",
       "Pan_T7917815_TTTGGTTTCTTTACAC-1_contig_2   clonotype4_consensus_1  \n",
       "Pan_T7917815_TTTGTCAAGCTGGAAC-1_contig_1  clonotype26_consensus_2  \n",
       "Pan_T7917815_TTTGTCAAGCTGGAAC-1_contig_3  clonotype26_consensus_1  \n",
       "\n",
       "[2640 rows x 18 columns]"
      ]
     },
     "execution_count": 6,
     "metadata": {},
     "output_type": "execute_result"
    }
   ],
   "source": [
    "import pandas as pd\n",
    "original = pd.read_csv(sample+'/filtered_contig_annotations.csv')\n",
    "# adjust the index\n",
    "original['index']=[sampledict[sample]+'_'+i for i in original['contig_id']]\n",
    "original.set_index('index', inplace = True)\n",
    "original"
   ]
  },
  {
   "cell_type": "markdown",
   "metadata": {},
   "source": [
    "And now for the newly annotated one:"
   ]
  },
  {
   "cell_type": "code",
   "execution_count": 7,
   "metadata": {
    "scrolled": true
   },
   "outputs": [
    {
     "data": {
      "text/html": [
       "<div>\n",
       "<style scoped>\n",
       "    .dataframe tbody tr th:only-of-type {\n",
       "        vertical-align: middle;\n",
       "    }\n",
       "\n",
       "    .dataframe tbody tr th {\n",
       "        vertical-align: top;\n",
       "    }\n",
       "\n",
       "    .dataframe thead th {\n",
       "        text-align: right;\n",
       "    }\n",
       "</style>\n",
       "<table border=\"1\" class=\"dataframe\">\n",
       "  <thead>\n",
       "    <tr style=\"text-align: right;\">\n",
       "      <th></th>\n",
       "      <th>sequence</th>\n",
       "      <th>rev_comp</th>\n",
       "      <th>productive</th>\n",
       "      <th>v_call</th>\n",
       "      <th>d_call</th>\n",
       "      <th>j_call</th>\n",
       "      <th>sequence_alignment</th>\n",
       "      <th>germline_alignment</th>\n",
       "      <th>junction</th>\n",
       "      <th>junction_aa</th>\n",
       "      <th>...</th>\n",
       "      <th>cdr3_end</th>\n",
       "      <th>np1</th>\n",
       "      <th>np1_length</th>\n",
       "      <th>np2</th>\n",
       "      <th>np2_length</th>\n",
       "      <th>junction_aa_length</th>\n",
       "      <th>cell_id</th>\n",
       "      <th>c_call</th>\n",
       "      <th>consensus_count</th>\n",
       "      <th>umi_count</th>\n",
       "    </tr>\n",
       "    <tr>\n",
       "      <th>sequence_id</th>\n",
       "      <th></th>\n",
       "      <th></th>\n",
       "      <th></th>\n",
       "      <th></th>\n",
       "      <th></th>\n",
       "      <th></th>\n",
       "      <th></th>\n",
       "      <th></th>\n",
       "      <th></th>\n",
       "      <th></th>\n",
       "      <th></th>\n",
       "      <th></th>\n",
       "      <th></th>\n",
       "      <th></th>\n",
       "      <th></th>\n",
       "      <th></th>\n",
       "      <th></th>\n",
       "      <th></th>\n",
       "      <th></th>\n",
       "      <th></th>\n",
       "      <th></th>\n",
       "    </tr>\n",
       "  </thead>\n",
       "  <tbody>\n",
       "    <tr>\n",
       "      <th>Pan_T7917815_ACATGGTGTGTGACCC-1_contig_1</th>\n",
       "      <td>TGGGGGACTCTGCTCTCTGTCCTGTCTCCTCATCTGCAAAATTAGG...</td>\n",
       "      <td>F</td>\n",
       "      <td>T</td>\n",
       "      <td>TRBV19*01</td>\n",
       "      <td>NaN</td>\n",
       "      <td>TRBJ2-1*01</td>\n",
       "      <td>GATGGTGGAATCACTCAGTCCCCAAAGTACCTGTTCAGAAAGGAAG...</td>\n",
       "      <td>GATGGTGGAATCACTCAGTCCCCAAAGTACCTGTTCAGAAAGGAAG...</td>\n",
       "      <td>TGTGCCAGTAGTATTTTCGGGCAGAGCTCCTACAATGAGCAGTTCTTC</td>\n",
       "      <td>CASSIFGQSSYNEQFF</td>\n",
       "      <td>...</td>\n",
       "      <td>573</td>\n",
       "      <td>TTTCGGGCAGAG</td>\n",
       "      <td>12</td>\n",
       "      <td>NaN</td>\n",
       "      <td>NaN</td>\n",
       "      <td>16</td>\n",
       "      <td>Pan_T7917815_ACATGGTGTGTGACCC</td>\n",
       "      <td>TRBC2</td>\n",
       "      <td>4266</td>\n",
       "      <td>12</td>\n",
       "    </tr>\n",
       "    <tr>\n",
       "      <th>Pan_T7917815_ACATGGTGTGTGACCC-1_contig_2</th>\n",
       "      <td>TGGGAGAAAGACTAGGGATTCACCCAGTAAAGAGAGCTCATCTGTG...</td>\n",
       "      <td>F</td>\n",
       "      <td>T</td>\n",
       "      <td>TRAV17*01</td>\n",
       "      <td>NaN</td>\n",
       "      <td>TRAJ6*01</td>\n",
       "      <td>AGTCAACAGGGAGAAGAGGATCCTCAGGCCTTGAGCATCCAGGAGG...</td>\n",
       "      <td>AGTCAACAGGGAGAAGAGGATCCTCAGGCCTTGAGCATCCAGGAGG...</td>\n",
       "      <td>TGTGCTACGCCCTCAGGAGGAAGCTACATACCTACATTT</td>\n",
       "      <td>CATPSGGSYIPTF</td>\n",
       "      <td>...</td>\n",
       "      <td>460</td>\n",
       "      <td>CCC</td>\n",
       "      <td>3</td>\n",
       "      <td>NaN</td>\n",
       "      <td>NaN</td>\n",
       "      <td>13</td>\n",
       "      <td>Pan_T7917815_ACATGGTGTGTGACCC</td>\n",
       "      <td>TRAC</td>\n",
       "      <td>3023</td>\n",
       "      <td>5</td>\n",
       "    </tr>\n",
       "    <tr>\n",
       "      <th>Pan_T7917815_ACGATACGTGACCAAG-1_contig_1</th>\n",
       "      <td>GGAGGGAGGCTGGGGGTGATTCACCACACTCTTAAAAGAAGACTAG...</td>\n",
       "      <td>F</td>\n",
       "      <td>T</td>\n",
       "      <td>TRBV30*01</td>\n",
       "      <td>TRBD2*01</td>\n",
       "      <td>TRBJ1-1*01</td>\n",
       "      <td>TCTCAGACTATTCATCAATGGCCAGCGACCCTGGTGCAGCCTGTGG...</td>\n",
       "      <td>TCTCAGACTATTCATCAATGGCCAGCGACCCTGGTGCAGCCTGTGG...</td>\n",
       "      <td>TGTGCCTGGAGTCCTGGGGGGGGGGCTGAAGCTTTCTTT</td>\n",
       "      <td>CAWSPGGGAEAFF</td>\n",
       "      <td>...</td>\n",
       "      <td>546</td>\n",
       "      <td>CCT</td>\n",
       "      <td>3</td>\n",
       "      <td>GGG</td>\n",
       "      <td>3.0</td>\n",
       "      <td>13</td>\n",
       "      <td>Pan_T7917815_ACGATACGTGACCAAG</td>\n",
       "      <td>TRBC1</td>\n",
       "      <td>4954</td>\n",
       "      <td>7</td>\n",
       "    </tr>\n",
       "    <tr>\n",
       "      <th>Pan_T7917815_ACGATACGTGACCAAG-1_contig_2</th>\n",
       "      <td>GAGCCTCATCCCTTTGCAACGTCAATGCGATCATGGGCACCAGGCT...</td>\n",
       "      <td>F</td>\n",
       "      <td>F</td>\n",
       "      <td>TRBV23-1*01</td>\n",
       "      <td>NaN</td>\n",
       "      <td>TRBJ2-1*01</td>\n",
       "      <td>CATGCCAAAGTCACACAGACTCCAGGACATTTGGTCAAAGGAAAAG...</td>\n",
       "      <td>CATGCCAAAGTCACACAGACTCCAGGACATTTGGTCAAAGGAAAAG...</td>\n",
       "      <td>TGCGCCAGCAGCCGTACTGCGGTTTGGCAATGAGCAGTTCTTC</td>\n",
       "      <td>CASSRTAVWQ*AVL</td>\n",
       "      <td>...</td>\n",
       "      <td>547</td>\n",
       "      <td>CCGTACTGCGGTTTGG</td>\n",
       "      <td>16</td>\n",
       "      <td>NaN</td>\n",
       "      <td>NaN</td>\n",
       "      <td>14</td>\n",
       "      <td>Pan_T7917815_ACGATACGTGACCAAG</td>\n",
       "      <td>TRBC2</td>\n",
       "      <td>274</td>\n",
       "      <td>3</td>\n",
       "    </tr>\n",
       "    <tr>\n",
       "      <th>Pan_T7917815_ACGATACGTGACCAAG-1_contig_3</th>\n",
       "      <td>TGGGGGATACAGAAGTGGCGCCTCTGAGAAAAGAAGGTTGGAATTA...</td>\n",
       "      <td>F</td>\n",
       "      <td>T</td>\n",
       "      <td>TRAV20*02</td>\n",
       "      <td>NaN</td>\n",
       "      <td>TRAJ10*01</td>\n",
       "      <td>GAAGACCAGGTGACGCAGAGTCCCGAGGCCCTGAGACTCCAGGAGG...</td>\n",
       "      <td>GAAGACCAGGTGACGCAGAGTCCCGAGGCCCTGAGACTCCAGGAGG...</td>\n",
       "      <td>TGTGCTGTGCAGGACGCGGGAGGAGGAAACAAACTCACCTTT</td>\n",
       "      <td>CAVQDAGGGNKLTF</td>\n",
       "      <td>...</td>\n",
       "      <td>440</td>\n",
       "      <td>ACG</td>\n",
       "      <td>3</td>\n",
       "      <td>NaN</td>\n",
       "      <td>NaN</td>\n",
       "      <td>14</td>\n",
       "      <td>Pan_T7917815_ACGATACGTGACCAAG</td>\n",
       "      <td>TRAC</td>\n",
       "      <td>2858</td>\n",
       "      <td>4</td>\n",
       "    </tr>\n",
       "    <tr>\n",
       "      <th>...</th>\n",
       "      <td>...</td>\n",
       "      <td>...</td>\n",
       "      <td>...</td>\n",
       "      <td>...</td>\n",
       "      <td>...</td>\n",
       "      <td>...</td>\n",
       "      <td>...</td>\n",
       "      <td>...</td>\n",
       "      <td>...</td>\n",
       "      <td>...</td>\n",
       "      <td>...</td>\n",
       "      <td>...</td>\n",
       "      <td>...</td>\n",
       "      <td>...</td>\n",
       "      <td>...</td>\n",
       "      <td>...</td>\n",
       "      <td>...</td>\n",
       "      <td>...</td>\n",
       "      <td>...</td>\n",
       "      <td>...</td>\n",
       "      <td>...</td>\n",
       "    </tr>\n",
       "    <tr>\n",
       "      <th>Pan_T7917815_GTACGTAAGGCCGAAT-1_contig_6</th>\n",
       "      <td>GGAGAAACTTCTGCCTTCACACATCCCTCCAGCTAGGCAGGACAGG...</td>\n",
       "      <td>F</td>\n",
       "      <td>T</td>\n",
       "      <td>TRBV5-6*01</td>\n",
       "      <td>TRBD1*01</td>\n",
       "      <td>TRBJ1-1*01</td>\n",
       "      <td>GACGCTGGAGTCACCCAAAGTCCCACACACCTGATCAAAACGAGAG...</td>\n",
       "      <td>GACGCTGGAGTCACCCAAAGTCCCACACACCTGATCAAAACGAGAG...</td>\n",
       "      <td>TGTGCCAGCAGCTTGTGGGGCGTGTCCACTGAAGCTTTCTTT</td>\n",
       "      <td>CASSLWGVSTEAFF</td>\n",
       "      <td>...</td>\n",
       "      <td>590</td>\n",
       "      <td>T</td>\n",
       "      <td>1</td>\n",
       "      <td>GTGTC</td>\n",
       "      <td>5.0</td>\n",
       "      <td>14</td>\n",
       "      <td>Pan_T7917815_GTACGTAAGGCCGAAT</td>\n",
       "      <td>TRBC1</td>\n",
       "      <td>1229</td>\n",
       "      <td>3</td>\n",
       "    </tr>\n",
       "    <tr>\n",
       "      <th>Pan_T7917815_TCACAAGAGTCTCAAC-1_contig_1</th>\n",
       "      <td>GGACTGAGCTTGCCTGTGACTGGCTAGGGAGGAACCTGAGACTAGG...</td>\n",
       "      <td>F</td>\n",
       "      <td>T</td>\n",
       "      <td>TRAV17*01</td>\n",
       "      <td>NaN</td>\n",
       "      <td>TRAJ9*01</td>\n",
       "      <td>AGTCAACAGGGAGAAGAGGATCCTCAGGCCTTGAGCATCCAGGAGG...</td>\n",
       "      <td>AGTCAACAGGGAGAAGAGGATCCTCAGGCCTTGAGCATCCAGGAGG...</td>\n",
       "      <td>TGTGCTACGGATACTGGAGGCTTCAAAACTATCTTT</td>\n",
       "      <td>CATDTGGFKTIF</td>\n",
       "      <td>...</td>\n",
       "      <td>503</td>\n",
       "      <td>NaN</td>\n",
       "      <td>0</td>\n",
       "      <td>NaN</td>\n",
       "      <td>NaN</td>\n",
       "      <td>12</td>\n",
       "      <td>Pan_T7917815_TCACAAGAGTCTCAAC</td>\n",
       "      <td>TRAC</td>\n",
       "      <td>4086</td>\n",
       "      <td>5</td>\n",
       "    </tr>\n",
       "    <tr>\n",
       "      <th>Pan_T7917815_TCACAAGAGTCTCAAC-1_contig_2</th>\n",
       "      <td>TGGGGAAAAATTGAAACCTGCCTGATGTGGGATGTGCTGTGGCTGC...</td>\n",
       "      <td>F</td>\n",
       "      <td>F</td>\n",
       "      <td>TRAV26-2*01</td>\n",
       "      <td>NaN</td>\n",
       "      <td>TRAJ53*01</td>\n",
       "      <td>.................................................</td>\n",
       "      <td>CATACATTGGTATCGACAGCTTCCCTCCCAGGGTCCAGAGTACGTG...</td>\n",
       "      <td>TGCATCCTGAGAGAGGTTTAATAGTGGAGGTAGCAACTATAAACTG...</td>\n",
       "      <td>CILREV**WR*QL*TDI</td>\n",
       "      <td>...</td>\n",
       "      <td>369</td>\n",
       "      <td>GGTTT</td>\n",
       "      <td>5</td>\n",
       "      <td>NaN</td>\n",
       "      <td>NaN</td>\n",
       "      <td>17</td>\n",
       "      <td>Pan_T7917815_TCACAAGAGTCTCAAC</td>\n",
       "      <td>TRAC</td>\n",
       "      <td>3352</td>\n",
       "      <td>2</td>\n",
       "    </tr>\n",
       "    <tr>\n",
       "      <th>Pan_T7917815_TCACAAGAGTCTCAAC-1_contig_3</th>\n",
       "      <td>GGGGAGAATGTCTCAGAATGACTTCCTTGAGAGTCCTGCTCCCCTT...</td>\n",
       "      <td>F</td>\n",
       "      <td>T</td>\n",
       "      <td>TRBV6-5*01</td>\n",
       "      <td>NaN</td>\n",
       "      <td>TRBJ2-2*01</td>\n",
       "      <td>AATGCTGGTGTCACTCAGACCCCAAAATTCCAGGTCCTGAAGACAG...</td>\n",
       "      <td>AATGCTGGTGTCACTCAGACCCCAAAATTCCAGGTCCTGAAGACAG...</td>\n",
       "      <td>TGTGCCAGCAGTTACTCCCGTCTAAACACCGGGGAGCTGTTTTTT</td>\n",
       "      <td>CASSYSRLNTGELFF</td>\n",
       "      <td>...</td>\n",
       "      <td>463</td>\n",
       "      <td>CCGTCTA</td>\n",
       "      <td>7</td>\n",
       "      <td>NaN</td>\n",
       "      <td>NaN</td>\n",
       "      <td>15</td>\n",
       "      <td>Pan_T7917815_TCACAAGAGTCTCAAC</td>\n",
       "      <td>TRBC1</td>\n",
       "      <td>6427</td>\n",
       "      <td>12</td>\n",
       "    </tr>\n",
       "    <tr>\n",
       "      <th>Pan_T7917815_TGCTACCGTTCGGGCT-1_contig_2</th>\n",
       "      <td>TGGGGAGAATGCTTACTACAGAGACACCAGCCCCAAGCTAGGAGAT...</td>\n",
       "      <td>F</td>\n",
       "      <td>T</td>\n",
       "      <td>TRBV9*01</td>\n",
       "      <td>NaN</td>\n",
       "      <td>TRBJ1-4*01</td>\n",
       "      <td>GATTCTGGAGTCACACAAACCCCAAAGCACCTGATCACAGCAACTG...</td>\n",
       "      <td>GATTCTGGAGTCACACAAACCCCAAAGCACCTGATCACAGCAACTG...</td>\n",
       "      <td>TGTGCCAGCAGCGTAAGTTCGGTAAATGAAAAACTGTTTTTT</td>\n",
       "      <td>CASSVSSVNEKLFF</td>\n",
       "      <td>...</td>\n",
       "      <td>418</td>\n",
       "      <td>AGTTCGGTA</td>\n",
       "      <td>9</td>\n",
       "      <td>NaN</td>\n",
       "      <td>NaN</td>\n",
       "      <td>14</td>\n",
       "      <td>Pan_T7917815_TGCTACCGTTCGGGCT</td>\n",
       "      <td>TRBC1</td>\n",
       "      <td>964</td>\n",
       "      <td>1</td>\n",
       "    </tr>\n",
       "  </tbody>\n",
       "</table>\n",
       "<p>1666 rows × 95 columns</p>\n",
       "</div>"
      ],
      "text/plain": [
       "                                                                                   sequence  \\\n",
       "sequence_id                                                                                   \n",
       "Pan_T7917815_ACATGGTGTGTGACCC-1_contig_1  TGGGGGACTCTGCTCTCTGTCCTGTCTCCTCATCTGCAAAATTAGG...   \n",
       "Pan_T7917815_ACATGGTGTGTGACCC-1_contig_2  TGGGAGAAAGACTAGGGATTCACCCAGTAAAGAGAGCTCATCTGTG...   \n",
       "Pan_T7917815_ACGATACGTGACCAAG-1_contig_1  GGAGGGAGGCTGGGGGTGATTCACCACACTCTTAAAAGAAGACTAG...   \n",
       "Pan_T7917815_ACGATACGTGACCAAG-1_contig_2  GAGCCTCATCCCTTTGCAACGTCAATGCGATCATGGGCACCAGGCT...   \n",
       "Pan_T7917815_ACGATACGTGACCAAG-1_contig_3  TGGGGGATACAGAAGTGGCGCCTCTGAGAAAAGAAGGTTGGAATTA...   \n",
       "...                                                                                     ...   \n",
       "Pan_T7917815_GTACGTAAGGCCGAAT-1_contig_6  GGAGAAACTTCTGCCTTCACACATCCCTCCAGCTAGGCAGGACAGG...   \n",
       "Pan_T7917815_TCACAAGAGTCTCAAC-1_contig_1  GGACTGAGCTTGCCTGTGACTGGCTAGGGAGGAACCTGAGACTAGG...   \n",
       "Pan_T7917815_TCACAAGAGTCTCAAC-1_contig_2  TGGGGAAAAATTGAAACCTGCCTGATGTGGGATGTGCTGTGGCTGC...   \n",
       "Pan_T7917815_TCACAAGAGTCTCAAC-1_contig_3  GGGGAGAATGTCTCAGAATGACTTCCTTGAGAGTCCTGCTCCCCTT...   \n",
       "Pan_T7917815_TGCTACCGTTCGGGCT-1_contig_2  TGGGGAGAATGCTTACTACAGAGACACCAGCCCCAAGCTAGGAGAT...   \n",
       "\n",
       "                                         rev_comp productive       v_call  \\\n",
       "sequence_id                                                                 \n",
       "Pan_T7917815_ACATGGTGTGTGACCC-1_contig_1        F          T    TRBV19*01   \n",
       "Pan_T7917815_ACATGGTGTGTGACCC-1_contig_2        F          T    TRAV17*01   \n",
       "Pan_T7917815_ACGATACGTGACCAAG-1_contig_1        F          T    TRBV30*01   \n",
       "Pan_T7917815_ACGATACGTGACCAAG-1_contig_2        F          F  TRBV23-1*01   \n",
       "Pan_T7917815_ACGATACGTGACCAAG-1_contig_3        F          T    TRAV20*02   \n",
       "...                                           ...        ...          ...   \n",
       "Pan_T7917815_GTACGTAAGGCCGAAT-1_contig_6        F          T   TRBV5-6*01   \n",
       "Pan_T7917815_TCACAAGAGTCTCAAC-1_contig_1        F          T    TRAV17*01   \n",
       "Pan_T7917815_TCACAAGAGTCTCAAC-1_contig_2        F          F  TRAV26-2*01   \n",
       "Pan_T7917815_TCACAAGAGTCTCAAC-1_contig_3        F          T   TRBV6-5*01   \n",
       "Pan_T7917815_TGCTACCGTTCGGGCT-1_contig_2        F          T     TRBV9*01   \n",
       "\n",
       "                                            d_call      j_call  \\\n",
       "sequence_id                                                      \n",
       "Pan_T7917815_ACATGGTGTGTGACCC-1_contig_1       NaN  TRBJ2-1*01   \n",
       "Pan_T7917815_ACATGGTGTGTGACCC-1_contig_2       NaN    TRAJ6*01   \n",
       "Pan_T7917815_ACGATACGTGACCAAG-1_contig_1  TRBD2*01  TRBJ1-1*01   \n",
       "Pan_T7917815_ACGATACGTGACCAAG-1_contig_2       NaN  TRBJ2-1*01   \n",
       "Pan_T7917815_ACGATACGTGACCAAG-1_contig_3       NaN   TRAJ10*01   \n",
       "...                                            ...         ...   \n",
       "Pan_T7917815_GTACGTAAGGCCGAAT-1_contig_6  TRBD1*01  TRBJ1-1*01   \n",
       "Pan_T7917815_TCACAAGAGTCTCAAC-1_contig_1       NaN    TRAJ9*01   \n",
       "Pan_T7917815_TCACAAGAGTCTCAAC-1_contig_2       NaN   TRAJ53*01   \n",
       "Pan_T7917815_TCACAAGAGTCTCAAC-1_contig_3       NaN  TRBJ2-2*01   \n",
       "Pan_T7917815_TGCTACCGTTCGGGCT-1_contig_2       NaN  TRBJ1-4*01   \n",
       "\n",
       "                                                                         sequence_alignment  \\\n",
       "sequence_id                                                                                   \n",
       "Pan_T7917815_ACATGGTGTGTGACCC-1_contig_1  GATGGTGGAATCACTCAGTCCCCAAAGTACCTGTTCAGAAAGGAAG...   \n",
       "Pan_T7917815_ACATGGTGTGTGACCC-1_contig_2  AGTCAACAGGGAGAAGAGGATCCTCAGGCCTTGAGCATCCAGGAGG...   \n",
       "Pan_T7917815_ACGATACGTGACCAAG-1_contig_1  TCTCAGACTATTCATCAATGGCCAGCGACCCTGGTGCAGCCTGTGG...   \n",
       "Pan_T7917815_ACGATACGTGACCAAG-1_contig_2  CATGCCAAAGTCACACAGACTCCAGGACATTTGGTCAAAGGAAAAG...   \n",
       "Pan_T7917815_ACGATACGTGACCAAG-1_contig_3  GAAGACCAGGTGACGCAGAGTCCCGAGGCCCTGAGACTCCAGGAGG...   \n",
       "...                                                                                     ...   \n",
       "Pan_T7917815_GTACGTAAGGCCGAAT-1_contig_6  GACGCTGGAGTCACCCAAAGTCCCACACACCTGATCAAAACGAGAG...   \n",
       "Pan_T7917815_TCACAAGAGTCTCAAC-1_contig_1  AGTCAACAGGGAGAAGAGGATCCTCAGGCCTTGAGCATCCAGGAGG...   \n",
       "Pan_T7917815_TCACAAGAGTCTCAAC-1_contig_2  .................................................   \n",
       "Pan_T7917815_TCACAAGAGTCTCAAC-1_contig_3  AATGCTGGTGTCACTCAGACCCCAAAATTCCAGGTCCTGAAGACAG...   \n",
       "Pan_T7917815_TGCTACCGTTCGGGCT-1_contig_2  GATTCTGGAGTCACACAAACCCCAAAGCACCTGATCACAGCAACTG...   \n",
       "\n",
       "                                                                         germline_alignment  \\\n",
       "sequence_id                                                                                   \n",
       "Pan_T7917815_ACATGGTGTGTGACCC-1_contig_1  GATGGTGGAATCACTCAGTCCCCAAAGTACCTGTTCAGAAAGGAAG...   \n",
       "Pan_T7917815_ACATGGTGTGTGACCC-1_contig_2  AGTCAACAGGGAGAAGAGGATCCTCAGGCCTTGAGCATCCAGGAGG...   \n",
       "Pan_T7917815_ACGATACGTGACCAAG-1_contig_1  TCTCAGACTATTCATCAATGGCCAGCGACCCTGGTGCAGCCTGTGG...   \n",
       "Pan_T7917815_ACGATACGTGACCAAG-1_contig_2  CATGCCAAAGTCACACAGACTCCAGGACATTTGGTCAAAGGAAAAG...   \n",
       "Pan_T7917815_ACGATACGTGACCAAG-1_contig_3  GAAGACCAGGTGACGCAGAGTCCCGAGGCCCTGAGACTCCAGGAGG...   \n",
       "...                                                                                     ...   \n",
       "Pan_T7917815_GTACGTAAGGCCGAAT-1_contig_6  GACGCTGGAGTCACCCAAAGTCCCACACACCTGATCAAAACGAGAG...   \n",
       "Pan_T7917815_TCACAAGAGTCTCAAC-1_contig_1  AGTCAACAGGGAGAAGAGGATCCTCAGGCCTTGAGCATCCAGGAGG...   \n",
       "Pan_T7917815_TCACAAGAGTCTCAAC-1_contig_2  CATACATTGGTATCGACAGCTTCCCTCCCAGGGTCCAGAGTACGTG...   \n",
       "Pan_T7917815_TCACAAGAGTCTCAAC-1_contig_3  AATGCTGGTGTCACTCAGACCCCAAAATTCCAGGTCCTGAAGACAG...   \n",
       "Pan_T7917815_TGCTACCGTTCGGGCT-1_contig_2  GATTCTGGAGTCACACAAACCCCAAAGCACCTGATCACAGCAACTG...   \n",
       "\n",
       "                                                                                   junction  \\\n",
       "sequence_id                                                                                   \n",
       "Pan_T7917815_ACATGGTGTGTGACCC-1_contig_1   TGTGCCAGTAGTATTTTCGGGCAGAGCTCCTACAATGAGCAGTTCTTC   \n",
       "Pan_T7917815_ACATGGTGTGTGACCC-1_contig_2            TGTGCTACGCCCTCAGGAGGAAGCTACATACCTACATTT   \n",
       "Pan_T7917815_ACGATACGTGACCAAG-1_contig_1            TGTGCCTGGAGTCCTGGGGGGGGGGCTGAAGCTTTCTTT   \n",
       "Pan_T7917815_ACGATACGTGACCAAG-1_contig_2        TGCGCCAGCAGCCGTACTGCGGTTTGGCAATGAGCAGTTCTTC   \n",
       "Pan_T7917815_ACGATACGTGACCAAG-1_contig_3         TGTGCTGTGCAGGACGCGGGAGGAGGAAACAAACTCACCTTT   \n",
       "...                                                                                     ...   \n",
       "Pan_T7917815_GTACGTAAGGCCGAAT-1_contig_6         TGTGCCAGCAGCTTGTGGGGCGTGTCCACTGAAGCTTTCTTT   \n",
       "Pan_T7917815_TCACAAGAGTCTCAAC-1_contig_1               TGTGCTACGGATACTGGAGGCTTCAAAACTATCTTT   \n",
       "Pan_T7917815_TCACAAGAGTCTCAAC-1_contig_2  TGCATCCTGAGAGAGGTTTAATAGTGGAGGTAGCAACTATAAACTG...   \n",
       "Pan_T7917815_TCACAAGAGTCTCAAC-1_contig_3      TGTGCCAGCAGTTACTCCCGTCTAAACACCGGGGAGCTGTTTTTT   \n",
       "Pan_T7917815_TGCTACCGTTCGGGCT-1_contig_2         TGTGCCAGCAGCGTAAGTTCGGTAAATGAAAAACTGTTTTTT   \n",
       "\n",
       "                                                junction_aa  ... cdr3_end  \\\n",
       "sequence_id                                                  ...            \n",
       "Pan_T7917815_ACATGGTGTGTGACCC-1_contig_1   CASSIFGQSSYNEQFF  ...      573   \n",
       "Pan_T7917815_ACATGGTGTGTGACCC-1_contig_2      CATPSGGSYIPTF  ...      460   \n",
       "Pan_T7917815_ACGATACGTGACCAAG-1_contig_1      CAWSPGGGAEAFF  ...      546   \n",
       "Pan_T7917815_ACGATACGTGACCAAG-1_contig_2     CASSRTAVWQ*AVL  ...      547   \n",
       "Pan_T7917815_ACGATACGTGACCAAG-1_contig_3     CAVQDAGGGNKLTF  ...      440   \n",
       "...                                                     ...  ...      ...   \n",
       "Pan_T7917815_GTACGTAAGGCCGAAT-1_contig_6     CASSLWGVSTEAFF  ...      590   \n",
       "Pan_T7917815_TCACAAGAGTCTCAAC-1_contig_1       CATDTGGFKTIF  ...      503   \n",
       "Pan_T7917815_TCACAAGAGTCTCAAC-1_contig_2  CILREV**WR*QL*TDI  ...      369   \n",
       "Pan_T7917815_TCACAAGAGTCTCAAC-1_contig_3    CASSYSRLNTGELFF  ...      463   \n",
       "Pan_T7917815_TGCTACCGTTCGGGCT-1_contig_2     CASSVSSVNEKLFF  ...      418   \n",
       "\n",
       "                                                       np1 np1_length    np2  \\\n",
       "sequence_id                                                                    \n",
       "Pan_T7917815_ACATGGTGTGTGACCC-1_contig_1      TTTCGGGCAGAG         12    NaN   \n",
       "Pan_T7917815_ACATGGTGTGTGACCC-1_contig_2               CCC          3    NaN   \n",
       "Pan_T7917815_ACGATACGTGACCAAG-1_contig_1               CCT          3    GGG   \n",
       "Pan_T7917815_ACGATACGTGACCAAG-1_contig_2  CCGTACTGCGGTTTGG         16    NaN   \n",
       "Pan_T7917815_ACGATACGTGACCAAG-1_contig_3               ACG          3    NaN   \n",
       "...                                                    ...        ...    ...   \n",
       "Pan_T7917815_GTACGTAAGGCCGAAT-1_contig_6                 T          1  GTGTC   \n",
       "Pan_T7917815_TCACAAGAGTCTCAAC-1_contig_1               NaN          0    NaN   \n",
       "Pan_T7917815_TCACAAGAGTCTCAAC-1_contig_2             GGTTT          5    NaN   \n",
       "Pan_T7917815_TCACAAGAGTCTCAAC-1_contig_3           CCGTCTA          7    NaN   \n",
       "Pan_T7917815_TGCTACCGTTCGGGCT-1_contig_2         AGTTCGGTA          9    NaN   \n",
       "\n",
       "                                         np2_length junction_aa_length  \\\n",
       "sequence_id                                                              \n",
       "Pan_T7917815_ACATGGTGTGTGACCC-1_contig_1        NaN                 16   \n",
       "Pan_T7917815_ACATGGTGTGTGACCC-1_contig_2        NaN                 13   \n",
       "Pan_T7917815_ACGATACGTGACCAAG-1_contig_1        3.0                 13   \n",
       "Pan_T7917815_ACGATACGTGACCAAG-1_contig_2        NaN                 14   \n",
       "Pan_T7917815_ACGATACGTGACCAAG-1_contig_3        NaN                 14   \n",
       "...                                             ...                ...   \n",
       "Pan_T7917815_GTACGTAAGGCCGAAT-1_contig_6        5.0                 14   \n",
       "Pan_T7917815_TCACAAGAGTCTCAAC-1_contig_1        NaN                 12   \n",
       "Pan_T7917815_TCACAAGAGTCTCAAC-1_contig_2        NaN                 17   \n",
       "Pan_T7917815_TCACAAGAGTCTCAAC-1_contig_3        NaN                 15   \n",
       "Pan_T7917815_TGCTACCGTTCGGGCT-1_contig_2        NaN                 14   \n",
       "\n",
       "                                                                cell_id  \\\n",
       "sequence_id                                                               \n",
       "Pan_T7917815_ACATGGTGTGTGACCC-1_contig_1  Pan_T7917815_ACATGGTGTGTGACCC   \n",
       "Pan_T7917815_ACATGGTGTGTGACCC-1_contig_2  Pan_T7917815_ACATGGTGTGTGACCC   \n",
       "Pan_T7917815_ACGATACGTGACCAAG-1_contig_1  Pan_T7917815_ACGATACGTGACCAAG   \n",
       "Pan_T7917815_ACGATACGTGACCAAG-1_contig_2  Pan_T7917815_ACGATACGTGACCAAG   \n",
       "Pan_T7917815_ACGATACGTGACCAAG-1_contig_3  Pan_T7917815_ACGATACGTGACCAAG   \n",
       "...                                                                 ...   \n",
       "Pan_T7917815_GTACGTAAGGCCGAAT-1_contig_6  Pan_T7917815_GTACGTAAGGCCGAAT   \n",
       "Pan_T7917815_TCACAAGAGTCTCAAC-1_contig_1  Pan_T7917815_TCACAAGAGTCTCAAC   \n",
       "Pan_T7917815_TCACAAGAGTCTCAAC-1_contig_2  Pan_T7917815_TCACAAGAGTCTCAAC   \n",
       "Pan_T7917815_TCACAAGAGTCTCAAC-1_contig_3  Pan_T7917815_TCACAAGAGTCTCAAC   \n",
       "Pan_T7917815_TGCTACCGTTCGGGCT-1_contig_2  Pan_T7917815_TGCTACCGTTCGGGCT   \n",
       "\n",
       "                                         c_call  consensus_count  umi_count  \n",
       "sequence_id                                                                  \n",
       "Pan_T7917815_ACATGGTGTGTGACCC-1_contig_1  TRBC2             4266         12  \n",
       "Pan_T7917815_ACATGGTGTGTGACCC-1_contig_2   TRAC             3023          5  \n",
       "Pan_T7917815_ACGATACGTGACCAAG-1_contig_1  TRBC1             4954          7  \n",
       "Pan_T7917815_ACGATACGTGACCAAG-1_contig_2  TRBC2              274          3  \n",
       "Pan_T7917815_ACGATACGTGACCAAG-1_contig_3   TRAC             2858          4  \n",
       "...                                         ...              ...        ...  \n",
       "Pan_T7917815_GTACGTAAGGCCGAAT-1_contig_6  TRBC1             1229          3  \n",
       "Pan_T7917815_TCACAAGAGTCTCAAC-1_contig_1   TRAC             4086          5  \n",
       "Pan_T7917815_TCACAAGAGTCTCAAC-1_contig_2   TRAC             3352          2  \n",
       "Pan_T7917815_TCACAAGAGTCTCAAC-1_contig_3  TRBC1             6427         12  \n",
       "Pan_T7917815_TGCTACCGTTCGGGCT-1_contig_2  TRBC1              964          1  \n",
       "\n",
       "[1666 rows x 95 columns]"
      ]
     },
     "execution_count": 7,
     "metadata": {},
     "output_type": "execute_result"
    }
   ],
   "source": [
    "new = pd.read_csv(sample+'/dandelion/data/filtered_contig_igblast_gap.tsv', sep = '\\t', index_col=0)\n",
    "new"
   ]
  },
  {
   "cell_type": "markdown",
   "metadata": {},
   "source": [
    "We'll merge the old and new v calls into a dictionary and see if there's any changes."
   ]
  },
  {
   "cell_type": "code",
   "execution_count": 8,
   "metadata": {},
   "outputs": [
    {
     "name": "stdout",
     "output_type": "stream",
     "text": [
      "Unmatched V calls\n",
      "{'TRGV10': 'TRDV3*01,TRDV3*02'}\n",
      "{'TRBV24-1': 'TRBV24-1*02,TRBV24/OR9-2*01'}\n",
      "{'TRBV6-3': 'TRBV6-2*01,TRBV6-3*01'}\n",
      "{'TRBV11-3': 'TRBV11-3*01,TRBV11-3*02,TRBV11-3*04'}\n",
      "{'TRBV6-9': 'TRBV13*01,TRBV13*02,TRBV5-7*01'}\n",
      "\n",
      "Unmatched J calls\n",
      "{'TRAJ27': 'TRAJ33*01'}\n",
      "{'None': 'TRDJ3*01'}\n"
     ]
    }
   ],
   "source": [
    "import numpy as np\n",
    "import re\n",
    "\n",
    "for x in new.columns:\n",
    "    original[x] = pd.Series(new[x])\n",
    "\n",
    "print('Unmatched V calls')\n",
    "test = original.dropna(subset = [\"v_call\"])\n",
    "testdict = dict(zip(test['v_gene'], test['v_call']))\n",
    "for key, value in testdict.items():\n",
    "    if key != re.sub('[*][0-9][0-9],|[*][0-9][0-9]|/', '', value):\n",
    "        print({key: value})\n",
    "        \n",
    "print('\\nUnmatched J calls')\n",
    "test = original.dropna(subset = [\"j_call\"])\n",
    "testdict = dict(zip(test['j_gene'], test['j_call']))\n",
    "for key, value in testdict.items():\n",
    "    if key != re.sub('[*][0-9][0-9],|[*][0-9][0-9]|/', '', value):\n",
    "        print({key: value})        "
   ]
  },
  {
   "cell_type": "markdown",
   "metadata": {},
   "source": [
    "So a couple came up flagged as differently annotated between the two files but not a massive difference."
   ]
  },
  {
   "cell_type": "markdown",
   "metadata": {},
   "source": [
    "### Step 3:\n",
    "#### Converting the format back to 10x-style table.\n",
    "\n",
    "The utility function `utl.convert_preprocessed_tcr_10x` will attempt to convert the airr/changeo tsvs to a 10X-style table so that can be plugged into other softwares for analysis such as [scirpy](https://icbi-lab.github.io/scirpy/). The `prefix` option will add a prefix to the cell barcode if provided. Please note that if a contig loses its junction region after reannotation with *igblastn*, the contig will be marked as a non-productive contig otherwise it interferes with scirpy's loading."
   ]
  },
  {
   "cell_type": "code",
   "execution_count": 9,
   "metadata": {},
   "outputs": [
    {
     "name": "stderr",
     "output_type": "stream",
     "text": [
      "Processing data : 100%|██████████| 2640/2640 [00:01<00:00, 1973.31it/s]\n",
      "Matching and updating contig ids: 100%|██████████| 2640/2640 [00:04<00:00, 628.48it/s]\n"
     ]
    }
   ],
   "source": [
    "os.chdir(os.path.expanduser('/Users/kt16/Documents/Clatworthy_scRNAseq/Ondrej/PIP/Pan_immune_TCR'))\n",
    "import os\n",
    "import pandas as pd\n",
    "import re\n",
    "from tqdm import tqdm\n",
    "file = sample+'/filtered_contig_annotations.csv'\n",
    "prefix = sampledict[sample]\n",
    "ddl.utl.convert_preprocessed_tcr_10x(file, prefix = sampledict[sample])"
   ]
  },
  {
   "cell_type": "markdown",
   "metadata": {},
   "source": [
    "## Analysis with *scirpy*.\n",
    "\n",
    "Let's see if this will work with scirpy's pipeline. Currently scirpy will only procerss TCRa/b so that's a shame because the gamma-delta folks would be sad. Maybe something to implement in the future.\n",
    "\n",
    "As I'm only intending to support this solely as a conversion wrapper, I have not added the requirement to install `scirpy`. Please install separately if you do not already have it.\n",
    "\n",
    "```bash\n",
    "pip install scirpy\n",
    "# or\n",
    "conda install -c conda-forge -c bioconda scirpy\n",
    "```\n",
    "\n",
    "#### Read in transcriptome object and TCR data"
   ]
  },
  {
   "cell_type": "code",
   "execution_count": 10,
   "metadata": {
    "scrolled": true
   },
   "outputs": [
    {
     "name": "stdout",
     "output_type": "stream",
     "text": [
      "scanpy==1.4.6 anndata==0.7.1 umap==0.4.2 numpy==1.18.4 scipy==1.4.1 pandas==1.0.3 scikit-learn==0.23.0 statsmodels==0.11.1 python-igraph==0.8.2\n"
     ]
    },
    {
     "name": "stderr",
     "output_type": "stream",
     "text": [
      "... storing 'TRA_1_cdr3' as categorical\n",
      "... storing 'TRA_2_cdr3' as categorical\n",
      "... storing 'TRB_1_cdr3' as categorical\n",
      "... storing 'TRB_2_cdr3' as categorical\n",
      "... storing 'TRA_1_junction_ins' as categorical\n",
      "... storing 'TRA_2_junction_ins' as categorical\n",
      "... storing 'TRB_1_junction_ins' as categorical\n",
      "... storing 'TRB_2_junction_ins' as categorical\n",
      "... storing 'TRA_1_v_gene' as categorical\n",
      "... storing 'TRA_2_v_gene' as categorical\n",
      "... storing 'TRB_1_v_gene' as categorical\n",
      "... storing 'TRB_2_v_gene' as categorical\n",
      "... storing 'TRA_1_d_gene' as categorical\n",
      "... storing 'TRA_2_d_gene' as categorical\n",
      "... storing 'TRB_1_d_gene' as categorical\n",
      "... storing 'TRB_2_d_gene' as categorical\n",
      "... storing 'TRA_1_j_gene' as categorical\n",
      "... storing 'TRA_2_j_gene' as categorical\n",
      "... storing 'TRB_1_j_gene' as categorical\n",
      "... storing 'TRB_2_j_gene' as categorical\n",
      "... storing 'TRA_1_c_gene' as categorical\n",
      "... storing 'TRA_2_c_gene' as categorical\n",
      "... storing 'TRB_1_c_gene' as categorical\n",
      "... storing 'TRB_2_c_gene' as categorical\n",
      "... storing 'TRA_1_cdr3_nt' as categorical\n",
      "... storing 'TRA_2_cdr3_nt' as categorical\n",
      "... storing 'TRB_1_cdr3_nt' as categorical\n",
      "... storing 'TRB_2_cdr3_nt' as categorical\n"
     ]
    },
    {
     "data": {
      "text/plain": [
       "AnnData object with n_obs × n_vars = 816 × 3233 \n",
       "    obs: 'sampleid', 'gender', 'donor', 'tissue', 'experiment', 'scrublet_score', 'n_genes', 'percent_mito', 'n_counts', 'bh_pval', 'is_doublet', 'filter_rna', 'has_bcr', 'filter_bcr_quality', 'filter_bcr_heavy', 'filter_bcr_light', 'leiden'\n",
       "    var: 'gene_ids', 'feature_types', 'n_cells', 'highly_variable', 'means', 'dispersions', 'dispersions_norm'\n",
       "    uns: 'has_bcr_colors', 'leiden', 'leiden_colors', 'neighbors', 'pca', 'umap'\n",
       "    obsm: 'X_pca', 'X_umap'\n",
       "    varm: 'PCs'"
      ]
     },
     "execution_count": 10,
     "metadata": {},
     "output_type": "execute_result"
    }
   ],
   "source": [
    "import scirpy as ir\n",
    "import scanpy as sc\n",
    "sc.logging.print_versions()\n",
    "os.chdir(os.path.expanduser('/Users/kt16/Documents/Clatworthy_scRNAseq/Ondrej/PIP/'))\n",
    "# point to the newly annotated annotation file\n",
    "tcr = ir.read_10x_vdj('Pan_Immune_TCR/'+sample+'/dandelion/data/filtered_contig_annotations.csv')\n",
    "# read in the processed AnnData object from notebook 2\n",
    "adata = sc.read_h5ad('Pan_Immune_BCR/Pan_T7918901/dandelion/data/adata.h5ad')\n",
    "adata"
   ]
  },
  {
   "cell_type": "markdown",
   "metadata": {},
   "source": [
    "#### Merge the TCR data and adata"
   ]
  },
  {
   "cell_type": "code",
   "execution_count": 11,
   "metadata": {},
   "outputs": [
    {
     "data": {
      "text/plain": [
       "AnnData object with n_obs × n_vars = 816 × 3233 \n",
       "    obs: 'sampleid', 'gender', 'donor', 'tissue', 'experiment', 'scrublet_score', 'n_genes', 'percent_mito', 'n_counts', 'bh_pval', 'is_doublet', 'filter_rna', 'has_bcr', 'filter_bcr_quality', 'filter_bcr_heavy', 'filter_bcr_light', 'leiden', 'multi_chain', 'TRA_1_cdr3', 'TRA_2_cdr3', 'TRB_1_cdr3', 'TRB_2_cdr3', 'TRA_1_junction_ins', 'TRA_2_junction_ins', 'TRB_1_junction_ins', 'TRB_2_junction_ins', 'TRA_1_expr', 'TRA_2_expr', 'TRB_1_expr', 'TRB_2_expr', 'TRA_1_v_gene', 'TRA_2_v_gene', 'TRB_1_v_gene', 'TRB_2_v_gene', 'TRA_1_d_gene', 'TRA_2_d_gene', 'TRB_1_d_gene', 'TRB_2_d_gene', 'TRA_1_j_gene', 'TRA_2_j_gene', 'TRB_1_j_gene', 'TRB_2_j_gene', 'TRA_1_c_gene', 'TRA_2_c_gene', 'TRB_1_c_gene', 'TRB_2_c_gene', 'TRA_1_cdr3_nt', 'TRA_2_cdr3_nt', 'TRB_1_cdr3_nt', 'TRB_2_cdr3_nt', 'has_tcr'\n",
       "    var: 'gene_ids', 'feature_types', 'n_cells', 'highly_variable', 'means', 'dispersions', 'dispersions_norm'\n",
       "    uns: 'has_bcr_colors', 'leiden', 'leiden_colors', 'neighbors', 'pca', 'umap'\n",
       "    obsm: 'X_pca', 'X_umap'\n",
       "    varm: 'PCs'"
      ]
     },
     "execution_count": 11,
     "metadata": {},
     "output_type": "execute_result"
    }
   ],
   "source": [
    "ir.pp.merge_with_tcr(adata, tcr)\n",
    "adata"
   ]
  },
  {
   "cell_type": "markdown",
   "metadata": {},
   "source": [
    "Because I've already preprocessed the transcriptomics data in notebook2, I will skip the normal QC and processing bit. Otherwise you can refer to their [tutorial](https://icbi-lab.github.io/scirpy/tutorials/tutorial_3k_tcr.html)."
   ]
  },
  {
   "cell_type": "markdown",
   "metadata": {},
   "source": [
    "#### TCR quality control metrics"
   ]
  },
  {
   "cell_type": "code",
   "execution_count": 12,
   "metadata": {},
   "outputs": [
    {
     "name": "stderr",
     "output_type": "stream",
     "text": [
      "... storing 'multi_chain' as categorical\n",
      "... storing 'has_tcr' as categorical\n",
      "... storing 'chain_pairing' as categorical\n"
     ]
    },
    {
     "data": {
      "image/png": "[encoded data removed]",
      "text/plain": [
       "<Figure size 412.8x309.6 with 1 Axes>"
      ]
     },
     "metadata": {
      "needs_background": "light"
     },
     "output_type": "display_data"
    },
    {
     "data": {
      "image/png": "[encoded data removed]",
      "text/plain": [
       "<Figure size 432x288 with 1 Axes>"
      ]
     },
     "metadata": {},
     "output_type": "display_data"
    }
   ],
   "source": [
    "ir.tl.chain_pairing(adata)\n",
    "# checking if the BCR and TCR overlap\n",
    "ir.pl.group_abundance(adata, groupby=\"chain_pairing\", target_col=\"has_bcr\")\n",
    "sc.pl.umap(adata, color=\"multi_chain\", palette = ['#E7159A', '#E7E7E7'])"
   ]
  },
  {
   "cell_type": "markdown",
   "metadata": {},
   "source": [
    "Well that's a good sign!\n",
    "\n",
    "So it looks like only ~1% of cells have one pair of productive T-cell receptors after *dandelion's* reannotation. It could be the nature of this particular sample or maybe dandelion converted a lot of sequences to be non-productive. Probably worth running without reannotation with *dandelion* and see how it looks."
   ]
  },
  {
   "cell_type": "code",
   "execution_count": 13,
   "metadata": {},
   "outputs": [
    {
     "name": "stdout",
     "output_type": "stream",
     "text": [
      "Fraction of cells with more than one pair of TCRs: 0.01\n"
     ]
    }
   ],
   "source": [
    "print(\"Fraction of cells with more than one pair of TCRs: {:.2f}\".format(np.sum(adata.obs[\"chain_pairing\"].isin([\"Extra beta\", \"Extra alpha\", \"Two full chains\"])) / adata.n_obs))"
   ]
  },
  {
   "cell_type": "markdown",
   "metadata": {},
   "source": [
    "#### Define clonotypes"
   ]
  },
  {
   "cell_type": "code",
   "execution_count": 14,
   "metadata": {},
   "outputs": [
    {
     "name": "stderr",
     "output_type": "stream",
     "text": [
      "... storing 'clonotype' as categorical\n"
     ]
    },
    {
     "data": {
      "text/plain": [
       "array([<matplotlib.axes._subplots.AxesSubplot object at 0x12a8ea190>],\n",
       "      dtype=object)"
      ]
     },
     "execution_count": 14,
     "metadata": {},
     "output_type": "execute_result"
    },
    {
     "data": {
      "image/png": "[encoded data removed]",
      "text/plain": [
       "<Figure size 756x720 with 1 Axes>"
      ]
     },
     "metadata": {},
     "output_type": "display_data"
    }
   ],
   "source": [
    "ir.pp.tcr_neighbors(adata, receptor_arms=\"all\", dual_tcr=\"primary_only\", cutoff=0)\n",
    "ir.tl.define_clonotypes(adata)\n",
    "ir.tl.clonotype_network(adata, min_size=2)\n",
    "ir.pl.clonotype_network(adata, color=\"clonotype\", legend_fontoutline=3, size=80)"
   ]
  },
  {
   "cell_type": "markdown",
   "metadata": {},
   "source": [
    "#### Compute CDR3 neighborhood graph"
   ]
  },
  {
   "cell_type": "code",
   "execution_count": 15,
   "metadata": {},
   "outputs": [
    {
     "name": "stderr",
     "output_type": "stream",
     "text": [
      "100%|██████████| 86/86 [00:00<00:00, 150861.62it/s]\n",
      "100%|██████████| 69/69 [00:00<00:00, 26185.94it/s]\n"
     ]
    }
   ],
   "source": [
    "ir.pp.tcr_neighbors(adata, cutoff=10, receptor_arms=\"all\", dual_tcr=\"all\")\n",
    "ir.tl.define_clonotypes(adata, partitions=\"connected\")\n",
    "ir.tl.clonotype_network(adata, min_size=2)"
   ]
  },
  {
   "cell_type": "markdown",
   "metadata": {},
   "source": [
    "#### Extracting information (e.g. CDR3-sequences) from a specific clonotype "
   ]
  },
  {
   "cell_type": "code",
   "execution_count": 16,
   "metadata": {},
   "outputs": [
    {
     "data": {
      "text/html": [
       "<div>\n",
       "<style scoped>\n",
       "    .dataframe tbody tr th:only-of-type {\n",
       "        vertical-align: middle;\n",
       "    }\n",
       "\n",
       "    .dataframe tbody tr th {\n",
       "        vertical-align: top;\n",
       "    }\n",
       "\n",
       "    .dataframe thead th {\n",
       "        text-align: right;\n",
       "    }\n",
       "</style>\n",
       "<table border=\"1\" class=\"dataframe\">\n",
       "  <thead>\n",
       "    <tr style=\"text-align: right;\">\n",
       "      <th></th>\n",
       "      <th>TRA_1_cdr3</th>\n",
       "      <th>TRA_2_cdr3</th>\n",
       "      <th>TRB_1_cdr3</th>\n",
       "      <th>TRB_2_cdr3</th>\n",
       "    </tr>\n",
       "  </thead>\n",
       "  <tbody>\n",
       "    <tr>\n",
       "      <th>Pan_T7917815_CAAGATCTCGTCCAGG</th>\n",
       "      <td>CAVYGQNFVF</td>\n",
       "      <td>None</td>\n",
       "      <td>CASSERGGPGNEQYF</td>\n",
       "      <td>None</td>\n",
       "    </tr>\n",
       "    <tr>\n",
       "      <th>Pan_T7917815_CTGATCCCACAGCCCA</th>\n",
       "      <td>CAVYGQNFVF</td>\n",
       "      <td>None</td>\n",
       "      <td>CASSERGGPGNEQYF</td>\n",
       "      <td>None</td>\n",
       "    </tr>\n",
       "    <tr>\n",
       "      <th>Pan_T7917815_GACGGCTAGAGTGAGA</th>\n",
       "      <td>CAVYGQNFVF</td>\n",
       "      <td>None</td>\n",
       "      <td>CASSERGGPGNEQYF</td>\n",
       "      <td>None</td>\n",
       "    </tr>\n",
       "  </tbody>\n",
       "</table>\n",
       "</div>"
      ],
      "text/plain": [
       "                               TRA_1_cdr3 TRA_2_cdr3       TRB_1_cdr3  \\\n",
       "Pan_T7917815_CAAGATCTCGTCCAGG  CAVYGQNFVF       None  CASSERGGPGNEQYF   \n",
       "Pan_T7917815_CTGATCCCACAGCCCA  CAVYGQNFVF       None  CASSERGGPGNEQYF   \n",
       "Pan_T7917815_GACGGCTAGAGTGAGA  CAVYGQNFVF       None  CASSERGGPGNEQYF   \n",
       "\n",
       "                              TRB_2_cdr3  \n",
       "Pan_T7917815_CAAGATCTCGTCCAGG       None  \n",
       "Pan_T7917815_CTGATCCCACAGCCCA       None  \n",
       "Pan_T7917815_GACGGCTAGAGTGAGA       None  "
      ]
     },
     "execution_count": 16,
     "metadata": {},
     "output_type": "execute_result"
    }
   ],
   "source": [
    "adata.obs.loc[adata.obs[\"clonotype\"] == \"175\", [\"TRA_1_cdr3\", \"TRA_2_cdr3\", \"TRB_1_cdr3\", \"TRB_2_cdr3\"]]"
   ]
  },
  {
   "cell_type": "markdown",
   "metadata": {},
   "source": [
    "#### Clonotype analysis"
   ]
  },
  {
   "cell_type": "code",
   "execution_count": 17,
   "metadata": {},
   "outputs": [
    {
     "name": "stderr",
     "output_type": "stream",
     "text": [
      "... storing 'clonotype' as categorical\n",
      "... storing 'clonal_expansion' as categorical\n"
     ]
    },
    {
     "data": {
      "image/png": "[encoded data removed]",
      "text/plain": [
       "<Figure size 989.28x288 with 3 Axes>"
      ]
     },
     "metadata": {
      "needs_background": "light"
     },
     "output_type": "display_data"
    }
   ],
   "source": [
    "ir.tl.clonal_expansion(adata)\n",
    "sc.pl.umap(adata, color=[\"clonal_expansion\", \"clonotype_size\"])"
   ]
  },
  {
   "cell_type": "markdown",
   "metadata": {},
   "source": [
    "#### Show the number of cells belonging to an expanded clonotype per category "
   ]
  },
  {
   "cell_type": "code",
   "execution_count": 18,
   "metadata": {},
   "outputs": [
    {
     "data": {
      "text/plain": [
       "<matplotlib.axes._subplots.AxesSubplot at 0x12abeb910>"
      ]
     },
     "execution_count": 18,
     "metadata": {},
     "output_type": "execute_result"
    },
    {
     "data": {
      "image/png": "[encoded data removed]",
      "text/plain": [
       "<Figure size 412.8x309.6 with 1 Axes>"
      ]
     },
     "metadata": {
      "needs_background": "light"
     },
     "output_type": "display_data"
    }
   ],
   "source": [
    "ir.pl.clonal_expansion(adata, groupby=\"leiden\", clip_at=4, normalize=False)"
   ]
  },
  {
   "cell_type": "code",
   "execution_count": 19,
   "metadata": {},
   "outputs": [
    {
     "data": {
      "text/plain": [
       "<matplotlib.axes._subplots.AxesSubplot at 0x12d1be190>"
      ]
     },
     "execution_count": 19,
     "metadata": {},
     "output_type": "execute_result"
    },
    {
     "data": {
      "image/png": "[encoded data removed]",
      "text/plain": [
       "<Figure size 412.8x309.6 with 1 Axes>"
      ]
     },
     "metadata": {
      "needs_background": "light"
     },
     "output_type": "display_data"
    }
   ],
   "source": [
    "ir.pl.clonal_expansion(adata, groupby=\"leiden\", clip_at=4, normalize=True)"
   ]
  },
  {
   "cell_type": "code",
   "execution_count": 20,
   "metadata": {},
   "outputs": [
    {
     "data": {
      "image/png": "[encoded data removed]",
      "text/plain": [
       "<Figure size 412.8x309.6 with 1 Axes>"
      ]
     },
     "metadata": {
      "needs_background": "light"
     },
     "output_type": "display_data"
    }
   ],
   "source": [
    "ax = ir.pl.alpha_diversity(adata, groupby=\"leiden\")"
   ]
  },
  {
   "cell_type": "markdown",
   "metadata": {},
   "source": [
    "#### Gene usage"
   ]
  },
  {
   "cell_type": "code",
   "execution_count": 21,
   "metadata": {},
   "outputs": [
    {
     "data": {
      "text/plain": [
       "<matplotlib.axes._subplots.AxesSubplot at 0x12c098450>"
      ]
     },
     "execution_count": 21,
     "metadata": {},
     "output_type": "execute_result"
    },
    {
     "data": {
      "image/png": "[encoded data removed]",
      "text/plain": [
       "<Figure size 412.8x309.6 with 1 Axes>"
      ]
     },
     "metadata": {
      "needs_background": "light"
     },
     "output_type": "display_data"
    }
   ],
   "source": [
    "ir.pl.group_abundance(adata, groupby=\"TRB_1_v_gene\", target_col=\"leiden\", max_cols=10, legend = 'none')"
   ]
  },
  {
   "cell_type": "code",
   "execution_count": 22,
   "metadata": {},
   "outputs": [
    {
     "data": {
      "text/plain": [
       "<matplotlib.axes._subplots.AxesSubplot at 0x12da75110>"
      ]
     },
     "execution_count": 22,
     "metadata": {},
     "output_type": "execute_result"
    },
    {
     "data": {
      "image/png": "[encoded data removed]",
      "text/plain": [
       "<Figure size 504x288 with 1 Axes>"
      ]
     },
     "metadata": {
      "needs_background": "light"
     },
     "output_type": "display_data"
    }
   ],
   "source": [
    "ir.pl.vdj_usage(adata[adata.obs[\"clonotype\"].isin([\"175\", \"15\", \"140\", \"188\"]), :], top_n=None)"
   ]
  },
  {
   "cell_type": "markdown",
   "metadata": {},
   "source": [
    "#### Spectratype plots"
   ]
  },
  {
   "cell_type": "code",
   "execution_count": 23,
   "metadata": {},
   "outputs": [
    {
     "data": {
      "text/plain": [
       "<matplotlib.axes._subplots.AxesSubplot at 0x12b6988d0>"
      ]
     },
     "execution_count": 23,
     "metadata": {},
     "output_type": "execute_result"
    },
    {
     "data": {
      "image/png": "[encoded data removed]",
      "text/plain": [
       "<Figure size 720x480 with 1 Axes>"
      ]
     },
     "metadata": {
      "needs_background": "light"
     },
     "output_type": "display_data"
    }
   ],
   "source": [
    "ir.pl.spectratype(adata, target_col=\"leiden\", viztype=\"bar\", fig_kws={\"dpi\": 120})"
   ]
  },
  {
   "cell_type": "markdown",
   "metadata": {},
   "source": [
    "For more in depth tutorial and other functions, please go to [scirpy](https://icbi-lab.github.io/scirpy/)'s website.\n",
    "                                                              \n",
    "I hope this has been helpful. Let me know if there's any issues."
   ]
  },
  {
   "cell_type": "code",
   "execution_count": null,
   "metadata": {},
   "outputs": [],
   "source": []
  }
 ],
 "metadata": {
  "kernelspec": {
   "display_name": "Python (dandelion)",
   "language": "python",
   "name": "dandelion"
  },
  "language_info": {
   "codemirror_mode": {
    "name": "ipython",
    "version": 3
   },
   "file_extension": ".py",
   "mimetype": "text/x-python",
   "name": "python",
   "nbconvert_exporter": "python",
   "pygments_lexer": "ipython3",
   "version": "3.7.6"
  }
 },
 "nbformat": 4,
 "nbformat_minor": 2
}
