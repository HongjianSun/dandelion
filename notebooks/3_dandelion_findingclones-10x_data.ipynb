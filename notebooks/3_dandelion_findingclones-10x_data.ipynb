{
 "cells": [
  {
   "cell_type": "markdown",
   "metadata": {},
   "source": [
    "# BCR clustering\n",
    "\n",
    "![dandelion_logo](img/dandelion_logo_illustration.png)\n",
    "\n",
    "On the topic of finding clones/clonotypes, there are many ways used for clustering BCRs, almost all involving some measure based on sequence similarity. There are also a lot of very well established guidelines and criterias maintained by the BCR community. For example, *immcantation* uses a number of model-based [methods](https://changeo.readthedocs.io/en/stable/methods/clustering.html) to group clones based on the distribution of length-normalised junctional hamming distance while others use the whole BCR V(D)J sequence to define clones as shown in this recent [paper](https://www.nature.com/articles/s41586-019-1595-3.pdf)."
   ]
  },
  {
   "cell_type": "markdown",
   "metadata": {},
   "source": [
    "***Import modules***"
   ]
  },
  {
   "cell_type": "code",
   "execution_count": 1,
   "metadata": {
    "scrolled": true
   },
   "outputs": [
    {
     "name": "stdout",
     "output_type": "stream",
     "text": [
      "dandelion==0.0.29 pandas==1.1.4 numpy==1.19.4 matplotlib==3.3.3 networkx==2.5 scipy==1.5.3 skbio==0.5.6\n"
     ]
    }
   ],
   "source": [
    "import os\n",
    "import pandas as pd\n",
    "import dandelion as ddl\n",
    "ddl.logging.print_header()"
   ]
  },
  {
   "cell_type": "code",
   "execution_count": 2,
   "metadata": {
    "scrolled": true
   },
   "outputs": [
    {
     "name": "stdout",
     "output_type": "stream",
     "text": [
      "scanpy==1.6.0 anndata==0.7.4 umap==0.4.6 numpy==1.19.4 scipy==1.5.3 pandas==1.1.4 scikit-learn==0.23.2 statsmodels==0.12.1 python-igraph==0.8.3 leidenalg==0.8.3\n"
     ]
    }
   ],
   "source": [
    "# change directory to somewhere more workable\n",
    "os.chdir(os.path.expanduser('/Users/kt16/Downloads/dandelion_tutorial/'))\n",
    "# I'm importing scanpy here to make use of its logging module.\n",
    "import scanpy as sc\n",
    "sc.settings.verbosity = 3\n",
    "import warnings\n",
    "warnings.filterwarnings('ignore')\n",
    "sc.logging.print_header()"
   ]
  },
  {
   "cell_type": "markdown",
   "metadata": {},
   "source": [
    "***Read in the previously saved files***\n",
    "\n",
    "I will work with the same example from the previous notebook since I have the filtered V(D)J data stored in a `Dandelion` class."
   ]
  },
  {
   "cell_type": "code",
   "execution_count": 3,
   "metadata": {
    "scrolled": true
   },
   "outputs": [
    {
     "data": {
      "text/plain": [
       "Dandelion class object with n_obs = 838 and n_contigs = 1700\n",
       "    data: 'sequence_id', 'sequence', 'rev_comp', 'productive', 'v_call', 'd_call', 'j_call', 'sequence_alignment', 'germline_alignment', 'junction', 'junction_aa', 'v_cigar', 'd_cigar', 'j_cigar', 'stop_codon', 'vj_in_frame', 'locus', 'junction_length', 'np1_length', 'np2_length', 'v_sequence_start', 'v_sequence_end', 'v_germline_start', 'v_germline_end', 'd_sequence_start', 'd_sequence_end', 'd_germline_start', 'd_germline_end', 'j_sequence_start', 'j_sequence_end', 'j_germline_start', 'j_germline_end', 'v_score', 'v_identity', 'v_support', 'd_score', 'd_identity', 'd_support', 'j_score', 'j_identity', 'j_support', 'fwr1', 'fwr2', 'fwr3', 'fwr4', 'cdr1', 'cdr2', 'cdr3', 'cell_id', 'c_call', 'consensus_count', 'umi_count', 'v_call_10x', 'd_call_10x', 'j_call_10x', 'junction_10x', 'junction_10x_aa', 'v_call_genotyped', 'germline_alignment_d_mask', 'sample_id', 'c_sequence_alignment', 'c_germline_alignment', 'c_sequence_start', 'c_sequence_end', 'c_score', 'c_identity', 'c_support', 'c_call_10x', 'junction_aa_length', 'fwr1_aa', 'fwr2_aa', 'fwr3_aa', 'fwr4_aa', 'cdr1_aa', 'cdr2_aa', 'cdr3_aa', 'sequence_alignment_aa', 'v_sequence_alignment_aa', 'd_sequence_alignment_aa', 'j_sequence_alignment_aa', 'mu_freq', 'duplicate_count'\n",
       "    metadata: 'sample_id', 'locus_heavy', 'locus_light', 'productive_heavy', 'productive_light', 'v_call_genotyped_heavy', 'v_call_genotyped_light', 'j_call_heavy', 'j_call_light', 'c_call_heavy', 'c_call_light', 'umi_count_heavy_0', 'umi_count_light_0', 'umi_count_light_1', 'umi_count_light_2', 'junction_aa_heavy', 'junction_aa_light', 'status', 'productive', 'isotype', 'vdj_status_detail', 'vdj_status'\n",
       "    distance: None\n",
       "    edges: None\n",
       "    layout: None\n",
       "    graph: None"
      ]
     },
     "execution_count": 3,
     "metadata": {},
     "output_type": "execute_result"
    }
   ],
   "source": [
    "vdj = ddl.read_h5('dandelion_results.h5')\n",
    "vdj"
   ]
  },
  {
   "cell_type": "markdown",
   "metadata": {},
   "source": [
    "## Finding clones\n",
    "\n",
    "The following is *dandelion*'s implementation of a rather conventional method to define clones, `tl.find_clones`. \n",
    "\n",
    "Clone definition is based on the following criterias:\n",
    "\n",
    "    (1) Identical IGH V-J gene usage.\n",
    "\n",
    "    (2) Identical CDR3 junctional sequence length.\n",
    "\n",
    "    (3) CDR3 Junctional sequences attains a minimum of % sequence similarity, based on hamming distance. The similarity cut-off is tunable (default is 85%).\n",
    "\n",
    "    (4) Light chain usage. If cells within clones use different light chains, the clone will be splitted following the same conditions for heavy chains in (1-3) as above. \n",
    "\n",
    "The 'clone_id' name follows a `{A}_{B}_{C}_{D}` format and largely reflects the conditions above where:\n",
    "\n",
    "    {A} indicates if the contigs use the same IGH V/J genes.\n",
    "    \n",
    "    {B} indicates if IGH junctional sequences are equal in length.\n",
    "    \n",
    "    {C} indicates if clones are splitted based on junctional hamming distance threshold\n",
    "    \n",
    "    {D} indicates light chain pairing. \n",
    "\n",
    "The last position will not be annotated if there's only one group of light chains usage detected in the clone."
   ]
  },
  {
   "cell_type": "markdown",
   "metadata": {},
   "source": [
    "### Running `tl.find_clones`\n",
    "The function will take a file path, a pandas `DataFrame` (for example if you've used pandas to read in the filtered file already), or a `Dandelion` class object. The default mode for calculation of junctional hamming distance is to use the CDR3 junction amino acid sequences, specified via the `key` option (`None` defaults to `junction_aa`). You can switch it to using CDR3 junction nucleotide sequences (`key = 'junction'`, or even the full V(D)J amino acid sequence (`key = 'sequence_alignment_aa`), as long as the column name exists in the `.data` slot.\n",
    "\n",
    "If you want to use the alleles for defining V-J gene usuage, specify:\n",
    "```python\n",
    "by_alleles = True\n",
    "```"
   ]
  },
  {
   "cell_type": "code",
   "execution_count": 4,
   "metadata": {
    "scrolled": false
   },
   "outputs": [
    {
     "name": "stdout",
     "output_type": "stream",
     "text": [
      "Finding clonotypes\n"
     ]
    },
    {
     "name": "stderr",
     "output_type": "stream",
     "text": [
      "Finding clones based on heavy chains : 100%|██████████| 176/176 [00:00<00:00, 3440.98it/s]\n",
      "Refining clone assignment based on light chain pairing : 100%|██████████| 819/819 [00:00<00:00, 1396.62it/s]\n"
     ]
    },
    {
     "name": "stdout",
     "output_type": "stream",
     "text": [
      " finished: Updated Dandelion object: \n",
      "   'data', contig-indexed clone table\n",
      "   'metadata', cell-indexed clone table\n",
      " (0:00:01)\n"
     ]
    },
    {
     "data": {
      "text/plain": [
       "Dandelion class object with n_obs = 838 and n_contigs = 1700\n",
       "    data: 'sequence_id', 'sequence', 'rev_comp', 'productive', 'v_call', 'd_call', 'j_call', 'sequence_alignment', 'germline_alignment', 'junction', 'junction_aa', 'v_cigar', 'd_cigar', 'j_cigar', 'stop_codon', 'vj_in_frame', 'locus', 'junction_length', 'np1_length', 'np2_length', 'v_sequence_start', 'v_sequence_end', 'v_germline_start', 'v_germline_end', 'd_sequence_start', 'd_sequence_end', 'd_germline_start', 'd_germline_end', 'j_sequence_start', 'j_sequence_end', 'j_germline_start', 'j_germline_end', 'v_score', 'v_identity', 'v_support', 'd_score', 'd_identity', 'd_support', 'j_score', 'j_identity', 'j_support', 'fwr1', 'fwr2', 'fwr3', 'fwr4', 'cdr1', 'cdr2', 'cdr3', 'cell_id', 'c_call', 'consensus_count', 'umi_count', 'v_call_10x', 'd_call_10x', 'j_call_10x', 'junction_10x', 'junction_10x_aa', 'v_call_genotyped', 'germline_alignment_d_mask', 'sample_id', 'c_sequence_alignment', 'c_germline_alignment', 'c_sequence_start', 'c_sequence_end', 'c_score', 'c_identity', 'c_support', 'c_call_10x', 'junction_aa_length', 'fwr1_aa', 'fwr2_aa', 'fwr3_aa', 'fwr4_aa', 'cdr1_aa', 'cdr2_aa', 'cdr3_aa', 'sequence_alignment_aa', 'v_sequence_alignment_aa', 'd_sequence_alignment_aa', 'j_sequence_alignment_aa', 'mu_freq', 'duplicate_count', 'clone_id'\n",
       "    metadata: 'clone_id', 'clone_id_by_size', 'sample_id', 'locus_heavy', 'locus_light', 'productive_heavy', 'productive_light', 'v_call_genotyped_heavy', 'v_call_genotyped_light', 'j_call_heavy', 'j_call_light', 'c_call_heavy', 'c_call_light', 'umi_count_heavy_0', 'umi_count_light_0', 'umi_count_light_1', 'umi_count_light_2', 'junction_aa_heavy', 'junction_aa_light', 'status', 'productive', 'isotype', 'vdj_status_detail', 'vdj_status'\n",
       "    distance: None\n",
       "    edges: None\n",
       "    layout: None\n",
       "    graph: None"
      ]
     },
     "execution_count": 4,
     "metadata": {},
     "output_type": "execute_result"
    }
   ],
   "source": [
    "ddl.tl.find_clones(vdj)\n",
    "vdj"
   ]
  },
  {
   "cell_type": "markdown",
   "metadata": {},
   "source": [
    "This will return a new column with the column name `'clone_id'` as per convention. If a file path is provided as input, it will also save the file automatically into the base directory of the file name. Otherwise, a `Dandelion` object will be returned."
   ]
  },
  {
   "cell_type": "code",
   "execution_count": 5,
   "metadata": {},
   "outputs": [
    {
     "data": {
      "text/html": [
       "<div>\n",
       "<style scoped>\n",
       "    .dataframe tbody tr th:only-of-type {\n",
       "        vertical-align: middle;\n",
       "    }\n",
       "\n",
       "    .dataframe tbody tr th {\n",
       "        vertical-align: top;\n",
       "    }\n",
       "\n",
       "    .dataframe thead th {\n",
       "        text-align: right;\n",
       "    }\n",
       "</style>\n",
       "<table border=\"1\" class=\"dataframe\">\n",
       "  <thead>\n",
       "    <tr style=\"text-align: right;\">\n",
       "      <th></th>\n",
       "      <th>clone_id</th>\n",
       "      <th>clone_id_by_size</th>\n",
       "      <th>sample_id</th>\n",
       "      <th>locus_heavy</th>\n",
       "      <th>locus_light</th>\n",
       "      <th>productive_heavy</th>\n",
       "      <th>productive_light</th>\n",
       "      <th>v_call_genotyped_heavy</th>\n",
       "      <th>v_call_genotyped_light</th>\n",
       "      <th>j_call_heavy</th>\n",
       "      <th>...</th>\n",
       "      <th>umi_count_light_0</th>\n",
       "      <th>umi_count_light_1</th>\n",
       "      <th>umi_count_light_2</th>\n",
       "      <th>junction_aa_heavy</th>\n",
       "      <th>junction_aa_light</th>\n",
       "      <th>status</th>\n",
       "      <th>productive</th>\n",
       "      <th>isotype</th>\n",
       "      <th>vdj_status_detail</th>\n",
       "      <th>vdj_status</th>\n",
       "    </tr>\n",
       "  </thead>\n",
       "  <tbody>\n",
       "    <tr>\n",
       "      <th>sc5p_v2_hs_PBMC_10k_AAACCTGTCCGTTGTC</th>\n",
       "      <td>58_3_1</td>\n",
       "      <td>84</td>\n",
       "      <td>sc5p_v2_hs_PBMC_10k</td>\n",
       "      <td>IGH</td>\n",
       "      <td>IGK</td>\n",
       "      <td>T</td>\n",
       "      <td>T</td>\n",
       "      <td>IGHV1-69</td>\n",
       "      <td>IGKV1-8</td>\n",
       "      <td>IGHJ3</td>\n",
       "      <td>...</td>\n",
       "      <td>43.0</td>\n",
       "      <td>NaN</td>\n",
       "      <td>NaN</td>\n",
       "      <td>CATTYYYDSSGYYQNDAFDIW</td>\n",
       "      <td>CQQYYSYPRTF</td>\n",
       "      <td>IGH + IGK</td>\n",
       "      <td>T + T</td>\n",
       "      <td>IgM</td>\n",
       "      <td>Single + Single</td>\n",
       "      <td>Single</td>\n",
       "    </tr>\n",
       "    <tr>\n",
       "      <th>sc5p_v2_hs_PBMC_10k_AAACCTGTCGAGAACG</th>\n",
       "      <td>61_4_1</td>\n",
       "      <td>185</td>\n",
       "      <td>sc5p_v2_hs_PBMC_10k</td>\n",
       "      <td>IGH</td>\n",
       "      <td>IGL</td>\n",
       "      <td>T</td>\n",
       "      <td>T</td>\n",
       "      <td>IGHV1-2</td>\n",
       "      <td>IGLV5-45</td>\n",
       "      <td>IGHJ3</td>\n",
       "      <td>...</td>\n",
       "      <td>90.0</td>\n",
       "      <td>NaN</td>\n",
       "      <td>NaN</td>\n",
       "      <td>CAREIEGDGVFEIW</td>\n",
       "      <td>CMIWHSSAWVV</td>\n",
       "      <td>IGH + IGL</td>\n",
       "      <td>T + T</td>\n",
       "      <td>IgM</td>\n",
       "      <td>Single + Single</td>\n",
       "      <td>Single</td>\n",
       "    </tr>\n",
       "    <tr>\n",
       "      <th>sc5p_v2_hs_PBMC_10k_AAACCTGTCTTGAGAC</th>\n",
       "      <td>118_2_2</td>\n",
       "      <td>22</td>\n",
       "      <td>sc5p_v2_hs_PBMC_10k</td>\n",
       "      <td>IGH</td>\n",
       "      <td>IGK</td>\n",
       "      <td>T</td>\n",
       "      <td>T</td>\n",
       "      <td>IGHV5-51</td>\n",
       "      <td>IGKV1D-8</td>\n",
       "      <td>IGHJ3</td>\n",
       "      <td>...</td>\n",
       "      <td>22.0</td>\n",
       "      <td>NaN</td>\n",
       "      <td>NaN</td>\n",
       "      <td>CARHIRGNRFGNDAFDIW</td>\n",
       "      <td>CQQYYSFPYTF</td>\n",
       "      <td>IGH + IGK</td>\n",
       "      <td>T + T</td>\n",
       "      <td>IgM</td>\n",
       "      <td>Single + Single</td>\n",
       "      <td>Single</td>\n",
       "    </tr>\n",
       "    <tr>\n",
       "      <th>sc5p_v2_hs_PBMC_10k_AAAGATGGTCGAATCT</th>\n",
       "      <td>138_8_2</td>\n",
       "      <td>664</td>\n",
       "      <td>sc5p_v2_hs_PBMC_10k</td>\n",
       "      <td>IGH</td>\n",
       "      <td>IGL</td>\n",
       "      <td>T</td>\n",
       "      <td>T</td>\n",
       "      <td>IGHV3-15</td>\n",
       "      <td>IGLV6-57</td>\n",
       "      <td>IGHJ4</td>\n",
       "      <td>...</td>\n",
       "      <td>40.0</td>\n",
       "      <td>NaN</td>\n",
       "      <td>NaN</td>\n",
       "      <td>CTTDDEKRPYSGSYLPFDYW</td>\n",
       "      <td>CQSYDSSNVVF</td>\n",
       "      <td>IGH + IGL</td>\n",
       "      <td>T + T</td>\n",
       "      <td>IgM</td>\n",
       "      <td>Single + Multi_light_j</td>\n",
       "      <td>Single</td>\n",
       "    </tr>\n",
       "    <tr>\n",
       "      <th>sc5p_v2_hs_PBMC_10k_AACCATGCAAGCTGTT</th>\n",
       "      <td>2_4_1</td>\n",
       "      <td>788</td>\n",
       "      <td>sc5p_v2_hs_PBMC_10k</td>\n",
       "      <td>IGH</td>\n",
       "      <td>IGL</td>\n",
       "      <td>T</td>\n",
       "      <td>T</td>\n",
       "      <td>IGHV3-33</td>\n",
       "      <td>IGLV2-14</td>\n",
       "      <td>IGHJ6</td>\n",
       "      <td>...</td>\n",
       "      <td>36.0</td>\n",
       "      <td>NaN</td>\n",
       "      <td>NaN</td>\n",
       "      <td>CARDWVRGVNDMDVW</td>\n",
       "      <td>CSSYTSSSTRVF</td>\n",
       "      <td>IGH + IGL</td>\n",
       "      <td>T + T</td>\n",
       "      <td>IgM</td>\n",
       "      <td>Single + Single</td>\n",
       "      <td>Single</td>\n",
       "    </tr>\n",
       "    <tr>\n",
       "      <th>...</th>\n",
       "      <td>...</td>\n",
       "      <td>...</td>\n",
       "      <td>...</td>\n",
       "      <td>...</td>\n",
       "      <td>...</td>\n",
       "      <td>...</td>\n",
       "      <td>...</td>\n",
       "      <td>...</td>\n",
       "      <td>...</td>\n",
       "      <td>...</td>\n",
       "      <td>...</td>\n",
       "      <td>...</td>\n",
       "      <td>...</td>\n",
       "      <td>...</td>\n",
       "      <td>...</td>\n",
       "      <td>...</td>\n",
       "      <td>...</td>\n",
       "      <td>...</td>\n",
       "      <td>...</td>\n",
       "      <td>...</td>\n",
       "      <td>...</td>\n",
       "    </tr>\n",
       "    <tr>\n",
       "      <th>vdj_v1_hs_pbmc3_TCTTCGGTCCTAAGTG</th>\n",
       "      <td>135_8_2</td>\n",
       "      <td>181</td>\n",
       "      <td>vdj_v1_hs_pbmc3</td>\n",
       "      <td>IGH</td>\n",
       "      <td>IGK</td>\n",
       "      <td>T</td>\n",
       "      <td>T</td>\n",
       "      <td>IGHV4-59</td>\n",
       "      <td>IGKV1-12</td>\n",
       "      <td>IGHJ4</td>\n",
       "      <td>...</td>\n",
       "      <td>33.0</td>\n",
       "      <td>NaN</td>\n",
       "      <td>NaN</td>\n",
       "      <td>CARVNVGGIAVAGYFDYW</td>\n",
       "      <td>CQQANSFPLTF</td>\n",
       "      <td>IGH + IGK</td>\n",
       "      <td>T + T</td>\n",
       "      <td>IgM</td>\n",
       "      <td>Single + Single</td>\n",
       "      <td>Single</td>\n",
       "    </tr>\n",
       "    <tr>\n",
       "      <th>vdj_v1_hs_pbmc3_TGCACCTCAGACAAAT</th>\n",
       "      <td>172_8_1</td>\n",
       "      <td>465</td>\n",
       "      <td>vdj_v1_hs_pbmc3</td>\n",
       "      <td>IGH</td>\n",
       "      <td>IGK</td>\n",
       "      <td>T</td>\n",
       "      <td>T</td>\n",
       "      <td>IGHV3-21</td>\n",
       "      <td>IGKV3-20</td>\n",
       "      <td>IGHJ6</td>\n",
       "      <td>...</td>\n",
       "      <td>18.0</td>\n",
       "      <td>NaN</td>\n",
       "      <td>NaN</td>\n",
       "      <td>CARVRQEYYDFWSGYPAEVYYYMDVW</td>\n",
       "      <td>CQQYGSSPLFTF</td>\n",
       "      <td>IGH + IGK</td>\n",
       "      <td>T + T</td>\n",
       "      <td>IgM</td>\n",
       "      <td>Single + Single</td>\n",
       "      <td>Single</td>\n",
       "    </tr>\n",
       "    <tr>\n",
       "      <th>vdj_v1_hs_pbmc3_TGTATTCTCTGTTGAG</th>\n",
       "      <td>102_7_2</td>\n",
       "      <td>187</td>\n",
       "      <td>vdj_v1_hs_pbmc3</td>\n",
       "      <td>IGH</td>\n",
       "      <td>IGL</td>\n",
       "      <td>T</td>\n",
       "      <td>T</td>\n",
       "      <td>IGHV3-48</td>\n",
       "      <td>IGLV2-14</td>\n",
       "      <td>IGHJ4</td>\n",
       "      <td>...</td>\n",
       "      <td>80.0</td>\n",
       "      <td>NaN</td>\n",
       "      <td>NaN</td>\n",
       "      <td>CAREKYDFWSGDSYYFDYW</td>\n",
       "      <td>CSSYTSSSTRVF</td>\n",
       "      <td>IGH + IGL</td>\n",
       "      <td>T + T</td>\n",
       "      <td>IgM</td>\n",
       "      <td>Single + Single</td>\n",
       "      <td>Single</td>\n",
       "    </tr>\n",
       "    <tr>\n",
       "      <th>vdj_v1_hs_pbmc3_TTTATGCTCAGGATCT</th>\n",
       "      <td>90_4_1</td>\n",
       "      <td>619</td>\n",
       "      <td>vdj_v1_hs_pbmc3</td>\n",
       "      <td>IGH</td>\n",
       "      <td>IGK</td>\n",
       "      <td>T</td>\n",
       "      <td>T</td>\n",
       "      <td>IGHV4-34</td>\n",
       "      <td>IGKV1D-39|IGKV1-39</td>\n",
       "      <td>IGHJ3</td>\n",
       "      <td>...</td>\n",
       "      <td>5.0</td>\n",
       "      <td>NaN</td>\n",
       "      <td>NaN</td>\n",
       "      <td>CARRRLTYYYDSSGPLSAFDIW</td>\n",
       "      <td>CQQSYSTPRTF</td>\n",
       "      <td>IGH + IGK</td>\n",
       "      <td>T + T</td>\n",
       "      <td>IgM</td>\n",
       "      <td>Single + Multi_light_v</td>\n",
       "      <td>Single</td>\n",
       "    </tr>\n",
       "    <tr>\n",
       "      <th>vdj_v1_hs_pbmc3_TTTATGCTCCTAGAAC</th>\n",
       "      <td>107_4_1_1|107_4_1_2</td>\n",
       "      <td>526|608</td>\n",
       "      <td>vdj_v1_hs_pbmc3</td>\n",
       "      <td>IGH</td>\n",
       "      <td>IGL|IGL</td>\n",
       "      <td>T</td>\n",
       "      <td>T|F</td>\n",
       "      <td>IGHV4-4</td>\n",
       "      <td>IGLV1-40|IGLV1-51</td>\n",
       "      <td>IGHJ5</td>\n",
       "      <td>...</td>\n",
       "      <td>58.0</td>\n",
       "      <td>15.0</td>\n",
       "      <td>NaN</td>\n",
       "      <td>CARGGVSTAFWFDPW</td>\n",
       "      <td>CQSYDRSLGGHYVF|CGTWDSSLSAGCA</td>\n",
       "      <td>IGH + IGL|IGL</td>\n",
       "      <td>T + T|F</td>\n",
       "      <td>IgM</td>\n",
       "      <td>Single + Multi_light_v|Multi_light_j</td>\n",
       "      <td>Multi</td>\n",
       "    </tr>\n",
       "  </tbody>\n",
       "</table>\n",
       "<p>838 rows × 24 columns</p>\n",
       "</div>"
      ],
      "text/plain": [
       "                                                 clone_id clone_id_by_size  \\\n",
       "sc5p_v2_hs_PBMC_10k_AAACCTGTCCGTTGTC               58_3_1               84   \n",
       "sc5p_v2_hs_PBMC_10k_AAACCTGTCGAGAACG               61_4_1              185   \n",
       "sc5p_v2_hs_PBMC_10k_AAACCTGTCTTGAGAC              118_2_2               22   \n",
       "sc5p_v2_hs_PBMC_10k_AAAGATGGTCGAATCT              138_8_2              664   \n",
       "sc5p_v2_hs_PBMC_10k_AACCATGCAAGCTGTT                2_4_1              788   \n",
       "...                                                   ...              ...   \n",
       "vdj_v1_hs_pbmc3_TCTTCGGTCCTAAGTG                  135_8_2              181   \n",
       "vdj_v1_hs_pbmc3_TGCACCTCAGACAAAT                  172_8_1              465   \n",
       "vdj_v1_hs_pbmc3_TGTATTCTCTGTTGAG                  102_7_2              187   \n",
       "vdj_v1_hs_pbmc3_TTTATGCTCAGGATCT                   90_4_1              619   \n",
       "vdj_v1_hs_pbmc3_TTTATGCTCCTAGAAC      107_4_1_1|107_4_1_2          526|608   \n",
       "\n",
       "                                                sample_id locus_heavy  \\\n",
       "sc5p_v2_hs_PBMC_10k_AAACCTGTCCGTTGTC  sc5p_v2_hs_PBMC_10k         IGH   \n",
       "sc5p_v2_hs_PBMC_10k_AAACCTGTCGAGAACG  sc5p_v2_hs_PBMC_10k         IGH   \n",
       "sc5p_v2_hs_PBMC_10k_AAACCTGTCTTGAGAC  sc5p_v2_hs_PBMC_10k         IGH   \n",
       "sc5p_v2_hs_PBMC_10k_AAAGATGGTCGAATCT  sc5p_v2_hs_PBMC_10k         IGH   \n",
       "sc5p_v2_hs_PBMC_10k_AACCATGCAAGCTGTT  sc5p_v2_hs_PBMC_10k         IGH   \n",
       "...                                                   ...         ...   \n",
       "vdj_v1_hs_pbmc3_TCTTCGGTCCTAAGTG          vdj_v1_hs_pbmc3         IGH   \n",
       "vdj_v1_hs_pbmc3_TGCACCTCAGACAAAT          vdj_v1_hs_pbmc3         IGH   \n",
       "vdj_v1_hs_pbmc3_TGTATTCTCTGTTGAG          vdj_v1_hs_pbmc3         IGH   \n",
       "vdj_v1_hs_pbmc3_TTTATGCTCAGGATCT          vdj_v1_hs_pbmc3         IGH   \n",
       "vdj_v1_hs_pbmc3_TTTATGCTCCTAGAAC          vdj_v1_hs_pbmc3         IGH   \n",
       "\n",
       "                                     locus_light productive_heavy  \\\n",
       "sc5p_v2_hs_PBMC_10k_AAACCTGTCCGTTGTC         IGK                T   \n",
       "sc5p_v2_hs_PBMC_10k_AAACCTGTCGAGAACG         IGL                T   \n",
       "sc5p_v2_hs_PBMC_10k_AAACCTGTCTTGAGAC         IGK                T   \n",
       "sc5p_v2_hs_PBMC_10k_AAAGATGGTCGAATCT         IGL                T   \n",
       "sc5p_v2_hs_PBMC_10k_AACCATGCAAGCTGTT         IGL                T   \n",
       "...                                          ...              ...   \n",
       "vdj_v1_hs_pbmc3_TCTTCGGTCCTAAGTG             IGK                T   \n",
       "vdj_v1_hs_pbmc3_TGCACCTCAGACAAAT             IGK                T   \n",
       "vdj_v1_hs_pbmc3_TGTATTCTCTGTTGAG             IGL                T   \n",
       "vdj_v1_hs_pbmc3_TTTATGCTCAGGATCT             IGK                T   \n",
       "vdj_v1_hs_pbmc3_TTTATGCTCCTAGAAC         IGL|IGL                T   \n",
       "\n",
       "                                     productive_light v_call_genotyped_heavy  \\\n",
       "sc5p_v2_hs_PBMC_10k_AAACCTGTCCGTTGTC                T               IGHV1-69   \n",
       "sc5p_v2_hs_PBMC_10k_AAACCTGTCGAGAACG                T                IGHV1-2   \n",
       "sc5p_v2_hs_PBMC_10k_AAACCTGTCTTGAGAC                T               IGHV5-51   \n",
       "sc5p_v2_hs_PBMC_10k_AAAGATGGTCGAATCT                T               IGHV3-15   \n",
       "sc5p_v2_hs_PBMC_10k_AACCATGCAAGCTGTT                T               IGHV3-33   \n",
       "...                                               ...                    ...   \n",
       "vdj_v1_hs_pbmc3_TCTTCGGTCCTAAGTG                    T               IGHV4-59   \n",
       "vdj_v1_hs_pbmc3_TGCACCTCAGACAAAT                    T               IGHV3-21   \n",
       "vdj_v1_hs_pbmc3_TGTATTCTCTGTTGAG                    T               IGHV3-48   \n",
       "vdj_v1_hs_pbmc3_TTTATGCTCAGGATCT                    T               IGHV4-34   \n",
       "vdj_v1_hs_pbmc3_TTTATGCTCCTAGAAC                  T|F                IGHV4-4   \n",
       "\n",
       "                                     v_call_genotyped_light j_call_heavy  ...  \\\n",
       "sc5p_v2_hs_PBMC_10k_AAACCTGTCCGTTGTC                IGKV1-8        IGHJ3  ...   \n",
       "sc5p_v2_hs_PBMC_10k_AAACCTGTCGAGAACG               IGLV5-45        IGHJ3  ...   \n",
       "sc5p_v2_hs_PBMC_10k_AAACCTGTCTTGAGAC               IGKV1D-8        IGHJ3  ...   \n",
       "sc5p_v2_hs_PBMC_10k_AAAGATGGTCGAATCT               IGLV6-57        IGHJ4  ...   \n",
       "sc5p_v2_hs_PBMC_10k_AACCATGCAAGCTGTT               IGLV2-14        IGHJ6  ...   \n",
       "...                                                     ...          ...  ...   \n",
       "vdj_v1_hs_pbmc3_TCTTCGGTCCTAAGTG                   IGKV1-12        IGHJ4  ...   \n",
       "vdj_v1_hs_pbmc3_TGCACCTCAGACAAAT                   IGKV3-20        IGHJ6  ...   \n",
       "vdj_v1_hs_pbmc3_TGTATTCTCTGTTGAG                   IGLV2-14        IGHJ4  ...   \n",
       "vdj_v1_hs_pbmc3_TTTATGCTCAGGATCT         IGKV1D-39|IGKV1-39        IGHJ3  ...   \n",
       "vdj_v1_hs_pbmc3_TTTATGCTCCTAGAAC          IGLV1-40|IGLV1-51        IGHJ5  ...   \n",
       "\n",
       "                                     umi_count_light_0 umi_count_light_1  \\\n",
       "sc5p_v2_hs_PBMC_10k_AAACCTGTCCGTTGTC              43.0               NaN   \n",
       "sc5p_v2_hs_PBMC_10k_AAACCTGTCGAGAACG              90.0               NaN   \n",
       "sc5p_v2_hs_PBMC_10k_AAACCTGTCTTGAGAC              22.0               NaN   \n",
       "sc5p_v2_hs_PBMC_10k_AAAGATGGTCGAATCT              40.0               NaN   \n",
       "sc5p_v2_hs_PBMC_10k_AACCATGCAAGCTGTT              36.0               NaN   \n",
       "...                                                ...               ...   \n",
       "vdj_v1_hs_pbmc3_TCTTCGGTCCTAAGTG                  33.0               NaN   \n",
       "vdj_v1_hs_pbmc3_TGCACCTCAGACAAAT                  18.0               NaN   \n",
       "vdj_v1_hs_pbmc3_TGTATTCTCTGTTGAG                  80.0               NaN   \n",
       "vdj_v1_hs_pbmc3_TTTATGCTCAGGATCT                   5.0               NaN   \n",
       "vdj_v1_hs_pbmc3_TTTATGCTCCTAGAAC                  58.0              15.0   \n",
       "\n",
       "                                     umi_count_light_2  \\\n",
       "sc5p_v2_hs_PBMC_10k_AAACCTGTCCGTTGTC               NaN   \n",
       "sc5p_v2_hs_PBMC_10k_AAACCTGTCGAGAACG               NaN   \n",
       "sc5p_v2_hs_PBMC_10k_AAACCTGTCTTGAGAC               NaN   \n",
       "sc5p_v2_hs_PBMC_10k_AAAGATGGTCGAATCT               NaN   \n",
       "sc5p_v2_hs_PBMC_10k_AACCATGCAAGCTGTT               NaN   \n",
       "...                                                ...   \n",
       "vdj_v1_hs_pbmc3_TCTTCGGTCCTAAGTG                   NaN   \n",
       "vdj_v1_hs_pbmc3_TGCACCTCAGACAAAT                   NaN   \n",
       "vdj_v1_hs_pbmc3_TGTATTCTCTGTTGAG                   NaN   \n",
       "vdj_v1_hs_pbmc3_TTTATGCTCAGGATCT                   NaN   \n",
       "vdj_v1_hs_pbmc3_TTTATGCTCCTAGAAC                   NaN   \n",
       "\n",
       "                                               junction_aa_heavy  \\\n",
       "sc5p_v2_hs_PBMC_10k_AAACCTGTCCGTTGTC       CATTYYYDSSGYYQNDAFDIW   \n",
       "sc5p_v2_hs_PBMC_10k_AAACCTGTCGAGAACG              CAREIEGDGVFEIW   \n",
       "sc5p_v2_hs_PBMC_10k_AAACCTGTCTTGAGAC          CARHIRGNRFGNDAFDIW   \n",
       "sc5p_v2_hs_PBMC_10k_AAAGATGGTCGAATCT        CTTDDEKRPYSGSYLPFDYW   \n",
       "sc5p_v2_hs_PBMC_10k_AACCATGCAAGCTGTT             CARDWVRGVNDMDVW   \n",
       "...                                                          ...   \n",
       "vdj_v1_hs_pbmc3_TCTTCGGTCCTAAGTG              CARVNVGGIAVAGYFDYW   \n",
       "vdj_v1_hs_pbmc3_TGCACCTCAGACAAAT      CARVRQEYYDFWSGYPAEVYYYMDVW   \n",
       "vdj_v1_hs_pbmc3_TGTATTCTCTGTTGAG             CAREKYDFWSGDSYYFDYW   \n",
       "vdj_v1_hs_pbmc3_TTTATGCTCAGGATCT          CARRRLTYYYDSSGPLSAFDIW   \n",
       "vdj_v1_hs_pbmc3_TTTATGCTCCTAGAAC                 CARGGVSTAFWFDPW   \n",
       "\n",
       "                                                 junction_aa_light  \\\n",
       "sc5p_v2_hs_PBMC_10k_AAACCTGTCCGTTGTC                   CQQYYSYPRTF   \n",
       "sc5p_v2_hs_PBMC_10k_AAACCTGTCGAGAACG                   CMIWHSSAWVV   \n",
       "sc5p_v2_hs_PBMC_10k_AAACCTGTCTTGAGAC                   CQQYYSFPYTF   \n",
       "sc5p_v2_hs_PBMC_10k_AAAGATGGTCGAATCT                   CQSYDSSNVVF   \n",
       "sc5p_v2_hs_PBMC_10k_AACCATGCAAGCTGTT                  CSSYTSSSTRVF   \n",
       "...                                                            ...   \n",
       "vdj_v1_hs_pbmc3_TCTTCGGTCCTAAGTG                       CQQANSFPLTF   \n",
       "vdj_v1_hs_pbmc3_TGCACCTCAGACAAAT                      CQQYGSSPLFTF   \n",
       "vdj_v1_hs_pbmc3_TGTATTCTCTGTTGAG                      CSSYTSSSTRVF   \n",
       "vdj_v1_hs_pbmc3_TTTATGCTCAGGATCT                       CQQSYSTPRTF   \n",
       "vdj_v1_hs_pbmc3_TTTATGCTCCTAGAAC      CQSYDRSLGGHYVF|CGTWDSSLSAGCA   \n",
       "\n",
       "                                             status  productive isotype  \\\n",
       "sc5p_v2_hs_PBMC_10k_AAACCTGTCCGTTGTC      IGH + IGK       T + T     IgM   \n",
       "sc5p_v2_hs_PBMC_10k_AAACCTGTCGAGAACG      IGH + IGL       T + T     IgM   \n",
       "sc5p_v2_hs_PBMC_10k_AAACCTGTCTTGAGAC      IGH + IGK       T + T     IgM   \n",
       "sc5p_v2_hs_PBMC_10k_AAAGATGGTCGAATCT      IGH + IGL       T + T     IgM   \n",
       "sc5p_v2_hs_PBMC_10k_AACCATGCAAGCTGTT      IGH + IGL       T + T     IgM   \n",
       "...                                             ...         ...     ...   \n",
       "vdj_v1_hs_pbmc3_TCTTCGGTCCTAAGTG          IGH + IGK       T + T     IgM   \n",
       "vdj_v1_hs_pbmc3_TGCACCTCAGACAAAT          IGH + IGK       T + T     IgM   \n",
       "vdj_v1_hs_pbmc3_TGTATTCTCTGTTGAG          IGH + IGL       T + T     IgM   \n",
       "vdj_v1_hs_pbmc3_TTTATGCTCAGGATCT          IGH + IGK       T + T     IgM   \n",
       "vdj_v1_hs_pbmc3_TTTATGCTCCTAGAAC      IGH + IGL|IGL     T + T|F     IgM   \n",
       "\n",
       "                                                         vdj_status_detail  \\\n",
       "sc5p_v2_hs_PBMC_10k_AAACCTGTCCGTTGTC                       Single + Single   \n",
       "sc5p_v2_hs_PBMC_10k_AAACCTGTCGAGAACG                       Single + Single   \n",
       "sc5p_v2_hs_PBMC_10k_AAACCTGTCTTGAGAC                       Single + Single   \n",
       "sc5p_v2_hs_PBMC_10k_AAAGATGGTCGAATCT                Single + Multi_light_j   \n",
       "sc5p_v2_hs_PBMC_10k_AACCATGCAAGCTGTT                       Single + Single   \n",
       "...                                                                    ...   \n",
       "vdj_v1_hs_pbmc3_TCTTCGGTCCTAAGTG                           Single + Single   \n",
       "vdj_v1_hs_pbmc3_TGCACCTCAGACAAAT                           Single + Single   \n",
       "vdj_v1_hs_pbmc3_TGTATTCTCTGTTGAG                           Single + Single   \n",
       "vdj_v1_hs_pbmc3_TTTATGCTCAGGATCT                    Single + Multi_light_v   \n",
       "vdj_v1_hs_pbmc3_TTTATGCTCCTAGAAC      Single + Multi_light_v|Multi_light_j   \n",
       "\n",
       "                                     vdj_status  \n",
       "sc5p_v2_hs_PBMC_10k_AAACCTGTCCGTTGTC     Single  \n",
       "sc5p_v2_hs_PBMC_10k_AAACCTGTCGAGAACG     Single  \n",
       "sc5p_v2_hs_PBMC_10k_AAACCTGTCTTGAGAC     Single  \n",
       "sc5p_v2_hs_PBMC_10k_AAAGATGGTCGAATCT     Single  \n",
       "sc5p_v2_hs_PBMC_10k_AACCATGCAAGCTGTT     Single  \n",
       "...                                         ...  \n",
       "vdj_v1_hs_pbmc3_TCTTCGGTCCTAAGTG         Single  \n",
       "vdj_v1_hs_pbmc3_TGCACCTCAGACAAAT         Single  \n",
       "vdj_v1_hs_pbmc3_TGTATTCTCTGTTGAG         Single  \n",
       "vdj_v1_hs_pbmc3_TTTATGCTCAGGATCT         Single  \n",
       "vdj_v1_hs_pbmc3_TTTATGCTCCTAGAAC          Multi  \n",
       "\n",
       "[838 rows x 24 columns]"
      ]
     },
     "execution_count": 5,
     "metadata": {},
     "output_type": "execute_result"
    }
   ],
   "source": [
    "vdj.metadata"
   ]
  },
  {
   "cell_type": "markdown",
   "metadata": {},
   "source": [
    "### Alternative : Running `tl.define_clones`"
   ]
  },
  {
   "cell_type": "markdown",
   "metadata": {},
   "source": [
    "Alternatively, a wrapper to call *changeo's* `DefineClones.py` is also included. To run it, you need to choose the distance threshold for clonal assignment. To facilitate this, the function `pp.calculate_threshold` will run [shazam's distToNearest](https://shazam.readthedocs.io/en/stable/topics/distToNearest/) function and return a plot showing the length normalized hamming distance distribution and automated threshold value. \n",
    "\n",
    "Again, `pp.calculate_threshold` will take a file path, pandas `DataFrame` or `Dandelion` object as input. If a dandelion object is provided, the threshold value will be inserted into the `.threshold` slot. For more fine control, please use the `DefineClones.py` function [directly](https://immcantation.readthedocs.io/en/stable/tutorials/10x_tutorial.html).\n"
   ]
  },
  {
   "cell_type": "code",
   "execution_count": 6,
   "metadata": {
    "scrolled": true
   },
   "outputs": [
    {
     "name": "stdout",
     "output_type": "stream",
     "text": [
      "Calculating threshold\n",
      "      Threshold method 'density' did not return with any values. Switching to method = 'gmm'.\n"
     ]
    },
    {
     "data": {
      "image/png": "[encoded data removed]",
      "text/plain": [
       "<Figure size 450x250 with 4 Axes>"
      ]
     },
     "metadata": {},
     "output_type": "display_data"
    },
    {
     "name": "stdout",
     "output_type": "stream",
     "text": [
      "<ggplot: (349427561)>\n",
      " finished: Updated Dandelion object: \n",
      "   'threshold', threshold value for tuning clonal assignment\n",
      " (0:00:42)\n"
     ]
    }
   ],
   "source": [
    "ddl.pp.calculate_threshold(vdj)"
   ]
  },
  {
   "cell_type": "code",
   "execution_count": 7,
   "metadata": {},
   "outputs": [
    {
     "data": {
      "text/plain": [
       "0.2352983274316839"
      ]
     },
     "execution_count": 7,
     "metadata": {},
     "output_type": "execute_result"
    }
   ],
   "source": [
    "# see the actual value in .threshold slot\n",
    "vdj.threshold"
   ]
  },
  {
   "cell_type": "markdown",
   "metadata": {},
   "source": [
    "You can also manually select a value as the threshold if you wish."
   ]
  },
  {
   "cell_type": "code",
   "execution_count": 8,
   "metadata": {},
   "outputs": [
    {
     "name": "stdout",
     "output_type": "stream",
     "text": [
      "Calculating threshold\n",
      "      Threshold method 'density' did not return with any values. Switching to method = 'gmm'.\n"
     ]
    },
    {
     "data": {
      "image/png": "[encoded data removed]",
      "text/plain": [
       "<Figure size 450x250 with 4 Axes>"
      ]
     },
     "metadata": {},
     "output_type": "display_data"
    },
    {
     "name": "stdout",
     "output_type": "stream",
     "text": [
      "<ggplot: (358552633)>\n",
      " finished: Updated Dandelion object: \n",
      "   'threshold', threshold value for tuning clonal assignment\n",
      " (0:00:47)\n"
     ]
    }
   ],
   "source": [
    "ddl.pp.calculate_threshold(vdj, manual_threshold = 0.1)"
   ]
  },
  {
   "cell_type": "code",
   "execution_count": 9,
   "metadata": {},
   "outputs": [
    {
     "data": {
      "text/plain": [
       "0.1"
      ]
     },
     "execution_count": 9,
     "metadata": {},
     "output_type": "execute_result"
    }
   ],
   "source": [
    "# see the updated .threshold slot\n",
    "vdj.threshold"
   ]
  },
  {
   "cell_type": "markdown",
   "metadata": {},
   "source": [
    "\n",
    "We can run `tl.define_clones` to call *changeo's* `DefineClones.py`; see [here](https://changeo.readthedocs.io/en/stable/methods/clustering.html) for more info. Note, if a `pandas.DataFrame` or file path is provided as the input, the value in dist option (corresponds to threshold value) needs to be manually supplied. If a `Dandelion` object is provided, it will automatically retrieve it from the threshold slot. "
   ]
  },
  {
   "cell_type": "code",
   "execution_count": 10,
   "metadata": {},
   "outputs": [
    {
     "name": "stdout",
     "output_type": "stream",
     "text": [
      "Finding clones\n",
      " finished: Updated Dandelion object: \n",
      "   'data', contig-indexed clone table\n",
      "   'metadata', cell-indexed clone table\n",
      " (0:00:10)\n"
     ]
    },
    {
     "data": {
      "text/plain": [
       "Dandelion class object with n_obs = 838 and n_contigs = 1700\n",
       "    data: 'sequence_id', 'sequence', 'rev_comp', 'productive', 'v_call', 'd_call', 'j_call', 'sequence_alignment', 'germline_alignment', 'junction', 'junction_aa', 'v_cigar', 'd_cigar', 'j_cigar', 'stop_codon', 'vj_in_frame', 'locus', 'junction_length', 'np1_length', 'np2_length', 'v_sequence_start', 'v_sequence_end', 'v_germline_start', 'v_germline_end', 'd_sequence_start', 'd_sequence_end', 'd_germline_start', 'd_germline_end', 'j_sequence_start', 'j_sequence_end', 'j_germline_start', 'j_germline_end', 'v_score', 'v_identity', 'v_support', 'd_score', 'd_identity', 'd_support', 'j_score', 'j_identity', 'j_support', 'fwr1', 'fwr2', 'fwr3', 'fwr4', 'cdr1', 'cdr2', 'cdr3', 'cell_id', 'c_call', 'consensus_count', 'umi_count', 'v_call_10x', 'd_call_10x', 'j_call_10x', 'junction_10x', 'junction_10x_aa', 'v_call_genotyped', 'germline_alignment_d_mask', 'sample_id', 'c_sequence_alignment', 'c_germline_alignment', 'c_sequence_start', 'c_sequence_end', 'c_score', 'c_identity', 'c_support', 'c_call_10x', 'junction_aa_length', 'fwr1_aa', 'fwr2_aa', 'fwr3_aa', 'fwr4_aa', 'cdr1_aa', 'cdr2_aa', 'cdr3_aa', 'sequence_alignment_aa', 'v_sequence_alignment_aa', 'd_sequence_alignment_aa', 'j_sequence_alignment_aa', 'mu_freq', 'duplicate_count', 'clone_id', 'changeo_clone_id'\n",
       "    metadata: 'clone_id', 'clone_id_by_size', 'sample_id', 'locus_heavy', 'locus_light', 'productive_heavy', 'productive_light', 'v_call_genotyped_heavy', 'v_call_genotyped_light', 'j_call_heavy', 'j_call_light', 'c_call_heavy', 'c_call_light', 'umi_count_heavy_0', 'umi_count_light_0', 'umi_count_light_1', 'umi_count_light_2', 'junction_aa_heavy', 'junction_aa_light', 'status', 'productive', 'isotype', 'vdj_status_detail', 'vdj_status', 'changeo_clone_id'\n",
       "    distance: None\n",
       "    edges: None\n",
       "    layout: None\n",
       "    graph: None"
      ]
     },
     "execution_count": 10,
     "metadata": {},
     "output_type": "execute_result"
    }
   ],
   "source": [
    "ddl.tl.define_clones(vdj, key_added = 'changeo_clone_id')\n",
    "vdj"
   ]
  },
  {
   "cell_type": "markdown",
   "metadata": {},
   "source": [
    "Note that I specified the option `key_added` and this adds the output from `tl.define_clones` into a separate column. If left as default (`None`), it will write into `clone_id` column. The same option can be specified in `tl.find_clones` earlier."
   ]
  },
  {
   "cell_type": "markdown",
   "metadata": {},
   "source": [
    "## Generation of BCR network\n",
    "*dandelion* generates a network to facilitate visualisation of results. This uses the full V(D)J contig sequences instead of just the junctional sequences to chart a tree-like network for each clone. The actual visualization will be achieved through `scanpy` later.\n",
    "\n",
    "**tl.generate_network**\n",
    "\n",
    "First we need to generate the network. `tl.generate_network` will take a V(D)J table that has clones defined, specifically under the `'clone_id'` column. The default mode is to use amino acid sequences for constructing Levenshtein distance matrices, but can be toggled using the `key` option.\n",
    "\n",
    "If you have a pre-processed table parsed from immcantation's [method](https://changeo.readthedocs.io/en/stable/examples/10x.html), or any other method as long as it's in a *AIRR* format, the table can be used as well.\n",
    "\n",
    "You can specify the `clone_key` option for generating the network for the clone id definition of choice as long as it exists as a column in the `.data` slot."
   ]
  },
  {
   "cell_type": "code",
   "execution_count": 11,
   "metadata": {},
   "outputs": [
    {
     "name": "stdout",
     "output_type": "stream",
     "text": [
      "Generating network\n"
     ]
    },
    {
     "name": "stderr",
     "output_type": "stream",
     "text": [
      "Calculating distances... : 100%|██████████| 4/4 [00:04<00:00,  1.12s/it]\n",
      "Generating edge list : 100%|██████████| 7/7 [00:00<00:00, 600.45it/s]\n",
      "Linking edges : 100%|██████████| 821/821 [00:00<00:00, 5021.68it/s]\n"
     ]
    },
    {
     "name": "stdout",
     "output_type": "stream",
     "text": [
      "generating network layout\n",
      " finished: Updated Dandelion object: \n",
      "   'data', contig-indexed clone table\n",
      "   'metadata', cell-indexed clone table\n",
      "   'distance', heavy and light chain distance matrices\n",
      "   'edges', network edges\n",
      "   'layout', network layout\n",
      "   'graph', network (0:00:10)\n"
     ]
    }
   ],
   "source": [
    "ddl.tl.generate_network(vdj)"
   ]
  },
  {
   "cell_type": "markdown",
   "metadata": {},
   "source": [
    "This step works reasonably fast here but will take quite a while when a lot of contigs are provided.\n",
    "\n",
    "You can also downsample the number of cells. This will return a new object as a downsampled copy of the original with it's own distance matrix."
   ]
  },
  {
   "cell_type": "code",
   "execution_count": 12,
   "metadata": {},
   "outputs": [
    {
     "name": "stdout",
     "output_type": "stream",
     "text": [
      "Generating network\n",
      "Downsampling to 500 cells.\n"
     ]
    },
    {
     "name": "stderr",
     "output_type": "stream",
     "text": [
      "Calculating distances... : 100%|██████████| 4/4 [00:01<00:00,  2.57it/s]\n",
      "Generating edge list : 100%|██████████| 3/3 [00:00<00:00, 506.33it/s]\n",
      "Linking edges : 100%|██████████| 491/491 [00:00<00:00, 6451.52it/s]\n"
     ]
    },
    {
     "name": "stdout",
     "output_type": "stream",
     "text": [
      "generating network layout\n",
      " finished: Updated Dandelion object: \n",
      "   'data', contig-indexed clone table\n",
      "   'metadata', cell-indexed clone table\n",
      "   'distance', heavy and light chain distance matrices\n",
      "   'edges', network edges\n",
      "   'layout', network layout\n",
      "   'graph', network (0:00:04)\n"
     ]
    },
    {
     "data": {
      "text/plain": [
       "Dandelion class object with n_obs = 500 and n_contigs = 1016\n",
       "    data: 'sequence_id', 'sequence', 'rev_comp', 'productive', 'v_call', 'd_call', 'j_call', 'sequence_alignment', 'germline_alignment', 'junction', 'junction_aa', 'v_cigar', 'd_cigar', 'j_cigar', 'stop_codon', 'vj_in_frame', 'locus', 'junction_length', 'np1_length', 'np2_length', 'v_sequence_start', 'v_sequence_end', 'v_germline_start', 'v_germline_end', 'd_sequence_start', 'd_sequence_end', 'd_germline_start', 'd_germline_end', 'j_sequence_start', 'j_sequence_end', 'j_germline_start', 'j_germline_end', 'v_score', 'v_identity', 'v_support', 'd_score', 'd_identity', 'd_support', 'j_score', 'j_identity', 'j_support', 'fwr1', 'fwr2', 'fwr3', 'fwr4', 'cdr1', 'cdr2', 'cdr3', 'cell_id', 'c_call', 'consensus_count', 'umi_count', 'v_call_10x', 'd_call_10x', 'j_call_10x', 'junction_10x', 'junction_10x_aa', 'v_call_genotyped', 'germline_alignment_d_mask', 'sample_id', 'c_sequence_alignment', 'c_germline_alignment', 'c_sequence_start', 'c_sequence_end', 'c_score', 'c_identity', 'c_support', 'c_call_10x', 'junction_aa_length', 'fwr1_aa', 'fwr2_aa', 'fwr3_aa', 'fwr4_aa', 'cdr1_aa', 'cdr2_aa', 'cdr3_aa', 'sequence_alignment_aa', 'v_sequence_alignment_aa', 'd_sequence_alignment_aa', 'j_sequence_alignment_aa', 'mu_freq', 'duplicate_count', 'clone_id', 'changeo_clone_id'\n",
       "    metadata: 'clone_id', 'clone_id_by_size', 'sample_id', 'locus_heavy', 'locus_light', 'productive_heavy', 'productive_light', 'v_call_genotyped_heavy', 'v_call_genotyped_light', 'j_call_heavy', 'j_call_light', 'c_call_heavy', 'c_call_light', 'umi_count_heavy_0', 'umi_count_light_0', 'umi_count_light_1', 'umi_count_light_2', 'junction_aa_heavy', 'junction_aa_light', 'status', 'productive', 'isotype', 'vdj_status_detail', 'vdj_status', 'changeo_clone_id'\n",
       "    distance: 'heavy', 'light_0', 'light_1', 'light_2'\n",
       "    edges: 'source', 'target', 'weight'\n",
       "    layout: layout for 500 vertices, layout for 12 vertices\n",
       "    graph: networkx graph of 500 vertices, networkx graph of 12 vertices "
      ]
     },
     "execution_count": 12,
     "metadata": {},
     "output_type": "execute_result"
    }
   ],
   "source": [
    "vdj_downsample = ddl.tl.generate_network(vdj, downsample = 500)\n",
    "vdj_downsample"
   ]
  },
  {
   "cell_type": "markdown",
   "metadata": {},
   "source": [
    "**check the newly re-initialized Dandelion object**"
   ]
  },
  {
   "cell_type": "code",
   "execution_count": 13,
   "metadata": {},
   "outputs": [
    {
     "data": {
      "text/plain": [
       "Dandelion class object with n_obs = 838 and n_contigs = 1700\n",
       "    data: 'sequence_id', 'sequence', 'rev_comp', 'productive', 'v_call', 'd_call', 'j_call', 'sequence_alignment', 'germline_alignment', 'junction', 'junction_aa', 'v_cigar', 'd_cigar', 'j_cigar', 'stop_codon', 'vj_in_frame', 'locus', 'junction_length', 'np1_length', 'np2_length', 'v_sequence_start', 'v_sequence_end', 'v_germline_start', 'v_germline_end', 'd_sequence_start', 'd_sequence_end', 'd_germline_start', 'd_germline_end', 'j_sequence_start', 'j_sequence_end', 'j_germline_start', 'j_germline_end', 'v_score', 'v_identity', 'v_support', 'd_score', 'd_identity', 'd_support', 'j_score', 'j_identity', 'j_support', 'fwr1', 'fwr2', 'fwr3', 'fwr4', 'cdr1', 'cdr2', 'cdr3', 'cell_id', 'c_call', 'consensus_count', 'umi_count', 'v_call_10x', 'd_call_10x', 'j_call_10x', 'junction_10x', 'junction_10x_aa', 'v_call_genotyped', 'germline_alignment_d_mask', 'sample_id', 'c_sequence_alignment', 'c_germline_alignment', 'c_sequence_start', 'c_sequence_end', 'c_score', 'c_identity', 'c_support', 'c_call_10x', 'junction_aa_length', 'fwr1_aa', 'fwr2_aa', 'fwr3_aa', 'fwr4_aa', 'cdr1_aa', 'cdr2_aa', 'cdr3_aa', 'sequence_alignment_aa', 'v_sequence_alignment_aa', 'd_sequence_alignment_aa', 'j_sequence_alignment_aa', 'mu_freq', 'duplicate_count', 'clone_id', 'changeo_clone_id'\n",
       "    metadata: 'clone_id', 'clone_id_by_size', 'sample_id', 'locus_heavy', 'locus_light', 'productive_heavy', 'productive_light', 'v_call_genotyped_heavy', 'v_call_genotyped_light', 'j_call_heavy', 'j_call_light', 'c_call_heavy', 'c_call_light', 'umi_count_heavy_0', 'umi_count_light_0', 'umi_count_light_1', 'umi_count_light_2', 'junction_aa_heavy', 'junction_aa_light', 'status', 'productive', 'isotype', 'vdj_status_detail', 'vdj_status', 'changeo_clone_id'\n",
       "    distance: 'heavy', 'light_0', 'light_1', 'light_2'\n",
       "    edges: 'source', 'target', 'weight'\n",
       "    layout: layout for 838 vertices, layout for 24 vertices\n",
       "    graph: networkx graph of 838 vertices, networkx graph of 24 vertices "
      ]
     },
     "execution_count": 13,
     "metadata": {},
     "output_type": "execute_result"
    }
   ],
   "source": [
    "vdj"
   ]
  },
  {
   "cell_type": "markdown",
   "metadata": {},
   "source": [
    "The graph/networks can be accessed through the `.graph` slot as an `networkx` graph object if you want to extract the data for network statistics or make any changes to the network."
   ]
  },
  {
   "cell_type": "markdown",
   "metadata": {},
   "source": [
    "At this point, we can save the dandelion object; the file can be quite big because the distance matrix is not sparse. I reccomend some form of compression (I use `bzip2` below but that can impact on read/write times significantly). See [here](https://pandas.pydata.org/pandas-docs/stable/reference/api/pandas.DataFrame.to_hdf.html) for options compression options."
   ]
  },
  {
   "cell_type": "code",
   "execution_count": 14,
   "metadata": {},
   "outputs": [],
   "source": [
    "vdj.write_h5('dandelion_results.h5', complib = 'bzip2')"
   ]
  },
  {
   "cell_type": "code",
   "execution_count": null,
   "metadata": {},
   "outputs": [],
   "source": []
  }
 ],
 "metadata": {
  "kernelspec": {
   "display_name": "Python (dandelion)",
   "language": "python",
   "name": "dandelion"
  },
  "language_info": {
   "codemirror_mode": {
    "name": "ipython",
    "version": 3
   },
   "file_extension": ".py",
   "mimetype": "text/x-python",
   "name": "python",
   "nbconvert_exporter": "python",
   "pygments_lexer": "ipython3",
   "version": "3.7.8"
  }
 },
 "nbformat": 4,
 "nbformat_minor": 2
}
