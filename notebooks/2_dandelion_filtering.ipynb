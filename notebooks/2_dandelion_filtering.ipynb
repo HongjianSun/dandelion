{
 "cells": [
  {
   "cell_type": "markdown",
   "metadata": {},
   "source": [
    "# *dandelion* Notebook-2\n",
    "![dandelion_logo](img/dandelion_logo.png)\n",
    "\n",
    "## Filtering\n",
    "Now that the most boring part of the pre-proceesing is done in part 1, we can move on to more interesting things, that is to use *scanpy* to filter out cells (and corresponding contigs) that we would not be interested in analyzing because of quality or other issues."
   ]
  },
  {
   "cell_type": "markdown",
   "metadata": {},
   "source": [
    "#### Import *dandelion* module"
   ]
  },
  {
   "cell_type": "code",
   "execution_count": 1,
   "metadata": {},
   "outputs": [
    {
     "name": "stderr",
     "output_type": "stream",
     "text": [
      "/Users/kt16/miniconda3/envs/dandelion/lib/python3.7/site-packages/anndata/_core/anndata.py:21: FutureWarning: pandas.core.index is deprecated and will be removed in a future version.  The public classes are available in the top-level namespace.\n",
      "  from pandas.core.index import RangeIndex\n"
     ]
    }
   ],
   "source": [
    "import os\n",
    "os.chdir(os.path.expanduser('/Users/kt16/Documents/Github/dandelion'))\n",
    "import dandelion as ddl\n",
    "# change directory to somewhere more workable\n",
    "os.chdir(os.path.expanduser('/Users/kt16/Documents/Clatworthy_scRNAseq/Ondrej/PIP/'))"
   ]
  },
  {
   "cell_type": "markdown",
   "metadata": {},
   "source": [
    "#### Import modules for use with scanpy"
   ]
  },
  {
   "cell_type": "code",
   "execution_count": 2,
   "metadata": {},
   "outputs": [
    {
     "name": "stdout",
     "output_type": "stream",
     "text": [
      "scanpy==1.4.6 anndata==0.7.1 umap==0.4.2 numpy==1.18.4 scipy==1.4.1 pandas==1.0.3 scikit-learn==0.23.0 statsmodels==0.11.1 python-igraph==0.8.2\n"
     ]
    }
   ],
   "source": [
    "import pandas as pd\n",
    "import numpy as np\n",
    "import scanpy as sc\n",
    "import warnings\n",
    "import functools\n",
    "import seaborn as sns\n",
    "import scipy.stats\n",
    "import anndata\n",
    "\n",
    "warnings.filterwarnings('ignore')\n",
    "sc.logging.print_versions()"
   ]
  },
  {
   "cell_type": "markdown",
   "metadata": {},
   "source": [
    "#### Set up some variables and again, prepare the dictionary for sample id swapping\n",
    "From this point onwards, I will just work with one sample to keep things simple. Pan_T7918901 is the BCR-seq sample of a spleen sample so it should have lots of B cells."
   ]
  },
  {
   "cell_type": "code",
   "execution_count": 3,
   "metadata": {},
   "outputs": [],
   "source": [
    "sample = 'Pan_T7918901'\n",
    "bcr_folder = 'Pan_Immune_BCR/'\n",
    "gex_folder = 'Pan_Immune_GEX/'\n",
    "sampledict = ddl.utl.dict_from_table('/Users/kt16/Documents/Clatworthy_scRNAseq/Ondrej/dandelion_files/meta/PIP_sampleInfo_kt16.txt', columns = ('SANGER SAMPLE ID', 'GEX_SAMPLE_ID')) # optional\n",
    "meta = pd.read_csv('Pan_Immune_meta/PIP_sampleInfo_kt16.csv', dtype = 'object')"
   ]
  },
  {
   "cell_type": "markdown",
   "metadata": {},
   "source": [
    "#### Setting up dictionaries from the meta data to let me add the info to the obs slot"
   ]
  },
  {
   "cell_type": "code",
   "execution_count": 4,
   "metadata": {},
   "outputs": [],
   "source": [
    "sampleid = dict(zip(meta['SANGER SAMPLE ID'],meta['SANGER SAMPLE ID']))\n",
    "gender = dict(zip(meta['SANGER SAMPLE ID'],meta['GENDER']))\n",
    "donor = dict(zip(meta['SANGER SAMPLE ID'],meta['SANGERID']))\n",
    "tissue = dict(zip(meta['SANGER SAMPLE ID'],meta['TISSUE']))\n",
    "experiment = dict(zip(meta['SANGER SAMPLE ID'],meta['COMMENTS']))"
   ]
  },
  {
   "cell_type": "markdown",
   "metadata": {},
   "source": [
    "#### Import the transcriptome data and populate the obs slot with meta data"
   ]
  },
  {
   "cell_type": "code",
   "execution_count": 5,
   "metadata": {},
   "outputs": [
    {
     "data": {
      "text/plain": [
       "AnnData object with n_obs × n_vars = 4002 × 33694 \n",
       "    obs: 'sampleid', 'gender', 'donor', 'tissue', 'experiment'\n",
       "    var: 'gene_ids', 'feature_types'"
      ]
     },
     "execution_count": 5,
     "metadata": {},
     "output_type": "execute_result"
    }
   ],
   "source": [
    "inputfolder=gex_folder+sampledict[sample]+'/filtered_feature_bc_matrix/'\n",
    "adata = sc.read_10x_mtx(inputfolder)\n",
    "adata.obs['sampleid'] = sampleid[sampledict[sample]]\n",
    "adata.obs['gender'] = gender[sampledict[sample]]\n",
    "adata.obs['donor'] = donor[sampledict[sample]]\n",
    "adata.obs['tissue'] = tissue[sampledict[sample]]\n",
    "adata.obs['experiment'] = experiment[sampledict[sample]]\n",
    "# rename cells to sample id + barcode, cleaving the trailing -1\n",
    "adata.obs_names = [str(sampledict[sample])+'_'+str(j).split('-')[0] for j in adata.obs_names]\n",
    "adata"
   ]
  },
  {
   "cell_type": "markdown",
   "metadata": {},
   "source": [
    "#### Run basic scanpy pipeline\n",
    "I've included a wrapper called `pp.ext.run_scanpy_qc` to run through a generic [scanpy](https://scanpy-tutorials.readthedocs.io/en/latest/pbmc3k.html) workflow that includes [scrublet](https://github.com/AllonKleinLab/scrublet) doublet detection. The function does not filter the cells and is simply a way to mark bad quality cells and potential doublets in the obs slot. The scrublet doublet detection is implemented based on [kp9](kp9@sanger.ac.uk)'s \"Bertie\"'s doublet calling [procedure](https://www.nature.com/articles/s41467-018-06318-7).\n",
    "\n",
    "Whether or not you run this is up to you. You can provide in a pre-processed `AnnData` object for the subsequent steps"
   ]
  },
  {
   "cell_type": "code",
   "execution_count": 6,
   "metadata": {
    "scrolled": true
   },
   "outputs": [
    {
     "data": {
      "text/plain": [
       "AnnData object with n_obs × n_vars = 4002 × 33694 \n",
       "    obs: 'sampleid', 'gender', 'donor', 'tissue', 'experiment', 'scrublet_score', 'n_genes', 'percent_mito', 'n_counts', 'bh_pval', 'is_doublet', 'filter_rna'\n",
       "    var: 'gene_ids', 'feature_types'"
      ]
     },
     "execution_count": 6,
     "metadata": {},
     "output_type": "execute_result"
    }
   ],
   "source": [
    "ddl.pp.ext.run_scanpy_qc(adata)\n",
    "adata"
   ]
  },
  {
   "cell_type": "markdown",
   "metadata": {},
   "source": [
    "The wrapper doesn't actually filter any cells, but just populate the *.obs* slot with the following headers.\n",
    "```\n",
    "'n_genes'\n",
    "'percent_mito'\n",
    "'n_counts'\n",
    "'is_doublet'\n",
    "'filter_rna'\n",
    "```\n",
    "Only `'filter_rna'` is needed for the next step.\n",
    "\n",
    "If you have a pre-processed/filltered `AnnData` object that is ready, just add a `'filter_rna'` column into the *.obs* slot with every value set to `False` and you should be good to go:\n",
    "\n",
    "```python\n",
    "adata.obs['filter_rna'] = False\n",
    "```"
   ]
  },
  {
   "cell_type": "markdown",
   "metadata": {},
   "source": [
    "#### Filter cells that are potental doublets and poor quality in both the BCR data and transcriptome data\n",
    "Ok now we use the tool function `tl.filter_bcr` to mark and filter out cells and contigs from both the BCR data and transcriptome data in `AnnData`.\n",
    "\n",
    "Note that the `AnnData` object can hold non-B cells; I've written the functions from this point onwards to not be affected by cells without BCR info. You can filter it yourself to re-calculating the clusters and embeddings etc., but it's not necessary at this stage."
   ]
  },
  {
   "cell_type": "code",
   "execution_count": 7,
   "metadata": {
    "scrolled": true
   },
   "outputs": [
    {
     "name": "stderr",
     "output_type": "stream",
     "text": [
      "Marking barcodes with poor quality BCRs and BCR doublets: 100%|██████████| 1852/1852 [00:02<00:00, 634.02it/s]\n",
      "Annotating in anndata obs slot : 100%|██████████| 4002/4002 [00:00<00:00, 36452.33it/s]\n"
     ]
    }
   ],
   "source": [
    "# point to the bcr file i'm going to work with\n",
    "bcr_file = bcr_folder+sample+'/dandelion/data/all_contig_igblast_gap_genotyped.tsv'\n",
    "\n",
    "# The function will return both objects. \n",
    "vdj, adata = ddl.tl.filter_bcr(bcr_file, adata)"
   ]
  },
  {
   "cell_type": "markdown",
   "metadata": {},
   "source": [
    "The default mode is to filter any 'doublet' light chains, but some may be interested in keeping them. The option to change the behaviour is by toggling:\n",
    "```python\n",
    "filter_lightchains=False\n",
    "```\n",
    "\n",
    "Another default behavour is that if the cell in the BCR table cannot be found in the transcriptomic data, it will also be removed from the BCR data. This can be changed by toggling:\n",
    "```python\n",
    "filter_missing=False\n",
    "```"
   ]
  },
  {
   "cell_type": "markdown",
   "metadata": {},
   "source": [
    "#### Check the output vdj table\n",
    "Note that the vdj table is indexed based on contigs (sequence_id)."
   ]
  },
  {
   "cell_type": "code",
   "execution_count": 8,
   "metadata": {},
   "outputs": [
    {
     "data": {
      "text/html": [
       "<div>\n",
       "<style scoped>\n",
       "    .dataframe tbody tr th:only-of-type {\n",
       "        vertical-align: middle;\n",
       "    }\n",
       "\n",
       "    .dataframe tbody tr th {\n",
       "        vertical-align: top;\n",
       "    }\n",
       "\n",
       "    .dataframe thead th {\n",
       "        text-align: right;\n",
       "    }\n",
       "</style>\n",
       "<table border=\"1\" class=\"dataframe\">\n",
       "  <thead>\n",
       "    <tr style=\"text-align: right;\">\n",
       "      <th></th>\n",
       "      <th>sequence_id</th>\n",
       "      <th>sequence</th>\n",
       "      <th>rev_comp</th>\n",
       "      <th>productive</th>\n",
       "      <th>v_call</th>\n",
       "      <th>d_call</th>\n",
       "      <th>j_call</th>\n",
       "      <th>sequence_alignment</th>\n",
       "      <th>germline_alignment</th>\n",
       "      <th>junction</th>\n",
       "      <th>...</th>\n",
       "      <th>cdr3_end</th>\n",
       "      <th>np1</th>\n",
       "      <th>np1_length</th>\n",
       "      <th>np2</th>\n",
       "      <th>np2_length</th>\n",
       "      <th>junction_aa_length</th>\n",
       "      <th>c_call</th>\n",
       "      <th>cell_id</th>\n",
       "      <th>sample_id</th>\n",
       "      <th>v_call_genotyped</th>\n",
       "    </tr>\n",
       "    <tr>\n",
       "      <th>sequence_id</th>\n",
       "      <th></th>\n",
       "      <th></th>\n",
       "      <th></th>\n",
       "      <th></th>\n",
       "      <th></th>\n",
       "      <th></th>\n",
       "      <th></th>\n",
       "      <th></th>\n",
       "      <th></th>\n",
       "      <th></th>\n",
       "      <th></th>\n",
       "      <th></th>\n",
       "      <th></th>\n",
       "      <th></th>\n",
       "      <th></th>\n",
       "      <th></th>\n",
       "      <th></th>\n",
       "      <th></th>\n",
       "      <th></th>\n",
       "      <th></th>\n",
       "      <th></th>\n",
       "    </tr>\n",
       "  </thead>\n",
       "  <tbody>\n",
       "    <tr>\n",
       "      <th>Pan_T7917815_ACCTTTATCGCTTGTC-1_contig_1</th>\n",
       "      <td>Pan_T7917815_ACCTTTATCGCTTGTC-1_contig_1</td>\n",
       "      <td>GAGGAGTCAGACCCAGTCAGGACACAGCATGGACATGAGGGTCCCC...</td>\n",
       "      <td>FALSE</td>\n",
       "      <td>TRUE</td>\n",
       "      <td>IGKV1D-12*01</td>\n",
       "      <td>NaN</td>\n",
       "      <td>IGKJ5*01</td>\n",
       "      <td>GACATCCAGATGACCCAGTCTCCATCTTCTGTGTCTGCATCTTTAG...</td>\n",
       "      <td>GACATCCAGATGACCCAGTCTCCATCTTCTGTGTCTGCATCTGTAG...</td>\n",
       "      <td>TGTCTACAGGGTGAGAGTTACCCTCTCACCTTC</td>\n",
       "      <td>...</td>\n",
       "      <td>385</td>\n",
       "      <td>NaN</td>\n",
       "      <td>0</td>\n",
       "      <td>NaN</td>\n",
       "      <td>NaN</td>\n",
       "      <td>11</td>\n",
       "      <td>IGKC</td>\n",
       "      <td>Pan_T7917815_ACCTTTATCGCTTGTC</td>\n",
       "      <td>Pan_T7917815</td>\n",
       "      <td>IGKV1D-12*01</td>\n",
       "    </tr>\n",
       "    <tr>\n",
       "      <th>Pan_T7917815_ACCTTTATCGCTTGTC-1_contig_2</th>\n",
       "      <td>Pan_T7917815_ACCTTTATCGCTTGTC-1_contig_2</td>\n",
       "      <td>AGCCTGCGAGGCGAAGATACGGCTATCTATTACTGTGCGAGTGATC...</td>\n",
       "      <td>FALSE</td>\n",
       "      <td>TRUE</td>\n",
       "      <td>IGHV3-21*06,IGHV3-30*07,IGHV3-30*12</td>\n",
       "      <td>IGHD4-23*01</td>\n",
       "      <td>IGHJ4*02</td>\n",
       "      <td>.................................................</td>\n",
       "      <td>AATTCACTGTATCTGCAAATGAACAGCCTGAGAGCCGAGGACACNN...</td>\n",
       "      <td>TGTGCGAGTGATCCCCCTACTGCGGGAGACTACGGTGGCGGAGCCG...</td>\n",
       "      <td>...</td>\n",
       "      <td>90</td>\n",
       "      <td>TCCCCCTACTGCGGGA</td>\n",
       "      <td>16</td>\n",
       "      <td>CGGAGCCGAT</td>\n",
       "      <td>10</td>\n",
       "      <td>20</td>\n",
       "      <td>IGHG2</td>\n",
       "      <td>Pan_T7917815_ACCTTTATCGCTTGTC</td>\n",
       "      <td>Pan_T7917815</td>\n",
       "      <td>IGHV3-21*06,IGHV3-30*07,IGHV3-30*12</td>\n",
       "    </tr>\n",
       "    <tr>\n",
       "      <th>Pan_T7917815_ACTGCTCCAGGTCGTC-1_contig_1</th>\n",
       "      <td>Pan_T7917815_ACTGCTCCAGGTCGTC-1_contig_1</td>\n",
       "      <td>TGGGGGAGAAGAGCTGCTCAGTTAGGACCCAGAGGGAACCATGGAA...</td>\n",
       "      <td>FALSE</td>\n",
       "      <td>TRUE</td>\n",
       "      <td>IGKV3-20*01</td>\n",
       "      <td>NaN</td>\n",
       "      <td>IGKJ1*01</td>\n",
       "      <td>GAAATTGTGTTGACGCAGTCTCCAGGCACCCTGTCTTTGTCTCCAG...</td>\n",
       "      <td>GAAATTGTGTTGACGCAGTCTCCAGGCACCCTGTCTTTGTCTCCAG...</td>\n",
       "      <td>TGTCAGCACTTTGGTAGCTCATCCTGGACGTTC</td>\n",
       "      <td>...</td>\n",
       "      <td>394</td>\n",
       "      <td>TCC</td>\n",
       "      <td>3</td>\n",
       "      <td>NaN</td>\n",
       "      <td>NaN</td>\n",
       "      <td>11</td>\n",
       "      <td>IGKC</td>\n",
       "      <td>Pan_T7917815_ACTGCTCCAGGTCGTC</td>\n",
       "      <td>Pan_T7917815</td>\n",
       "      <td>IGKV3-20*01</td>\n",
       "    </tr>\n",
       "    <tr>\n",
       "      <th>Pan_T7917815_ACTGCTCCAGGTCGTC-1_contig_2</th>\n",
       "      <td>Pan_T7917815_ACTGCTCCAGGTCGTC-1_contig_2</td>\n",
       "      <td>GAGCTCTGAGAGAGGAGCCTTAGCCCTGGATTCCAAGGCCTATCCA...</td>\n",
       "      <td>FALSE</td>\n",
       "      <td>TRUE</td>\n",
       "      <td>IGHV3-21*01</td>\n",
       "      <td>IGHD4-23*01</td>\n",
       "      <td>IGHJ4*02</td>\n",
       "      <td>GAGGTGCAGTTGGTGGAGTCTGGGGGA...GGCCTGGTCAAGCCTG...</td>\n",
       "      <td>GAGGTGCAGCTGGTGGAGTCTGGGGGA...GGCCTGGTCAAGCCTG...</td>\n",
       "      <td>TGTGCGAGAGGAGAGCGGGCGGCGGTAACCACCTACTGG</td>\n",
       "      <td>...</td>\n",
       "      <td>458</td>\n",
       "      <td>GAGAGCGGG</td>\n",
       "      <td>9</td>\n",
       "      <td>CAC</td>\n",
       "      <td>3</td>\n",
       "      <td>13</td>\n",
       "      <td>IGHM</td>\n",
       "      <td>Pan_T7917815_ACTGCTCCAGGTCGTC</td>\n",
       "      <td>Pan_T7917815</td>\n",
       "      <td>IGHV3-21*01</td>\n",
       "    </tr>\n",
       "    <tr>\n",
       "      <th>Pan_T7917815_CCTACCAGTGCCTTGG-1_contig_1</th>\n",
       "      <td>Pan_T7917815_CCTACCAGTGCCTTGG-1_contig_1</td>\n",
       "      <td>AGAGAGCCCTGGGGAGGAACTGCTCAGTTAGGACCCAGAGGGAACC...</td>\n",
       "      <td>FALSE</td>\n",
       "      <td>TRUE</td>\n",
       "      <td>IGKV3-11*01</td>\n",
       "      <td>NaN</td>\n",
       "      <td>IGKJ4*01</td>\n",
       "      <td>GAGATTGTGTTGACTCAGTCTCCAGTCACCCTGTCTTTGTCTCCAG...</td>\n",
       "      <td>GAAATTGTGTTGACACAGTCTCCAGCCACCCTGTCTTTGTCTCCAG...</td>\n",
       "      <td>TGTCAGCAGCGTAGCAACTGGCCTCCGCTCACTTTC</td>\n",
       "      <td>...</td>\n",
       "      <td>400</td>\n",
       "      <td>NaN</td>\n",
       "      <td>0</td>\n",
       "      <td>NaN</td>\n",
       "      <td>NaN</td>\n",
       "      <td>12</td>\n",
       "      <td>IGKC</td>\n",
       "      <td>Pan_T7917815_CCTACCAGTGCCTTGG</td>\n",
       "      <td>Pan_T7917815</td>\n",
       "      <td>IGKV3-11*01</td>\n",
       "    </tr>\n",
       "    <tr>\n",
       "      <th>...</th>\n",
       "      <td>...</td>\n",
       "      <td>...</td>\n",
       "      <td>...</td>\n",
       "      <td>...</td>\n",
       "      <td>...</td>\n",
       "      <td>...</td>\n",
       "      <td>...</td>\n",
       "      <td>...</td>\n",
       "      <td>...</td>\n",
       "      <td>...</td>\n",
       "      <td>...</td>\n",
       "      <td>...</td>\n",
       "      <td>...</td>\n",
       "      <td>...</td>\n",
       "      <td>...</td>\n",
       "      <td>...</td>\n",
       "      <td>...</td>\n",
       "      <td>...</td>\n",
       "      <td>...</td>\n",
       "      <td>...</td>\n",
       "      <td>...</td>\n",
       "    </tr>\n",
       "    <tr>\n",
       "      <th>Pan_T7917815_TTGCCGTCAAGTCTGT-1_contig_2</th>\n",
       "      <td>Pan_T7917815_TTGCCGTCAAGTCTGT-1_contig_2</td>\n",
       "      <td>GGCAGAAGTCTCTCTCAGTCAGGACACAGCATGGACATGAGGGTCC...</td>\n",
       "      <td>FALSE</td>\n",
       "      <td>TRUE</td>\n",
       "      <td>IGKV1-27*01</td>\n",
       "      <td>NaN</td>\n",
       "      <td>IGKJ1*01</td>\n",
       "      <td>GACATCCAGATGACCCAGTCTCCATCCTCCCTGTCTGCATCTGTAG...</td>\n",
       "      <td>GACATCCAGATGACCCAGTCTCCATCCTCCCTGTCTGCATCTGTAG...</td>\n",
       "      <td>TGTCAAAAGTATTCCAATGTTCCCTGGACGTTC</td>\n",
       "      <td>...</td>\n",
       "      <td>387</td>\n",
       "      <td>TTCCC</td>\n",
       "      <td>5</td>\n",
       "      <td>NaN</td>\n",
       "      <td>NaN</td>\n",
       "      <td>11</td>\n",
       "      <td>IGKC</td>\n",
       "      <td>Pan_T7917815_TTGCCGTCAAGTCTGT</td>\n",
       "      <td>Pan_T7917815</td>\n",
       "      <td>IGKV1-27*01</td>\n",
       "    </tr>\n",
       "    <tr>\n",
       "      <th>Pan_T7917815_GTACTCCAGCCACTAT-1_contig_1</th>\n",
       "      <td>Pan_T7917815_GTACTCCAGCCACTAT-1_contig_1</td>\n",
       "      <td>GGACACCCTGTGCAGGAGTCAGACCCAGTCAGGACACAGCATGGAC...</td>\n",
       "      <td>FALSE</td>\n",
       "      <td>TRUE</td>\n",
       "      <td>IGKV1-12*01,IGKV1-12*02,IGKV1D-12*02</td>\n",
       "      <td>NaN</td>\n",
       "      <td>IGKJ2*01</td>\n",
       "      <td>GACATCCAGATGACCCAGTCTCCATCTTCCGTGTCTGCATCTGTAG...</td>\n",
       "      <td>GACATCCAGATGACCCAGTCTCCATCTTCCGTGTCTGCATCTGTAG...</td>\n",
       "      <td>TGTCAACAGGCTAACAGTTTCCCGTACACTTTT</td>\n",
       "      <td>...</td>\n",
       "      <td>397</td>\n",
       "      <td>NaN</td>\n",
       "      <td>0</td>\n",
       "      <td>NaN</td>\n",
       "      <td>NaN</td>\n",
       "      <td>11</td>\n",
       "      <td>IGKC</td>\n",
       "      <td>Pan_T7917815_GTACTCCAGCCACTAT</td>\n",
       "      <td>Pan_T7917815</td>\n",
       "      <td>IGKV1-12*01,IGKV1-12*02,IGKV1D-12*02</td>\n",
       "    </tr>\n",
       "    <tr>\n",
       "      <th>Pan_T7917815_GTACTCCAGCCACTAT-1_contig_2</th>\n",
       "      <td>Pan_T7917815_GTACTCCAGCCACTAT-1_contig_2</td>\n",
       "      <td>GAGCTCTGAGAGAGGAGCCTTAGCCCTGGATTCCAAGGCCTATCCA...</td>\n",
       "      <td>FALSE</td>\n",
       "      <td>TRUE</td>\n",
       "      <td>IGHV3-21*01</td>\n",
       "      <td>IGHD4-23*01</td>\n",
       "      <td>IGHJ4*02</td>\n",
       "      <td>GAGGTGCAGCTGGTGGAGTCTGGGGGA...GGCCTGGTCAAGCCTG...</td>\n",
       "      <td>GAGGTGCAGCTGGTGGAGTCTGGGGGA...GGCCTGGTCAAGCCTG...</td>\n",
       "      <td>TGTGCGAGTGATCCCCCTACTGCGGGAGACTACGGTGGCGGAGCCG...</td>\n",
       "      <td>...</td>\n",
       "      <td>479</td>\n",
       "      <td>TCCCCCTACTGCGGGA</td>\n",
       "      <td>16</td>\n",
       "      <td>CGGAGCCGAT</td>\n",
       "      <td>10</td>\n",
       "      <td>20</td>\n",
       "      <td>IGHG2</td>\n",
       "      <td>Pan_T7917815_GTACTCCAGCCACTAT</td>\n",
       "      <td>Pan_T7917815</td>\n",
       "      <td>IGHV3-21*01</td>\n",
       "    </tr>\n",
       "    <tr>\n",
       "      <th>Pan_T7917815_TTAGGACCACCAGGCT-1_contig_1</th>\n",
       "      <td>Pan_T7917815_TTAGGACCACCAGGCT-1_contig_1</td>\n",
       "      <td>GGGAGAAGAGCTGCTCAGTAAGGACCCAGAGGGAACCATGGAAACC...</td>\n",
       "      <td>FALSE</td>\n",
       "      <td>TRUE</td>\n",
       "      <td>IGKV3-20*01</td>\n",
       "      <td>NaN</td>\n",
       "      <td>IGKJ5*01</td>\n",
       "      <td>GAAATTGTGTTGACGCAGTCTCCAGGCACCCTGTCTTTGTCTCCAG...</td>\n",
       "      <td>GAAATTGTGTTGACGCAGTCTCCAGGCACCCTGTCTTTGTCTCCAG...</td>\n",
       "      <td>TGTCAGCAATTTGGTGGCTCCTGGATCACCTTC</td>\n",
       "      <td>...</td>\n",
       "      <td>391</td>\n",
       "      <td>CTG</td>\n",
       "      <td>3</td>\n",
       "      <td>NaN</td>\n",
       "      <td>NaN</td>\n",
       "      <td>11</td>\n",
       "      <td>IGKC</td>\n",
       "      <td>Pan_T7917815_TTAGGACCACCAGGCT</td>\n",
       "      <td>Pan_T7917815</td>\n",
       "      <td>IGKV3-20*01</td>\n",
       "    </tr>\n",
       "    <tr>\n",
       "      <th>Pan_T7917815_TTAGGACCACCAGGCT-1_contig_2</th>\n",
       "      <td>Pan_T7917815_TTAGGACCACCAGGCT-1_contig_2</td>\n",
       "      <td>GATACTTTCTGAGACTCATGGACCTCCTGCACAAGAACATGAAACA...</td>\n",
       "      <td>FALSE</td>\n",
       "      <td>TRUE</td>\n",
       "      <td>IGHV4-4*02</td>\n",
       "      <td>IGHD3-10*01,IGHD3-10*02</td>\n",
       "      <td>IGHJ6*02</td>\n",
       "      <td>CAGGTGCAGCTGCAGGAGTCGGGCCCA...GGACTGGTGGAGCCTT...</td>\n",
       "      <td>CAGGTGCAGCTGCAGGAGTCGGGCCCA...GGACTGGTGAAGCCTT...</td>\n",
       "      <td>TGCGCGAGATTTATAAGGCACCATTATTCGGGGACTTACAGTTATG...</td>\n",
       "      <td>...</td>\n",
       "      <td>449</td>\n",
       "      <td>TTTATAAGGCACCATTA</td>\n",
       "      <td>17</td>\n",
       "      <td>CAGTTATG</td>\n",
       "      <td>8</td>\n",
       "      <td>24</td>\n",
       "      <td>IGHG1</td>\n",
       "      <td>Pan_T7917815_TTAGGACCACCAGGCT</td>\n",
       "      <td>Pan_T7917815</td>\n",
       "      <td>IGHV4-4*02</td>\n",
       "    </tr>\n",
       "  </tbody>\n",
       "</table>\n",
       "<p>459 rows × 96 columns</p>\n",
       "</div>"
      ],
      "text/plain": [
       "                                                                       sequence_id  \\\n",
       "sequence_id                                                                          \n",
       "Pan_T7917815_ACCTTTATCGCTTGTC-1_contig_1  Pan_T7917815_ACCTTTATCGCTTGTC-1_contig_1   \n",
       "Pan_T7917815_ACCTTTATCGCTTGTC-1_contig_2  Pan_T7917815_ACCTTTATCGCTTGTC-1_contig_2   \n",
       "Pan_T7917815_ACTGCTCCAGGTCGTC-1_contig_1  Pan_T7917815_ACTGCTCCAGGTCGTC-1_contig_1   \n",
       "Pan_T7917815_ACTGCTCCAGGTCGTC-1_contig_2  Pan_T7917815_ACTGCTCCAGGTCGTC-1_contig_2   \n",
       "Pan_T7917815_CCTACCAGTGCCTTGG-1_contig_1  Pan_T7917815_CCTACCAGTGCCTTGG-1_contig_1   \n",
       "...                                                                            ...   \n",
       "Pan_T7917815_TTGCCGTCAAGTCTGT-1_contig_2  Pan_T7917815_TTGCCGTCAAGTCTGT-1_contig_2   \n",
       "Pan_T7917815_GTACTCCAGCCACTAT-1_contig_1  Pan_T7917815_GTACTCCAGCCACTAT-1_contig_1   \n",
       "Pan_T7917815_GTACTCCAGCCACTAT-1_contig_2  Pan_T7917815_GTACTCCAGCCACTAT-1_contig_2   \n",
       "Pan_T7917815_TTAGGACCACCAGGCT-1_contig_1  Pan_T7917815_TTAGGACCACCAGGCT-1_contig_1   \n",
       "Pan_T7917815_TTAGGACCACCAGGCT-1_contig_2  Pan_T7917815_TTAGGACCACCAGGCT-1_contig_2   \n",
       "\n",
       "                                                                                   sequence  \\\n",
       "sequence_id                                                                                   \n",
       "Pan_T7917815_ACCTTTATCGCTTGTC-1_contig_1  GAGGAGTCAGACCCAGTCAGGACACAGCATGGACATGAGGGTCCCC...   \n",
       "Pan_T7917815_ACCTTTATCGCTTGTC-1_contig_2  AGCCTGCGAGGCGAAGATACGGCTATCTATTACTGTGCGAGTGATC...   \n",
       "Pan_T7917815_ACTGCTCCAGGTCGTC-1_contig_1  TGGGGGAGAAGAGCTGCTCAGTTAGGACCCAGAGGGAACCATGGAA...   \n",
       "Pan_T7917815_ACTGCTCCAGGTCGTC-1_contig_2  GAGCTCTGAGAGAGGAGCCTTAGCCCTGGATTCCAAGGCCTATCCA...   \n",
       "Pan_T7917815_CCTACCAGTGCCTTGG-1_contig_1  AGAGAGCCCTGGGGAGGAACTGCTCAGTTAGGACCCAGAGGGAACC...   \n",
       "...                                                                                     ...   \n",
       "Pan_T7917815_TTGCCGTCAAGTCTGT-1_contig_2  GGCAGAAGTCTCTCTCAGTCAGGACACAGCATGGACATGAGGGTCC...   \n",
       "Pan_T7917815_GTACTCCAGCCACTAT-1_contig_1  GGACACCCTGTGCAGGAGTCAGACCCAGTCAGGACACAGCATGGAC...   \n",
       "Pan_T7917815_GTACTCCAGCCACTAT-1_contig_2  GAGCTCTGAGAGAGGAGCCTTAGCCCTGGATTCCAAGGCCTATCCA...   \n",
       "Pan_T7917815_TTAGGACCACCAGGCT-1_contig_1  GGGAGAAGAGCTGCTCAGTAAGGACCCAGAGGGAACCATGGAAACC...   \n",
       "Pan_T7917815_TTAGGACCACCAGGCT-1_contig_2  GATACTTTCTGAGACTCATGGACCTCCTGCACAAGAACATGAAACA...   \n",
       "\n",
       "                                         rev_comp productive  \\\n",
       "sequence_id                                                    \n",
       "Pan_T7917815_ACCTTTATCGCTTGTC-1_contig_1    FALSE       TRUE   \n",
       "Pan_T7917815_ACCTTTATCGCTTGTC-1_contig_2    FALSE       TRUE   \n",
       "Pan_T7917815_ACTGCTCCAGGTCGTC-1_contig_1    FALSE       TRUE   \n",
       "Pan_T7917815_ACTGCTCCAGGTCGTC-1_contig_2    FALSE       TRUE   \n",
       "Pan_T7917815_CCTACCAGTGCCTTGG-1_contig_1    FALSE       TRUE   \n",
       "...                                           ...        ...   \n",
       "Pan_T7917815_TTGCCGTCAAGTCTGT-1_contig_2    FALSE       TRUE   \n",
       "Pan_T7917815_GTACTCCAGCCACTAT-1_contig_1    FALSE       TRUE   \n",
       "Pan_T7917815_GTACTCCAGCCACTAT-1_contig_2    FALSE       TRUE   \n",
       "Pan_T7917815_TTAGGACCACCAGGCT-1_contig_1    FALSE       TRUE   \n",
       "Pan_T7917815_TTAGGACCACCAGGCT-1_contig_2    FALSE       TRUE   \n",
       "\n",
       "                                                                        v_call  \\\n",
       "sequence_id                                                                      \n",
       "Pan_T7917815_ACCTTTATCGCTTGTC-1_contig_1                          IGKV1D-12*01   \n",
       "Pan_T7917815_ACCTTTATCGCTTGTC-1_contig_2   IGHV3-21*06,IGHV3-30*07,IGHV3-30*12   \n",
       "Pan_T7917815_ACTGCTCCAGGTCGTC-1_contig_1                           IGKV3-20*01   \n",
       "Pan_T7917815_ACTGCTCCAGGTCGTC-1_contig_2                           IGHV3-21*01   \n",
       "Pan_T7917815_CCTACCAGTGCCTTGG-1_contig_1                           IGKV3-11*01   \n",
       "...                                                                        ...   \n",
       "Pan_T7917815_TTGCCGTCAAGTCTGT-1_contig_2                           IGKV1-27*01   \n",
       "Pan_T7917815_GTACTCCAGCCACTAT-1_contig_1  IGKV1-12*01,IGKV1-12*02,IGKV1D-12*02   \n",
       "Pan_T7917815_GTACTCCAGCCACTAT-1_contig_2                           IGHV3-21*01   \n",
       "Pan_T7917815_TTAGGACCACCAGGCT-1_contig_1                           IGKV3-20*01   \n",
       "Pan_T7917815_TTAGGACCACCAGGCT-1_contig_2                            IGHV4-4*02   \n",
       "\n",
       "                                                           d_call    j_call  \\\n",
       "sequence_id                                                                   \n",
       "Pan_T7917815_ACCTTTATCGCTTGTC-1_contig_1                      NaN  IGKJ5*01   \n",
       "Pan_T7917815_ACCTTTATCGCTTGTC-1_contig_2              IGHD4-23*01  IGHJ4*02   \n",
       "Pan_T7917815_ACTGCTCCAGGTCGTC-1_contig_1                      NaN  IGKJ1*01   \n",
       "Pan_T7917815_ACTGCTCCAGGTCGTC-1_contig_2              IGHD4-23*01  IGHJ4*02   \n",
       "Pan_T7917815_CCTACCAGTGCCTTGG-1_contig_1                      NaN  IGKJ4*01   \n",
       "...                                                           ...       ...   \n",
       "Pan_T7917815_TTGCCGTCAAGTCTGT-1_contig_2                      NaN  IGKJ1*01   \n",
       "Pan_T7917815_GTACTCCAGCCACTAT-1_contig_1                      NaN  IGKJ2*01   \n",
       "Pan_T7917815_GTACTCCAGCCACTAT-1_contig_2              IGHD4-23*01  IGHJ4*02   \n",
       "Pan_T7917815_TTAGGACCACCAGGCT-1_contig_1                      NaN  IGKJ5*01   \n",
       "Pan_T7917815_TTAGGACCACCAGGCT-1_contig_2  IGHD3-10*01,IGHD3-10*02  IGHJ6*02   \n",
       "\n",
       "                                                                         sequence_alignment  \\\n",
       "sequence_id                                                                                   \n",
       "Pan_T7917815_ACCTTTATCGCTTGTC-1_contig_1  GACATCCAGATGACCCAGTCTCCATCTTCTGTGTCTGCATCTTTAG...   \n",
       "Pan_T7917815_ACCTTTATCGCTTGTC-1_contig_2  .................................................   \n",
       "Pan_T7917815_ACTGCTCCAGGTCGTC-1_contig_1  GAAATTGTGTTGACGCAGTCTCCAGGCACCCTGTCTTTGTCTCCAG...   \n",
       "Pan_T7917815_ACTGCTCCAGGTCGTC-1_contig_2  GAGGTGCAGTTGGTGGAGTCTGGGGGA...GGCCTGGTCAAGCCTG...   \n",
       "Pan_T7917815_CCTACCAGTGCCTTGG-1_contig_1  GAGATTGTGTTGACTCAGTCTCCAGTCACCCTGTCTTTGTCTCCAG...   \n",
       "...                                                                                     ...   \n",
       "Pan_T7917815_TTGCCGTCAAGTCTGT-1_contig_2  GACATCCAGATGACCCAGTCTCCATCCTCCCTGTCTGCATCTGTAG...   \n",
       "Pan_T7917815_GTACTCCAGCCACTAT-1_contig_1  GACATCCAGATGACCCAGTCTCCATCTTCCGTGTCTGCATCTGTAG...   \n",
       "Pan_T7917815_GTACTCCAGCCACTAT-1_contig_2  GAGGTGCAGCTGGTGGAGTCTGGGGGA...GGCCTGGTCAAGCCTG...   \n",
       "Pan_T7917815_TTAGGACCACCAGGCT-1_contig_1  GAAATTGTGTTGACGCAGTCTCCAGGCACCCTGTCTTTGTCTCCAG...   \n",
       "Pan_T7917815_TTAGGACCACCAGGCT-1_contig_2  CAGGTGCAGCTGCAGGAGTCGGGCCCA...GGACTGGTGGAGCCTT...   \n",
       "\n",
       "                                                                         germline_alignment  \\\n",
       "sequence_id                                                                                   \n",
       "Pan_T7917815_ACCTTTATCGCTTGTC-1_contig_1  GACATCCAGATGACCCAGTCTCCATCTTCTGTGTCTGCATCTGTAG...   \n",
       "Pan_T7917815_ACCTTTATCGCTTGTC-1_contig_2  AATTCACTGTATCTGCAAATGAACAGCCTGAGAGCCGAGGACACNN...   \n",
       "Pan_T7917815_ACTGCTCCAGGTCGTC-1_contig_1  GAAATTGTGTTGACGCAGTCTCCAGGCACCCTGTCTTTGTCTCCAG...   \n",
       "Pan_T7917815_ACTGCTCCAGGTCGTC-1_contig_2  GAGGTGCAGCTGGTGGAGTCTGGGGGA...GGCCTGGTCAAGCCTG...   \n",
       "Pan_T7917815_CCTACCAGTGCCTTGG-1_contig_1  GAAATTGTGTTGACACAGTCTCCAGCCACCCTGTCTTTGTCTCCAG...   \n",
       "...                                                                                     ...   \n",
       "Pan_T7917815_TTGCCGTCAAGTCTGT-1_contig_2  GACATCCAGATGACCCAGTCTCCATCCTCCCTGTCTGCATCTGTAG...   \n",
       "Pan_T7917815_GTACTCCAGCCACTAT-1_contig_1  GACATCCAGATGACCCAGTCTCCATCTTCCGTGTCTGCATCTGTAG...   \n",
       "Pan_T7917815_GTACTCCAGCCACTAT-1_contig_2  GAGGTGCAGCTGGTGGAGTCTGGGGGA...GGCCTGGTCAAGCCTG...   \n",
       "Pan_T7917815_TTAGGACCACCAGGCT-1_contig_1  GAAATTGTGTTGACGCAGTCTCCAGGCACCCTGTCTTTGTCTCCAG...   \n",
       "Pan_T7917815_TTAGGACCACCAGGCT-1_contig_2  CAGGTGCAGCTGCAGGAGTCGGGCCCA...GGACTGGTGAAGCCTT...   \n",
       "\n",
       "                                                                                   junction  \\\n",
       "sequence_id                                                                                   \n",
       "Pan_T7917815_ACCTTTATCGCTTGTC-1_contig_1                  TGTCTACAGGGTGAGAGTTACCCTCTCACCTTC   \n",
       "Pan_T7917815_ACCTTTATCGCTTGTC-1_contig_2  TGTGCGAGTGATCCCCCTACTGCGGGAGACTACGGTGGCGGAGCCG...   \n",
       "Pan_T7917815_ACTGCTCCAGGTCGTC-1_contig_1                  TGTCAGCACTTTGGTAGCTCATCCTGGACGTTC   \n",
       "Pan_T7917815_ACTGCTCCAGGTCGTC-1_contig_2            TGTGCGAGAGGAGAGCGGGCGGCGGTAACCACCTACTGG   \n",
       "Pan_T7917815_CCTACCAGTGCCTTGG-1_contig_1               TGTCAGCAGCGTAGCAACTGGCCTCCGCTCACTTTC   \n",
       "...                                                                                     ...   \n",
       "Pan_T7917815_TTGCCGTCAAGTCTGT-1_contig_2                  TGTCAAAAGTATTCCAATGTTCCCTGGACGTTC   \n",
       "Pan_T7917815_GTACTCCAGCCACTAT-1_contig_1                  TGTCAACAGGCTAACAGTTTCCCGTACACTTTT   \n",
       "Pan_T7917815_GTACTCCAGCCACTAT-1_contig_2  TGTGCGAGTGATCCCCCTACTGCGGGAGACTACGGTGGCGGAGCCG...   \n",
       "Pan_T7917815_TTAGGACCACCAGGCT-1_contig_1                  TGTCAGCAATTTGGTGGCTCCTGGATCACCTTC   \n",
       "Pan_T7917815_TTAGGACCACCAGGCT-1_contig_2  TGCGCGAGATTTATAAGGCACCATTATTCGGGGACTTACAGTTATG...   \n",
       "\n",
       "                                          ... cdr3_end                np1  \\\n",
       "sequence_id                               ...                               \n",
       "Pan_T7917815_ACCTTTATCGCTTGTC-1_contig_1  ...      385                NaN   \n",
       "Pan_T7917815_ACCTTTATCGCTTGTC-1_contig_2  ...       90   TCCCCCTACTGCGGGA   \n",
       "Pan_T7917815_ACTGCTCCAGGTCGTC-1_contig_1  ...      394                TCC   \n",
       "Pan_T7917815_ACTGCTCCAGGTCGTC-1_contig_2  ...      458          GAGAGCGGG   \n",
       "Pan_T7917815_CCTACCAGTGCCTTGG-1_contig_1  ...      400                NaN   \n",
       "...                                       ...      ...                ...   \n",
       "Pan_T7917815_TTGCCGTCAAGTCTGT-1_contig_2  ...      387              TTCCC   \n",
       "Pan_T7917815_GTACTCCAGCCACTAT-1_contig_1  ...      397                NaN   \n",
       "Pan_T7917815_GTACTCCAGCCACTAT-1_contig_2  ...      479   TCCCCCTACTGCGGGA   \n",
       "Pan_T7917815_TTAGGACCACCAGGCT-1_contig_1  ...      391                CTG   \n",
       "Pan_T7917815_TTAGGACCACCAGGCT-1_contig_2  ...      449  TTTATAAGGCACCATTA   \n",
       "\n",
       "                                         np1_length         np2 np2_length  \\\n",
       "sequence_id                                                                  \n",
       "Pan_T7917815_ACCTTTATCGCTTGTC-1_contig_1          0         NaN        NaN   \n",
       "Pan_T7917815_ACCTTTATCGCTTGTC-1_contig_2         16  CGGAGCCGAT         10   \n",
       "Pan_T7917815_ACTGCTCCAGGTCGTC-1_contig_1          3         NaN        NaN   \n",
       "Pan_T7917815_ACTGCTCCAGGTCGTC-1_contig_2          9         CAC          3   \n",
       "Pan_T7917815_CCTACCAGTGCCTTGG-1_contig_1          0         NaN        NaN   \n",
       "...                                             ...         ...        ...   \n",
       "Pan_T7917815_TTGCCGTCAAGTCTGT-1_contig_2          5         NaN        NaN   \n",
       "Pan_T7917815_GTACTCCAGCCACTAT-1_contig_1          0         NaN        NaN   \n",
       "Pan_T7917815_GTACTCCAGCCACTAT-1_contig_2         16  CGGAGCCGAT         10   \n",
       "Pan_T7917815_TTAGGACCACCAGGCT-1_contig_1          3         NaN        NaN   \n",
       "Pan_T7917815_TTAGGACCACCAGGCT-1_contig_2         17    CAGTTATG          8   \n",
       "\n",
       "                                         junction_aa_length c_call  \\\n",
       "sequence_id                                                          \n",
       "Pan_T7917815_ACCTTTATCGCTTGTC-1_contig_1                 11   IGKC   \n",
       "Pan_T7917815_ACCTTTATCGCTTGTC-1_contig_2                 20  IGHG2   \n",
       "Pan_T7917815_ACTGCTCCAGGTCGTC-1_contig_1                 11   IGKC   \n",
       "Pan_T7917815_ACTGCTCCAGGTCGTC-1_contig_2                 13   IGHM   \n",
       "Pan_T7917815_CCTACCAGTGCCTTGG-1_contig_1                 12   IGKC   \n",
       "...                                                     ...    ...   \n",
       "Pan_T7917815_TTGCCGTCAAGTCTGT-1_contig_2                 11   IGKC   \n",
       "Pan_T7917815_GTACTCCAGCCACTAT-1_contig_1                 11   IGKC   \n",
       "Pan_T7917815_GTACTCCAGCCACTAT-1_contig_2                 20  IGHG2   \n",
       "Pan_T7917815_TTAGGACCACCAGGCT-1_contig_1                 11   IGKC   \n",
       "Pan_T7917815_TTAGGACCACCAGGCT-1_contig_2                 24  IGHG1   \n",
       "\n",
       "                                                                cell_id  \\\n",
       "sequence_id                                                               \n",
       "Pan_T7917815_ACCTTTATCGCTTGTC-1_contig_1  Pan_T7917815_ACCTTTATCGCTTGTC   \n",
       "Pan_T7917815_ACCTTTATCGCTTGTC-1_contig_2  Pan_T7917815_ACCTTTATCGCTTGTC   \n",
       "Pan_T7917815_ACTGCTCCAGGTCGTC-1_contig_1  Pan_T7917815_ACTGCTCCAGGTCGTC   \n",
       "Pan_T7917815_ACTGCTCCAGGTCGTC-1_contig_2  Pan_T7917815_ACTGCTCCAGGTCGTC   \n",
       "Pan_T7917815_CCTACCAGTGCCTTGG-1_contig_1  Pan_T7917815_CCTACCAGTGCCTTGG   \n",
       "...                                                                 ...   \n",
       "Pan_T7917815_TTGCCGTCAAGTCTGT-1_contig_2  Pan_T7917815_TTGCCGTCAAGTCTGT   \n",
       "Pan_T7917815_GTACTCCAGCCACTAT-1_contig_1  Pan_T7917815_GTACTCCAGCCACTAT   \n",
       "Pan_T7917815_GTACTCCAGCCACTAT-1_contig_2  Pan_T7917815_GTACTCCAGCCACTAT   \n",
       "Pan_T7917815_TTAGGACCACCAGGCT-1_contig_1  Pan_T7917815_TTAGGACCACCAGGCT   \n",
       "Pan_T7917815_TTAGGACCACCAGGCT-1_contig_2  Pan_T7917815_TTAGGACCACCAGGCT   \n",
       "\n",
       "                                             sample_id  \\\n",
       "sequence_id                                              \n",
       "Pan_T7917815_ACCTTTATCGCTTGTC-1_contig_1  Pan_T7917815   \n",
       "Pan_T7917815_ACCTTTATCGCTTGTC-1_contig_2  Pan_T7917815   \n",
       "Pan_T7917815_ACTGCTCCAGGTCGTC-1_contig_1  Pan_T7917815   \n",
       "Pan_T7917815_ACTGCTCCAGGTCGTC-1_contig_2  Pan_T7917815   \n",
       "Pan_T7917815_CCTACCAGTGCCTTGG-1_contig_1  Pan_T7917815   \n",
       "...                                                ...   \n",
       "Pan_T7917815_TTGCCGTCAAGTCTGT-1_contig_2  Pan_T7917815   \n",
       "Pan_T7917815_GTACTCCAGCCACTAT-1_contig_1  Pan_T7917815   \n",
       "Pan_T7917815_GTACTCCAGCCACTAT-1_contig_2  Pan_T7917815   \n",
       "Pan_T7917815_TTAGGACCACCAGGCT-1_contig_1  Pan_T7917815   \n",
       "Pan_T7917815_TTAGGACCACCAGGCT-1_contig_2  Pan_T7917815   \n",
       "\n",
       "                                                              v_call_genotyped  \n",
       "sequence_id                                                                     \n",
       "Pan_T7917815_ACCTTTATCGCTTGTC-1_contig_1                          IGKV1D-12*01  \n",
       "Pan_T7917815_ACCTTTATCGCTTGTC-1_contig_2   IGHV3-21*06,IGHV3-30*07,IGHV3-30*12  \n",
       "Pan_T7917815_ACTGCTCCAGGTCGTC-1_contig_1                           IGKV3-20*01  \n",
       "Pan_T7917815_ACTGCTCCAGGTCGTC-1_contig_2                           IGHV3-21*01  \n",
       "Pan_T7917815_CCTACCAGTGCCTTGG-1_contig_1                           IGKV3-11*01  \n",
       "...                                                                        ...  \n",
       "Pan_T7917815_TTGCCGTCAAGTCTGT-1_contig_2                           IGKV1-27*01  \n",
       "Pan_T7917815_GTACTCCAGCCACTAT-1_contig_1  IGKV1-12*01,IGKV1-12*02,IGKV1D-12*02  \n",
       "Pan_T7917815_GTACTCCAGCCACTAT-1_contig_2                           IGHV3-21*01  \n",
       "Pan_T7917815_TTAGGACCACCAGGCT-1_contig_1                           IGKV3-20*01  \n",
       "Pan_T7917815_TTAGGACCACCAGGCT-1_contig_2                            IGHV4-4*02  \n",
       "\n",
       "[459 rows x 96 columns]"
      ]
     },
     "execution_count": 8,
     "metadata": {},
     "output_type": "execute_result"
    }
   ],
   "source": [
    "vdj"
   ]
  },
  {
   "cell_type": "markdown",
   "metadata": {},
   "source": [
    "#### Check the AnnData object as well\n",
    "And the `AnnData` object is indexed based on cells."
   ]
  },
  {
   "cell_type": "code",
   "execution_count": 9,
   "metadata": {
    "scrolled": true
   },
   "outputs": [
    {
     "data": {
      "text/plain": [
       "View of AnnData object with n_obs × n_vars = 816 × 33694 \n",
       "    obs: 'sampleid', 'gender', 'donor', 'tissue', 'experiment', 'scrublet_score', 'n_genes', 'percent_mito', 'n_counts', 'bh_pval', 'is_doublet', 'filter_rna', 'has_bcr', 'filter_bcr_quality', 'filter_bcr_heavy', 'filter_bcr_light'\n",
       "    var: 'gene_ids', 'feature_types'"
      ]
     },
     "execution_count": 9,
     "metadata": {},
     "output_type": "execute_result"
    }
   ],
   "source": [
    "adata"
   ]
  },
  {
   "cell_type": "markdown",
   "metadata": {},
   "source": [
    "#### Now actually filter the AnnData object and run through a standard workflow starting by filtering genes and normalizing the data\n",
    "Because the 'filtered' `AnnData` object was returned as a filtered but otherwise unprocessed object, we still need to normalize and run through the usual stuff here."
   ]
  },
  {
   "cell_type": "code",
   "execution_count": 10,
   "metadata": {},
   "outputs": [
    {
     "name": "stderr",
     "output_type": "stream",
     "text": [
      "Trying to set attribute `.var` of view, copying.\n"
     ]
    }
   ],
   "source": [
    "# filter genes\n",
    "sc.pp.filter_genes(adata, min_cells=3)\n",
    "# Normalize the counts\n",
    "sc.pp.normalize_total(adata, target_sum=1e4)\n",
    "# Logarithmize the data\n",
    "sc.pp.log1p(adata)\n",
    "# Stash the normalised counts\n",
    "adata.raw = adata"
   ]
  },
  {
   "cell_type": "markdown",
   "metadata": {},
   "source": [
    "#### Identify highly-variable genes"
   ]
  },
  {
   "cell_type": "code",
   "execution_count": 11,
   "metadata": {},
   "outputs": [
    {
     "data": {
      "image/png": "[encoded data removed]",
      "text/plain": [
       "<Figure size 864x288 with 2 Axes>"
      ]
     },
     "metadata": {
      "needs_background": "light"
     },
     "output_type": "display_data"
    }
   ],
   "source": [
    "sc.pp.highly_variable_genes(adata, min_mean=0.0125, max_mean=3, min_disp=0.5)\n",
    "sc.pl.highly_variable_genes(adata)"
   ]
  },
  {
   "cell_type": "markdown",
   "metadata": {},
   "source": [
    "#### Filter the genes to only those marked as highly-variable"
   ]
  },
  {
   "cell_type": "code",
   "execution_count": 12,
   "metadata": {},
   "outputs": [],
   "source": [
    "adata = adata[:, adata.var.highly_variable]"
   ]
  },
  {
   "cell_type": "markdown",
   "metadata": {},
   "source": [
    "#### Regress out effects of total counts per cell and the percentage of mitochondrial genes expressed.Scale the data to unit variance."
   ]
  },
  {
   "cell_type": "code",
   "execution_count": 13,
   "metadata": {},
   "outputs": [
    {
     "name": "stderr",
     "output_type": "stream",
     "text": [
      "Trying to set attribute `.obs` of view, copying.\n",
      "... storing 'sampleid' as categorical\n",
      "Trying to set attribute `.obs` of view, copying.\n",
      "... storing 'gender' as categorical\n",
      "Trying to set attribute `.obs` of view, copying.\n",
      "... storing 'donor' as categorical\n",
      "Trying to set attribute `.obs` of view, copying.\n",
      "... storing 'tissue' as categorical\n",
      "Trying to set attribute `.var` of view, copying.\n",
      "... storing 'feature_types' as categorical\n"
     ]
    }
   ],
   "source": [
    "sc.pp.regress_out(adata, ['n_counts', 'percent_mito'])\n",
    "sc.pp.scale(adata, max_value=10)"
   ]
  },
  {
   "cell_type": "markdown",
   "metadata": {},
   "source": [
    "#### Run PCA"
   ]
  },
  {
   "cell_type": "code",
   "execution_count": 14,
   "metadata": {},
   "outputs": [
    {
     "data": {
      "image/png": "[encoded data removed]",
      "text/plain": [
       "<Figure size 432x288 with 1 Axes>"
      ]
     },
     "metadata": {
      "needs_background": "light"
     },
     "output_type": "display_data"
    }
   ],
   "source": [
    "sc.tl.pca(adata, svd_solver='arpack')\n",
    "sc.pl.pca_variance_ratio(adata, log=True, n_pcs = 50)"
   ]
  },
  {
   "cell_type": "markdown",
   "metadata": {},
   "source": [
    "#### Computing the neighborhood graph, umap and clusters"
   ]
  },
  {
   "cell_type": "code",
   "execution_count": 15,
   "metadata": {},
   "outputs": [],
   "source": [
    "# Computing the neighborhood graph\n",
    "sc.pp.neighbors(adata, n_neighbors=10, n_pcs=50)\n",
    "# Embedding the neighborhood graph\n",
    "sc.tl.umap(adata, min_dist = 0.3)\n",
    "# Clustering the neighborhood graph\n",
    "sc.tl.leiden(adata)"
   ]
  },
  {
   "cell_type": "markdown",
   "metadata": {},
   "source": [
    "#### Visualizing the clusters and whether or not there's a corresponding BCR"
   ]
  },
  {
   "cell_type": "code",
   "execution_count": 16,
   "metadata": {
    "scrolled": true
   },
   "outputs": [
    {
     "data": {
      "image/png": "[encoded data removed]",
      "text/plain": [
       "<Figure size 989.28x288 with 2 Axes>"
      ]
     },
     "metadata": {},
     "output_type": "display_data"
    }
   ],
   "source": [
    "sc.pl.umap(adata, color=['leiden', 'has_bcr'])"
   ]
  },
  {
   "cell_type": "markdown",
   "metadata": {},
   "source": [
    "#### Visualizing some B cell genes"
   ]
  },
  {
   "cell_type": "code",
   "execution_count": 17,
   "metadata": {
    "scrolled": true
   },
   "outputs": [
    {
     "data": {
      "image/png": "[encoded data removed]",
      "text/plain": [
       "<Figure size 989.28x288 with 4 Axes>"
      ]
     },
     "metadata": {
      "needs_background": "light"
     },
     "output_type": "display_data"
    }
   ],
   "source": [
    "sc.pl.umap(adata, color=['IGHM', 'JCHAIN'])"
   ]
  },
  {
   "cell_type": "markdown",
   "metadata": {},
   "source": [
    "#### Save the AnnData file\n",
    "That's it! We can save this `AnnData` object for now and take a break. The vdj table is already saved from the filtering step earlier, with the suffix `filtered` appended to the filename."
   ]
  },
  {
   "cell_type": "code",
   "execution_count": 18,
   "metadata": {},
   "outputs": [
    {
     "name": "stderr",
     "output_type": "stream",
     "text": [
      "... storing 'feature_types' as categorical\n"
     ]
    }
   ],
   "source": [
    "adata.write(bcr_folder+sample+'/dandelion/data/adata.h5ad', compression = 'gzip')"
   ]
  },
  {
   "cell_type": "markdown",
   "metadata": {},
   "source": [
    "#### The number of cells that actually has a matching BCR can be tabluated."
   ]
  },
  {
   "cell_type": "code",
   "execution_count": 19,
   "metadata": {},
   "outputs": [
    {
     "data": {
      "text/html": [
       "<div>\n",
       "<style scoped>\n",
       "    .dataframe tbody tr th:only-of-type {\n",
       "        vertical-align: middle;\n",
       "    }\n",
       "\n",
       "    .dataframe tbody tr th {\n",
       "        vertical-align: top;\n",
       "    }\n",
       "\n",
       "    .dataframe thead th {\n",
       "        text-align: right;\n",
       "    }\n",
       "</style>\n",
       "<table border=\"1\" class=\"dataframe\">\n",
       "  <thead>\n",
       "    <tr style=\"text-align: right;\">\n",
       "      <th>sampleid</th>\n",
       "      <th>Pan_T7917815</th>\n",
       "    </tr>\n",
       "    <tr>\n",
       "      <th>has_bcr</th>\n",
       "      <th></th>\n",
       "    </tr>\n",
       "  </thead>\n",
       "  <tbody>\n",
       "    <tr>\n",
       "      <th>False</th>\n",
       "      <td>577</td>\n",
       "    </tr>\n",
       "    <tr>\n",
       "      <th>True</th>\n",
       "      <td>239</td>\n",
       "    </tr>\n",
       "  </tbody>\n",
       "</table>\n",
       "</div>"
      ],
      "text/plain": [
       "sampleid  Pan_T7917815\n",
       "has_bcr               \n",
       "False              577\n",
       "True               239"
      ]
     },
     "execution_count": 19,
     "metadata": {},
     "output_type": "execute_result"
    }
   ],
   "source": [
    "pd.crosstab(adata.obs['has_bcr'], adata.obs['sampleid'])"
   ]
  },
  {
   "cell_type": "code",
   "execution_count": null,
   "metadata": {},
   "outputs": [],
   "source": []
  }
 ],
 "metadata": {
  "kernelspec": {
   "display_name": "Python (dandelion)",
   "language": "python",
   "name": "dandelion"
  },
  "language_info": {
   "codemirror_mode": {
    "name": "ipython",
    "version": 3
   },
   "file_extension": ".py",
   "mimetype": "text/x-python",
   "name": "python",
   "nbconvert_exporter": "python",
   "pygments_lexer": "ipython3",
   "version": "3.7.6"
  }
 },
 "nbformat": 4,
 "nbformat_minor": 2
}
