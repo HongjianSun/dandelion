{
 "cells": [
  {
   "cell_type": "markdown",
   "metadata": {},
   "source": [
    "# *dandelion* Notebook-2\n",
    "![dandelion_logo](img/dandelion_logo.png)\n",
    "\n",
    "## Filtering\n",
    "Now that the most time-consuming but essential part of the pre-processing is done in part 1, we can move on filtering out cells (and corresponding contigs) from the BCR data and transcriptome object loaded in *scanpy*."
   ]
  },
  {
   "cell_type": "markdown",
   "metadata": {},
   "source": [
    "#### Import *dandelion* module"
   ]
  },
  {
   "cell_type": "code",
   "execution_count": 1,
   "metadata": {},
   "outputs": [
    {
     "name": "stderr",
     "output_type": "stream",
     "text": [
      "/Users/kt16/miniconda3/envs/dandelion/lib/python3.7/site-packages/anndata/_core/anndata.py:21: FutureWarning: pandas.core.index is deprecated and will be removed in a future version.  The public classes are available in the top-level namespace.\n",
      "  from pandas.core.index import RangeIndex\n"
     ]
    }
   ],
   "source": [
    "import os\n",
    "os.chdir(os.path.expanduser('/Users/kt16/Documents/Github/dandelion'))\n",
    "import dandelion as ddl\n",
    "# change directory to somewhere more workable\n",
    "os.chdir(os.path.expanduser('/Users/kt16/Documents/Clatworthy_scRNAseq/Ondrej/PIP/'))"
   ]
  },
  {
   "cell_type": "markdown",
   "metadata": {},
   "source": [
    "#### Import modules for use with scanpy"
   ]
  },
  {
   "cell_type": "code",
   "execution_count": 2,
   "metadata": {},
   "outputs": [
    {
     "name": "stdout",
     "output_type": "stream",
     "text": [
      "scanpy==1.4.6 anndata==0.7.1 umap==0.4.3 numpy==1.17.5 scipy==1.4.1 pandas==1.0.4 scikit-learn==0.23.1 statsmodels==0.11.1 python-igraph==0.8.2\n"
     ]
    }
   ],
   "source": [
    "import pandas as pd\n",
    "import numpy as np\n",
    "import scanpy as sc\n",
    "import warnings\n",
    "import functools\n",
    "import seaborn as sns\n",
    "import scipy.stats\n",
    "import anndata\n",
    "\n",
    "warnings.filterwarnings('ignore')\n",
    "sc.logging.print_versions()"
   ]
  },
  {
   "cell_type": "markdown",
   "metadata": {},
   "source": [
    "#### Set up some variables and again, prepare the dictionary for sample id swapping\n",
    "From this point onwards, I will just work with one sample to keep things simple. Pan_T7918901 is the BCR-seq sample of a spleen sample so it should have lots of B cells."
   ]
  },
  {
   "cell_type": "code",
   "execution_count": 3,
   "metadata": {},
   "outputs": [],
   "source": [
    "sample = 'Pan_T7918901'\n",
    "bcr_folder = 'Pan_Immune_BCR/'\n",
    "gex_folder = 'Pan_Immune_GEX/'\n",
    "sampledict = ddl.utl.dict_from_table('/Users/kt16/Documents/Clatworthy_scRNAseq/Ondrej/dandelion_files/meta/PIP_sampleInfo_kt16.txt', columns = ('SANGER SAMPLE ID', 'GEX_SAMPLE_ID')) # optional\n",
    "meta = pd.read_csv('Pan_Immune_meta/PIP_sampleInfo_kt16.csv', dtype = 'object')"
   ]
  },
  {
   "cell_type": "markdown",
   "metadata": {},
   "source": [
    "#### Setting up dictionaries from the meta data to let me add the info to the obs slot"
   ]
  },
  {
   "cell_type": "code",
   "execution_count": 4,
   "metadata": {},
   "outputs": [],
   "source": [
    "sampleid = dict(zip(meta['SANGER SAMPLE ID'],meta['SANGER SAMPLE ID']))\n",
    "gender = dict(zip(meta['SANGER SAMPLE ID'],meta['GENDER']))\n",
    "donor = dict(zip(meta['SANGER SAMPLE ID'],meta['SANGERID']))\n",
    "tissue = dict(zip(meta['SANGER SAMPLE ID'],meta['TISSUE']))\n",
    "experiment = dict(zip(meta['SANGER SAMPLE ID'],meta['COMMENTS']))"
   ]
  },
  {
   "cell_type": "markdown",
   "metadata": {},
   "source": [
    "#### Import the transcriptome data and populate the obs slot with meta data"
   ]
  },
  {
   "cell_type": "code",
   "execution_count": 5,
   "metadata": {},
   "outputs": [
    {
     "data": {
      "text/plain": [
       "AnnData object with n_obs × n_vars = 4002 × 33694 \n",
       "    obs: 'sampleid', 'gender', 'donor', 'tissue', 'experiment'\n",
       "    var: 'gene_ids', 'feature_types'"
      ]
     },
     "execution_count": 5,
     "metadata": {},
     "output_type": "execute_result"
    }
   ],
   "source": [
    "inputfolder=gex_folder+sampledict[sample]+'/filtered_feature_bc_matrix/'\n",
    "adata = sc.read_10x_mtx(inputfolder)\n",
    "adata.obs['sampleid'] = sampleid[sampledict[sample]]\n",
    "adata.obs['gender'] = gender[sampledict[sample]]\n",
    "adata.obs['donor'] = donor[sampledict[sample]]\n",
    "adata.obs['tissue'] = tissue[sampledict[sample]]\n",
    "adata.obs['experiment'] = experiment[sampledict[sample]]\n",
    "# rename cells to sample id + barcode, cleaving the trailing -1\n",
    "adata.obs_names = [str(sampledict[sample])+'_'+str(j).split('-')[0] for j in adata.obs_names]\n",
    "adata"
   ]
  },
  {
   "cell_type": "markdown",
   "metadata": {},
   "source": [
    "#### scanpy qc recipe\n",
    "I've included a wrapper called `pp.recipe_scanpy_qc` to run through a generic [scanpy](https://scanpy-tutorials.readthedocs.io/en/latest/pbmc3k.html) workflow that includes [scrublet](https://github.com/AllonKleinLab/scrublet) doublet detection. The function does not filter the cells and is simply a way to mark bad quality cells and potential doublets in the `.obs` slot. The scrublet doublet detection is implemented based on [kp9](kp9@sanger.ac.uk)'s *Bertie's* doublet calling [procedure](https://www.nature.com/articles/s41467-018-06318-7).\n",
    "\n",
    "Whether or not you run this is up to you. You can provide in a pre-processed `AnnData` object for the subsequent steps"
   ]
  },
  {
   "cell_type": "code",
   "execution_count": 6,
   "metadata": {
    "scrolled": true
   },
   "outputs": [
    {
     "data": {
      "text/plain": [
       "AnnData object with n_obs × n_vars = 4002 × 33694 \n",
       "    obs: 'sampleid', 'gender', 'donor', 'tissue', 'experiment', 'scrublet_score', 'n_genes', 'percent_mito', 'n_counts', 'bh_pval', 'is_doublet', 'filter_rna'\n",
       "    var: 'gene_ids', 'feature_types'"
      ]
     },
     "execution_count": 6,
     "metadata": {},
     "output_type": "execute_result"
    }
   ],
   "source": [
    "ddl.pp.recipe_scanpy_qc(adata)\n",
    "adata"
   ]
  },
  {
   "cell_type": "markdown",
   "metadata": {},
   "source": [
    "As mentioned, the function doesn't actually filter any cells, but just populate the `.obs` slot with the following columns:\n",
    "```\n",
    "'n_genes'\n",
    "'percent_mito'\n",
    "'n_counts'\n",
    "'is_doublet'\n",
    "'filter_rna'\n",
    "```\n",
    "Only `'filter_rna'` is needed for the next step.\n",
    "\n",
    "If you have a pre-processed/filltered `AnnData` object that is ready, just add a `'filter_rna'` column into the `.obs` slot with every value set to `False` and you should be good to go:\n",
    "\n",
    "```python\n",
    "adata.obs['filter_rna'] = False\n",
    "```"
   ]
  },
  {
   "cell_type": "markdown",
   "metadata": {},
   "source": [
    "#### Filter cells that are potental doublets and poor quality in both the BCR data and transcriptome data\n",
    "We use the tool function `pp.filter_bcr` to mark and filter out cells and contigs from both the BCR data and transcriptome data in `AnnData`. The operation will remove bad quality cells based on transcriptome information as well as remove BCR doublets (multiplet heavy chain, and/or light chains) from the BCR data. Cells in the gene expression object without BCR information will not be affected i.e. the `AnnData` object can hold non-B cells. Run `?ddl.pp.filter_bcr` to check the what each option does.\n",
    "\n",
    "You can further filter it yourself to re-calculating the clusters and embeddings etc., but it's not necessary at this stage."
   ]
  },
  {
   "cell_type": "code",
   "execution_count": 7,
   "metadata": {
    "scrolled": true
   },
   "outputs": [
    {
     "name": "stderr",
     "output_type": "stream",
     "text": [
      "Marking barcodes with poor quality BCRs and BCR doublets: 100%|██████████| 1852/1852 [00:05<00:00, 337.89it/s]\n",
      "Annotating in anndata obs slot : 100%|██████████| 4002/4002 [00:00<00:00, 36633.23it/s]\n"
     ]
    }
   ],
   "source": [
    "# point to the bcr file i'm going to work with\n",
    "bcr_file = bcr_folder+sample+'/dandelion/data/all_contig_igblast_gap_genotyped.tsv'\n",
    "\n",
    "# The function will return both objects. \n",
    "vdj, adata = ddl.pp.filter_bcr(bcr_file, adata)"
   ]
  },
  {
   "cell_type": "markdown",
   "metadata": {},
   "source": [
    "The default mode is to filter any 'doublet' light chains, but some may be interested in keeping them. The option to change the behaviour is by toggling:\n",
    "```python\n",
    "filter_lightchains=False\n",
    "```\n",
    "\n",
    "Another default behavour is that if the cell in the BCR table cannot be found in the transcriptomic data, it will also be removed from the BCR data. This can be changed by toggling:\n",
    "```python\n",
    "filter_missing=False\n",
    "```"
   ]
  },
  {
   "cell_type": "markdown",
   "metadata": {},
   "source": [
    "#### Check the output vdj table\n",
    "Note that the vdj table is indexed based on contigs (sequence_id)."
   ]
  },
  {
   "cell_type": "code",
   "execution_count": 8,
   "metadata": {},
   "outputs": [
    {
     "data": {
      "text/html": [
       "<div>\n",
       "<style scoped>\n",
       "    .dataframe tbody tr th:only-of-type {\n",
       "        vertical-align: middle;\n",
       "    }\n",
       "\n",
       "    .dataframe tbody tr th {\n",
       "        vertical-align: top;\n",
       "    }\n",
       "\n",
       "    .dataframe thead th {\n",
       "        text-align: right;\n",
       "    }\n",
       "</style>\n",
       "<table border=\"1\" class=\"dataframe\">\n",
       "  <thead>\n",
       "    <tr style=\"text-align: right;\">\n",
       "      <th></th>\n",
       "      <th>sequence_id</th>\n",
       "      <th>sequence</th>\n",
       "      <th>rev_comp</th>\n",
       "      <th>productive</th>\n",
       "      <th>v_call</th>\n",
       "      <th>d_call</th>\n",
       "      <th>j_call</th>\n",
       "      <th>sequence_alignment</th>\n",
       "      <th>germline_alignment</th>\n",
       "      <th>junction</th>\n",
       "      <th>...</th>\n",
       "      <th>umi_count</th>\n",
       "      <th>c_sequence_alignment</th>\n",
       "      <th>c_sequence_start</th>\n",
       "      <th>c_sequence_end</th>\n",
       "      <th>c_score</th>\n",
       "      <th>c_identity</th>\n",
       "      <th>c_support</th>\n",
       "      <th>sample_id</th>\n",
       "      <th>v_call_genotyped</th>\n",
       "      <th>germline_alignment_d_mask</th>\n",
       "    </tr>\n",
       "    <tr>\n",
       "      <th>sequence_id</th>\n",
       "      <th></th>\n",
       "      <th></th>\n",
       "      <th></th>\n",
       "      <th></th>\n",
       "      <th></th>\n",
       "      <th></th>\n",
       "      <th></th>\n",
       "      <th></th>\n",
       "      <th></th>\n",
       "      <th></th>\n",
       "      <th></th>\n",
       "      <th></th>\n",
       "      <th></th>\n",
       "      <th></th>\n",
       "      <th></th>\n",
       "      <th></th>\n",
       "      <th></th>\n",
       "      <th></th>\n",
       "      <th></th>\n",
       "      <th></th>\n",
       "      <th></th>\n",
       "    </tr>\n",
       "  </thead>\n",
       "  <tbody>\n",
       "    <tr>\n",
       "      <th>Pan_T7917815_ACCTTTATCGCTTGTC-1_contig_1</th>\n",
       "      <td>Pan_T7917815_ACCTTTATCGCTTGTC-1_contig_1</td>\n",
       "      <td>GAGGAGTCAGACCCAGTCAGGACACAGCATGGACATGAGGGTCCCC...</td>\n",
       "      <td>F</td>\n",
       "      <td>T</td>\n",
       "      <td>IGKV1D-12*01</td>\n",
       "      <td>NaN</td>\n",
       "      <td>IGKJ5*01</td>\n",
       "      <td>GACATCCAGATGACCCAGTCTCCATCTTCTGTGTCTGCATCTTTAG...</td>\n",
       "      <td>GACATCCAGATGACCCAGTCTCCATCTTCTGTGTCTGCATCTGTAG...</td>\n",
       "      <td>TGTCTACAGGGTGAGAGTTACCCTCTCACCTTC</td>\n",
       "      <td>...</td>\n",
       "      <td>42</td>\n",
       "      <td>CGAACTGTGGCTGCACCATCTGTCTTCATCTTCCCGCCATCTGATG...</td>\n",
       "      <td>416</td>\n",
       "      <td>552</td>\n",
       "      <td>254.111</td>\n",
       "      <td>100.00</td>\n",
       "      <td>5e-70</td>\n",
       "      <td>Pan_T7917815</td>\n",
       "      <td>IGKV1D-12*01</td>\n",
       "      <td>GACATCCAGATGACCCAGTCTCCATCTTCTGTGTCTGCATCTGTAG...</td>\n",
       "    </tr>\n",
       "    <tr>\n",
       "      <th>Pan_T7917815_ACCTTTATCGCTTGTC-1_contig_2</th>\n",
       "      <td>Pan_T7917815_ACCTTTATCGCTTGTC-1_contig_2</td>\n",
       "      <td>AGCCTGCGAGGCGAAGATACGGCTATCTATTACTGTGCGAGTGATC...</td>\n",
       "      <td>F</td>\n",
       "      <td>T</td>\n",
       "      <td>IGHV3-21*06,IGHV3-30*07,IGHV3-30*12</td>\n",
       "      <td>IGHD4-23*01</td>\n",
       "      <td>IGHJ4*02</td>\n",
       "      <td>.................................................</td>\n",
       "      <td>AATTCACTGTATCTGCAAATGAACAGCCTGAGAGCCGAGGACACNN...</td>\n",
       "      <td>TGTGCGAGTGATCCCCCTACTGCGGGAGACTACGGTGGCGGAGCCG...</td>\n",
       "      <td>...</td>\n",
       "      <td>2</td>\n",
       "      <td>GCCTCCACCAAGGGCCCATCGGTCTTCCCCCTGGCGCCCTGCTCCA...</td>\n",
       "      <td>124</td>\n",
       "      <td>305</td>\n",
       "      <td>337.211</td>\n",
       "      <td>100.00</td>\n",
       "      <td>3e-95</td>\n",
       "      <td>Pan_T7917815</td>\n",
       "      <td>IGHV3-21*06,IGHV3-30*07,IGHV3-30*12</td>\n",
       "      <td>GAGGTGCAGCTGGTGGAGTCTGGGGGA...GGCCTGGTCAAGCCTG...</td>\n",
       "    </tr>\n",
       "    <tr>\n",
       "      <th>Pan_T7917815_ACTGCTCCAGGTCGTC-1_contig_1</th>\n",
       "      <td>Pan_T7917815_ACTGCTCCAGGTCGTC-1_contig_1</td>\n",
       "      <td>TGGGGGAGAAGAGCTGCTCAGTTAGGACCCAGAGGGAACCATGGAA...</td>\n",
       "      <td>F</td>\n",
       "      <td>T</td>\n",
       "      <td>IGKV3-20*01</td>\n",
       "      <td>NaN</td>\n",
       "      <td>IGKJ1*01</td>\n",
       "      <td>GAAATTGTGTTGACGCAGTCTCCAGGCACCCTGTCTTTGTCTCCAG...</td>\n",
       "      <td>GAAATTGTGTTGACGCAGTCTCCAGGCACCCTGTCTTTGTCTCCAG...</td>\n",
       "      <td>TGTCAGCACTTTGGTAGCTCATCCTGGACGTTC</td>\n",
       "      <td>...</td>\n",
       "      <td>102</td>\n",
       "      <td>CGAACTGTGGCTGCACCATCTGTCTTCATCTTCCCGCCATCTGATG...</td>\n",
       "      <td>425</td>\n",
       "      <td>666</td>\n",
       "      <td>448.01</td>\n",
       "      <td>100.00</td>\n",
       "      <td>3e-128</td>\n",
       "      <td>Pan_T7917815</td>\n",
       "      <td>IGKV3-20*01</td>\n",
       "      <td>GAAATTGTGTTGACGCAGTCTCCAGGCACCCTGTCTTTGTCTCCAG...</td>\n",
       "    </tr>\n",
       "    <tr>\n",
       "      <th>Pan_T7917815_ACTGCTCCAGGTCGTC-1_contig_2</th>\n",
       "      <td>Pan_T7917815_ACTGCTCCAGGTCGTC-1_contig_2</td>\n",
       "      <td>GAGCTCTGAGAGAGGAGCCTTAGCCCTGGATTCCAAGGCCTATCCA...</td>\n",
       "      <td>F</td>\n",
       "      <td>T</td>\n",
       "      <td>IGHV3-21*01</td>\n",
       "      <td>IGHD4-23*01</td>\n",
       "      <td>IGHJ4*02</td>\n",
       "      <td>GAGGTGCAGTTGGTGGAGTCTGGGGGA...GGCCTGGTCAAGCCTG...</td>\n",
       "      <td>GAGGTGCAGCTGGTGGAGTCTGGGGGA...GGCCTGGTCAAGCCTG...</td>\n",
       "      <td>TGTGCGAGAGGAGAGCGGGCGGCGGTAACCACCTACTGG</td>\n",
       "      <td>...</td>\n",
       "      <td>20</td>\n",
       "      <td>GGGAGTGCATCCGCCCCAACCCTTTTCCCCCTCGTCTCCTGTGAGA...</td>\n",
       "      <td>492</td>\n",
       "      <td>563</td>\n",
       "      <td>134.079</td>\n",
       "      <td>100.00</td>\n",
       "      <td>7e-34</td>\n",
       "      <td>Pan_T7917815</td>\n",
       "      <td>IGHV3-21*01</td>\n",
       "      <td>GAGGTGCAGCTGGTGGAGTCTGGGGGA...GGCCTGGTCAAGCCTG...</td>\n",
       "    </tr>\n",
       "    <tr>\n",
       "      <th>Pan_T7917815_CCTACCAGTGCCTTGG-1_contig_1</th>\n",
       "      <td>Pan_T7917815_CCTACCAGTGCCTTGG-1_contig_1</td>\n",
       "      <td>AGAGAGCCCTGGGGAGGAACTGCTCAGTTAGGACCCAGAGGGAACC...</td>\n",
       "      <td>F</td>\n",
       "      <td>T</td>\n",
       "      <td>IGKV3-11*01</td>\n",
       "      <td>NaN</td>\n",
       "      <td>IGKJ4*01</td>\n",
       "      <td>GAGATTGTGTTGACTCAGTCTCCAGTCACCCTGTCTTTGTCTCCAG...</td>\n",
       "      <td>GAAATTGTGTTGACACAGTCTCCAGCCACCCTGTCTTTGTCTCCAG...</td>\n",
       "      <td>TGTCAGCAGCGTAGCAACTGGCCTCCGCTCACTTTC</td>\n",
       "      <td>...</td>\n",
       "      <td>422</td>\n",
       "      <td>CGAACTGTGGCTGCACCATCTGTCTTCATCTTCCCGCCATCTGATG...</td>\n",
       "      <td>431</td>\n",
       "      <td>567</td>\n",
       "      <td>254.111</td>\n",
       "      <td>100.00</td>\n",
       "      <td>5e-70</td>\n",
       "      <td>Pan_T7917815</td>\n",
       "      <td>IGKV3-11*01</td>\n",
       "      <td>GAAATTGTGTTGACACAGTCTCCAGCCACCCTGTCTTTGTCTCCAG...</td>\n",
       "    </tr>\n",
       "    <tr>\n",
       "      <th>...</th>\n",
       "      <td>...</td>\n",
       "      <td>...</td>\n",
       "      <td>...</td>\n",
       "      <td>...</td>\n",
       "      <td>...</td>\n",
       "      <td>...</td>\n",
       "      <td>...</td>\n",
       "      <td>...</td>\n",
       "      <td>...</td>\n",
       "      <td>...</td>\n",
       "      <td>...</td>\n",
       "      <td>...</td>\n",
       "      <td>...</td>\n",
       "      <td>...</td>\n",
       "      <td>...</td>\n",
       "      <td>...</td>\n",
       "      <td>...</td>\n",
       "      <td>...</td>\n",
       "      <td>...</td>\n",
       "      <td>...</td>\n",
       "      <td>...</td>\n",
       "    </tr>\n",
       "    <tr>\n",
       "      <th>Pan_T7917815_TTGCCGTCAAGTCTGT-1_contig_2</th>\n",
       "      <td>Pan_T7917815_TTGCCGTCAAGTCTGT-1_contig_2</td>\n",
       "      <td>GGCAGAAGTCTCTCTCAGTCAGGACACAGCATGGACATGAGGGTCC...</td>\n",
       "      <td>F</td>\n",
       "      <td>T</td>\n",
       "      <td>IGKV1-27*01</td>\n",
       "      <td>NaN</td>\n",
       "      <td>IGKJ1*01</td>\n",
       "      <td>GACATCCAGATGACCCAGTCTCCATCCTCCCTGTCTGCATCTGTAG...</td>\n",
       "      <td>GACATCCAGATGACCCAGTCTCCATCCTCCCTGTCTGCATCTGTAG...</td>\n",
       "      <td>TGTCAAAAGTATTCCAATGTTCCCTGGACGTTC</td>\n",
       "      <td>...</td>\n",
       "      <td>272</td>\n",
       "      <td>CGAACTGTGGCTGCACCATCTGTCTTCATCTTCCCGCCATCTGATG...</td>\n",
       "      <td>418</td>\n",
       "      <td>554</td>\n",
       "      <td>254.111</td>\n",
       "      <td>100.00</td>\n",
       "      <td>5e-70</td>\n",
       "      <td>Pan_T7917815</td>\n",
       "      <td>IGKV1-27*01</td>\n",
       "      <td>GACATCCAGATGACCCAGTCTCCATCCTCCCTGTCTGCATCTGTAG...</td>\n",
       "    </tr>\n",
       "    <tr>\n",
       "      <th>Pan_T7917815_GTACTCCAGCCACTAT-1_contig_1</th>\n",
       "      <td>Pan_T7917815_GTACTCCAGCCACTAT-1_contig_1</td>\n",
       "      <td>GGACACCCTGTGCAGGAGTCAGACCCAGTCAGGACACAGCATGGAC...</td>\n",
       "      <td>F</td>\n",
       "      <td>T</td>\n",
       "      <td>IGKV1-12*01,IGKV1-12*02,IGKV1D-12*02</td>\n",
       "      <td>NaN</td>\n",
       "      <td>IGKJ2*01</td>\n",
       "      <td>GACATCCAGATGACCCAGTCTCCATCTTCCGTGTCTGCATCTGTAG...</td>\n",
       "      <td>GACATCCAGATGACCCAGTCTCCATCTTCCGTGTCTGCATCTGTAG...</td>\n",
       "      <td>TGTCAACAGGCTAACAGTTTCCCGTACACTTTT</td>\n",
       "      <td>...</td>\n",
       "      <td>188</td>\n",
       "      <td>CGAACTGTGGCTGCACCATCTGTCTTCATCTTCCCGCCATCTGATG...</td>\n",
       "      <td>428</td>\n",
       "      <td>564</td>\n",
       "      <td>254.111</td>\n",
       "      <td>100.00</td>\n",
       "      <td>5e-70</td>\n",
       "      <td>Pan_T7917815</td>\n",
       "      <td>IGKV1-12*01,IGKV1-12*02,IGKV1D-12*02</td>\n",
       "      <td>GACATCCAGATGACCCAGTCTCCATCTTCCGTGTCTGCATCTGTAG...</td>\n",
       "    </tr>\n",
       "    <tr>\n",
       "      <th>Pan_T7917815_GTACTCCAGCCACTAT-1_contig_2</th>\n",
       "      <td>Pan_T7917815_GTACTCCAGCCACTAT-1_contig_2</td>\n",
       "      <td>GAGCTCTGAGAGAGGAGCCTTAGCCCTGGATTCCAAGGCCTATCCA...</td>\n",
       "      <td>F</td>\n",
       "      <td>T</td>\n",
       "      <td>IGHV3-21*01</td>\n",
       "      <td>IGHD4-23*01</td>\n",
       "      <td>IGHJ4*02</td>\n",
       "      <td>GAGGTGCAGCTGGTGGAGTCTGGGGGA...GGCCTGGTCAAGCCTG...</td>\n",
       "      <td>GAGGTGCAGCTGGTGGAGTCTGGGGGA...GGCCTGGTCAAGCCTG...</td>\n",
       "      <td>TGTGCGAGTGATCCCCCTACTGCGGGAGACTACGGTGGCGGAGCCG...</td>\n",
       "      <td>...</td>\n",
       "      <td>23</td>\n",
       "      <td>GCCTCCACCAAGGGCCCATCGGTCTTCCCCCTGGCGCCCTGCTCCA...</td>\n",
       "      <td>513</td>\n",
       "      <td>694</td>\n",
       "      <td>337.211</td>\n",
       "      <td>100.00</td>\n",
       "      <td>6e-95</td>\n",
       "      <td>Pan_T7917815</td>\n",
       "      <td>IGHV3-21*01</td>\n",
       "      <td>GAGGTGCAGCTGGTGGAGTCTGGGGGA...GGCCTGGTCAAGCCTG...</td>\n",
       "    </tr>\n",
       "    <tr>\n",
       "      <th>Pan_T7917815_TTAGGACCACCAGGCT-1_contig_1</th>\n",
       "      <td>Pan_T7917815_TTAGGACCACCAGGCT-1_contig_1</td>\n",
       "      <td>GGGAGAAGAGCTGCTCAGTAAGGACCCAGAGGGAACCATGGAAACC...</td>\n",
       "      <td>F</td>\n",
       "      <td>T</td>\n",
       "      <td>IGKV3-20*01</td>\n",
       "      <td>NaN</td>\n",
       "      <td>IGKJ5*01</td>\n",
       "      <td>GAAATTGTGTTGACGCAGTCTCCAGGCACCCTGTCTTTGTCTCCAG...</td>\n",
       "      <td>GAAATTGTGTTGACGCAGTCTCCAGGCACCCTGTCTTTGTCTCCAG...</td>\n",
       "      <td>TGTCAGCAATTTGGTGGCTCCTGGATCACCTTC</td>\n",
       "      <td>...</td>\n",
       "      <td>232</td>\n",
       "      <td>CGAACTGTGGCTGCACCATCTGTCTTCATCTTCCCGCCATCTGATG...</td>\n",
       "      <td>422</td>\n",
       "      <td>558</td>\n",
       "      <td>254.111</td>\n",
       "      <td>100.00</td>\n",
       "      <td>5e-70</td>\n",
       "      <td>Pan_T7917815</td>\n",
       "      <td>IGKV3-20*01</td>\n",
       "      <td>GAAATTGTGTTGACGCAGTCTCCAGGCACCCTGTCTTTGTCTCCAG...</td>\n",
       "    </tr>\n",
       "    <tr>\n",
       "      <th>Pan_T7917815_TTAGGACCACCAGGCT-1_contig_2</th>\n",
       "      <td>Pan_T7917815_TTAGGACCACCAGGCT-1_contig_2</td>\n",
       "      <td>GATACTTTCTGAGACTCATGGACCTCCTGCACAAGAACATGAAACA...</td>\n",
       "      <td>F</td>\n",
       "      <td>T</td>\n",
       "      <td>IGHV4-4*02</td>\n",
       "      <td>IGHD3-10*01,IGHD3-10*02</td>\n",
       "      <td>IGHJ6*02</td>\n",
       "      <td>CAGGTGCAGCTGCAGGAGTCGGGCCCA...GGACTGGTGGAGCCTT...</td>\n",
       "      <td>CAGGTGCAGCTGCAGGAGTCGGGCCCA...GGACTGGTGAAGCCTT...</td>\n",
       "      <td>TGCGCGAGATTTATAAGGCACCATTATTCGGGGACTTACAGTTATG...</td>\n",
       "      <td>...</td>\n",
       "      <td>21</td>\n",
       "      <td>GCCTCCACCAAGGGCCCATCGGTCTTCCCCCTGGCACCCTCCTCCA...</td>\n",
       "      <td>483</td>\n",
       "      <td>665</td>\n",
       "      <td>339.057</td>\n",
       "      <td>100.00</td>\n",
       "      <td>2e-95</td>\n",
       "      <td>Pan_T7917815</td>\n",
       "      <td>IGHV4-4*02</td>\n",
       "      <td>CAGGTGCAGCTGCAGGAGTCGGGCCCA...GGACTGGTGAAGCCTT...</td>\n",
       "    </tr>\n",
       "  </tbody>\n",
       "</table>\n",
       "<p>466 rows × 105 columns</p>\n",
       "</div>"
      ],
      "text/plain": [
       "                                                                       sequence_id  \\\n",
       "sequence_id                                                                          \n",
       "Pan_T7917815_ACCTTTATCGCTTGTC-1_contig_1  Pan_T7917815_ACCTTTATCGCTTGTC-1_contig_1   \n",
       "Pan_T7917815_ACCTTTATCGCTTGTC-1_contig_2  Pan_T7917815_ACCTTTATCGCTTGTC-1_contig_2   \n",
       "Pan_T7917815_ACTGCTCCAGGTCGTC-1_contig_1  Pan_T7917815_ACTGCTCCAGGTCGTC-1_contig_1   \n",
       "Pan_T7917815_ACTGCTCCAGGTCGTC-1_contig_2  Pan_T7917815_ACTGCTCCAGGTCGTC-1_contig_2   \n",
       "Pan_T7917815_CCTACCAGTGCCTTGG-1_contig_1  Pan_T7917815_CCTACCAGTGCCTTGG-1_contig_1   \n",
       "...                                                                            ...   \n",
       "Pan_T7917815_TTGCCGTCAAGTCTGT-1_contig_2  Pan_T7917815_TTGCCGTCAAGTCTGT-1_contig_2   \n",
       "Pan_T7917815_GTACTCCAGCCACTAT-1_contig_1  Pan_T7917815_GTACTCCAGCCACTAT-1_contig_1   \n",
       "Pan_T7917815_GTACTCCAGCCACTAT-1_contig_2  Pan_T7917815_GTACTCCAGCCACTAT-1_contig_2   \n",
       "Pan_T7917815_TTAGGACCACCAGGCT-1_contig_1  Pan_T7917815_TTAGGACCACCAGGCT-1_contig_1   \n",
       "Pan_T7917815_TTAGGACCACCAGGCT-1_contig_2  Pan_T7917815_TTAGGACCACCAGGCT-1_contig_2   \n",
       "\n",
       "                                                                                   sequence  \\\n",
       "sequence_id                                                                                   \n",
       "Pan_T7917815_ACCTTTATCGCTTGTC-1_contig_1  GAGGAGTCAGACCCAGTCAGGACACAGCATGGACATGAGGGTCCCC...   \n",
       "Pan_T7917815_ACCTTTATCGCTTGTC-1_contig_2  AGCCTGCGAGGCGAAGATACGGCTATCTATTACTGTGCGAGTGATC...   \n",
       "Pan_T7917815_ACTGCTCCAGGTCGTC-1_contig_1  TGGGGGAGAAGAGCTGCTCAGTTAGGACCCAGAGGGAACCATGGAA...   \n",
       "Pan_T7917815_ACTGCTCCAGGTCGTC-1_contig_2  GAGCTCTGAGAGAGGAGCCTTAGCCCTGGATTCCAAGGCCTATCCA...   \n",
       "Pan_T7917815_CCTACCAGTGCCTTGG-1_contig_1  AGAGAGCCCTGGGGAGGAACTGCTCAGTTAGGACCCAGAGGGAACC...   \n",
       "...                                                                                     ...   \n",
       "Pan_T7917815_TTGCCGTCAAGTCTGT-1_contig_2  GGCAGAAGTCTCTCTCAGTCAGGACACAGCATGGACATGAGGGTCC...   \n",
       "Pan_T7917815_GTACTCCAGCCACTAT-1_contig_1  GGACACCCTGTGCAGGAGTCAGACCCAGTCAGGACACAGCATGGAC...   \n",
       "Pan_T7917815_GTACTCCAGCCACTAT-1_contig_2  GAGCTCTGAGAGAGGAGCCTTAGCCCTGGATTCCAAGGCCTATCCA...   \n",
       "Pan_T7917815_TTAGGACCACCAGGCT-1_contig_1  GGGAGAAGAGCTGCTCAGTAAGGACCCAGAGGGAACCATGGAAACC...   \n",
       "Pan_T7917815_TTAGGACCACCAGGCT-1_contig_2  GATACTTTCTGAGACTCATGGACCTCCTGCACAAGAACATGAAACA...   \n",
       "\n",
       "                                         rev_comp productive  \\\n",
       "sequence_id                                                    \n",
       "Pan_T7917815_ACCTTTATCGCTTGTC-1_contig_1        F          T   \n",
       "Pan_T7917815_ACCTTTATCGCTTGTC-1_contig_2        F          T   \n",
       "Pan_T7917815_ACTGCTCCAGGTCGTC-1_contig_1        F          T   \n",
       "Pan_T7917815_ACTGCTCCAGGTCGTC-1_contig_2        F          T   \n",
       "Pan_T7917815_CCTACCAGTGCCTTGG-1_contig_1        F          T   \n",
       "...                                           ...        ...   \n",
       "Pan_T7917815_TTGCCGTCAAGTCTGT-1_contig_2        F          T   \n",
       "Pan_T7917815_GTACTCCAGCCACTAT-1_contig_1        F          T   \n",
       "Pan_T7917815_GTACTCCAGCCACTAT-1_contig_2        F          T   \n",
       "Pan_T7917815_TTAGGACCACCAGGCT-1_contig_1        F          T   \n",
       "Pan_T7917815_TTAGGACCACCAGGCT-1_contig_2        F          T   \n",
       "\n",
       "                                                                        v_call  \\\n",
       "sequence_id                                                                      \n",
       "Pan_T7917815_ACCTTTATCGCTTGTC-1_contig_1                          IGKV1D-12*01   \n",
       "Pan_T7917815_ACCTTTATCGCTTGTC-1_contig_2   IGHV3-21*06,IGHV3-30*07,IGHV3-30*12   \n",
       "Pan_T7917815_ACTGCTCCAGGTCGTC-1_contig_1                           IGKV3-20*01   \n",
       "Pan_T7917815_ACTGCTCCAGGTCGTC-1_contig_2                           IGHV3-21*01   \n",
       "Pan_T7917815_CCTACCAGTGCCTTGG-1_contig_1                           IGKV3-11*01   \n",
       "...                                                                        ...   \n",
       "Pan_T7917815_TTGCCGTCAAGTCTGT-1_contig_2                           IGKV1-27*01   \n",
       "Pan_T7917815_GTACTCCAGCCACTAT-1_contig_1  IGKV1-12*01,IGKV1-12*02,IGKV1D-12*02   \n",
       "Pan_T7917815_GTACTCCAGCCACTAT-1_contig_2                           IGHV3-21*01   \n",
       "Pan_T7917815_TTAGGACCACCAGGCT-1_contig_1                           IGKV3-20*01   \n",
       "Pan_T7917815_TTAGGACCACCAGGCT-1_contig_2                            IGHV4-4*02   \n",
       "\n",
       "                                                           d_call    j_call  \\\n",
       "sequence_id                                                                   \n",
       "Pan_T7917815_ACCTTTATCGCTTGTC-1_contig_1                      NaN  IGKJ5*01   \n",
       "Pan_T7917815_ACCTTTATCGCTTGTC-1_contig_2              IGHD4-23*01  IGHJ4*02   \n",
       "Pan_T7917815_ACTGCTCCAGGTCGTC-1_contig_1                      NaN  IGKJ1*01   \n",
       "Pan_T7917815_ACTGCTCCAGGTCGTC-1_contig_2              IGHD4-23*01  IGHJ4*02   \n",
       "Pan_T7917815_CCTACCAGTGCCTTGG-1_contig_1                      NaN  IGKJ4*01   \n",
       "...                                                           ...       ...   \n",
       "Pan_T7917815_TTGCCGTCAAGTCTGT-1_contig_2                      NaN  IGKJ1*01   \n",
       "Pan_T7917815_GTACTCCAGCCACTAT-1_contig_1                      NaN  IGKJ2*01   \n",
       "Pan_T7917815_GTACTCCAGCCACTAT-1_contig_2              IGHD4-23*01  IGHJ4*02   \n",
       "Pan_T7917815_TTAGGACCACCAGGCT-1_contig_1                      NaN  IGKJ5*01   \n",
       "Pan_T7917815_TTAGGACCACCAGGCT-1_contig_2  IGHD3-10*01,IGHD3-10*02  IGHJ6*02   \n",
       "\n",
       "                                                                         sequence_alignment  \\\n",
       "sequence_id                                                                                   \n",
       "Pan_T7917815_ACCTTTATCGCTTGTC-1_contig_1  GACATCCAGATGACCCAGTCTCCATCTTCTGTGTCTGCATCTTTAG...   \n",
       "Pan_T7917815_ACCTTTATCGCTTGTC-1_contig_2  .................................................   \n",
       "Pan_T7917815_ACTGCTCCAGGTCGTC-1_contig_1  GAAATTGTGTTGACGCAGTCTCCAGGCACCCTGTCTTTGTCTCCAG...   \n",
       "Pan_T7917815_ACTGCTCCAGGTCGTC-1_contig_2  GAGGTGCAGTTGGTGGAGTCTGGGGGA...GGCCTGGTCAAGCCTG...   \n",
       "Pan_T7917815_CCTACCAGTGCCTTGG-1_contig_1  GAGATTGTGTTGACTCAGTCTCCAGTCACCCTGTCTTTGTCTCCAG...   \n",
       "...                                                                                     ...   \n",
       "Pan_T7917815_TTGCCGTCAAGTCTGT-1_contig_2  GACATCCAGATGACCCAGTCTCCATCCTCCCTGTCTGCATCTGTAG...   \n",
       "Pan_T7917815_GTACTCCAGCCACTAT-1_contig_1  GACATCCAGATGACCCAGTCTCCATCTTCCGTGTCTGCATCTGTAG...   \n",
       "Pan_T7917815_GTACTCCAGCCACTAT-1_contig_2  GAGGTGCAGCTGGTGGAGTCTGGGGGA...GGCCTGGTCAAGCCTG...   \n",
       "Pan_T7917815_TTAGGACCACCAGGCT-1_contig_1  GAAATTGTGTTGACGCAGTCTCCAGGCACCCTGTCTTTGTCTCCAG...   \n",
       "Pan_T7917815_TTAGGACCACCAGGCT-1_contig_2  CAGGTGCAGCTGCAGGAGTCGGGCCCA...GGACTGGTGGAGCCTT...   \n",
       "\n",
       "                                                                         germline_alignment  \\\n",
       "sequence_id                                                                                   \n",
       "Pan_T7917815_ACCTTTATCGCTTGTC-1_contig_1  GACATCCAGATGACCCAGTCTCCATCTTCTGTGTCTGCATCTGTAG...   \n",
       "Pan_T7917815_ACCTTTATCGCTTGTC-1_contig_2  AATTCACTGTATCTGCAAATGAACAGCCTGAGAGCCGAGGACACNN...   \n",
       "Pan_T7917815_ACTGCTCCAGGTCGTC-1_contig_1  GAAATTGTGTTGACGCAGTCTCCAGGCACCCTGTCTTTGTCTCCAG...   \n",
       "Pan_T7917815_ACTGCTCCAGGTCGTC-1_contig_2  GAGGTGCAGCTGGTGGAGTCTGGGGGA...GGCCTGGTCAAGCCTG...   \n",
       "Pan_T7917815_CCTACCAGTGCCTTGG-1_contig_1  GAAATTGTGTTGACACAGTCTCCAGCCACCCTGTCTTTGTCTCCAG...   \n",
       "...                                                                                     ...   \n",
       "Pan_T7917815_TTGCCGTCAAGTCTGT-1_contig_2  GACATCCAGATGACCCAGTCTCCATCCTCCCTGTCTGCATCTGTAG...   \n",
       "Pan_T7917815_GTACTCCAGCCACTAT-1_contig_1  GACATCCAGATGACCCAGTCTCCATCTTCCGTGTCTGCATCTGTAG...   \n",
       "Pan_T7917815_GTACTCCAGCCACTAT-1_contig_2  GAGGTGCAGCTGGTGGAGTCTGGGGGA...GGCCTGGTCAAGCCTG...   \n",
       "Pan_T7917815_TTAGGACCACCAGGCT-1_contig_1  GAAATTGTGTTGACGCAGTCTCCAGGCACCCTGTCTTTGTCTCCAG...   \n",
       "Pan_T7917815_TTAGGACCACCAGGCT-1_contig_2  CAGGTGCAGCTGCAGGAGTCGGGCCCA...GGACTGGTGAAGCCTT...   \n",
       "\n",
       "                                                                                   junction  \\\n",
       "sequence_id                                                                                   \n",
       "Pan_T7917815_ACCTTTATCGCTTGTC-1_contig_1                  TGTCTACAGGGTGAGAGTTACCCTCTCACCTTC   \n",
       "Pan_T7917815_ACCTTTATCGCTTGTC-1_contig_2  TGTGCGAGTGATCCCCCTACTGCGGGAGACTACGGTGGCGGAGCCG...   \n",
       "Pan_T7917815_ACTGCTCCAGGTCGTC-1_contig_1                  TGTCAGCACTTTGGTAGCTCATCCTGGACGTTC   \n",
       "Pan_T7917815_ACTGCTCCAGGTCGTC-1_contig_2            TGTGCGAGAGGAGAGCGGGCGGCGGTAACCACCTACTGG   \n",
       "Pan_T7917815_CCTACCAGTGCCTTGG-1_contig_1               TGTCAGCAGCGTAGCAACTGGCCTCCGCTCACTTTC   \n",
       "...                                                                                     ...   \n",
       "Pan_T7917815_TTGCCGTCAAGTCTGT-1_contig_2                  TGTCAAAAGTATTCCAATGTTCCCTGGACGTTC   \n",
       "Pan_T7917815_GTACTCCAGCCACTAT-1_contig_1                  TGTCAACAGGCTAACAGTTTCCCGTACACTTTT   \n",
       "Pan_T7917815_GTACTCCAGCCACTAT-1_contig_2  TGTGCGAGTGATCCCCCTACTGCGGGAGACTACGGTGGCGGAGCCG...   \n",
       "Pan_T7917815_TTAGGACCACCAGGCT-1_contig_1                  TGTCAGCAATTTGGTGGCTCCTGGATCACCTTC   \n",
       "Pan_T7917815_TTAGGACCACCAGGCT-1_contig_2  TGCGCGAGATTTATAAGGCACCATTATTCGGGGACTTACAGTTATG...   \n",
       "\n",
       "                                          ... umi_count  \\\n",
       "sequence_id                               ...             \n",
       "Pan_T7917815_ACCTTTATCGCTTGTC-1_contig_1  ...        42   \n",
       "Pan_T7917815_ACCTTTATCGCTTGTC-1_contig_2  ...         2   \n",
       "Pan_T7917815_ACTGCTCCAGGTCGTC-1_contig_1  ...       102   \n",
       "Pan_T7917815_ACTGCTCCAGGTCGTC-1_contig_2  ...        20   \n",
       "Pan_T7917815_CCTACCAGTGCCTTGG-1_contig_1  ...       422   \n",
       "...                                       ...       ...   \n",
       "Pan_T7917815_TTGCCGTCAAGTCTGT-1_contig_2  ...       272   \n",
       "Pan_T7917815_GTACTCCAGCCACTAT-1_contig_1  ...       188   \n",
       "Pan_T7917815_GTACTCCAGCCACTAT-1_contig_2  ...        23   \n",
       "Pan_T7917815_TTAGGACCACCAGGCT-1_contig_1  ...       232   \n",
       "Pan_T7917815_TTAGGACCACCAGGCT-1_contig_2  ...        21   \n",
       "\n",
       "                                                                       c_sequence_alignment  \\\n",
       "sequence_id                                                                                   \n",
       "Pan_T7917815_ACCTTTATCGCTTGTC-1_contig_1  CGAACTGTGGCTGCACCATCTGTCTTCATCTTCCCGCCATCTGATG...   \n",
       "Pan_T7917815_ACCTTTATCGCTTGTC-1_contig_2  GCCTCCACCAAGGGCCCATCGGTCTTCCCCCTGGCGCCCTGCTCCA...   \n",
       "Pan_T7917815_ACTGCTCCAGGTCGTC-1_contig_1  CGAACTGTGGCTGCACCATCTGTCTTCATCTTCCCGCCATCTGATG...   \n",
       "Pan_T7917815_ACTGCTCCAGGTCGTC-1_contig_2  GGGAGTGCATCCGCCCCAACCCTTTTCCCCCTCGTCTCCTGTGAGA...   \n",
       "Pan_T7917815_CCTACCAGTGCCTTGG-1_contig_1  CGAACTGTGGCTGCACCATCTGTCTTCATCTTCCCGCCATCTGATG...   \n",
       "...                                                                                     ...   \n",
       "Pan_T7917815_TTGCCGTCAAGTCTGT-1_contig_2  CGAACTGTGGCTGCACCATCTGTCTTCATCTTCCCGCCATCTGATG...   \n",
       "Pan_T7917815_GTACTCCAGCCACTAT-1_contig_1  CGAACTGTGGCTGCACCATCTGTCTTCATCTTCCCGCCATCTGATG...   \n",
       "Pan_T7917815_GTACTCCAGCCACTAT-1_contig_2  GCCTCCACCAAGGGCCCATCGGTCTTCCCCCTGGCGCCCTGCTCCA...   \n",
       "Pan_T7917815_TTAGGACCACCAGGCT-1_contig_1  CGAACTGTGGCTGCACCATCTGTCTTCATCTTCCCGCCATCTGATG...   \n",
       "Pan_T7917815_TTAGGACCACCAGGCT-1_contig_2  GCCTCCACCAAGGGCCCATCGGTCTTCCCCCTGGCACCCTCCTCCA...   \n",
       "\n",
       "                                         c_sequence_start c_sequence_end  \\\n",
       "sequence_id                                                                \n",
       "Pan_T7917815_ACCTTTATCGCTTGTC-1_contig_1              416            552   \n",
       "Pan_T7917815_ACCTTTATCGCTTGTC-1_contig_2              124            305   \n",
       "Pan_T7917815_ACTGCTCCAGGTCGTC-1_contig_1              425            666   \n",
       "Pan_T7917815_ACTGCTCCAGGTCGTC-1_contig_2              492            563   \n",
       "Pan_T7917815_CCTACCAGTGCCTTGG-1_contig_1              431            567   \n",
       "...                                                   ...            ...   \n",
       "Pan_T7917815_TTGCCGTCAAGTCTGT-1_contig_2              418            554   \n",
       "Pan_T7917815_GTACTCCAGCCACTAT-1_contig_1              428            564   \n",
       "Pan_T7917815_GTACTCCAGCCACTAT-1_contig_2              513            694   \n",
       "Pan_T7917815_TTAGGACCACCAGGCT-1_contig_1              422            558   \n",
       "Pan_T7917815_TTAGGACCACCAGGCT-1_contig_2              483            665   \n",
       "\n",
       "                                          c_score c_identity c_support  \\\n",
       "sequence_id                                                              \n",
       "Pan_T7917815_ACCTTTATCGCTTGTC-1_contig_1  254.111     100.00     5e-70   \n",
       "Pan_T7917815_ACCTTTATCGCTTGTC-1_contig_2  337.211     100.00     3e-95   \n",
       "Pan_T7917815_ACTGCTCCAGGTCGTC-1_contig_1   448.01     100.00    3e-128   \n",
       "Pan_T7917815_ACTGCTCCAGGTCGTC-1_contig_2  134.079     100.00     7e-34   \n",
       "Pan_T7917815_CCTACCAGTGCCTTGG-1_contig_1  254.111     100.00     5e-70   \n",
       "...                                           ...        ...       ...   \n",
       "Pan_T7917815_TTGCCGTCAAGTCTGT-1_contig_2  254.111     100.00     5e-70   \n",
       "Pan_T7917815_GTACTCCAGCCACTAT-1_contig_1  254.111     100.00     5e-70   \n",
       "Pan_T7917815_GTACTCCAGCCACTAT-1_contig_2  337.211     100.00     6e-95   \n",
       "Pan_T7917815_TTAGGACCACCAGGCT-1_contig_1  254.111     100.00     5e-70   \n",
       "Pan_T7917815_TTAGGACCACCAGGCT-1_contig_2  339.057     100.00     2e-95   \n",
       "\n",
       "                                             sample_id  \\\n",
       "sequence_id                                              \n",
       "Pan_T7917815_ACCTTTATCGCTTGTC-1_contig_1  Pan_T7917815   \n",
       "Pan_T7917815_ACCTTTATCGCTTGTC-1_contig_2  Pan_T7917815   \n",
       "Pan_T7917815_ACTGCTCCAGGTCGTC-1_contig_1  Pan_T7917815   \n",
       "Pan_T7917815_ACTGCTCCAGGTCGTC-1_contig_2  Pan_T7917815   \n",
       "Pan_T7917815_CCTACCAGTGCCTTGG-1_contig_1  Pan_T7917815   \n",
       "...                                                ...   \n",
       "Pan_T7917815_TTGCCGTCAAGTCTGT-1_contig_2  Pan_T7917815   \n",
       "Pan_T7917815_GTACTCCAGCCACTAT-1_contig_1  Pan_T7917815   \n",
       "Pan_T7917815_GTACTCCAGCCACTAT-1_contig_2  Pan_T7917815   \n",
       "Pan_T7917815_TTAGGACCACCAGGCT-1_contig_1  Pan_T7917815   \n",
       "Pan_T7917815_TTAGGACCACCAGGCT-1_contig_2  Pan_T7917815   \n",
       "\n",
       "                                                              v_call_genotyped  \\\n",
       "sequence_id                                                                      \n",
       "Pan_T7917815_ACCTTTATCGCTTGTC-1_contig_1                          IGKV1D-12*01   \n",
       "Pan_T7917815_ACCTTTATCGCTTGTC-1_contig_2   IGHV3-21*06,IGHV3-30*07,IGHV3-30*12   \n",
       "Pan_T7917815_ACTGCTCCAGGTCGTC-1_contig_1                           IGKV3-20*01   \n",
       "Pan_T7917815_ACTGCTCCAGGTCGTC-1_contig_2                           IGHV3-21*01   \n",
       "Pan_T7917815_CCTACCAGTGCCTTGG-1_contig_1                           IGKV3-11*01   \n",
       "...                                                                        ...   \n",
       "Pan_T7917815_TTGCCGTCAAGTCTGT-1_contig_2                           IGKV1-27*01   \n",
       "Pan_T7917815_GTACTCCAGCCACTAT-1_contig_1  IGKV1-12*01,IGKV1-12*02,IGKV1D-12*02   \n",
       "Pan_T7917815_GTACTCCAGCCACTAT-1_contig_2                           IGHV3-21*01   \n",
       "Pan_T7917815_TTAGGACCACCAGGCT-1_contig_1                           IGKV3-20*01   \n",
       "Pan_T7917815_TTAGGACCACCAGGCT-1_contig_2                            IGHV4-4*02   \n",
       "\n",
       "                                                                  germline_alignment_d_mask  \n",
       "sequence_id                                                                                  \n",
       "Pan_T7917815_ACCTTTATCGCTTGTC-1_contig_1  GACATCCAGATGACCCAGTCTCCATCTTCTGTGTCTGCATCTGTAG...  \n",
       "Pan_T7917815_ACCTTTATCGCTTGTC-1_contig_2  GAGGTGCAGCTGGTGGAGTCTGGGGGA...GGCCTGGTCAAGCCTG...  \n",
       "Pan_T7917815_ACTGCTCCAGGTCGTC-1_contig_1  GAAATTGTGTTGACGCAGTCTCCAGGCACCCTGTCTTTGTCTCCAG...  \n",
       "Pan_T7917815_ACTGCTCCAGGTCGTC-1_contig_2  GAGGTGCAGCTGGTGGAGTCTGGGGGA...GGCCTGGTCAAGCCTG...  \n",
       "Pan_T7917815_CCTACCAGTGCCTTGG-1_contig_1  GAAATTGTGTTGACACAGTCTCCAGCCACCCTGTCTTTGTCTCCAG...  \n",
       "...                                                                                     ...  \n",
       "Pan_T7917815_TTGCCGTCAAGTCTGT-1_contig_2  GACATCCAGATGACCCAGTCTCCATCCTCCCTGTCTGCATCTGTAG...  \n",
       "Pan_T7917815_GTACTCCAGCCACTAT-1_contig_1  GACATCCAGATGACCCAGTCTCCATCTTCCGTGTCTGCATCTGTAG...  \n",
       "Pan_T7917815_GTACTCCAGCCACTAT-1_contig_2  GAGGTGCAGCTGGTGGAGTCTGGGGGA...GGCCTGGTCAAGCCTG...  \n",
       "Pan_T7917815_TTAGGACCACCAGGCT-1_contig_1  GAAATTGTGTTGACGCAGTCTCCAGGCACCCTGTCTTTGTCTCCAG...  \n",
       "Pan_T7917815_TTAGGACCACCAGGCT-1_contig_2  CAGGTGCAGCTGCAGGAGTCGGGCCCA...GGACTGGTGAAGCCTT...  \n",
       "\n",
       "[466 rows x 105 columns]"
      ]
     },
     "execution_count": 8,
     "metadata": {},
     "output_type": "execute_result"
    }
   ],
   "source": [
    "vdj"
   ]
  },
  {
   "cell_type": "markdown",
   "metadata": {},
   "source": [
    "#### Check the AnnData object as well\n",
    "And the `AnnData` object is indexed based on cells."
   ]
  },
  {
   "cell_type": "code",
   "execution_count": 9,
   "metadata": {
    "scrolled": true
   },
   "outputs": [
    {
     "data": {
      "text/plain": [
       "View of AnnData object with n_obs × n_vars = 819 × 33694 \n",
       "    obs: 'sampleid', 'gender', 'donor', 'tissue', 'experiment', 'scrublet_score', 'n_genes', 'percent_mito', 'n_counts', 'bh_pval', 'is_doublet', 'filter_rna', 'has_bcr', 'filter_bcr_quality', 'filter_bcr_heavy', 'filter_bcr_light'\n",
       "    var: 'gene_ids', 'feature_types'"
      ]
     },
     "execution_count": 9,
     "metadata": {},
     "output_type": "execute_result"
    }
   ],
   "source": [
    "adata"
   ]
  },
  {
   "cell_type": "markdown",
   "metadata": {},
   "source": [
    "#### The number of cells that actually has a matching BCR can be tabluated."
   ]
  },
  {
   "cell_type": "code",
   "execution_count": 10,
   "metadata": {
    "scrolled": true
   },
   "outputs": [
    {
     "data": {
      "text/plain": [
       "False    577\n",
       "True     242\n",
       "Name: has_bcr, dtype: int64"
      ]
     },
     "execution_count": 10,
     "metadata": {},
     "output_type": "execute_result"
    }
   ],
   "source": [
    "adata.obs['has_bcr'].value_counts()"
   ]
  },
  {
   "cell_type": "markdown",
   "metadata": {},
   "source": [
    "#### Now actually filter the AnnData object and run through a standard workflow starting by filtering genes and normalizing the data\n",
    "Because the 'filtered' `AnnData` object was returned as a filtered but otherwise unprocessed object, we still need to normalize and run through the usual process here."
   ]
  },
  {
   "cell_type": "code",
   "execution_count": 11,
   "metadata": {},
   "outputs": [
    {
     "name": "stderr",
     "output_type": "stream",
     "text": [
      "Trying to set attribute `.var` of view, copying.\n"
     ]
    }
   ],
   "source": [
    "# filter genes\n",
    "sc.pp.filter_genes(adata, min_cells=3)\n",
    "# Normalize the counts\n",
    "sc.pp.normalize_total(adata, target_sum=1e4)\n",
    "# Logarithmize the data\n",
    "sc.pp.log1p(adata)\n",
    "# Stash the normalised counts\n",
    "adata.raw = adata"
   ]
  },
  {
   "cell_type": "markdown",
   "metadata": {},
   "source": [
    "#### Identify highly-variable genes"
   ]
  },
  {
   "cell_type": "code",
   "execution_count": 12,
   "metadata": {},
   "outputs": [
    {
     "data": {
      "image/png": "[encoded data removed]",
      "text/plain": [
       "<Figure size 864x288 with 2 Axes>"
      ]
     },
     "metadata": {
      "needs_background": "light"
     },
     "output_type": "display_data"
    }
   ],
   "source": [
    "sc.pp.highly_variable_genes(adata, min_mean=0.0125, max_mean=3, min_disp=0.5)\n",
    "sc.pl.highly_variable_genes(adata)"
   ]
  },
  {
   "cell_type": "markdown",
   "metadata": {},
   "source": [
    "#### Filter the genes to only those marked as highly-variable"
   ]
  },
  {
   "cell_type": "code",
   "execution_count": 13,
   "metadata": {},
   "outputs": [],
   "source": [
    "adata = adata[:, adata.var.highly_variable]"
   ]
  },
  {
   "cell_type": "markdown",
   "metadata": {},
   "source": [
    "#### Regress out effects of total counts per cell and the percentage of mitochondrial genes expressed.Scale the data to unit variance."
   ]
  },
  {
   "cell_type": "code",
   "execution_count": 14,
   "metadata": {},
   "outputs": [
    {
     "name": "stderr",
     "output_type": "stream",
     "text": [
      "Trying to set attribute `.obs` of view, copying.\n",
      "... storing 'sampleid' as categorical\n",
      "Trying to set attribute `.obs` of view, copying.\n",
      "... storing 'gender' as categorical\n",
      "Trying to set attribute `.obs` of view, copying.\n",
      "... storing 'donor' as categorical\n",
      "Trying to set attribute `.obs` of view, copying.\n",
      "... storing 'tissue' as categorical\n",
      "Trying to set attribute `.var` of view, copying.\n",
      "... storing 'feature_types' as categorical\n"
     ]
    }
   ],
   "source": [
    "sc.pp.regress_out(adata, ['n_counts', 'percent_mito'])\n",
    "sc.pp.scale(adata, max_value=10)"
   ]
  },
  {
   "cell_type": "markdown",
   "metadata": {},
   "source": [
    "#### Run PCA"
   ]
  },
  {
   "cell_type": "code",
   "execution_count": 15,
   "metadata": {},
   "outputs": [
    {
     "data": {
      "image/png": "[encoded data removed]",
      "text/plain": [
       "<Figure size 432x288 with 1 Axes>"
      ]
     },
     "metadata": {
      "needs_background": "light"
     },
     "output_type": "display_data"
    }
   ],
   "source": [
    "sc.tl.pca(adata, svd_solver='arpack')\n",
    "sc.pl.pca_variance_ratio(adata, log=True, n_pcs = 50)"
   ]
  },
  {
   "cell_type": "markdown",
   "metadata": {},
   "source": [
    "#### Computing the neighborhood graph, umap and clusters"
   ]
  },
  {
   "cell_type": "code",
   "execution_count": 16,
   "metadata": {},
   "outputs": [],
   "source": [
    "# Computing the neighborhood graph\n",
    "sc.pp.neighbors(adata, n_neighbors=10, n_pcs=50)\n",
    "# Embedding the neighborhood graph\n",
    "sc.tl.umap(adata, min_dist = 0.3)\n",
    "# Clustering the neighborhood graph\n",
    "sc.tl.leiden(adata)"
   ]
  },
  {
   "cell_type": "markdown",
   "metadata": {},
   "source": [
    "#### Visualizing the clusters and whether or not there's a corresponding BCR"
   ]
  },
  {
   "cell_type": "code",
   "execution_count": 17,
   "metadata": {
    "scrolled": true
   },
   "outputs": [
    {
     "data": {
      "image/png": "[encoded data removed]",
      "text/plain": [
       "<Figure size 989.28x288 with 2 Axes>"
      ]
     },
     "metadata": {},
     "output_type": "display_data"
    }
   ],
   "source": [
    "sc.pl.umap(adata, color=['leiden', 'has_bcr'])"
   ]
  },
  {
   "cell_type": "markdown",
   "metadata": {},
   "source": [
    "#### Visualizing some B cell genes"
   ]
  },
  {
   "cell_type": "code",
   "execution_count": 18,
   "metadata": {
    "scrolled": true
   },
   "outputs": [
    {
     "data": {
      "image/png": "[encoded data removed]",
      "text/plain": [
       "<Figure size 989.28x288 with 4 Axes>"
      ]
     },
     "metadata": {
      "needs_background": "light"
     },
     "output_type": "display_data"
    }
   ],
   "source": [
    "sc.pl.umap(adata, color=['IGHM', 'JCHAIN'])"
   ]
  },
  {
   "cell_type": "markdown",
   "metadata": {},
   "source": [
    "#### Save the AnnData file\n",
    "We can save this `AnnData` object for now. The vdj table is already saved from the filtering step earlier, with the suffix `filtered` appended to the filename."
   ]
  },
  {
   "cell_type": "code",
   "execution_count": 19,
   "metadata": {},
   "outputs": [
    {
     "name": "stderr",
     "output_type": "stream",
     "text": [
      "... storing 'feature_types' as categorical\n"
     ]
    }
   ],
   "source": [
    "adata.write(bcr_folder+sample+'/dandelion/data/adata.h5ad', compression = 'gzip')"
   ]
  },
  {
   "cell_type": "code",
   "execution_count": null,
   "metadata": {},
   "outputs": [],
   "source": []
  }
 ],
 "metadata": {
  "kernelspec": {
   "display_name": "Python (dandelion)",
   "language": "python",
   "name": "dandelion"
  },
  "language_info": {
   "codemirror_mode": {
    "name": "ipython",
    "version": 3
   },
   "file_extension": ".py",
   "mimetype": "text/x-python",
   "name": "python",
   "nbconvert_exporter": "python",
   "pygments_lexer": "ipython3",
   "version": "3.7.6"
  }
 },
 "nbformat": 4,
 "nbformat_minor": 2
}
