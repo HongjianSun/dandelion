{
 "cells": [
  {
   "cell_type": "markdown",
   "id": "e872038e",
   "metadata": {},
   "source": [
    "# Pre-processing (Re-annotation)\n",
    "\n",
    "![dandelion_logo](img/dandelion_logo_illustration.png)\n",
    "\n",
    "## Foreword\n",
    "\n",
    "***dandelion*** is written in `python=3.7` (also compatible with `3.8`, `3.9` and `3.10`) and is primarily a single-cell BCR-seq analysis package. It makes use of some tools from the fantastic [*immcantation suite*](https://immcantation.readthedocs.io/) [[Gupta2015]](https://academic.oup.com/bioinformatics/article/31/20/3356/195677), implementing a workflow to streamline the pre-processing and exploratory stages for analyzing single-cell BCR-seq data from 10X Genomics. Post-processed data from ***dandelion*** can be smoothly transferred to [*scanpy*](https://scanpy.readthedocs.io/)/[*AnnData*](https://anndata.readthedocs.io/) [[Wolf18]](https://doi.org/10.1186/s13059-017-1382-0) object for integration and exploration of BCR-seq data and RNA-seq data. I hope to be able to introduce some new single-cell BCR-seq exploratory tools down the road through *dandelion*. \n",
    "\n",
    "This section will cover the initial pre-processing of files after 10X's `Cell Ranger vdj` immune profiling data analysis pipeline **manually**. As mentioned, there is now a [singularity container](https://sc-dandelion.readthedocs.io/en/latest/notebooks/singularity_preprocessing.html) that can automate the first few steps outlined below.\n",
    "\n",
    "\n",
    "We will download the 10X data sets to process for this tutorial:\n",
    "```bash\n",
    "# create sub-folders\n",
    "mkdir -p dandelion_tutorial/vdj_nextgem_hs_pbmc3\n",
    "mkdir -p dandelion_tutorial/vdj_v1_hs_pbmc3\n",
    "mkdir -p dandelion_tutorial/sc5p_v2_hs_PBMC_10k\n",
    "mkdir -p dandelion_tutorial/sc5p_v2_hs_PBMC_1k\n",
    "\n",
    "# change into each directory and download the necessary files\n",
    "cd dandelion_tutorial/vdj_v1_hs_pbmc3;\n",
    "wget -O filtered_feature_bc_matrix.h5 https://cf.10xgenomics.com/samples/cell-vdj/3.1.0/vdj_v1_hs_pbmc3/vdj_v1_hs_pbmc3_filtered_feature_bc_matrix.h5;\n",
    "wget -O filtered_contig_annotations.csv https://cf.10xgenomics.com/samples/cell-vdj/3.1.0/vdj_v1_hs_pbmc3/vdj_v1_hs_pbmc3_b_filtered_contig_annotations.csv;\n",
    "wget -O filtered_contig.fasta https://cf.10xgenomics.com/samples/cell-vdj/3.1.0/vdj_v1_hs_pbmc3/vdj_v1_hs_pbmc3_b_filtered_contig.fasta;\n",
    "\n",
    "cd ../vdj_nextgem_hs_pbmc3\n",
    "wget -O filtered_feature_bc_matrix.h5 https://cf.10xgenomics.com/samples/cell-vdj/3.1.0/vdj_nextgem_hs_pbmc3/vdj_nextgem_hs_pbmc3_filtered_feature_bc_matrix.h5;\n",
    "wget -O filtered_contig_annotations.csv https://cf.10xgenomics.com/samples/cell-vdj/3.1.0/vdj_nextgem_hs_pbmc3/vdj_nextgem_hs_pbmc3_b_filtered_contig_annotations.csv;\n",
    "wget -O filtered_contig.fasta https://cf.10xgenomics.com/samples/cell-vdj/3.1.0/vdj_nextgem_hs_pbmc3/vdj_nextgem_hs_pbmc3_b_filtered_contig.fasta;\n",
    "\n",
    "cd ../sc5p_v2_hs_PBMC_10k;\n",
    "wget -O filtered_feature_bc_matrix.h5 https://cf.10xgenomics.com/samples/cell-vdj/4.0.0/sc5p_v2_hs_PBMC_10k/sc5p_v2_hs_PBMC_10k_filtered_feature_bc_matrix.h5;\n",
    "wget -O filtered_contig_annotations.csv https://cf.10xgenomics.com/samples/cell-vdj/4.0.0/sc5p_v2_hs_PBMC_10k/sc5p_v2_hs_PBMC_10k_b_filtered_contig_annotations.csv;\n",
    "wget -O filtered_contig.fasta https://cf.10xgenomics.com/samples/cell-vdj/4.0.0/sc5p_v2_hs_PBMC_10k/sc5p_v2_hs_PBMC_10k_b_filtered_contig.fasta;\n",
    "\n",
    "cd ../sc5p_v2_hs_PBMC_1k;\n",
    "wget -O filtered_feature_bc_matrix.h5 wget https://cf.10xgenomics.com/samples/cell-vdj/4.0.0/sc5p_v2_hs_PBMC_1k/sc5p_v2_hs_PBMC_1k_filtered_feature_bc_matrix.h5;\n",
    "wget -O filtered_contig_annotations.csv wget https://cf.10xgenomics.com/samples/cell-vdj/4.0.0/sc5p_v2_hs_PBMC_1k/sc5p_v2_hs_PBMC_1k_b_filtered_contig_annotations.csv;\n",
    "wget -O filtered_contig.fasta https://cf.10xgenomics.com/samples/cell-vdj/4.0.0/sc5p_v2_hs_PBMC_1k/sc5p_v2_hs_PBMC_1k_b_filtered_contig.fasta;\n",
    "```\n",
    "\n",
    "***dandelion***'s reannotation workflow requires the Cellranger fasta files and annotation files to start, particularly either *all_contig.fasta* or *filtered_contig.fasta* and corresponding *all_contig_annotations.csv* and *filtered_contig_annotations.csv*.\n",
    "\n",
    "I'm running everything with the *filtered_contig* files as a standard analysis set up. I'm using a standard laptop for the analysis here: entry level 2017 Macbook Pro with 2.3 GHz Intel Core i5 processor and 16 GB 2133 MHz LPDDR3 ram.\n",
    "\n",
    "If you followed the installation instructions, you should have the requisite auxillary softwares installed already. Otherwise, you can download them manually: [blast+](https://ftp.ncbi.nih.gov/blast/executables/igblast/release/LATEST/) and [igblast](https://ftp.ncbi.nlm.nih.gov/blast/executables/blast+/LATEST/). For tigger-genotype, you can download it [here](https://bitbucket.org/kleinstein/immcantation/src/default/pipelines/). Just note that I made some minor modifications to this file, hence there is a version that comes with this package.\n",
    "\n",
    "For convenience, in ***shell***, export the path to the database folders like as follows:\n",
    "```bash\n",
    "# bash/shell\n",
    "echo \"export GERMLINE=/Users/kt16/Documents/Github/dandelion/database/germlines/\" >> ~/.bash_profile\n",
    "echo \"export IGDATA=/Users/kt16/Documents/Github/dandelion/database/igblast/\" >> ~/.bash_profile\n",
    "echo \"export BLASTDB=/Users/kt16/Documents/Github/dandelion/database/blast/\" >> ~/.bash_profile\n",
    "# reload\n",
    "source ~/.bash_profile\n",
    "```\n",
    "The databases for igblast are basically setup using [changeo's instructions](https://changeo.readthedocs.io/en/stable/examples/igblast.html). \n",
    "\n",
    "If you are using a jupyter notebook initialized via jupyterhub instance, you might want to try the fix to a known issue where pathing requires some adjustments https://github.com/zktuong/dandelion/discussions/146.\n",
    "\n",
    "For reannotation of constant genes, reference fasta files were downloaded from IMGT and only sequences corresponding to *CH1* region for each constant gene/allele were retained. The headers were trimmed to only keep the gene and allele information. Links to find the sequences can be found here : [***human***](http://www.imgt.org/genedb/GENElect?query=7.2+IGHC&species=Homo+sapiens) and [***mouse***](http://www.imgt.org/genedb/GENElect?query=7.2+IGHC&species=Mus).\n",
    "\n",
    "The utility function `ddl.utl.makeblastdb` is a wrapper for:\n",
    "\n",
    "```bash\n",
    "# bash/shell\n",
    "makeblastdb -dbtype nucl -parse_seqids -in $BLASTDB/human/human_BCR_C.fasta\n",
    "```\n",
    "\n",
    "This does the same thing:\n",
    "```python\n",
    "# python\n",
    "ddl.utl.makeblastdb('/Users/kt16/Documents/Github/dandelion/database/blast/human/human_BCR_C.fasta')\n",
    "```\n",
    "\n",
    "If you have cloned the directory from dandelion's github, you should have all the databases ready to go and would not need to run makeblastdb.\n",
    "\n",
    "This section will now demonstrate how I batch process multiple samples/files from the same donor, as it will become important later on."
   ]
  },
  {
   "cell_type": "code",
   "execution_count": 1,
   "id": "6c7a7f89",
   "metadata": {},
   "outputs": [
    {
     "name": "stdout",
     "output_type": "stream",
     "text": [
      "dandelion==0.2.4.dev57 pandas==1.4.2 numpy==1.21.6 matplotlib==3.5.2 networkx==2.8.4 scipy==1.8.1\n"
     ]
    }
   ],
   "source": [
    "# Import modules\n",
    "import sys\n",
    "import os\n",
    "import dandelion as ddl\n",
    "ddl.logging.print_versions()"
   ]
  },
  {
   "cell_type": "code",
   "execution_count": 2,
   "id": "5d63d221",
   "metadata": {},
   "outputs": [
    {
     "data": {
      "text/plain": [
       "'/Users/kt16/Downloads/dandelion_tutorial'"
      ]
     },
     "execution_count": 2,
     "metadata": {},
     "output_type": "execute_result"
    }
   ],
   "source": [
    "# change directory to somewhere more workable\n",
    "os.chdir(os.path.expanduser('/Users/kt16/Downloads/dandelion_tutorial/'))\n",
    "# print current working directory\n",
    "os.getcwd()"
   ]
  },
  {
   "cell_type": "markdown",
   "id": "c5bffc3c",
   "metadata": {},
   "source": [
    "## Step 1: Formatting the headers of the Cell Ranger fasta file\n",
    "Here, I'm adding a prefix to the headers of each contig in the fasta files, via the function `pp.format_fastas`. The prefix is basically just the folder name, so in this case it's:\n",
    "`sc5p_v2_hs_PBMC_1k`, `sc5p_v2_hs_PBMC_10k`, `vdj_v1_hs_pbmc3` and `vdj_nextgem_hs_pbmc3`.\n",
    "\n",
    "The function will also create sub-folders where a new fasta file and all subsequent files will be located. The function will also add the prefix to the corresponding annotation file automatically and create a copy in the same folder as the formated fasta file. \n",
    "\n",
    "This is to ensure that the barcodes are consistent throughout so as not to interfere with subsequent integration with the gene expression data, which will be covered in subsequent sections. \n",
    "\n",
    "The file structure should look something like this later on if the settings are left as default. The tmp directory can be deleted once the initial preprocessing has completed.\n",
    "```console\n",
    "# bash/shell\n",
    "(dandelion) mib113557i:dandelion_tutorial kt16$ tree sc5p_v2_hs_PBMC_1k\n",
    "sc5p_v2_hs_PBMC_1k\n",
    "├── dandelion\n",
    "│   ├── filtered_contig.fasta\n",
    "│   ├── filtered_contig_annotations.csv\n",
    "│   ├── filtered_contig_igblast_db-pass_genotyped.tsv\n",
    "│   └── tmp\n",
    "│       ├── filtered_contig_igblast.fmt7\n",
    "│       ├── filtered_contig_igblast.tsv\n",
    "│       ├── filtered_contig_igblast_db-pass.blastsummary.txt\n",
    "│       ├── filtered_contig_igblast_db-pass.tsv\n",
    "│       ├── filtered_contig_igblast_db-pass.xml\n",
    "│       ├── filtered_contig_igblast_db-pass_genotyped.tsv\n",
    "│       ├── filtered_contig_igblast_db-pass_heavy_parse-select.tsv\n",
    "│       └── filtered_contig_igblast_db-pass_light_parse-select.tsv\n",
    "├── filtered_contig.fasta\n",
    "├── filtered_contig_annotations.csv\n",
    "└── filtered_feature_bc_matrix.h5\n",
    "```\n",
    "\n",
    "The first option of `pp.format_fastas` accepts a list of the fasta file paths to reformat, or list of names of folders containing the fasta files; each folder should only contain 1 fasta file, and 1 contig_annotation.csv. Make sure there's no hidden files and delete those if present.\n",
    "\n",
    "You can provide `prefixes` and/or `suffixes` to add the the cell/contig barcodes as a list and they will be formatted accordingly. The prefixes/suffixes will be separated by an underscore (`_`) if left as default but that can be adjusted with the `sep` option. \n",
    "\n",
    "If you choose not to provide a prefix/suffix, then the function will simply make a copy of the original files and place it in the `dandelion` sub-folders.\n",
    "\n",
    "For more complex experimental setups, such as with data from multiplexed experiments, please contact me (kt16@sanger.ac.uk) and I can walk you through a slightly more advanced set up."
   ]
  },
  {
   "cell_type": "code",
   "execution_count": 3,
   "id": "6a6c9dbb",
   "metadata": {},
   "outputs": [
    {
     "name": "stderr",
     "output_type": "stream",
     "text": [
      "Formating fasta(s) : 100%|██████████| 4/4 [00:02<00:00,  1.52it/s]                                                                               \n"
     ]
    }
   ],
   "source": [
    "# the first option is a list of fasta files to format and the second option is the list of prefix to add to each file.\n",
    "samples = ['sc5p_v2_hs_PBMC_1k', 'sc5p_v2_hs_PBMC_10k', 'vdj_v1_hs_pbmc3', 'vdj_nextgem_hs_pbmc3']\n",
    "ddl.pp.format_fastas(samples, prefix = samples)"
   ]
  },
  {
   "cell_type": "markdown",
   "id": "0ad6b44f",
   "metadata": {},
   "source": [
    "**Non-standard (filtered) input files**:\n",
    "\n",
    "If you are not using `filtered` files, e.g. `all_contig.fasta`, please specify the `filename_prefix` option for all preprocessing functions below (except for quantify_mutations).\n",
    "\n",
    "For example, use `filename_prefix = 'all'` for `all_contig.fasta`, or `filename_prefix = <insertprefix>` for any files that are named `<insertprefix>_contig.fasta`. \n",
    "\n",
    "If you are running more than 1 sample and if each filename prefix needs to be specified, `filename_prefix` in `ddl.pp.format_fastas` will accept a list of prefixes i.e. `filename_prefix = ['all', 'filtered', ...]`.\n"
   ]
  },
  {
   "cell_type": "markdown",
   "id": "1cf28d7e",
   "metadata": {},
   "source": [
    "## Step 2: Reannotate the V/D/J genes with *igblastn*\n",
    "\n",
    "Like immcantation, we will reannotate the V(D)J genes with igblastn using the latest IMGT reference databases. However, as of v0.1.13, `pp.reannotate_genes` will use a `flavour = 'strict'` to run `igblastn`, imposing lower e-value and higher D-penalty cut offs. The original behaviour i.e. with [*changeo*](https://changeo.readthedocs.io/en/stable/examples/10x.html)'s `AssignGenes.py`, is toggled with `flavour = 'original'`. Additionally, there is now an additional `assign_dj` option (default is `True`), which will use blastn to assign a stricter call for the D and J genes because [igblastn can return random assignments if it cannot detect a V gene](https://www.ncbi.nlm.nih.gov/igblast/faq.html). In the tmp folder, there will also be a table where all alignments generated in this step will be shown (only the top hit is selected for each contig). All the column headers are now adhereing to the [*AIRR*](http://docs.airr-community.org/) standard."
   ]
  },
  {
   "cell_type": "code",
   "execution_count": 4,
   "id": "d54d87ef",
   "metadata": {},
   "outputs": [
    {
     "name": "stderr",
     "output_type": "stream",
     "text": [
      "\r",
      "Assigning genes :   0%|          | 0/4 [00:00<?, ?it/s]                                                                                          "
     ]
    },
    {
     "name": "stdout",
     "output_type": "stream",
     "text": [
      "         START> MakeDB\n",
      "       COMMAND> igblast\n",
      "  ALIGNER_FILE> filtered_contig_igblast.fmt7\n",
      "      SEQ_FILE> filtered_contig.fasta\n",
      "       ASIS_ID> False\n",
      "    ASIS_CALLS> False\n",
      "       PARTIAL> False\n",
      "      EXTENDED> True\n",
      "INFER_JUNCTION> False\n",
      "\n",
      "PROGRESS> 23:40:10 |Done                | 0.0 min\n",
      "\n",
      "PROGRESS> 23:40:16 |####################| 100% (2,059) 0.1 min\n",
      "\n",
      "OUTPUT> filtered_contig_igblast_db-pass.tsv\n",
      "  PASS> 1842\n",
      "  FAIL> 217\n",
      "   END> MakeDb\n",
      "\n",
      "         START> MakeDB\n",
      "       COMMAND> igblast\n",
      "  ALIGNER_FILE> filtered_contig_igblast.fmt7\n",
      "      SEQ_FILE> filtered_contig.fasta\n",
      "       ASIS_ID> False\n",
      "    ASIS_CALLS> False\n",
      "       PARTIAL> False\n",
      "      EXTENDED> True\n",
      "INFER_JUNCTION> False\n",
      "\n",
      "PROGRESS> 23:40:17 |Done                | 0.0 min\n",
      "\n",
      "PROGRESS> 23:40:23 |####################| 100% (2,059) 0.1 min\n",
      "\n",
      "OUTPUT> filtered_contig_igblast_db-pass.tsv\n",
      "  PASS> 1842\n",
      "  FAIL> 217\n",
      "   END> MakeDb\n",
      "\n"
     ]
    },
    {
     "name": "stderr",
     "output_type": "stream",
     "text": [
      "\r",
      "Assigning genes :  25%|██▌       | 1/4 [01:27<04:21, 87.12s/it]                                                                                  "
     ]
    },
    {
     "name": "stdout",
     "output_type": "stream",
     "text": [
      "         START> MakeDB\n",
      "       COMMAND> igblast\n",
      "  ALIGNER_FILE> filtered_contig_igblast.fmt7\n",
      "      SEQ_FILE> filtered_contig.fasta\n",
      "       ASIS_ID> False\n",
      "    ASIS_CALLS> False\n",
      "       PARTIAL> False\n",
      "      EXTENDED> True\n",
      "INFER_JUNCTION> False\n",
      "\n",
      "PROGRESS> 23:42:36 |Done                | 0.0 min\n",
      "\n",
      "PROGRESS> 23:42:42 |####################| 100% (2,601) 0.1 min\n",
      "\n",
      "OUTPUT> filtered_contig_igblast_db-pass.tsv\n",
      "  PASS> 2409\n",
      "  FAIL> 192\n",
      "   END> MakeDb\n",
      "\n",
      "         START> MakeDB\n",
      "       COMMAND> igblast\n",
      "  ALIGNER_FILE> filtered_contig_igblast.fmt7\n",
      "      SEQ_FILE> filtered_contig.fasta\n",
      "       ASIS_ID> False\n",
      "    ASIS_CALLS> False\n",
      "       PARTIAL> False\n",
      "      EXTENDED> True\n",
      "INFER_JUNCTION> False\n",
      "\n",
      "PROGRESS> 23:42:43 |Done                | 0.0 min\n",
      "\n",
      "PROGRESS> 23:42:49 |####################| 100% (2,601) 0.1 min\n",
      "\n",
      "OUTPUT> filtered_contig_igblast_db-pass.tsv\n",
      "  PASS> 2409\n",
      "  FAIL> 192\n",
      "   END> MakeDb\n",
      "\n"
     ]
    },
    {
     "name": "stderr",
     "output_type": "stream",
     "text": [
      "\r",
      "Assigning genes :  50%|█████     | 2/4 [03:53<04:04, 122.21s/it]                                                                                 "
     ]
    },
    {
     "name": "stdout",
     "output_type": "stream",
     "text": [
      "         START> MakeDB\n",
      "       COMMAND> igblast\n",
      "  ALIGNER_FILE> filtered_contig_igblast.fmt7\n",
      "      SEQ_FILE> filtered_contig.fasta\n",
      "       ASIS_ID> False\n",
      "    ASIS_CALLS> False\n",
      "       PARTIAL> False\n",
      "      EXTENDED> True\n",
      "INFER_JUNCTION> False\n",
      "\n",
      "PROGRESS> 23:44:37 |Done                | 0.0 min\n",
      "\n",
      "PROGRESS> 23:44:44 |####################| 100% (2,059) 0.1 min\n",
      "\n",
      "OUTPUT> filtered_contig_igblast_db-pass.tsv\n",
      "  PASS> 1842\n",
      "  FAIL> 217\n",
      "   END> MakeDb\n",
      "\n",
      "         START> MakeDB\n",
      "       COMMAND> igblast\n",
      "  ALIGNER_FILE> filtered_contig_igblast.fmt7\n",
      "      SEQ_FILE> filtered_contig.fasta\n",
      "       ASIS_ID> False\n",
      "    ASIS_CALLS> False\n",
      "       PARTIAL> False\n",
      "      EXTENDED> True\n",
      "INFER_JUNCTION> False\n",
      "\n",
      "PROGRESS> 23:44:44 |Done                | 0.0 min\n",
      "\n",
      "PROGRESS> 23:44:51 |####################| 100% (2,059) 0.1 min\n",
      "\n",
      "OUTPUT> filtered_contig_igblast_db-pass.tsv\n",
      "  PASS> 1842\n",
      "  FAIL> 217\n",
      "   END> MakeDb\n",
      "\n"
     ]
    },
    {
     "name": "stderr",
     "output_type": "stream",
     "text": [
      "\r",
      "Assigning genes :  75%|███████▌  | 3/4 [05:57<02:02, 122.77s/it]                                                                                 "
     ]
    },
    {
     "name": "stdout",
     "output_type": "stream",
     "text": [
      "         START> MakeDB\n",
      "       COMMAND> igblast\n",
      "  ALIGNER_FILE> filtered_contig_igblast.fmt7\n",
      "      SEQ_FILE> filtered_contig.fasta\n",
      "       ASIS_ID> False\n",
      "    ASIS_CALLS> False\n",
      "       PARTIAL> False\n",
      "      EXTENDED> True\n",
      "INFER_JUNCTION> False\n",
      "\n",
      "PROGRESS> 23:47:42 |Done                | 0.0 min\n",
      "\n",
      "PROGRESS> 23:47:49 |####################| 100% (3,222) 0.1 min\n",
      "\n",
      "OUTPUT> filtered_contig_igblast_db-pass.tsv\n",
      "  PASS> 2977\n",
      "  FAIL> 245\n",
      "   END> MakeDb\n",
      "\n",
      "         START> MakeDB\n",
      "       COMMAND> igblast\n",
      "  ALIGNER_FILE> filtered_contig_igblast.fmt7\n",
      "      SEQ_FILE> filtered_contig.fasta\n",
      "       ASIS_ID> False\n",
      "    ASIS_CALLS> False\n",
      "       PARTIAL> False\n",
      "      EXTENDED> True\n",
      "INFER_JUNCTION> False\n",
      "\n",
      "PROGRESS> 23:47:50 |Done                | 0.0 min\n",
      "\n",
      "PROGRESS> 23:47:56 |####################| 100% (3,222) 0.1 min\n",
      "\n",
      "OUTPUT> filtered_contig_igblast_db-pass.tsv\n",
      "  PASS> 2977\n",
      "  FAIL> 245\n",
      "   END> MakeDb\n",
      "\n"
     ]
    },
    {
     "name": "stderr",
     "output_type": "stream",
     "text": [
      "Assigning genes : 100%|██████████| 4/4 [09:02<00:00, 135.51s/it]                                                                                 \n"
     ]
    }
   ],
   "source": [
    "ddl.pp.reannotate_genes(samples)"
   ]
  },
  {
   "cell_type": "markdown",
   "id": "4e0b82a7",
   "metadata": {},
   "source": [
    "<div class=\"alert alert-info\">\n",
    "\n",
    "If you did not set a path to the igblast or germline paths in the environment above, you need to specify the path to the folders containing the fasta files directly.\n",
    "\n",
    "```python\n",
    "ddl.pp.reannotate_genes(samples, igblast_db = \"database/igblast/\", germline = \"database/germlines/imgt/human/vdj/\")\n",
    "```\n",
    "</div>"
   ]
  },
  {
   "cell_type": "markdown",
   "id": "a06ec016",
   "metadata": {},
   "source": [
    "## Step 3 : Reassigning heavy chain V gene alleles *(optional but recommended)*\n",
    "\n",
    "Next, we use *immcantation's TIgGER* [[Gadala-Maria15]](https://www.pnas.org/content/112/8/E862) method to reassign allelic calls for heavy chain V genes with `pp.reassign_alleles`. As stated in TIgGER's [website](https://tigger.readthedocs.io/en/stable/) and [manuscript](https://www.pnas.org/content/112/8/E862), *'TIgGER is a computational method that significantly improves V(D)J allele assignments by first determining the complete set of gene segments carried by an individual (including novel alleles) from V(D)J-rearrange sequences. TIgGER can then infer a subject’s genotype from these sequences, and use this genotype to correct the initial V(D)J allele assignments.'*\n",
    "\n",
    "This impacts on how contigs are chosen for finding clones later. It is also important when considering to do mutational analysis. For convenience, germline sequences are reconstructed at this step using the corrected V-gene alleles. Therefore, it is highly recommended to run it. \n",
    "\n",
    "However, this will only work properly if there is sufficient contigs. An ideal scenario would be to run it on multiple samples from the same subject to allow for more information to be used to confidently assign a genotyped *v_call*. In this tutorial, I'm assuming the four samples can be split into two sets where sets of two corresponds to a different/single individual. So while important, this step can be skipped if you don't have enough data to do this. \n",
    "\n",
    "`pp.reassign_alleles` requires the `combined_folder` option to be specified so that a merged/concatenated file can be produced for running TIgGER."
   ]
  },
  {
   "cell_type": "code",
   "execution_count": 5,
   "id": "5e0432c6",
   "metadata": {},
   "outputs": [
    {
     "name": "stderr",
     "output_type": "stream",
     "text": [
      "\r",
      "Processing data file(s) :   0%|          | 0/2 [00:00<?, ?it/s]                                                                                  "
     ]
    },
    {
     "name": "stdout",
     "output_type": "stream",
     "text": [
      "  START> ParseDb\n",
      "COMMAND> select\n",
      "   FILE> filtered_contig_igblast_db-pass.tsv\n",
      " FIELDS> locus\n",
      " VALUES> IGH\n",
      "  REGEX> True\n",
      "\n",
      "PROGRESS> 23:48:05 |                    |   0% (    0) 0.0 min\r",
      "PROGRESS> 23:48:05 |#                   |   5% (   93) 0.0 min\r",
      "PROGRESS> 23:48:05 |##                  |  10% (  186) 0.0 min\r",
      "PROGRESS> 23:48:05 |###                 |  15% (  279) 0.0 min\r",
      "PROGRESS> 23:48:05 |####                |  20% (  372) 0.0 min\r",
      "PROGRESS> 23:48:05 |#####               |  25% (  465) 0.0 min\r",
      "PROGRESS> 23:48:05 |######              |  30% (  558) 0.0 min\r",
      "PROGRESS> 23:48:05 |#######             |  35% (  651) 0.0 min\r",
      "PROGRESS> 23:48:05 |########            |  40% (  744) 0.0 min\r",
      "PROGRESS> 23:48:05 |#########           |  45% (  837) 0.0 min\r",
      "PROGRESS> 23:48:05 |##########          |  50% (  930) 0.0 min\r",
      "PROGRESS> 23:48:05 |###########         |  56% (1,023) 0.0 min\r",
      "PROGRESS> 23:48:05 |############        |  61% (1,116) 0.0 min\r",
      "PROGRESS> 23:48:05 |#############       |  66% (1,209) 0.0 min\r",
      "PROGRESS> 23:48:05 |##############      |  71% (1,302) 0.0 min\r",
      "PROGRESS> 23:48:05 |###############     |  76% (1,395) 0.0 min\r",
      "PROGRESS> 23:48:05 |################    |  81% (1,488) 0.0 min\r",
      "PROGRESS> 23:48:05 |#################   |  86% (1,581) 0.0 min\r",
      "PROGRESS> 23:48:05 |##################  |  91% (1,674) 0.0 min\r",
      "PROGRESS> 23:48:05 |################### |  96% (1,767) 0.0 min\r",
      "PROGRESS> 23:48:05 |####################| 100% (1,842) 0.0 min\n",
      "\n",
      "   OUTPUT> filtered_contig_igblast_db-pass_heavy_parse-select.tsv\n",
      "  RECORDS> 1842\n",
      " SELECTED> 834\n",
      "DISCARDED> 1008\n",
      "      END> ParseDb\n",
      "\n"
     ]
    },
    {
     "name": "stderr",
     "output_type": "stream",
     "text": [
      "\r",
      "Processing data file(s) :  50%|█████     | 1/2 [00:01<00:01,  1.30s/it]                                                                          "
     ]
    },
    {
     "name": "stdout",
     "output_type": "stream",
     "text": [
      "  START> ParseDb\n",
      "COMMAND> select\n",
      "   FILE> filtered_contig_igblast_db-pass.tsv\n",
      " FIELDS> locus\n",
      " VALUES> IG[LK]\n",
      "  REGEX> True\n",
      "\n",
      "PROGRESS> 23:48:05 |####################| 100% (1,842) 0.0 min\n",
      "\n",
      "   OUTPUT> filtered_contig_igblast_db-pass_light_parse-select.tsv\n",
      "  RECORDS> 1842\n",
      " SELECTED> 1008\n",
      "DISCARDED> 834\n",
      "      END> ParseDb\n",
      "\n",
      "  START> ParseDb\n",
      "COMMAND> select\n",
      "   FILE> filtered_contig_igblast_db-pass.tsv\n",
      " FIELDS> locus\n",
      " VALUES> IGH\n",
      "  REGEX> True\n",
      "\n",
      "PROGRESS> 23:48:06 |####################| 100% (2,409) 0.0 min\n",
      "\n",
      "   OUTPUT> filtered_contig_igblast_db-pass_heavy_parse-select.tsv\n",
      "  RECORDS> 2409\n",
      " SELECTED> 1135\n",
      "DISCARDED> 1274\n",
      "      END> ParseDb\n",
      "\n"
     ]
    },
    {
     "name": "stderr",
     "output_type": "stream",
     "text": [
      "Processing data file(s) : 100%|██████████| 2/2 [00:02<00:00,  1.28s/it]                                                                          "
     ]
    },
    {
     "name": "stdout",
     "output_type": "stream",
     "text": [
      "  START> ParseDb\n",
      "COMMAND> select\n",
      "   FILE> filtered_contig_igblast_db-pass.tsv\n",
      " FIELDS> locus\n",
      " VALUES> IG[LK]\n",
      "  REGEX> True\n",
      "\n",
      "PROGRESS> 23:48:06 |                    |   0% (    0) 0.0 min\r",
      "PROGRESS> 23:48:06 |#                   |   5% (  121) 0.0 min\r",
      "PROGRESS> 23:48:06 |##                  |  10% (  242) 0.0 min\r",
      "PROGRESS> 23:48:06 |###                 |  15% (  363) 0.0 min\r",
      "PROGRESS> 23:48:06 |####                |  20% (  484) 0.0 min\r",
      "PROGRESS> 23:48:06 |#####               |  25% (  605) 0.0 min\r",
      "PROGRESS> 23:48:06 |######              |  30% (  726) 0.0 min\r",
      "PROGRESS> 23:48:06 |#######             |  35% (  847) 0.0 min\r",
      "PROGRESS> 23:48:06 |########            |  40% (  968) 0.0 min\r",
      "PROGRESS> 23:48:06 |#########           |  45% (1,089) 0.0 min\r",
      "PROGRESS> 23:48:06 |##########          |  50% (1,210) 0.0 min\r",
      "PROGRESS> 23:48:06 |###########         |  55% (1,331) 0.0 min\r",
      "PROGRESS> 23:48:06 |############        |  60% (1,452) 0.0 min\r",
      "PROGRESS> 23:48:06 |#############       |  65% (1,573) 0.0 min\r",
      "PROGRESS> 23:48:06 |##############      |  70% (1,694) 0.0 min\r",
      "PROGRESS> 23:48:06 |###############     |  75% (1,815) 0.0 min\r",
      "PROGRESS> 23:48:06 |################    |  80% (1,936) 0.0 min\r",
      "PROGRESS> 23:48:06 |#################   |  85% (2,057) 0.0 min\r",
      "PROGRESS> 23:48:06 |##################  |  90% (2,178) 0.0 min\r",
      "PROGRESS> 23:48:06 |################### |  95% (2,299) 0.0 min\r",
      "PROGRESS> 23:48:06 |####################| 100% (2,409) 0.0 min\n",
      "\n",
      "   OUTPUT> filtered_contig_igblast_db-pass_light_parse-select.tsv\n",
      "  RECORDS> 2409\n",
      " SELECTED> 1274\n",
      "DISCARDED> 1135\n",
      "      END> ParseDb\n",
      "\n"
     ]
    },
    {
     "name": "stderr",
     "output_type": "stream",
     "text": [
      "\n"
     ]
    },
    {
     "name": "stdout",
     "output_type": "stream",
     "text": [
      "      Reassigning alleles\n"
     ]
    },
    {
     "name": "stderr",
     "output_type": "stream",
     "text": [
      "Error in findNovelAlleles(db, germline_db = igv, v_call = v_call, j_call = j_call,  : \n",
      "  Not enough sample sequences were assigned to any germline:\n",
      "  (1) germline_min is too large or\n",
      "  (2) sequences names don't match germlines.\n",
      "Execution halted\n"
     ]
    },
    {
     "name": "stdout",
     "output_type": "stream",
     "text": [
      "            Reconstructing heavy chain dmask germline sequences with v_call_genotyped.\n",
      "     START> CreateGermlines\n",
      "      FILE> tutorial_scgp1_heavy_igblast_db-pass_genotyped.tsv\n",
      "GERM_TYPES> dmask\n",
      " SEQ_FIELD> sequence_alignment\n",
      "   V_FIELD> v_call_genotyped\n",
      "   D_FIELD> d_call\n",
      "   J_FIELD> j_call\n",
      "    CLONED> False\n",
      "\n",
      "PROGRESS> 23:48:23 |####################| 100% (1,969) 0.0 min\n",
      "\n",
      " OUTPUT> tutorial_scgp1_heavy_igblast_db-pass_genotyped_germ-pass.tsv\n",
      "RECORDS> 1969\n",
      "   PASS> 1954\n",
      "   FAIL> 15\n",
      "    END> CreateGermlines\n",
      "\n",
      "            Reconstructing light chain dmaskgermline sequences with v_call.\n",
      "     START> CreateGermlines\n",
      "      FILE> tutorial_scgp1_light_igblast_db-pass.tsv\n",
      "GERM_TYPES> dmask\n",
      " SEQ_FIELD> sequence_alignment\n",
      "   V_FIELD> v_call\n",
      "   D_FIELD> d_call\n",
      "   J_FIELD> j_call\n",
      "    CLONED> False\n",
      "\n",
      "PROGRESS> 23:48:29 |####################| 100% (2,282) 0.0 min\n",
      "\n",
      " OUTPUT> tutorial_scgp1_light_igblast_db-pass_germ-pass.tsv\n",
      "RECORDS> 2282\n",
      "   PASS> 2282\n",
      "   FAIL> 0\n",
      "    END> CreateGermlines\n",
      "\n"
     ]
    },
    {
     "name": "stderr",
     "output_type": "stream",
     "text": [
      "/Users/kt16/Documents/Github/dandelion/dandelion/preprocessing/_preprocessing.py:1498: FutureWarning: The frame.append method is deprecated and will be removed from pandas in a future version. Use pandas.concat instead.\n",
      "/Users/kt16/Documents/Github/dandelion/dandelion/preprocessing/_preprocessing.py:1600: FutureWarning: The `inplace` parameter in pandas.Categorical.reorder_categories is deprecated and will be removed in a future version. Reordering categories will always return a new Categorical object.\n",
      "/Users/kt16/Documents/Github/dandelion/dandelion/preprocessing/_preprocessing.py:1603: FutureWarning: The `inplace` parameter in pandas.Categorical.reorder_categories is deprecated and will be removed in a future version. Reordering categories will always return a new Categorical object.\n",
      "/Users/kt16/miniconda3/envs/dandelion/lib/python3.9/site-packages/plotnine/utils.py:371: FutureWarning: The frame.append method is deprecated and will be removed from pandas in a future version. Use pandas.concat instead.\n"
     ]
    },
    {
     "data": {
      "image/png": "[encoded data removed]",
      "text/plain": [
       "<Figure size 432x288 with 2 Axes>"
      ]
     },
     "metadata": {},
     "output_type": "display_data"
    },
    {
     "name": "stdout",
     "output_type": "stream",
     "text": [
      "\n"
     ]
    },
    {
     "name": "stderr",
     "output_type": "stream",
     "text": [
      "Writing out to individual folders : 100%|██████████| 2/2 [00:01<00:00,  1.06it/s]                                                                \n"
     ]
    }
   ],
   "source": [
    "# reassigning alleles on the first set of samples\n",
    "ddl.pp.reassign_alleles(samples[:2], combined_folder = 'tutorial_scgp1')"
   ]
  },
  {
   "cell_type": "code",
   "execution_count": 6,
   "id": "760adb6c",
   "metadata": {},
   "outputs": [
    {
     "name": "stderr",
     "output_type": "stream",
     "text": [
      "\r",
      "Processing data file(s) :   0%|          | 0/2 [00:00<?, ?it/s]                                                                                  "
     ]
    },
    {
     "name": "stdout",
     "output_type": "stream",
     "text": [
      "  START> ParseDb\n",
      "COMMAND> select\n",
      "   FILE> filtered_contig_igblast_db-pass.tsv\n",
      " FIELDS> locus\n",
      " VALUES> IGH\n",
      "  REGEX> True\n",
      "\n",
      "PROGRESS> 23:48:33 |                    |   0% (    0) 0.0 min\r",
      "PROGRESS> 23:48:33 |#                   |   5% (   93) 0.0 min\r",
      "PROGRESS> 23:48:33 |##                  |  10% (  186) 0.0 min\r",
      "PROGRESS> 23:48:33 |###                 |  15% (  279) 0.0 min\r",
      "PROGRESS> 23:48:33 |####                |  20% (  372) 0.0 min\r",
      "PROGRESS> 23:48:33 |#####               |  25% (  465) 0.0 min\r",
      "PROGRESS> 23:48:33 |######              |  30% (  558) 0.0 min\r",
      "PROGRESS> 23:48:34 |#######             |  35% (  651) 0.0 min\r",
      "PROGRESS> 23:48:34 |########            |  40% (  744) 0.0 min\r",
      "PROGRESS> 23:48:34 |#########           |  45% (  837) 0.0 min\r",
      "PROGRESS> 23:48:34 |##########          |  50% (  930) 0.0 min\r",
      "PROGRESS> 23:48:34 |###########         |  56% (1,023) 0.0 min\r",
      "PROGRESS> 23:48:34 |############        |  61% (1,116) 0.0 min\r",
      "PROGRESS> 23:48:34 |#############       |  66% (1,209) 0.0 min\r",
      "PROGRESS> 23:48:34 |##############      |  71% (1,302) 0.0 min\r",
      "PROGRESS> 23:48:34 |###############     |  76% (1,395) 0.0 min\r",
      "PROGRESS> 23:48:34 |################    |  81% (1,488) 0.0 min\r",
      "PROGRESS> 23:48:34 |#################   |  86% (1,581) 0.0 min\r",
      "PROGRESS> 23:48:34 |##################  |  91% (1,674) 0.0 min\r",
      "PROGRESS> 23:48:34 |################### |  96% (1,767) 0.0 min\r",
      "PROGRESS> 23:48:34 |####################| 100% (1,842) 0.0 min\n",
      "\n",
      "   OUTPUT> filtered_contig_igblast_db-pass_heavy_parse-select.tsv\n",
      "  RECORDS> 1842\n",
      " SELECTED> 834\n",
      "DISCARDED> 1008\n",
      "      END> ParseDb\n",
      "\n"
     ]
    },
    {
     "name": "stderr",
     "output_type": "stream",
     "text": [
      "\r",
      "Processing data file(s) :  50%|█████     | 1/2 [00:01<00:01,  1.24s/it]                                                                          "
     ]
    },
    {
     "name": "stdout",
     "output_type": "stream",
     "text": [
      "  START> ParseDb\n",
      "COMMAND> select\n",
      "   FILE> filtered_contig_igblast_db-pass.tsv\n",
      " FIELDS> locus\n",
      " VALUES> IG[LK]\n",
      "  REGEX> True\n",
      "\n",
      "PROGRESS> 23:48:34 |####################| 100% (1,842) 0.0 min\n",
      "\n",
      "   OUTPUT> filtered_contig_igblast_db-pass_light_parse-select.tsv\n",
      "  RECORDS> 1842\n",
      " SELECTED> 1008\n",
      "DISCARDED> 834\n",
      "      END> ParseDb\n",
      "\n",
      "  START> ParseDb\n",
      "COMMAND> select\n",
      "   FILE> filtered_contig_igblast_db-pass.tsv\n",
      " FIELDS> locus\n",
      " VALUES> IGH\n",
      "  REGEX> True\n",
      "\n",
      "PROGRESS> 23:48:35 |####################| 100% (2,977) 0.0 min\n",
      "\n",
      "   OUTPUT> filtered_contig_igblast_db-pass_heavy_parse-select.tsv\n",
      "  RECORDS> 2977\n",
      " SELECTED> 1331\n",
      "DISCARDED> 1646\n",
      "      END> ParseDb\n",
      "\n",
      "  START> ParseDb\n",
      "COMMAND> select\n",
      "   FILE> filtered_contig_igblast_db-pass.tsv\n",
      " FIELDS> locus\n",
      " VALUES> IG[LK]\n",
      "  REGEX> True\n",
      "\n",
      "PROGRESS> 23:48:36 |################### |  95% (2,831) 0.0 min"
     ]
    },
    {
     "name": "stderr",
     "output_type": "stream",
     "text": [
      "Processing data file(s) : 100%|██████████| 2/2 [00:02<00:00,  1.32s/it]                                                                          "
     ]
    },
    {
     "name": "stdout",
     "output_type": "stream",
     "text": [
      "\r",
      "PROGRESS> 23:48:36 |####################| 100% (2,977) 0.0 min\n",
      "\n",
      "   OUTPUT> filtered_contig_igblast_db-pass_light_parse-select.tsv\n",
      "  RECORDS> 2977\n",
      " SELECTED> 1646\n",
      "DISCARDED> 1331\n",
      "      END> ParseDb\n",
      "\n"
     ]
    },
    {
     "name": "stderr",
     "output_type": "stream",
     "text": [
      "\n"
     ]
    },
    {
     "name": "stdout",
     "output_type": "stream",
     "text": [
      "      Reassigning alleles\n",
      "null device \n",
      "          1 \n",
      "            Reconstructing heavy chain dmask germline sequences with v_call_genotyped.\n",
      "     START> CreateGermlines\n",
      "      FILE> tutorial_scgp2_heavy_igblast_db-pass_genotyped.tsv\n",
      "GERM_TYPES> dmask\n",
      " SEQ_FIELD> sequence_alignment\n",
      "   V_FIELD> v_call_genotyped\n",
      "   D_FIELD> d_call\n",
      "   J_FIELD> j_call\n",
      "    CLONED> False\n",
      "\n",
      "PROGRESS> 23:49:08 |####################| 100% (2,165) 0.0 min\n",
      "\n",
      " OUTPUT> tutorial_scgp2_heavy_igblast_db-pass_genotyped_germ-pass.tsv\n",
      "RECORDS> 2165\n",
      "   PASS> 2115\n",
      "   FAIL> 50\n",
      "    END> CreateGermlines\n",
      "\n",
      "            Reconstructing light chain dmaskgermline sequences with v_call.\n",
      "     START> CreateGermlines\n",
      "      FILE> tutorial_scgp2_light_igblast_db-pass.tsv\n",
      "GERM_TYPES> dmask\n",
      " SEQ_FIELD> sequence_alignment\n",
      "   V_FIELD> v_call\n",
      "   D_FIELD> d_call\n",
      "   J_FIELD> j_call\n",
      "    CLONED> False\n",
      "\n",
      "PROGRESS> 23:49:14 |####################| 100% (2,654) 0.0 min\n",
      "\n",
      " OUTPUT> tutorial_scgp2_light_igblast_db-pass_germ-pass.tsv\n",
      "RECORDS> 2654\n",
      "   PASS> 2654\n",
      "   FAIL> 0\n",
      "    END> CreateGermlines\n",
      "\n"
     ]
    },
    {
     "name": "stderr",
     "output_type": "stream",
     "text": [
      "/Users/kt16/Documents/Github/dandelion/dandelion/preprocessing/_preprocessing.py:1498: FutureWarning: The frame.append method is deprecated and will be removed from pandas in a future version. Use pandas.concat instead.\n",
      "/Users/kt16/Documents/Github/dandelion/dandelion/preprocessing/_preprocessing.py:1600: FutureWarning: The `inplace` parameter in pandas.Categorical.reorder_categories is deprecated and will be removed in a future version. Reordering categories will always return a new Categorical object.\n",
      "/Users/kt16/Documents/Github/dandelion/dandelion/preprocessing/_preprocessing.py:1603: FutureWarning: The `inplace` parameter in pandas.Categorical.reorder_categories is deprecated and will be removed in a future version. Reordering categories will always return a new Categorical object.\n",
      "/Users/kt16/miniconda3/envs/dandelion/lib/python3.9/site-packages/plotnine/utils.py:371: FutureWarning: The frame.append method is deprecated and will be removed from pandas in a future version. Use pandas.concat instead.\n"
     ]
    },
    {
     "data": {
      "image/png": "[encoded data removed]",
      "text/plain": [
       "<Figure size 400x300 with 2 Axes>"
      ]
     },
     "metadata": {},
     "output_type": "display_data"
    },
    {
     "name": "stdout",
     "output_type": "stream",
     "text": [
      "\n"
     ]
    },
    {
     "name": "stderr",
     "output_type": "stream",
     "text": [
      "Writing out to individual folders : 100%|██████████| 2/2 [00:02<00:00,  1.07s/it]                                                                \n"
     ]
    }
   ],
   "source": [
    "# reassigning alleles on the second set of samples\n",
    "ddl.pp.reassign_alleles(samples[2:], combined_folder = 'tutorial_scgp2')"
   ]
  },
  {
   "cell_type": "markdown",
   "id": "b7587731",
   "metadata": {},
   "source": [
    "We can see that most of the original ambiguous V calls have now been corrected and only a few remain.\n",
    "\n",
    "<div class=\"alert alert-info\">\n",
    "Similar to above, if you you can specify the path to the folder containing the fasta files accordingly:\n",
    "\n",
    "```python\n",
    "ddl.pp.reassign_alleles(samples[2:], combined_folder = 'tutorial_scgp2', germline = \"database/germlines/imgt/human/vdj\")\n",
    "```\n",
    "</div>"
   ]
  },
  {
   "cell_type": "markdown",
   "id": "4c546938",
   "metadata": {},
   "source": [
    "## Step 4: Assigning constant region calls\n",
    "\n",
    "Cell Ranger's annotation files provides a *c_gene* column, but rather than simply relying on Cell Ranger's annotation, it is common to use [*immcantation-presto*'s *MaskPrimers.py*](https://presto.readthedocs.io/en/version-0.5.3---license-change/tools/MaskPrimers.html) with a custom primer list. \n",
    "\n",
    "As an alternative, `dandelion` includes a pre-processing function, `pp.assign_isotypes`, to use *blastn* to annotate constant region calls for all contigs and retrieves the call, merging it with the tsv files. This function will overwrite the output from previous steps and add a *c_call* column at the end, or replace the existing column if it already exists. The Cell Ranger calls are returned as `c_call_10x`.\n",
    "\n",
    "Further, to deal with incorrect constant gene calls due to insufficient length, a pairwise alignment will be run against [curated sequences](https://immunology.sciencemag.org/content/6/56/eabe6291) that were deemed to be highly specific in distinguishing `IGHA1` vs `IGHA2`, and `IGHG1` to `IGHG4`. I have also curated sets of sequences that should help deal with `IGLC3/6/7` as these are problematic too. If there is insufficient info, the `c_call` will be returned as a combination of the most aligned sets of sequences. Because of how similar the lambda light chains are, extremely ambiguous calls (only able to map to a common sequence across the light chains) will be returned as `IGLC`. This typically occurs when the constant sequence is very short. Those that have equal alignment scores between `IGLC3/6/7` sequences and the common sequence will be returned as a concatenated call; for example, a contig initially annotated as `IGLC3` will be returned as `IGLC,IGLC3`. \n",
    "\n",
    "<div class=\"alert alert-info\">\n",
    "\n",
    "The curated sequences can be updated/replaced with a dict-of-dict-of-dict style dictionary via the option `correction_dict`. The provided dictionary should be a nested dictionary like the following:\n",
    "```python\n",
    "primer_dict = {\n",
    "    'IGHG':{\n",
    "        'IGHG1':'GCCTCCACCAAGGGCCCATCGGTCTTCCCCCTGGCACCCTCCTCCAAGAGCACCTCTGGGGGCACAGCGGCCCTGGGC',\n",
    "        'IGHG2':'GCCTCCACCAAGGGCCCATCGGTCTTCCCCCTGGCGCCCTGCTCCAGGAGCACCTCCGAGAGCACAGCGGCCCTGGGC',\n",
    "        'IGHG3':'GCTTCCACCAAGGGCCCATCGGTCTTCCCCCTGGCGCCCTGCTCCAGGAGCACCTCTGGGGGCACAGCGGCCCTGGGC',\n",
    "        'IGHG4':'GCTTCCACCAAGGGCCCATCCGTCTTCCCCCTGGCGCCCTGCTCCAGGAGCACCTCCGAGAGCACAGCCGCCCTGGGC'}}\n",
    "```\n",
    "\n",
    "The key for the first level of the dictionary is used for searching whether the string pattern exists in the `c_call`, and the second level holds the dictionary for the the reference sequences to align to. The keys in the second level are used for replacing the existing `c_call` annotation if it is returned with the highest alignment score. The function currently only accepts 2-4 reference sequences for the pairwise alignment.\n",
    "</div>"
   ]
  },
  {
   "cell_type": "code",
   "execution_count": 7,
   "id": "acfceb09",
   "metadata": {},
   "outputs": [
    {
     "data": {
      "image/png": "[encoded data removed]",
      "text/plain": [
       "<Figure size 400x400 with 1 Axes>"
      ]
     },
     "metadata": {},
     "output_type": "display_data"
    },
    {
     "name": "stdout",
     "output_type": "stream",
     "text": [
      "\n"
     ]
    },
    {
     "data": {
      "image/png": "[encoded data removed]",
      "text/plain": [
       "<Figure size 400x400 with 1 Axes>"
      ]
     },
     "metadata": {},
     "output_type": "display_data"
    },
    {
     "name": "stdout",
     "output_type": "stream",
     "text": [
      "\n"
     ]
    },
    {
     "data": {
      "image/png": "[encoded data removed]",
      "text/plain": [
       "<Figure size 400x400 with 1 Axes>"
      ]
     },
     "metadata": {},
     "output_type": "display_data"
    },
    {
     "name": "stdout",
     "output_type": "stream",
     "text": [
      "\n"
     ]
    },
    {
     "data": {
      "image/png": "[encoded data removed]",
      "text/plain": [
       "<Figure size 400x400 with 1 Axes>"
      ]
     },
     "metadata": {},
     "output_type": "display_data"
    },
    {
     "name": "stdout",
     "output_type": "stream",
     "text": [
      "\n"
     ]
    }
   ],
   "source": [
    "ddl.pp.assign_isotypes(samples)"
   ]
  },
  {
   "cell_type": "markdown",
   "id": "c570ec3a",
   "metadata": {},
   "source": [
    "<div class=\"alert alert-info\">\n",
    "\n",
    "Should you want to use a different reference fasta file for this step, run with the following option:\n",
    "\n",
    "```python\n",
    "ddl.pp.assign_isotypes(samples, blastdb = \"path/to/custom_BCR_constant.fasta\")\n",
    "```\n",
    "\n",
    "The default option will return a summary plot that can be disabled with `plot = False`.\n",
    "</div>\n",
    "    \n",
    "Finally, it's worthwhile to manually check the the sequences for constant calls returned as IGHA1-2, IGHG1-4 and the light chains and manually correct them if necessary.\n",
    "\n",
    "## Step 5: Quantify mutations *(optional)*.\n",
    "\n",
    "At this stage, with all the necessary columns in the files, you can quantify the basic mutational load with `pp.quantify_mutations`, a wrapper of `SHaZaM`'s basic mutational analysis in R [[Gupta2015]](https://academic.oup.com/bioinformatics/article/31/20/3356/195677), before subsequent analyses. This will be covered again later in the `Calculating diversity and mutation` section."
   ]
  },
  {
   "cell_type": "code",
   "execution_count": 8,
   "id": "e95fe10d",
   "metadata": {},
   "outputs": [
    {
     "name": "stderr",
     "output_type": "stream",
     "text": [
      "Basic mutational load analysis : 100%|█████████████████████████████████████████████████████████████████████████████| 4/4 [00:48<00:00, 12.20s/it]\n"
     ]
    }
   ],
   "source": [
    "from tqdm import tqdm\n",
    "# quantify mutations\n",
    "for s in tqdm(samples, desc = 'Basic mutational load analysis '):\n",
    "    filePath = s+'/dandelion/filtered_contig_dandelion.tsv'\n",
    "    ddl.pp.quantify_mutations(filePath)"
   ]
  },
  {
   "cell_type": "code",
   "execution_count": null,
   "id": "d955dd27",
   "metadata": {},
   "outputs": [],
   "source": []
  }
 ],
 "metadata": {
  "kernelspec": {
   "display_name": "Python (dandelion)",
   "language": "python",
   "name": "dandelion"
  },
  "language_info": {
   "codemirror_mode": {
    "name": "ipython",
    "version": 3
   },
   "file_extension": ".py",
   "mimetype": "text/x-python",
   "name": "python",
   "nbconvert_exporter": "python",
   "pygments_lexer": "ipython3",
   "version": "3.9.13"
  }
 },
 "nbformat": 4,
 "nbformat_minor": 5
}
