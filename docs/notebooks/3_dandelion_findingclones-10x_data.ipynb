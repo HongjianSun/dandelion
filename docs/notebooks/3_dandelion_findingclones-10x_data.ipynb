{
 "cells": [
  {
   "cell_type": "markdown",
   "metadata": {},
   "source": [
    "# BCR clustering\n",
    "\n",
    "![dandelion_logo](img/dandelion_logo_illustration.png)\n",
    "\n",
    "On the topic of finding clones/clonotypes, there are many ways used for clustering BCRs, almost all involving some measure based on sequence similarity. There are also a lot of very well established guidelines and criterias maintained by the BCR community. For example, *immcantation* uses a number of model-based [methods](https://changeo.readthedocs.io/en/stable/methods/clustering.html) to group clones based on the distribution of length-normalised junctional hamming distance while others use the whole BCR V(D)J sequence to define clones as shown in this recent [paper](https://www.nature.com/articles/s41586-019-1595-3.pdf)."
   ]
  },
  {
   "cell_type": "markdown",
   "metadata": {},
   "source": [
    "***Import modules***"
   ]
  },
  {
   "cell_type": "code",
   "execution_count": 1,
   "metadata": {
    "scrolled": true
   },
   "outputs": [
    {
     "name": "stdout",
     "output_type": "stream",
     "text": [
      "dandelion==0.1.2.dev3 pandas==1.2.3 numpy==1.20.1 matplotlib==3.3.4 networkx==2.5 scipy==1.6.1 skbio==0.5.6\n"
     ]
    }
   ],
   "source": [
    "import os\n",
    "import pandas as pd\n",
    "import dandelion as ddl\n",
    "ddl.logging.print_header()"
   ]
  },
  {
   "cell_type": "code",
   "execution_count": 2,
   "metadata": {
    "scrolled": true
   },
   "outputs": [
    {
     "name": "stdout",
     "output_type": "stream",
     "text": [
      "scanpy==1.6.0 anndata==0.7.6 umap==0.4.6 numpy==1.20.1 scipy==1.6.1 pandas==1.2.3 scikit-learn==0.24.1 statsmodels==0.12.1 python-igraph==0.8.3 leidenalg==0.8.3\n"
     ]
    }
   ],
   "source": [
    "# change directory to somewhere more workable\n",
    "os.chdir(os.path.expanduser('/Users/kt16/Downloads/dandelion_tutorial/'))\n",
    "# I'm importing scanpy here to make use of its logging module.\n",
    "import scanpy as sc\n",
    "sc.settings.verbosity = 3\n",
    "import warnings\n",
    "warnings.filterwarnings('ignore')\n",
    "sc.logging.print_header()"
   ]
  },
  {
   "cell_type": "markdown",
   "metadata": {},
   "source": [
    "***Read in the previously saved files***\n",
    "\n",
    "I will work with the same example from the previous notebook since I have the filtered V(D)J data stored in a `Dandelion` class."
   ]
  },
  {
   "cell_type": "code",
   "execution_count": 3,
   "metadata": {
    "scrolled": true
   },
   "outputs": [
    {
     "data": {
      "text/plain": [
       "Dandelion class object with n_obs = 1004 and n_contigs = 2013\n",
       "    data: 'sequence_id', 'sequence', 'rev_comp', 'productive', 'v_call', 'd_call', 'j_call', 'sequence_alignment', 'germline_alignment', 'junction', 'junction_aa', 'v_cigar', 'd_cigar', 'j_cigar', 'stop_codon', 'vj_in_frame', 'locus', 'junction_length', 'np1_length', 'np2_length', 'v_sequence_start', 'v_sequence_end', 'v_germline_start', 'v_germline_end', 'd_sequence_start', 'd_sequence_end', 'd_germline_start', 'd_germline_end', 'j_sequence_start', 'j_sequence_end', 'j_germline_start', 'j_germline_end', 'v_score', 'v_identity', 'v_support', 'd_score', 'd_identity', 'd_support', 'j_score', 'j_identity', 'j_support', 'fwr1', 'fwr2', 'fwr3', 'fwr4', 'cdr1', 'cdr2', 'cdr3', 'cell_id', 'c_call', 'consensus_count', 'umi_count', 'v_call_10x', 'd_call_10x', 'j_call_10x', 'junction_10x', 'junction_10x_aa', 'v_call_genotyped', 'germline_alignment_d_mask', 'sample_id', 'c_sequence_alignment', 'c_germline_alignment', 'c_sequence_start', 'c_sequence_end', 'c_score', 'c_identity', 'c_support', 'c_call_10x', 'junction_aa_length', 'fwr1_aa', 'fwr2_aa', 'fwr3_aa', 'fwr4_aa', 'cdr1_aa', 'cdr2_aa', 'cdr3_aa', 'sequence_alignment_aa', 'v_sequence_alignment_aa', 'd_sequence_alignment_aa', 'j_sequence_alignment_aa', 'mu_freq', 'duplicate_count', 'clone_id', 'changeo_clone_id'\n",
       "    metadata: 'clone_id', 'clone_id_by_size', 'sample_id', 'locus_VDJ', 'locus_VJ', 'productive_VDJ', 'productive_VJ', 'v_call_genotyped_VDJ', 'v_call_genotyped_VJ', 'j_call_VDJ', 'j_call_VJ', 'c_call_VDJ', 'c_call_VJ', 'umi_count_VDJ_0', 'umi_count_VDJ_1', 'umi_count_VDJ_2', 'umi_count_VJ_0', 'umi_count_VJ_1', 'junction_aa_VDJ', 'junction_aa_VJ', 'status', 'status_summary', 'productive', 'productive_summary', 'isotype', 'isotype_summary', 'vdj_status', 'vdj_status_summary', 'VDJ_chain_status_summary', 'changeo_clone_id'\n",
       "    distance: 'VDJ_0', 'VDJ_1', 'VDJ_2', 'VJ_0', 'VJ_1'\n",
       "    edges: 'source', 'target', 'weight'\n",
       "    layout: layout for 1004 vertices, layout for 24 vertices\n",
       "    graph: networkx graph of 1004 vertices, networkx graph of 24 vertices "
      ]
     },
     "execution_count": 3,
     "metadata": {},
     "output_type": "execute_result"
    }
   ],
   "source": [
    "vdj = ddl.read_h5('dandelion_results.h5')\n",
    "vdj"
   ]
  },
  {
   "cell_type": "markdown",
   "metadata": {},
   "source": [
    "## Finding clones\n",
    "\n",
    "The following is *dandelion*'s implementation of a rather conventional method to define clones, `tl.find_clones`. \n",
    "\n",
    "Clone definition is based on the following criterias:\n",
    "\n",
    "    (1) Identical IGH V-J gene usage.\n",
    "\n",
    "    (2) Identical CDR3 junctional sequence length.\n",
    "\n",
    "    (3) CDR3 Junctional sequences attains a minimum of % sequence similarity, based on hamming distance. The similarity cut-off is tunable (default is 85%).\n",
    "\n",
    "    (4) Light chain usage. If cells within clones use different light chains, the clone will be splitted following the same conditions for heavy chains in (1-3) as above. \n",
    "\n",
    "The 'clone_id' name follows a `{A}_{B}_{C}_{D}` format and largely reflects the conditions above where:\n",
    "\n",
    "    {A} indicates if the contigs use the same IGH V/J genes.\n",
    "    \n",
    "    {B} indicates if IGH junctional sequences are equal in length.\n",
    "    \n",
    "    {C} indicates if clones are splitted based on junctional hamming distance threshold\n",
    "    \n",
    "    {D} indicates light chain pairing. \n",
    "\n",
    "The last position will not be annotated if there's only one group of light chains usage detected in the clone."
   ]
  },
  {
   "cell_type": "markdown",
   "metadata": {},
   "source": [
    "### Running `tl.find_clones`\n",
    "The function will take a file path, a pandas `DataFrame` (for example if you've used pandas to read in the filtered file already), or a `Dandelion` class object. The default mode for calculation of junctional hamming distance is to use the CDR3 junction amino acid sequences, specified via the `key` option (`None` defaults to `junction_aa`). You can switch it to using CDR3 junction nucleotide sequences (`key = 'junction'`, or even the full V(D)J amino acid sequence (`key = 'sequence_alignment_aa`), as long as the column name exists in the `.data` slot.\n",
    "\n",
    "If you want to use the alleles for defining V-J gene usuage, specify:\n",
    "```python\n",
    "by_alleles = True\n",
    "```\n",
    "\n",
    "Clustering TCR is potentially possible with the same setup, although some parameters may need to be tweaked."
   ]
  },
  {
   "cell_type": "code",
   "execution_count": 4,
   "metadata": {
    "scrolled": false
   },
   "outputs": [
    {
     "name": "stdout",
     "output_type": "stream",
     "text": [
      "Finding clonotypes\n"
     ]
    },
    {
     "name": "stderr",
     "output_type": "stream",
     "text": [
      "Finding clones based on VDJ chains : 100%|██████████| 188/188 [00:00<00:00, 2282.25it/s]\n",
      "Refining clone assignment based on VJ chain pairing : 100%|██████████| 1004/1004 [00:00<00:00, 269733.62it/s]\n"
     ]
    },
    {
     "name": "stdout",
     "output_type": "stream",
     "text": [
      " finished: Updated Dandelion object: \n",
      "   'data', contig-indexed clone table\n",
      "   'metadata', cell-indexed clone table\n",
      " (0:00:00)\n"
     ]
    },
    {
     "data": {
      "text/plain": [
       "Dandelion class object with n_obs = 1004 and n_contigs = 2013\n",
       "    data: 'sequence_id', 'sequence', 'rev_comp', 'productive', 'v_call', 'd_call', 'j_call', 'sequence_alignment', 'germline_alignment', 'junction', 'junction_aa', 'v_cigar', 'd_cigar', 'j_cigar', 'stop_codon', 'vj_in_frame', 'locus', 'junction_length', 'np1_length', 'np2_length', 'v_sequence_start', 'v_sequence_end', 'v_germline_start', 'v_germline_end', 'd_sequence_start', 'd_sequence_end', 'd_germline_start', 'd_germline_end', 'j_sequence_start', 'j_sequence_end', 'j_germline_start', 'j_germline_end', 'v_score', 'v_identity', 'v_support', 'd_score', 'd_identity', 'd_support', 'j_score', 'j_identity', 'j_support', 'fwr1', 'fwr2', 'fwr3', 'fwr4', 'cdr1', 'cdr2', 'cdr3', 'cell_id', 'c_call', 'consensus_count', 'umi_count', 'v_call_10x', 'd_call_10x', 'j_call_10x', 'junction_10x', 'junction_10x_aa', 'v_call_genotyped', 'germline_alignment_d_mask', 'sample_id', 'c_sequence_alignment', 'c_germline_alignment', 'c_sequence_start', 'c_sequence_end', 'c_score', 'c_identity', 'c_support', 'c_call_10x', 'junction_aa_length', 'fwr1_aa', 'fwr2_aa', 'fwr3_aa', 'fwr4_aa', 'cdr1_aa', 'cdr2_aa', 'cdr3_aa', 'sequence_alignment_aa', 'v_sequence_alignment_aa', 'd_sequence_alignment_aa', 'j_sequence_alignment_aa', 'mu_freq', 'duplicate_count', 'clone_id', 'changeo_clone_id'\n",
       "    metadata: 'clone_id', 'clone_id_by_size', 'sample_id', 'locus_VDJ', 'locus_VJ', 'productive_VDJ', 'productive_VJ', 'v_call_genotyped_VDJ', 'v_call_genotyped_VJ', 'j_call_VDJ', 'j_call_VJ', 'c_call_VDJ', 'c_call_VJ', 'duplicate_count_VDJ_0', 'duplicate_count_VDJ_1', 'duplicate_count_VDJ_2', 'duplicate_count_VJ_0', 'duplicate_count_VJ_1', 'junction_aa_VDJ', 'junction_aa_VJ', 'status', 'status_summary', 'productive', 'productive_summary', 'isotype', 'isotype_summary', 'vdj_status', 'vdj_status_summary', 'VDJ_chain_status_summary'\n",
       "    distance: 'VDJ_0', 'VDJ_1', 'VDJ_2', 'VJ_0', 'VJ_1'\n",
       "    edges: 'source', 'target', 'weight'\n",
       "    layout: layout for 1004 vertices, layout for 24 vertices\n",
       "    graph: networkx graph of 1004 vertices, networkx graph of 24 vertices "
      ]
     },
     "execution_count": 4,
     "metadata": {},
     "output_type": "execute_result"
    }
   ],
   "source": [
    "ddl.tl.find_clones(vdj)\n",
    "vdj"
   ]
  },
  {
   "cell_type": "markdown",
   "metadata": {},
   "source": [
    "This will return a new column with the column name `'clone_id'` as per convention. If a file path is provided as input, it will also save the file automatically into the base directory of the file name. Otherwise, a `Dandelion` object will be returned."
   ]
  },
  {
   "cell_type": "code",
   "execution_count": 5,
   "metadata": {},
   "outputs": [
    {
     "data": {
      "text/html": [
       "<div>\n",
       "<style scoped>\n",
       "    .dataframe tbody tr th:only-of-type {\n",
       "        vertical-align: middle;\n",
       "    }\n",
       "\n",
       "    .dataframe tbody tr th {\n",
       "        vertical-align: top;\n",
       "    }\n",
       "\n",
       "    .dataframe thead th {\n",
       "        text-align: right;\n",
       "    }\n",
       "</style>\n",
       "<table border=\"1\" class=\"dataframe\">\n",
       "  <thead>\n",
       "    <tr style=\"text-align: right;\">\n",
       "      <th></th>\n",
       "      <th>clone_id</th>\n",
       "      <th>clone_id_by_size</th>\n",
       "      <th>sample_id</th>\n",
       "      <th>locus_VDJ</th>\n",
       "      <th>locus_VJ</th>\n",
       "      <th>productive_VDJ</th>\n",
       "      <th>productive_VJ</th>\n",
       "      <th>v_call_genotyped_VDJ</th>\n",
       "      <th>v_call_genotyped_VJ</th>\n",
       "      <th>j_call_VDJ</th>\n",
       "      <th>...</th>\n",
       "      <th>junction_aa_VJ</th>\n",
       "      <th>status</th>\n",
       "      <th>status_summary</th>\n",
       "      <th>productive</th>\n",
       "      <th>productive_summary</th>\n",
       "      <th>isotype</th>\n",
       "      <th>isotype_summary</th>\n",
       "      <th>vdj_status</th>\n",
       "      <th>vdj_status_summary</th>\n",
       "      <th>VDJ_chain_status_summary</th>\n",
       "    </tr>\n",
       "  </thead>\n",
       "  <tbody>\n",
       "    <tr>\n",
       "      <th>sc5p_v2_hs_PBMC_1k_AACTCTTGTCATCGGC</th>\n",
       "      <td>54_7_1_334</td>\n",
       "      <td>125</td>\n",
       "      <td>sc5p_v2_hs_PBMC_1k</td>\n",
       "      <td>IGH</td>\n",
       "      <td>IGL</td>\n",
       "      <td>T</td>\n",
       "      <td>T</td>\n",
       "      <td>IGHV3-21</td>\n",
       "      <td>IGLV4-69</td>\n",
       "      <td>IGHJ4</td>\n",
       "      <td>...</td>\n",
       "      <td>CQTWGTGIYVF</td>\n",
       "      <td>IGH + IGL</td>\n",
       "      <td>IGH + IGL</td>\n",
       "      <td>T + T</td>\n",
       "      <td>T + T</td>\n",
       "      <td>IgM</td>\n",
       "      <td>IgM</td>\n",
       "      <td>Single + Single</td>\n",
       "      <td>Single</td>\n",
       "      <td>Single</td>\n",
       "    </tr>\n",
       "    <tr>\n",
       "      <th>sc5p_v2_hs_PBMC_1k_AACTGGTTCTCTAAGG</th>\n",
       "      <td>25_9_3_411</td>\n",
       "      <td>764</td>\n",
       "      <td>sc5p_v2_hs_PBMC_1k</td>\n",
       "      <td>IGH</td>\n",
       "      <td>IGL</td>\n",
       "      <td>T</td>\n",
       "      <td>T</td>\n",
       "      <td>IGHV3-15</td>\n",
       "      <td>IGLV3-1</td>\n",
       "      <td>IGHJ4</td>\n",
       "      <td>...</td>\n",
       "      <td>CQAWDSSNVVF</td>\n",
       "      <td>IGH + IGL</td>\n",
       "      <td>IGH + IGL</td>\n",
       "      <td>T + T</td>\n",
       "      <td>T + T</td>\n",
       "      <td>IgM</td>\n",
       "      <td>IgM</td>\n",
       "      <td>Single + Multi_VJ_j</td>\n",
       "      <td>Single</td>\n",
       "      <td>Single</td>\n",
       "    </tr>\n",
       "    <tr>\n",
       "      <th>sc5p_v2_hs_PBMC_1k_AATCCAGTCAGTTGAC</th>\n",
       "      <td>116_6_1_140</td>\n",
       "      <td>974</td>\n",
       "      <td>sc5p_v2_hs_PBMC_1k</td>\n",
       "      <td>IGH</td>\n",
       "      <td>IGK</td>\n",
       "      <td>T</td>\n",
       "      <td>T</td>\n",
       "      <td>IGHV3-30</td>\n",
       "      <td>IGKV3-20</td>\n",
       "      <td>IGHJ6</td>\n",
       "      <td>...</td>\n",
       "      <td>CQQYGSSPPFTF</td>\n",
       "      <td>IGH + IGK</td>\n",
       "      <td>IGH + IGK</td>\n",
       "      <td>T + T</td>\n",
       "      <td>T + T</td>\n",
       "      <td>IgM</td>\n",
       "      <td>IgM</td>\n",
       "      <td>Single + Single</td>\n",
       "      <td>Single</td>\n",
       "      <td>Single</td>\n",
       "    </tr>\n",
       "    <tr>\n",
       "      <th>sc5p_v2_hs_PBMC_1k_AATCGGTGTTAGGGTG</th>\n",
       "      <td>65_2_4_191</td>\n",
       "      <td>919</td>\n",
       "      <td>sc5p_v2_hs_PBMC_1k</td>\n",
       "      <td>IGH</td>\n",
       "      <td>IGK</td>\n",
       "      <td>T</td>\n",
       "      <td>T</td>\n",
       "      <td>IGHV1-18</td>\n",
       "      <td>IGKV4-1</td>\n",
       "      <td>IGHJ4</td>\n",
       "      <td>...</td>\n",
       "      <td>CQQYYSTPITF</td>\n",
       "      <td>IGH + IGK</td>\n",
       "      <td>IGH + IGK</td>\n",
       "      <td>T + T</td>\n",
       "      <td>T + T</td>\n",
       "      <td>IgM</td>\n",
       "      <td>IgM</td>\n",
       "      <td>Single + Single</td>\n",
       "      <td>Single</td>\n",
       "      <td>Single</td>\n",
       "    </tr>\n",
       "    <tr>\n",
       "      <th>sc5p_v2_hs_PBMC_1k_ACACCGGGTTATTCTC</th>\n",
       "      <td>23_11_2_176</td>\n",
       "      <td>264</td>\n",
       "      <td>sc5p_v2_hs_PBMC_1k</td>\n",
       "      <td>IGH</td>\n",
       "      <td>IGK</td>\n",
       "      <td>T</td>\n",
       "      <td>T</td>\n",
       "      <td>IGHV3-23</td>\n",
       "      <td>IGKV1-8</td>\n",
       "      <td>IGHJ4</td>\n",
       "      <td>...</td>\n",
       "      <td>CQQYYSYPRTF</td>\n",
       "      <td>IGH + IGK</td>\n",
       "      <td>IGH + IGK</td>\n",
       "      <td>T + T</td>\n",
       "      <td>T + T</td>\n",
       "      <td>IgM</td>\n",
       "      <td>IgM</td>\n",
       "      <td>Single + Single</td>\n",
       "      <td>Single</td>\n",
       "      <td>Single</td>\n",
       "    </tr>\n",
       "    <tr>\n",
       "      <th>...</th>\n",
       "      <td>...</td>\n",
       "      <td>...</td>\n",
       "      <td>...</td>\n",
       "      <td>...</td>\n",
       "      <td>...</td>\n",
       "      <td>...</td>\n",
       "      <td>...</td>\n",
       "      <td>...</td>\n",
       "      <td>...</td>\n",
       "      <td>...</td>\n",
       "      <td>...</td>\n",
       "      <td>...</td>\n",
       "      <td>...</td>\n",
       "      <td>...</td>\n",
       "      <td>...</td>\n",
       "      <td>...</td>\n",
       "      <td>...</td>\n",
       "      <td>...</td>\n",
       "      <td>...</td>\n",
       "      <td>...</td>\n",
       "      <td>...</td>\n",
       "    </tr>\n",
       "    <tr>\n",
       "      <th>vdj_nextgem_hs_pbmc3_TTGCGTCTCGTAGGTT</th>\n",
       "      <td>129_2_1_256</td>\n",
       "      <td>709</td>\n",
       "      <td>vdj_nextgem_hs_pbmc3</td>\n",
       "      <td>IGH</td>\n",
       "      <td>IGK</td>\n",
       "      <td>T</td>\n",
       "      <td>T</td>\n",
       "      <td>IGHV4-59</td>\n",
       "      <td>IGKV3-11</td>\n",
       "      <td>IGHJ6</td>\n",
       "      <td>...</td>\n",
       "      <td>CQQRSNWPLITF</td>\n",
       "      <td>IGH + IGK</td>\n",
       "      <td>IGH + IGK</td>\n",
       "      <td>T + T</td>\n",
       "      <td>T + T</td>\n",
       "      <td>IgM</td>\n",
       "      <td>IgM</td>\n",
       "      <td>Single + Single</td>\n",
       "      <td>Single</td>\n",
       "      <td>Single</td>\n",
       "    </tr>\n",
       "    <tr>\n",
       "      <th>vdj_nextgem_hs_pbmc3_TTTATGCTCCGCATAA</th>\n",
       "      <td>133_5_2_81</td>\n",
       "      <td>813</td>\n",
       "      <td>vdj_nextgem_hs_pbmc3</td>\n",
       "      <td>IGH</td>\n",
       "      <td>IGL</td>\n",
       "      <td>T</td>\n",
       "      <td>T</td>\n",
       "      <td>IGHV3-7</td>\n",
       "      <td>IGLV1-51</td>\n",
       "      <td>IGHJ6</td>\n",
       "      <td>...</td>\n",
       "      <td>CGTWDSSLSAVVF</td>\n",
       "      <td>IGH + IGL</td>\n",
       "      <td>IGH + IGL</td>\n",
       "      <td>T + T</td>\n",
       "      <td>T + T</td>\n",
       "      <td>IgM</td>\n",
       "      <td>IgM</td>\n",
       "      <td>Single + Multi_VJ_j</td>\n",
       "      <td>Single</td>\n",
       "      <td>Single</td>\n",
       "    </tr>\n",
       "    <tr>\n",
       "      <th>vdj_nextgem_hs_pbmc3_TTTATGCTCTGATTCT</th>\n",
       "      <td>110_2_2_55</td>\n",
       "      <td>3</td>\n",
       "      <td>vdj_nextgem_hs_pbmc3</td>\n",
       "      <td>IGH</td>\n",
       "      <td>IGL</td>\n",
       "      <td>T</td>\n",
       "      <td>T</td>\n",
       "      <td>IGHV2-26</td>\n",
       "      <td>IGLV9-49</td>\n",
       "      <td>IGHJ4</td>\n",
       "      <td>...</td>\n",
       "      <td>CGADHGSGSNFVSVF</td>\n",
       "      <td>IGH + IGL</td>\n",
       "      <td>IGH + IGL</td>\n",
       "      <td>T + T</td>\n",
       "      <td>T + T</td>\n",
       "      <td>IgM</td>\n",
       "      <td>IgM</td>\n",
       "      <td>Single + Single</td>\n",
       "      <td>Single</td>\n",
       "      <td>Single</td>\n",
       "    </tr>\n",
       "    <tr>\n",
       "      <th>vdj_nextgem_hs_pbmc3_TTTGCGCCACCATGTA</th>\n",
       "      <td>65_7_1_117</td>\n",
       "      <td>153</td>\n",
       "      <td>vdj_nextgem_hs_pbmc3</td>\n",
       "      <td>IGH</td>\n",
       "      <td>IGK</td>\n",
       "      <td>T</td>\n",
       "      <td>T</td>\n",
       "      <td>IGHV1-18</td>\n",
       "      <td>IGKV1-27</td>\n",
       "      <td>IGHJ4</td>\n",
       "      <td>...</td>\n",
       "      <td>CQKYNSALPTF</td>\n",
       "      <td>IGH + IGK</td>\n",
       "      <td>IGH + IGK</td>\n",
       "      <td>T + T</td>\n",
       "      <td>T + T</td>\n",
       "      <td>IgM</td>\n",
       "      <td>IgM</td>\n",
       "      <td>Single + Single</td>\n",
       "      <td>Single</td>\n",
       "      <td>Single</td>\n",
       "    </tr>\n",
       "    <tr>\n",
       "      <th>vdj_nextgem_hs_pbmc3_TTTGCGCTCCAGTATG</th>\n",
       "      <td>126_3_2_203</td>\n",
       "      <td>664</td>\n",
       "      <td>vdj_nextgem_hs_pbmc3</td>\n",
       "      <td>IGH</td>\n",
       "      <td>IGL</td>\n",
       "      <td>T</td>\n",
       "      <td>T</td>\n",
       "      <td>IGHV2-5</td>\n",
       "      <td>IGLV1-47</td>\n",
       "      <td>IGHJ4</td>\n",
       "      <td>...</td>\n",
       "      <td>CAAWDDSLTGVVF</td>\n",
       "      <td>IGH + IGL</td>\n",
       "      <td>IGH + IGL</td>\n",
       "      <td>T + T</td>\n",
       "      <td>T + T</td>\n",
       "      <td>IgM</td>\n",
       "      <td>IgM</td>\n",
       "      <td>Single + Multi_VJ_j</td>\n",
       "      <td>Single</td>\n",
       "      <td>Single</td>\n",
       "    </tr>\n",
       "  </tbody>\n",
       "</table>\n",
       "<p>1004 rows × 29 columns</p>\n",
       "</div>"
      ],
      "text/plain": [
       "                                          clone_id clone_id_by_size  \\\n",
       "sc5p_v2_hs_PBMC_1k_AACTCTTGTCATCGGC     54_7_1_334              125   \n",
       "sc5p_v2_hs_PBMC_1k_AACTGGTTCTCTAAGG     25_9_3_411              764   \n",
       "sc5p_v2_hs_PBMC_1k_AATCCAGTCAGTTGAC    116_6_1_140              974   \n",
       "sc5p_v2_hs_PBMC_1k_AATCGGTGTTAGGGTG     65_2_4_191              919   \n",
       "sc5p_v2_hs_PBMC_1k_ACACCGGGTTATTCTC    23_11_2_176              264   \n",
       "...                                            ...              ...   \n",
       "vdj_nextgem_hs_pbmc3_TTGCGTCTCGTAGGTT  129_2_1_256              709   \n",
       "vdj_nextgem_hs_pbmc3_TTTATGCTCCGCATAA   133_5_2_81              813   \n",
       "vdj_nextgem_hs_pbmc3_TTTATGCTCTGATTCT   110_2_2_55                3   \n",
       "vdj_nextgem_hs_pbmc3_TTTGCGCCACCATGTA   65_7_1_117              153   \n",
       "vdj_nextgem_hs_pbmc3_TTTGCGCTCCAGTATG  126_3_2_203              664   \n",
       "\n",
       "                                                  sample_id locus_VDJ  \\\n",
       "sc5p_v2_hs_PBMC_1k_AACTCTTGTCATCGGC      sc5p_v2_hs_PBMC_1k       IGH   \n",
       "sc5p_v2_hs_PBMC_1k_AACTGGTTCTCTAAGG      sc5p_v2_hs_PBMC_1k       IGH   \n",
       "sc5p_v2_hs_PBMC_1k_AATCCAGTCAGTTGAC      sc5p_v2_hs_PBMC_1k       IGH   \n",
       "sc5p_v2_hs_PBMC_1k_AATCGGTGTTAGGGTG      sc5p_v2_hs_PBMC_1k       IGH   \n",
       "sc5p_v2_hs_PBMC_1k_ACACCGGGTTATTCTC      sc5p_v2_hs_PBMC_1k       IGH   \n",
       "...                                                     ...       ...   \n",
       "vdj_nextgem_hs_pbmc3_TTGCGTCTCGTAGGTT  vdj_nextgem_hs_pbmc3       IGH   \n",
       "vdj_nextgem_hs_pbmc3_TTTATGCTCCGCATAA  vdj_nextgem_hs_pbmc3       IGH   \n",
       "vdj_nextgem_hs_pbmc3_TTTATGCTCTGATTCT  vdj_nextgem_hs_pbmc3       IGH   \n",
       "vdj_nextgem_hs_pbmc3_TTTGCGCCACCATGTA  vdj_nextgem_hs_pbmc3       IGH   \n",
       "vdj_nextgem_hs_pbmc3_TTTGCGCTCCAGTATG  vdj_nextgem_hs_pbmc3       IGH   \n",
       "\n",
       "                                      locus_VJ productive_VDJ productive_VJ  \\\n",
       "sc5p_v2_hs_PBMC_1k_AACTCTTGTCATCGGC        IGL              T             T   \n",
       "sc5p_v2_hs_PBMC_1k_AACTGGTTCTCTAAGG        IGL              T             T   \n",
       "sc5p_v2_hs_PBMC_1k_AATCCAGTCAGTTGAC        IGK              T             T   \n",
       "sc5p_v2_hs_PBMC_1k_AATCGGTGTTAGGGTG        IGK              T             T   \n",
       "sc5p_v2_hs_PBMC_1k_ACACCGGGTTATTCTC        IGK              T             T   \n",
       "...                                        ...            ...           ...   \n",
       "vdj_nextgem_hs_pbmc3_TTGCGTCTCGTAGGTT      IGK              T             T   \n",
       "vdj_nextgem_hs_pbmc3_TTTATGCTCCGCATAA      IGL              T             T   \n",
       "vdj_nextgem_hs_pbmc3_TTTATGCTCTGATTCT      IGL              T             T   \n",
       "vdj_nextgem_hs_pbmc3_TTTGCGCCACCATGTA      IGK              T             T   \n",
       "vdj_nextgem_hs_pbmc3_TTTGCGCTCCAGTATG      IGL              T             T   \n",
       "\n",
       "                                      v_call_genotyped_VDJ  \\\n",
       "sc5p_v2_hs_PBMC_1k_AACTCTTGTCATCGGC               IGHV3-21   \n",
       "sc5p_v2_hs_PBMC_1k_AACTGGTTCTCTAAGG               IGHV3-15   \n",
       "sc5p_v2_hs_PBMC_1k_AATCCAGTCAGTTGAC               IGHV3-30   \n",
       "sc5p_v2_hs_PBMC_1k_AATCGGTGTTAGGGTG               IGHV1-18   \n",
       "sc5p_v2_hs_PBMC_1k_ACACCGGGTTATTCTC               IGHV3-23   \n",
       "...                                                    ...   \n",
       "vdj_nextgem_hs_pbmc3_TTGCGTCTCGTAGGTT             IGHV4-59   \n",
       "vdj_nextgem_hs_pbmc3_TTTATGCTCCGCATAA              IGHV3-7   \n",
       "vdj_nextgem_hs_pbmc3_TTTATGCTCTGATTCT             IGHV2-26   \n",
       "vdj_nextgem_hs_pbmc3_TTTGCGCCACCATGTA             IGHV1-18   \n",
       "vdj_nextgem_hs_pbmc3_TTTGCGCTCCAGTATG              IGHV2-5   \n",
       "\n",
       "                                      v_call_genotyped_VJ j_call_VDJ  ...  \\\n",
       "sc5p_v2_hs_PBMC_1k_AACTCTTGTCATCGGC              IGLV4-69      IGHJ4  ...   \n",
       "sc5p_v2_hs_PBMC_1k_AACTGGTTCTCTAAGG               IGLV3-1      IGHJ4  ...   \n",
       "sc5p_v2_hs_PBMC_1k_AATCCAGTCAGTTGAC              IGKV3-20      IGHJ6  ...   \n",
       "sc5p_v2_hs_PBMC_1k_AATCGGTGTTAGGGTG               IGKV4-1      IGHJ4  ...   \n",
       "sc5p_v2_hs_PBMC_1k_ACACCGGGTTATTCTC               IGKV1-8      IGHJ4  ...   \n",
       "...                                                   ...        ...  ...   \n",
       "vdj_nextgem_hs_pbmc3_TTGCGTCTCGTAGGTT            IGKV3-11      IGHJ6  ...   \n",
       "vdj_nextgem_hs_pbmc3_TTTATGCTCCGCATAA            IGLV1-51      IGHJ6  ...   \n",
       "vdj_nextgem_hs_pbmc3_TTTATGCTCTGATTCT            IGLV9-49      IGHJ4  ...   \n",
       "vdj_nextgem_hs_pbmc3_TTTGCGCCACCATGTA            IGKV1-27      IGHJ4  ...   \n",
       "vdj_nextgem_hs_pbmc3_TTTGCGCTCCAGTATG            IGLV1-47      IGHJ4  ...   \n",
       "\n",
       "                                        junction_aa_VJ     status  \\\n",
       "sc5p_v2_hs_PBMC_1k_AACTCTTGTCATCGGC        CQTWGTGIYVF  IGH + IGL   \n",
       "sc5p_v2_hs_PBMC_1k_AACTGGTTCTCTAAGG        CQAWDSSNVVF  IGH + IGL   \n",
       "sc5p_v2_hs_PBMC_1k_AATCCAGTCAGTTGAC       CQQYGSSPPFTF  IGH + IGK   \n",
       "sc5p_v2_hs_PBMC_1k_AATCGGTGTTAGGGTG        CQQYYSTPITF  IGH + IGK   \n",
       "sc5p_v2_hs_PBMC_1k_ACACCGGGTTATTCTC        CQQYYSYPRTF  IGH + IGK   \n",
       "...                                                ...        ...   \n",
       "vdj_nextgem_hs_pbmc3_TTGCGTCTCGTAGGTT     CQQRSNWPLITF  IGH + IGK   \n",
       "vdj_nextgem_hs_pbmc3_TTTATGCTCCGCATAA    CGTWDSSLSAVVF  IGH + IGL   \n",
       "vdj_nextgem_hs_pbmc3_TTTATGCTCTGATTCT  CGADHGSGSNFVSVF  IGH + IGL   \n",
       "vdj_nextgem_hs_pbmc3_TTTGCGCCACCATGTA      CQKYNSALPTF  IGH + IGK   \n",
       "vdj_nextgem_hs_pbmc3_TTTGCGCTCCAGTATG    CAAWDDSLTGVVF  IGH + IGL   \n",
       "\n",
       "                                      status_summary  productive  \\\n",
       "sc5p_v2_hs_PBMC_1k_AACTCTTGTCATCGGC        IGH + IGL       T + T   \n",
       "sc5p_v2_hs_PBMC_1k_AACTGGTTCTCTAAGG        IGH + IGL       T + T   \n",
       "sc5p_v2_hs_PBMC_1k_AATCCAGTCAGTTGAC        IGH + IGK       T + T   \n",
       "sc5p_v2_hs_PBMC_1k_AATCGGTGTTAGGGTG        IGH + IGK       T + T   \n",
       "sc5p_v2_hs_PBMC_1k_ACACCGGGTTATTCTC        IGH + IGK       T + T   \n",
       "...                                              ...         ...   \n",
       "vdj_nextgem_hs_pbmc3_TTGCGTCTCGTAGGTT      IGH + IGK       T + T   \n",
       "vdj_nextgem_hs_pbmc3_TTTATGCTCCGCATAA      IGH + IGL       T + T   \n",
       "vdj_nextgem_hs_pbmc3_TTTATGCTCTGATTCT      IGH + IGL       T + T   \n",
       "vdj_nextgem_hs_pbmc3_TTTGCGCCACCATGTA      IGH + IGK       T + T   \n",
       "vdj_nextgem_hs_pbmc3_TTTGCGCTCCAGTATG      IGH + IGL       T + T   \n",
       "\n",
       "                                       productive_summary  isotype  \\\n",
       "sc5p_v2_hs_PBMC_1k_AACTCTTGTCATCGGC                 T + T      IgM   \n",
       "sc5p_v2_hs_PBMC_1k_AACTGGTTCTCTAAGG                 T + T      IgM   \n",
       "sc5p_v2_hs_PBMC_1k_AATCCAGTCAGTTGAC                 T + T      IgM   \n",
       "sc5p_v2_hs_PBMC_1k_AATCGGTGTTAGGGTG                 T + T      IgM   \n",
       "sc5p_v2_hs_PBMC_1k_ACACCGGGTTATTCTC                 T + T      IgM   \n",
       "...                                                   ...      ...   \n",
       "vdj_nextgem_hs_pbmc3_TTGCGTCTCGTAGGTT               T + T      IgM   \n",
       "vdj_nextgem_hs_pbmc3_TTTATGCTCCGCATAA               T + T      IgM   \n",
       "vdj_nextgem_hs_pbmc3_TTTATGCTCTGATTCT               T + T      IgM   \n",
       "vdj_nextgem_hs_pbmc3_TTTGCGCCACCATGTA               T + T      IgM   \n",
       "vdj_nextgem_hs_pbmc3_TTTGCGCTCCAGTATG               T + T      IgM   \n",
       "\n",
       "                                       isotype_summary           vdj_status  \\\n",
       "sc5p_v2_hs_PBMC_1k_AACTCTTGTCATCGGC                IgM      Single + Single   \n",
       "sc5p_v2_hs_PBMC_1k_AACTGGTTCTCTAAGG                IgM  Single + Multi_VJ_j   \n",
       "sc5p_v2_hs_PBMC_1k_AATCCAGTCAGTTGAC                IgM      Single + Single   \n",
       "sc5p_v2_hs_PBMC_1k_AATCGGTGTTAGGGTG                IgM      Single + Single   \n",
       "sc5p_v2_hs_PBMC_1k_ACACCGGGTTATTCTC                IgM      Single + Single   \n",
       "...                                                ...                  ...   \n",
       "vdj_nextgem_hs_pbmc3_TTGCGTCTCGTAGGTT              IgM      Single + Single   \n",
       "vdj_nextgem_hs_pbmc3_TTTATGCTCCGCATAA              IgM  Single + Multi_VJ_j   \n",
       "vdj_nextgem_hs_pbmc3_TTTATGCTCTGATTCT              IgM      Single + Single   \n",
       "vdj_nextgem_hs_pbmc3_TTTGCGCCACCATGTA              IgM      Single + Single   \n",
       "vdj_nextgem_hs_pbmc3_TTTGCGCTCCAGTATG              IgM  Single + Multi_VJ_j   \n",
       "\n",
       "                                      vdj_status_summary  \\\n",
       "sc5p_v2_hs_PBMC_1k_AACTCTTGTCATCGGC               Single   \n",
       "sc5p_v2_hs_PBMC_1k_AACTGGTTCTCTAAGG               Single   \n",
       "sc5p_v2_hs_PBMC_1k_AATCCAGTCAGTTGAC               Single   \n",
       "sc5p_v2_hs_PBMC_1k_AATCGGTGTTAGGGTG               Single   \n",
       "sc5p_v2_hs_PBMC_1k_ACACCGGGTTATTCTC               Single   \n",
       "...                                                  ...   \n",
       "vdj_nextgem_hs_pbmc3_TTGCGTCTCGTAGGTT             Single   \n",
       "vdj_nextgem_hs_pbmc3_TTTATGCTCCGCATAA             Single   \n",
       "vdj_nextgem_hs_pbmc3_TTTATGCTCTGATTCT             Single   \n",
       "vdj_nextgem_hs_pbmc3_TTTGCGCCACCATGTA             Single   \n",
       "vdj_nextgem_hs_pbmc3_TTTGCGCTCCAGTATG             Single   \n",
       "\n",
       "                                      VDJ_chain_status_summary  \n",
       "sc5p_v2_hs_PBMC_1k_AACTCTTGTCATCGGC                     Single  \n",
       "sc5p_v2_hs_PBMC_1k_AACTGGTTCTCTAAGG                     Single  \n",
       "sc5p_v2_hs_PBMC_1k_AATCCAGTCAGTTGAC                     Single  \n",
       "sc5p_v2_hs_PBMC_1k_AATCGGTGTTAGGGTG                     Single  \n",
       "sc5p_v2_hs_PBMC_1k_ACACCGGGTTATTCTC                     Single  \n",
       "...                                                        ...  \n",
       "vdj_nextgem_hs_pbmc3_TTGCGTCTCGTAGGTT                   Single  \n",
       "vdj_nextgem_hs_pbmc3_TTTATGCTCCGCATAA                   Single  \n",
       "vdj_nextgem_hs_pbmc3_TTTATGCTCTGATTCT                   Single  \n",
       "vdj_nextgem_hs_pbmc3_TTTGCGCCACCATGTA                   Single  \n",
       "vdj_nextgem_hs_pbmc3_TTTGCGCTCCAGTATG                   Single  \n",
       "\n",
       "[1004 rows x 29 columns]"
      ]
     },
     "execution_count": 5,
     "metadata": {},
     "output_type": "execute_result"
    }
   ],
   "source": [
    "vdj.metadata"
   ]
  },
  {
   "cell_type": "markdown",
   "metadata": {},
   "source": [
    "### Alternative : Running `tl.define_clones`"
   ]
  },
  {
   "cell_type": "markdown",
   "metadata": {},
   "source": [
    "Alternatively, a wrapper to call *changeo's* `DefineClones.py` is also included. To run it, you need to choose the distance threshold for clonal assignment. To facilitate this, the function `pp.calculate_threshold` will run [shazam's distToNearest](https://shazam.readthedocs.io/en/stable/topics/distToNearest/) function and return a plot showing the length normalized hamming distance distribution and automated threshold value. \n",
    "\n",
    "Again, `pp.calculate_threshold` will take a file path, pandas `DataFrame` or `Dandelion` object as input. If a dandelion object is provided, the threshold value will be inserted into the `.threshold` slot. For more fine control, please use the `DefineClones.py` function [directly](https://immcantation.readthedocs.io/en/stable/tutorials/10x_tutorial.html).\n"
   ]
  },
  {
   "cell_type": "code",
   "execution_count": 6,
   "metadata": {
    "scrolled": true
   },
   "outputs": [
    {
     "name": "stdout",
     "output_type": "stream",
     "text": [
      "Calculating threshold\n",
      "      Threshold method 'density' did not return with any values. Switching to method = 'gmm'.\n"
     ]
    },
    {
     "data": {
      "image/png": "[encoded data removed]",
      "text/plain": [
       "<Figure size 450x250 with 4 Axes>"
      ]
     },
     "metadata": {},
     "output_type": "display_data"
    },
    {
     "name": "stdout",
     "output_type": "stream",
     "text": [
      "<ggplot: (354422757)>\n",
      " finished: Updated Dandelion object: \n",
      "   'threshold', threshold value for tuning clonal assignment\n",
      " (0:02:09)\n"
     ]
    }
   ],
   "source": [
    "ddl.pp.calculate_threshold(vdj)"
   ]
  },
  {
   "cell_type": "code",
   "execution_count": 7,
   "metadata": {},
   "outputs": [
    {
     "data": {
      "text/plain": [
       "0.27510012225781544"
      ]
     },
     "execution_count": 7,
     "metadata": {},
     "output_type": "execute_result"
    }
   ],
   "source": [
    "# see the actual value in .threshold slot\n",
    "vdj.threshold"
   ]
  },
  {
   "cell_type": "markdown",
   "metadata": {},
   "source": [
    "You can also manually select a value as the threshold if you wish."
   ]
  },
  {
   "cell_type": "code",
   "execution_count": 8,
   "metadata": {},
   "outputs": [
    {
     "name": "stdout",
     "output_type": "stream",
     "text": [
      "Calculating threshold\n",
      "      Threshold method 'density' did not return with any values. Switching to method = 'gmm'.\n"
     ]
    },
    {
     "data": {
      "image/png": "[encoded data removed]",
      "text/plain": [
       "<Figure size 450x250 with 4 Axes>"
      ]
     },
     "metadata": {},
     "output_type": "display_data"
    },
    {
     "name": "stdout",
     "output_type": "stream",
     "text": [
      "<ggplot: (365394405)>\n",
      " finished: Updated Dandelion object: \n",
      "   'threshold', threshold value for tuning clonal assignment\n",
      " (0:01:29)\n"
     ]
    }
   ],
   "source": [
    "ddl.pp.calculate_threshold(vdj, manual_threshold = 0.1)"
   ]
  },
  {
   "cell_type": "code",
   "execution_count": 9,
   "metadata": {},
   "outputs": [
    {
     "data": {
      "text/plain": [
       "0.1"
      ]
     },
     "execution_count": 9,
     "metadata": {},
     "output_type": "execute_result"
    }
   ],
   "source": [
    "# see the updated .threshold slot\n",
    "vdj.threshold"
   ]
  },
  {
   "cell_type": "markdown",
   "metadata": {},
   "source": [
    "\n",
    "We can run `tl.define_clones` to call *changeo's* `DefineClones.py`; see [here](https://changeo.readthedocs.io/en/stable/methods/clustering.html) for more info. Note, if a `pandas.DataFrame` or file path is provided as the input, the value in dist option (corresponds to threshold value) needs to be manually supplied. If a `Dandelion` object is provided, it will automatically retrieve it from the threshold slot. "
   ]
  },
  {
   "cell_type": "code",
   "execution_count": 10,
   "metadata": {},
   "outputs": [
    {
     "name": "stdout",
     "output_type": "stream",
     "text": [
      "Finding clones\n",
      " finished: Updated Dandelion object: \n",
      "   'data', contig-indexed clone table\n",
      "   'metadata', cell-indexed clone table\n",
      " (0:00:30)\n"
     ]
    },
    {
     "data": {
      "text/plain": [
       "Dandelion class object with n_obs = 1004 and n_contigs = 2013\n",
       "    data: 'sequence_id', 'sequence', 'rev_comp', 'productive', 'v_call', 'd_call', 'j_call', 'sequence_alignment', 'germline_alignment', 'junction', 'junction_aa', 'v_cigar', 'd_cigar', 'j_cigar', 'stop_codon', 'vj_in_frame', 'locus', 'junction_length', 'np1_length', 'np2_length', 'v_sequence_start', 'v_sequence_end', 'v_germline_start', 'v_germline_end', 'd_sequence_start', 'd_sequence_end', 'd_germline_start', 'd_germline_end', 'j_sequence_start', 'j_sequence_end', 'j_germline_start', 'j_germline_end', 'v_score', 'v_identity', 'v_support', 'd_score', 'd_identity', 'd_support', 'j_score', 'j_identity', 'j_support', 'fwr1', 'fwr2', 'fwr3', 'fwr4', 'cdr1', 'cdr2', 'cdr3', 'cell_id', 'c_call', 'consensus_count', 'umi_count', 'v_call_10x', 'd_call_10x', 'j_call_10x', 'junction_10x', 'junction_10x_aa', 'v_call_genotyped', 'germline_alignment_d_mask', 'sample_id', 'c_sequence_alignment', 'c_germline_alignment', 'c_sequence_start', 'c_sequence_end', 'c_score', 'c_identity', 'c_support', 'c_call_10x', 'junction_aa_length', 'fwr1_aa', 'fwr2_aa', 'fwr3_aa', 'fwr4_aa', 'cdr1_aa', 'cdr2_aa', 'cdr3_aa', 'sequence_alignment_aa', 'v_sequence_alignment_aa', 'd_sequence_alignment_aa', 'j_sequence_alignment_aa', 'mu_freq', 'duplicate_count', 'clone_id', 'changeo_clone_id'\n",
       "    metadata: 'clone_id', 'clone_id_by_size', 'sample_id', 'locus_VDJ', 'locus_VJ', 'productive_VDJ', 'productive_VJ', 'v_call_genotyped_VDJ', 'v_call_genotyped_VJ', 'j_call_VDJ', 'j_call_VJ', 'c_call_VDJ', 'c_call_VJ', 'duplicate_count_VDJ_0', 'duplicate_count_VDJ_1', 'duplicate_count_VDJ_2', 'duplicate_count_VJ_0', 'duplicate_count_VJ_1', 'junction_aa_VDJ', 'junction_aa_VJ', 'status', 'status_summary', 'productive', 'productive_summary', 'isotype', 'isotype_summary', 'vdj_status', 'vdj_status_summary', 'VDJ_chain_status_summary', 'changeo_clone_id'\n",
       "    distance: 'VDJ_0', 'VDJ_1', 'VDJ_2', 'VJ_0', 'VJ_1'\n",
       "    edges: 'source', 'target', 'weight'\n",
       "    layout: layout for 1004 vertices, layout for 24 vertices\n",
       "    graph: networkx graph of 1004 vertices, networkx graph of 24 vertices "
      ]
     },
     "execution_count": 10,
     "metadata": {},
     "output_type": "execute_result"
    }
   ],
   "source": [
    "ddl.tl.define_clones(vdj, key_added = 'changeo_clone_id')\n",
    "vdj"
   ]
  },
  {
   "cell_type": "markdown",
   "metadata": {},
   "source": [
    "Note that I specified the option `key_added` and this adds the output from `tl.define_clones` into a separate column. If left as default (`None`), it will write into `clone_id` column. The same option can be specified in `tl.find_clones` earlier."
   ]
  },
  {
   "cell_type": "markdown",
   "metadata": {},
   "source": [
    "## Generation of V(D)J network\n",
    "*dandelion* generates a network to facilitate visualisation of results. This uses the full V(D)J contig sequences instead of just the junctional sequences to chart a tree-like network for each clone. The actual visualization will be achieved through `scanpy` later.\n",
    "\n",
    "**tl.generate_network**\n",
    "\n",
    "First we need to generate the network. `tl.generate_network` will take a V(D)J table that has clones defined, specifically under the `'clone_id'` column. The default mode is to use amino acid sequences for constructing Levenshtein distance matrices, but can be toggled using the `key` option.\n",
    "\n",
    "If you have a pre-processed table parsed from immcantation's [method](https://changeo.readthedocs.io/en/stable/examples/10x.html), or any other method as long as it's in a *AIRR* format, the table can be used as well.\n",
    "\n",
    "You can specify the `clone_key` option for generating the network for the clone id definition of choice as long as it exists as a column in the `.data` slot."
   ]
  },
  {
   "cell_type": "code",
   "execution_count": 11,
   "metadata": {},
   "outputs": [
    {
     "name": "stdout",
     "output_type": "stream",
     "text": [
      "Generating network\n"
     ]
    },
    {
     "name": "stderr",
     "output_type": "stream",
     "text": [
      "Calculating distances... : 100%|██████████| 5/5 [00:09<00:00,  1.91s/it]\n",
      "Generating edge list : 100%|██████████| 7/7 [00:00<00:00, 599.53it/s]\n",
      "Linking edges : 100%|██████████| 987/987 [00:01<00:00, 638.90it/s]\n"
     ]
    },
    {
     "name": "stdout",
     "output_type": "stream",
     "text": [
      "generating network layout\n",
      " finished: Updated Dandelion object: \n",
      "   'data', contig-indexed clone table\n",
      "   'metadata', cell-indexed clone table\n",
      "   'distance', heavy and light chain distance matrices\n",
      "   'edges', network edges\n",
      "   'layout', network layout\n",
      "   'graph', network (0:00:28)\n"
     ]
    }
   ],
   "source": [
    "ddl.tl.generate_network(vdj)"
   ]
  },
  {
   "cell_type": "markdown",
   "metadata": {},
   "source": [
    "This step works reasonably fast here but will take quite a while when a lot of contigs are provided.\n",
    "\n",
    "You can also downsample the number of cells. This will return a new object as a downsampled copy of the original with it's own distance matrix."
   ]
  },
  {
   "cell_type": "code",
   "execution_count": 12,
   "metadata": {},
   "outputs": [
    {
     "name": "stdout",
     "output_type": "stream",
     "text": [
      "Generating network\n",
      "Downsampling to 500 cells.\n"
     ]
    },
    {
     "name": "stderr",
     "output_type": "stream",
     "text": [
      "Calculating distances... : 100%|██████████| 4/4 [00:02<00:00,  1.60it/s]\n",
      "Generating edge list : 100%|██████████| 4/4 [00:00<00:00, 574.64it/s]\n",
      "Linking edges : 100%|██████████| 491/491 [00:00<00:00, 2858.46it/s]\n"
     ]
    },
    {
     "name": "stdout",
     "output_type": "stream",
     "text": [
      "generating network layout\n",
      " finished: Updated Dandelion object: \n",
      "   'data', contig-indexed clone table\n",
      "   'metadata', cell-indexed clone table\n",
      "   'distance', heavy and light chain distance matrices\n",
      "   'edges', network edges\n",
      "   'layout', network layout\n",
      "   'graph', network (0:00:10)\n"
     ]
    },
    {
     "data": {
      "text/plain": [
       "Dandelion class object with n_obs = 499 and n_contigs = 999\n",
       "    data: 'sequence_id', 'sequence', 'rev_comp', 'productive', 'v_call', 'd_call', 'j_call', 'sequence_alignment', 'germline_alignment', 'junction', 'junction_aa', 'v_cigar', 'd_cigar', 'j_cigar', 'stop_codon', 'vj_in_frame', 'locus', 'junction_length', 'np1_length', 'np2_length', 'v_sequence_start', 'v_sequence_end', 'v_germline_start', 'v_germline_end', 'd_sequence_start', 'd_sequence_end', 'd_germline_start', 'd_germline_end', 'j_sequence_start', 'j_sequence_end', 'j_germline_start', 'j_germline_end', 'v_score', 'v_identity', 'v_support', 'd_score', 'd_identity', 'd_support', 'j_score', 'j_identity', 'j_support', 'fwr1', 'fwr2', 'fwr3', 'fwr4', 'cdr1', 'cdr2', 'cdr3', 'cell_id', 'c_call', 'consensus_count', 'umi_count', 'v_call_10x', 'd_call_10x', 'j_call_10x', 'junction_10x', 'junction_10x_aa', 'v_call_genotyped', 'germline_alignment_d_mask', 'sample_id', 'c_sequence_alignment', 'c_germline_alignment', 'c_sequence_start', 'c_sequence_end', 'c_score', 'c_identity', 'c_support', 'c_call_10x', 'junction_aa_length', 'fwr1_aa', 'fwr2_aa', 'fwr3_aa', 'fwr4_aa', 'cdr1_aa', 'cdr2_aa', 'cdr3_aa', 'sequence_alignment_aa', 'v_sequence_alignment_aa', 'd_sequence_alignment_aa', 'j_sequence_alignment_aa', 'mu_freq', 'duplicate_count', 'clone_id', 'changeo_clone_id'\n",
       "    metadata: 'clone_id', 'clone_id_by_size', 'sample_id', 'locus_VDJ', 'locus_VJ', 'productive_VDJ', 'productive_VJ', 'v_call_genotyped_VDJ', 'v_call_genotyped_VJ', 'j_call_VDJ', 'j_call_VJ', 'c_call_VDJ', 'c_call_VJ', 'duplicate_count_VDJ_0', 'duplicate_count_VDJ_1', 'duplicate_count_VJ_0', 'duplicate_count_VJ_1', 'junction_aa_VDJ', 'junction_aa_VJ', 'status', 'status_summary', 'productive', 'productive_summary', 'isotype', 'isotype_summary', 'vdj_status', 'vdj_status_summary', 'VDJ_chain_status_summary'\n",
       "    distance: 'VDJ_0', 'VDJ_1', 'VJ_0', 'VJ_1'\n",
       "    edges: 'source', 'target', 'weight'\n",
       "    layout: layout for 499 vertices, layout for 12 vertices\n",
       "    graph: networkx graph of 499 vertices, networkx graph of 12 vertices "
      ]
     },
     "execution_count": 12,
     "metadata": {},
     "output_type": "execute_result"
    }
   ],
   "source": [
    "vdj_downsample = ddl.tl.generate_network(vdj, downsample = 500)\n",
    "vdj_downsample"
   ]
  },
  {
   "cell_type": "markdown",
   "metadata": {},
   "source": [
    "**check the newly re-initialized Dandelion object**"
   ]
  },
  {
   "cell_type": "code",
   "execution_count": 13,
   "metadata": {},
   "outputs": [
    {
     "data": {
      "text/plain": [
       "Dandelion class object with n_obs = 1004 and n_contigs = 2013\n",
       "    data: 'sequence_id', 'sequence', 'rev_comp', 'productive', 'v_call', 'd_call', 'j_call', 'sequence_alignment', 'germline_alignment', 'junction', 'junction_aa', 'v_cigar', 'd_cigar', 'j_cigar', 'stop_codon', 'vj_in_frame', 'locus', 'junction_length', 'np1_length', 'np2_length', 'v_sequence_start', 'v_sequence_end', 'v_germline_start', 'v_germline_end', 'd_sequence_start', 'd_sequence_end', 'd_germline_start', 'd_germline_end', 'j_sequence_start', 'j_sequence_end', 'j_germline_start', 'j_germline_end', 'v_score', 'v_identity', 'v_support', 'd_score', 'd_identity', 'd_support', 'j_score', 'j_identity', 'j_support', 'fwr1', 'fwr2', 'fwr3', 'fwr4', 'cdr1', 'cdr2', 'cdr3', 'cell_id', 'c_call', 'consensus_count', 'umi_count', 'v_call_10x', 'd_call_10x', 'j_call_10x', 'junction_10x', 'junction_10x_aa', 'v_call_genotyped', 'germline_alignment_d_mask', 'sample_id', 'c_sequence_alignment', 'c_germline_alignment', 'c_sequence_start', 'c_sequence_end', 'c_score', 'c_identity', 'c_support', 'c_call_10x', 'junction_aa_length', 'fwr1_aa', 'fwr2_aa', 'fwr3_aa', 'fwr4_aa', 'cdr1_aa', 'cdr2_aa', 'cdr3_aa', 'sequence_alignment_aa', 'v_sequence_alignment_aa', 'd_sequence_alignment_aa', 'j_sequence_alignment_aa', 'mu_freq', 'duplicate_count', 'clone_id', 'changeo_clone_id'\n",
       "    metadata: 'clone_id', 'clone_id_by_size', 'sample_id', 'locus_VDJ', 'locus_VJ', 'productive_VDJ', 'productive_VJ', 'v_call_genotyped_VDJ', 'v_call_genotyped_VJ', 'j_call_VDJ', 'j_call_VJ', 'c_call_VDJ', 'c_call_VJ', 'duplicate_count_VDJ_0', 'duplicate_count_VDJ_1', 'duplicate_count_VDJ_2', 'duplicate_count_VJ_0', 'duplicate_count_VJ_1', 'junction_aa_VDJ', 'junction_aa_VJ', 'status', 'status_summary', 'productive', 'productive_summary', 'isotype', 'isotype_summary', 'vdj_status', 'vdj_status_summary', 'VDJ_chain_status_summary', 'changeo_clone_id'\n",
       "    distance: 'VDJ_0', 'VDJ_1', 'VDJ_2', 'VJ_0', 'VJ_1'\n",
       "    edges: 'source', 'target', 'weight'\n",
       "    layout: layout for 1004 vertices, layout for 24 vertices\n",
       "    graph: networkx graph of 1004 vertices, networkx graph of 24 vertices "
      ]
     },
     "execution_count": 13,
     "metadata": {},
     "output_type": "execute_result"
    }
   ],
   "source": [
    "vdj"
   ]
  },
  {
   "cell_type": "markdown",
   "metadata": {},
   "source": [
    "The graph/networks can be accessed through the `.graph` slot as an `networkx` graph object if you want to extract the data for network statistics or make any changes to the network."
   ]
  },
  {
   "cell_type": "markdown",
   "metadata": {},
   "source": [
    "At this point, we can save the dandelion object; the file can be quite big because the distance matrix is not sparse. I reccomend some form of compression (I use `bzip2` below but that can impact on read/write times significantly). See [here](https://pandas.pydata.org/pandas-docs/stable/reference/api/pandas.DataFrame.to_hdf.html) for options compression options."
   ]
  },
  {
   "cell_type": "code",
   "execution_count": 14,
   "metadata": {},
   "outputs": [],
   "source": [
    "vdj.write_h5('dandelion_results.h5', complib = 'bzip2')"
   ]
  },
  {
   "cell_type": "code",
   "execution_count": null,
   "metadata": {},
   "outputs": [],
   "source": []
  }
 ],
 "metadata": {
  "kernelspec": {
   "display_name": "Python (dandelion)",
   "language": "python",
   "name": "dandelion"
  },
  "language_info": {
   "codemirror_mode": {
    "name": "ipython",
    "version": 3
   },
   "file_extension": ".py",
   "mimetype": "text/x-python",
   "name": "python",
   "nbconvert_exporter": "python",
   "pygments_lexer": "ipython3",
   "version": "3.7.8"
  }
 },
 "nbformat": 4,
 "nbformat_minor": 2
}
