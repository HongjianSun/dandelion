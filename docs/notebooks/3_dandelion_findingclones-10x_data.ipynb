{
 "cells": [
  {
   "cell_type": "markdown",
   "metadata": {},
   "source": [
    "# BCR clustering\n",
    "\n",
    "![dandelion_logo](img/dandelion_logo_illustration.png)\n",
    "\n",
    "On the topic of finding clones/clonotypes, there are many ways used for clustering BCRs, almost all involving some measure based on sequence similarity. There are also a lot of very well established guidelines and criterias maintained by the BCR community. For example, *immcantation* uses a number of model-based [methods](https://changeo.readthedocs.io/en/stable/methods/clustering.html) [[Gupta2015]](https://academic.oup.com/bioinformatics/article/31/20/3356/195677) to group clones based on the distribution of length-normalised junctional hamming distance while others use the whole BCR V(D)J sequence to define clones as shown in a recent paper [[Bashford-Rogers19]](https://www.nature.com/articles/s41586-019-1595-3)."
   ]
  },
  {
   "cell_type": "markdown",
   "metadata": {},
   "source": [
    "***Import modules***"
   ]
  },
  {
   "cell_type": "code",
   "execution_count": 1,
   "metadata": {
    "scrolled": true
   },
   "outputs": [
    {
     "name": "stdout",
     "output_type": "stream",
     "text": [
      "dandelion==0.2.2 pandas==1.2.3 numpy==1.21.0 matplotlib==3.3.4 networkx==2.6 scipy==1.7.0\n"
     ]
    }
   ],
   "source": [
    "import os\n",
    "import pandas as pd\n",
    "import dandelion as ddl\n",
    "ddl.logging.print_header()"
   ]
  },
  {
   "cell_type": "code",
   "execution_count": 2,
   "metadata": {
    "scrolled": true
   },
   "outputs": [
    {
     "name": "stdout",
     "output_type": "stream",
     "text": [
      "scanpy==1.8.1 anndata==0.7.6 umap==0.4.6 numpy==1.21.0 scipy==1.7.0 pandas==1.2.3 scikit-learn==0.24.1 statsmodels==0.12.1 python-igraph==0.8.3 leidenalg==0.8.3 pynndescent==0.5.4\n"
     ]
    }
   ],
   "source": [
    "# change directory to somewhere more workable\n",
    "os.chdir(os.path.expanduser('/Users/kt16/Downloads/dandelion_tutorial/'))\n",
    "# I'm importing scanpy here to make use of its logging module.\n",
    "import scanpy as sc\n",
    "sc.settings.verbosity = 3\n",
    "import warnings\n",
    "warnings.filterwarnings('ignore')\n",
    "sc.logging.print_header()"
   ]
  },
  {
   "cell_type": "markdown",
   "metadata": {},
   "source": [
    "***Read in the previously saved files***\n",
    "\n",
    "I will work with the same example from the previous section since I have the filtered V(D)J data stored in a `Dandelion` class."
   ]
  },
  {
   "cell_type": "code",
   "execution_count": 3,
   "metadata": {
    "scrolled": true
   },
   "outputs": [
    {
     "data": {
      "text/plain": [
       "Dandelion class object with n_obs = 2435 and n_contigs = 4862\n",
       "    data: 'sequence_id', 'sequence', 'rev_comp', 'productive', 'v_call', 'd_call', 'j_call', 'sequence_alignment', 'germline_alignment', 'junction', 'junction_aa', 'v_cigar', 'd_cigar', 'j_cigar', 'stop_codon', 'vj_in_frame', 'locus', 'junction_length', 'np1_length', 'np2_length', 'v_sequence_start', 'v_sequence_end', 'v_germline_start', 'v_germline_end', 'd_sequence_start', 'd_sequence_end', 'd_germline_start', 'd_germline_end', 'j_sequence_start', 'j_sequence_end', 'j_germline_start', 'j_germline_end', 'v_score', 'v_identity', 'v_support', 'd_score', 'd_identity', 'd_support', 'j_score', 'j_identity', 'j_support', 'fwr1', 'fwr2', 'fwr3', 'fwr4', 'cdr1', 'cdr2', 'cdr3', 'cell_id', 'c_call', 'consensus_count', 'umi_count', 'v_call_10x', 'd_call_10x', 'j_call_10x', 'junction_10x', 'junction_10x_aa', 'v_call_genotyped', 'germline_alignment_d_mask', 'sample_id', 'j_support_igblastn', 'j_score_igblastn', 'j_call_igblastn', 'j_call_blastn', 'j_identity_blastn', 'j_alignment_length_blastn', 'j_number_of_mismatches_blastn', 'j_number_of_gap_openings_blastn', 'j_sequence_start_blastn', 'j_sequence_end_blastn', 'j_germline_start_blastn', 'j_germline_end_blastn', 'j_support_blastn', 'j_score_blastn', 'j_sequence_alignment_blastn', 'j_germline_alignment_blastn', 'cell_id_blastn', 'j_source', 'd_support_igblastn', 'd_score_igblastn', 'd_call_igblastn', 'd_call_blastn', 'd_identity_blastn', 'd_alignment_length_blastn', 'd_number_of_mismatches_blastn', 'd_number_of_gap_openings_blastn', 'd_sequence_start_blastn', 'd_sequence_end_blastn', 'd_germline_start_blastn', 'd_germline_end_blastn', 'd_support_blastn', 'd_score_blastn', 'd_sequence_alignment_blastn', 'd_germline_alignment_blastn', 'd_source', 'c_sequence_alignment', 'c_germline_alignment', 'c_sequence_start', 'c_sequence_end', 'c_score', 'c_identity', 'c_call_10x', 'junction_aa_length', 'fwr1_aa', 'fwr2_aa', 'fwr3_aa', 'fwr4_aa', 'cdr1_aa', 'cdr2_aa', 'cdr3_aa', 'sequence_alignment_aa', 'v_sequence_alignment_aa', 'd_sequence_alignment_aa', 'j_sequence_alignment_aa', 'mu_count', 'duplicate_count', 'clone_id', 'changeo_clone_id'\n",
       "    metadata: 'clone_id', 'clone_id_by_size', 'sample_id', 'locus_VDJ', 'locus_VJ', 'productive_VDJ', 'productive_VJ', 'v_call_genotyped_VDJ', 'v_call_genotyped_VJ', 'd_call_VDJ', 'j_call_VDJ', 'j_call_VJ', 'c_call_VDJ', 'c_call_VJ', 'duplicate_count_VDJ', 'duplicate_count_VJ', 'duplicate_count_VDJ_1', 'duplicate_count_VJ_1', 'duplicate_count_VDJ_2', 'junction_aa_VDJ', 'junction_aa_VJ', 'locus_status', 'locus_status_summary', 'productive', 'productive_summary', 'isotype', 'isotype_summary', 'vdj_status', 'vdj_status_summary', 'constant_status_summary', 'changeo_clone_id'\n",
       "    edges: 'source', 'target', 'weight'\n",
       "    layout: layout for 2435 vertices, layout for 999 vertices\n",
       "    graph: networkx graph of 2435 vertices, networkx graph of 999 vertices "
      ]
     },
     "execution_count": 3,
     "metadata": {},
     "output_type": "execute_result"
    }
   ],
   "source": [
    "vdj = ddl.read_h5ddl('dandelion_results.h5ddl')\n",
    "vdj"
   ]
  },
  {
   "cell_type": "markdown",
   "metadata": {},
   "source": [
    "## Finding clones\n",
    "\n",
    "The following is *dandelion*'s implementation of a rather conventional method to define clones, `tl.find_clones`. \n",
    "\n",
    "Clone definition is based on the following criterias:\n",
    "\n",
    "    (1) Identical IGH/TRB/TRD V- and J-gene usage.\n",
    "\n",
    "    (2) Identical IGH/TRB/TRD CDR3 junctional/CDR3 sequence length.\n",
    "\n",
    "    (3) IGH/TRB/TRD junctional/CDR3 sequences attains a minimum of % sequence similarity, based on hamming distance. The similarity cut-off is tunable (default is 85%; change to 100% if analyzing TCR data).\n",
    "\n",
    "    (4) Light/short chain (IGK/IGL/TRA/TRG) usage. If cells within clones use different light/short chains, the clone will be splitted following the same conditions for heavy/long chains in (1-3) as above.\n",
    "    \n",
    "\n",
    "The 'clone_id' name follows a `{A}_{B}_{C}_{D}_{E}_{F}` format and largely reflects the conditions above where:\n",
    "\n",
    "    {A} indicates if the contigs use the same V and J genes in the IGH/TRB/TRD chain.\n",
    "    \n",
    "    {B} indicates if junctional/CDR3 sequences are equal in length in the IGH/TRB/TRD chain.\n",
    "    \n",
    "    {C} indicates if clones are splitted based on junctional/CDR3 hamming distance threshold (for IGH/TRB/TRD chain).\n",
    "    \n",
    "    {D} indicates if the contigs use the same V and J genes in the IGK/IGL/TRA/TRG chain.\n",
    "    \n",
    "    {E} indicates if junctional/CDR3 sequences are equal in length in the IGK/IGL/TRA/TRG chain.\n",
    "    \n",
    "    {F} indicates if clones are splitted based on junctional/CDR3 hamming distance threshold (for IGK/IGL/TRA/TRG chain).\n",
    "\n",
    "If `collapse_label = True`, then instead of a 6-part format i.e. `{A}_{B}_{C}_{D}_{E}_{F}`, it becomes 4 parts:\n",
    "\n",
    "    {A} indicates if the contigs use the same V and J genes in the IGH/TRB/TRD chain.\n",
    "    \n",
    "    {B} indicates if junctional/CDR3 sequences are equal in length in the IGH/TRB/TRD chain.\n",
    "    \n",
    "    {C} indicates if clones are splitted based on junctional/CDR3 hamming distance threshold (for IGH/TRB/TRD chain).\n",
    "    \n",
    "    {D} indicates light/short chain pairing. \n",
    "    \n",
    "The last position will not be annotated if there's only one group of light chains usage detected in the clone."
   ]
  },
  {
   "cell_type": "markdown",
   "metadata": {},
   "source": [
    "### Running `tl.find_clones`\n",
    "The function will take a file path, a pandas `DataFrame` (for example if you've used pandas to read in the filtered file already), or a `Dandelion` class object. The default mode for calculation of junctional hamming distance is to use the CDR3 junction amino acid sequences, specified via the `key` option (`None` defaults to `junction_aa`). You can switch it to using CDR3 junction nucleotide sequences (`key = 'junction'`), or even the full V(D)J amino acid sequence (`key = 'sequence_alignment_aa`), as long as the column name exists in the `.data` slot.\n",
    "\n",
    "If you want to use the alleles for defining V-J gene usuage, specify:\n",
    "```python\n",
    "by_alleles = True\n",
    "```\n",
    "\n",
    "Clustering TCR is potentially possible with the same setup, although some parameters may need to be tweaked."
   ]
  },
  {
   "cell_type": "code",
   "execution_count": 4,
   "metadata": {
    "scrolled": false
   },
   "outputs": [
    {
     "name": "stdout",
     "output_type": "stream",
     "text": [
      "Finding clonotypes\n"
     ]
    },
    {
     "name": "stderr",
     "output_type": "stream",
     "text": [
      "Finding clones based on VDJ chains : 100%|██████████| 216/216 [00:00<00:00, 1559.59it/s]\n",
      "Refining clone assignment based on VJ chain pairing : 100%|██████████| 2435/2435 [00:00<00:00, 304179.48it/s]\n"
     ]
    },
    {
     "name": "stdout",
     "output_type": "stream",
     "text": [
      " finished: Updated Dandelion object: \n",
      "   'data', contig-indexed clone table\n",
      "   'metadata', cell-indexed clone table\n",
      " (0:00:00)\n"
     ]
    },
    {
     "data": {
      "text/plain": [
       "Dandelion class object with n_obs = 2435 and n_contigs = 4862\n",
       "    data: 'sequence_id', 'sequence', 'rev_comp', 'productive', 'v_call', 'd_call', 'j_call', 'sequence_alignment', 'germline_alignment', 'junction', 'junction_aa', 'v_cigar', 'd_cigar', 'j_cigar', 'stop_codon', 'vj_in_frame', 'locus', 'junction_length', 'np1_length', 'np2_length', 'v_sequence_start', 'v_sequence_end', 'v_germline_start', 'v_germline_end', 'd_sequence_start', 'd_sequence_end', 'd_germline_start', 'd_germline_end', 'j_sequence_start', 'j_sequence_end', 'j_germline_start', 'j_germline_end', 'v_score', 'v_identity', 'v_support', 'd_score', 'd_identity', 'd_support', 'j_score', 'j_identity', 'j_support', 'fwr1', 'fwr2', 'fwr3', 'fwr4', 'cdr1', 'cdr2', 'cdr3', 'cell_id', 'c_call', 'consensus_count', 'umi_count', 'v_call_10x', 'd_call_10x', 'j_call_10x', 'junction_10x', 'junction_10x_aa', 'v_call_genotyped', 'germline_alignment_d_mask', 'sample_id', 'j_support_igblastn', 'j_score_igblastn', 'j_call_igblastn', 'j_call_blastn', 'j_identity_blastn', 'j_alignment_length_blastn', 'j_number_of_mismatches_blastn', 'j_number_of_gap_openings_blastn', 'j_sequence_start_blastn', 'j_sequence_end_blastn', 'j_germline_start_blastn', 'j_germline_end_blastn', 'j_support_blastn', 'j_score_blastn', 'j_sequence_alignment_blastn', 'j_germline_alignment_blastn', 'cell_id_blastn', 'j_source', 'd_support_igblastn', 'd_score_igblastn', 'd_call_igblastn', 'd_call_blastn', 'd_identity_blastn', 'd_alignment_length_blastn', 'd_number_of_mismatches_blastn', 'd_number_of_gap_openings_blastn', 'd_sequence_start_blastn', 'd_sequence_end_blastn', 'd_germline_start_blastn', 'd_germline_end_blastn', 'd_support_blastn', 'd_score_blastn', 'd_sequence_alignment_blastn', 'd_germline_alignment_blastn', 'd_source', 'c_sequence_alignment', 'c_germline_alignment', 'c_sequence_start', 'c_sequence_end', 'c_score', 'c_identity', 'c_call_10x', 'junction_aa_length', 'fwr1_aa', 'fwr2_aa', 'fwr3_aa', 'fwr4_aa', 'cdr1_aa', 'cdr2_aa', 'cdr3_aa', 'sequence_alignment_aa', 'v_sequence_alignment_aa', 'd_sequence_alignment_aa', 'j_sequence_alignment_aa', 'mu_count', 'duplicate_count', 'clone_id', 'changeo_clone_id'\n",
       "    metadata: 'clone_id', 'clone_id_by_size', 'sample_id', 'locus_VDJ', 'locus_VJ', 'productive_VDJ', 'productive_VJ', 'v_call_genotyped_VDJ', 'v_call_genotyped_VJ', 'd_call_VDJ', 'j_call_VDJ', 'j_call_VJ', 'c_call_VDJ', 'c_call_VJ', 'duplicate_count_VDJ', 'duplicate_count_VJ', 'duplicate_count_VDJ_1', 'duplicate_count_VJ_1', 'duplicate_count_VDJ_2', 'junction_aa_VDJ', 'junction_aa_VJ', 'locus_status', 'locus_status_summary', 'productive', 'productive_summary', 'isotype', 'isotype_summary', 'vdj_status', 'vdj_status_summary', 'constant_status_summary'\n",
       "    edges: 'source', 'target', 'weight'\n",
       "    layout: layout for 2435 vertices, layout for 999 vertices\n",
       "    graph: networkx graph of 2435 vertices, networkx graph of 999 vertices "
      ]
     },
     "execution_count": 4,
     "metadata": {},
     "output_type": "execute_result"
    }
   ],
   "source": [
    "ddl.tl.find_clones(vdj)\n",
    "vdj"
   ]
  },
  {
   "cell_type": "markdown",
   "metadata": {},
   "source": [
    "This will return a new column with the column name `'clone_id'` as per convention. If a file path is provided as input, it will also save the file automatically into the base directory of the file name. Otherwise, a `Dandelion` object will be returned."
   ]
  },
  {
   "cell_type": "code",
   "execution_count": 5,
   "metadata": {},
   "outputs": [
    {
     "data": {
      "text/html": [
       "<div>\n",
       "<style scoped>\n",
       "    .dataframe tbody tr th:only-of-type {\n",
       "        vertical-align: middle;\n",
       "    }\n",
       "\n",
       "    .dataframe tbody tr th {\n",
       "        vertical-align: top;\n",
       "    }\n",
       "\n",
       "    .dataframe thead th {\n",
       "        text-align: right;\n",
       "    }\n",
       "</style>\n",
       "<table border=\"1\" class=\"dataframe\">\n",
       "  <thead>\n",
       "    <tr style=\"text-align: right;\">\n",
       "      <th></th>\n",
       "      <th>clone_id</th>\n",
       "      <th>clone_id_by_size</th>\n",
       "      <th>sample_id</th>\n",
       "      <th>locus_VDJ</th>\n",
       "      <th>locus_VJ</th>\n",
       "      <th>productive_VDJ</th>\n",
       "      <th>productive_VJ</th>\n",
       "      <th>v_call_genotyped_VDJ</th>\n",
       "      <th>v_call_genotyped_VJ</th>\n",
       "      <th>d_call_VDJ</th>\n",
       "      <th>...</th>\n",
       "      <th>junction_aa_VJ</th>\n",
       "      <th>locus_status</th>\n",
       "      <th>locus_status_summary</th>\n",
       "      <th>productive</th>\n",
       "      <th>productive_summary</th>\n",
       "      <th>isotype</th>\n",
       "      <th>isotype_summary</th>\n",
       "      <th>vdj_status</th>\n",
       "      <th>vdj_status_summary</th>\n",
       "      <th>constant_status_summary</th>\n",
       "    </tr>\n",
       "  </thead>\n",
       "  <tbody>\n",
       "    <tr>\n",
       "      <th>sc5p_v2_hs_PBMC_10k_AAACCTGTCCGTTGTC</th>\n",
       "      <td>43_3_2_29_2_2</td>\n",
       "      <td>964</td>\n",
       "      <td>sc5p_v2_hs_PBMC_10k</td>\n",
       "      <td>IGH</td>\n",
       "      <td>IGK</td>\n",
       "      <td>T</td>\n",
       "      <td>T</td>\n",
       "      <td>IGHV1-69</td>\n",
       "      <td>IGKV1-8</td>\n",
       "      <td>IGHD3-22</td>\n",
       "      <td>...</td>\n",
       "      <td>CQQYYSYPRTF</td>\n",
       "      <td>IGH + IGK</td>\n",
       "      <td>IGH + IGK</td>\n",
       "      <td>T + T</td>\n",
       "      <td>T + T</td>\n",
       "      <td>IgM</td>\n",
       "      <td>IgM</td>\n",
       "      <td>Single + Single</td>\n",
       "      <td>Single</td>\n",
       "      <td>Single</td>\n",
       "    </tr>\n",
       "    <tr>\n",
       "      <th>sc5p_v2_hs_PBMC_10k_AAACCTGTCGAGAACG</th>\n",
       "      <td>176_1_1_173_1_1</td>\n",
       "      <td>939</td>\n",
       "      <td>sc5p_v2_hs_PBMC_10k</td>\n",
       "      <td>IGH</td>\n",
       "      <td>IGL</td>\n",
       "      <td>T</td>\n",
       "      <td>T</td>\n",
       "      <td>IGHV1-2</td>\n",
       "      <td>IGLV5-45</td>\n",
       "      <td></td>\n",
       "      <td>...</td>\n",
       "      <td>CMIWHSSAWVV</td>\n",
       "      <td>IGH + IGL</td>\n",
       "      <td>IGH + IGL</td>\n",
       "      <td>T + T</td>\n",
       "      <td>T + T</td>\n",
       "      <td>IgM</td>\n",
       "      <td>IgM</td>\n",
       "      <td>Single + Single</td>\n",
       "      <td>Single</td>\n",
       "      <td>Single</td>\n",
       "    </tr>\n",
       "    <tr>\n",
       "      <th>sc5p_v2_hs_PBMC_10k_AAACCTGTCTTGAGAC</th>\n",
       "      <td>20_4_1_156_1_1</td>\n",
       "      <td>691</td>\n",
       "      <td>sc5p_v2_hs_PBMC_10k</td>\n",
       "      <td>IGH</td>\n",
       "      <td>IGK</td>\n",
       "      <td>T</td>\n",
       "      <td>T</td>\n",
       "      <td>IGHV5-51</td>\n",
       "      <td>IGKV1D-8</td>\n",
       "      <td></td>\n",
       "      <td>...</td>\n",
       "      <td>CQQYYSFPYTF</td>\n",
       "      <td>IGH + IGK</td>\n",
       "      <td>IGH + IGK</td>\n",
       "      <td>T + T</td>\n",
       "      <td>T + T</td>\n",
       "      <td>IgM</td>\n",
       "      <td>IgM</td>\n",
       "      <td>Single + Single</td>\n",
       "      <td>Single</td>\n",
       "      <td>Single</td>\n",
       "    </tr>\n",
       "    <tr>\n",
       "      <th>sc5p_v2_hs_PBMC_10k_AAACGGGAGCGACGTA</th>\n",
       "      <td>150_1_1_128_2_7</td>\n",
       "      <td>795</td>\n",
       "      <td>sc5p_v2_hs_PBMC_10k</td>\n",
       "      <td>IGH</td>\n",
       "      <td>IGL</td>\n",
       "      <td>T</td>\n",
       "      <td>T</td>\n",
       "      <td>IGHV4-4</td>\n",
       "      <td>IGLV3-19</td>\n",
       "      <td>IGHD6-13</td>\n",
       "      <td>...</td>\n",
       "      <td>CNSRDSSGNHVVF</td>\n",
       "      <td>IGH + IGL</td>\n",
       "      <td>IGH + IGL</td>\n",
       "      <td>T + T</td>\n",
       "      <td>T + T</td>\n",
       "      <td>IgM</td>\n",
       "      <td>IgM</td>\n",
       "      <td>Single + Multi_VJ_j</td>\n",
       "      <td>Single</td>\n",
       "      <td>Single</td>\n",
       "    </tr>\n",
       "    <tr>\n",
       "      <th>sc5p_v2_hs_PBMC_10k_AAACGGGCACTGTTAG</th>\n",
       "      <td>210_2_4_51_4_4</td>\n",
       "      <td>1004</td>\n",
       "      <td>sc5p_v2_hs_PBMC_10k</td>\n",
       "      <td>IGH</td>\n",
       "      <td>IGL</td>\n",
       "      <td>T</td>\n",
       "      <td>T</td>\n",
       "      <td>IGHV4-39</td>\n",
       "      <td>IGLV3-21</td>\n",
       "      <td>IGHD3-22</td>\n",
       "      <td>...</td>\n",
       "      <td>CQVWDSSSDHVVF</td>\n",
       "      <td>IGH + IGL</td>\n",
       "      <td>IGH + IGL</td>\n",
       "      <td>T + T</td>\n",
       "      <td>T + T</td>\n",
       "      <td>IgM</td>\n",
       "      <td>IgM</td>\n",
       "      <td>Single + Multi_VJ_j</td>\n",
       "      <td>Single</td>\n",
       "      <td>Single</td>\n",
       "    </tr>\n",
       "    <tr>\n",
       "      <th>...</th>\n",
       "      <td>...</td>\n",
       "      <td>...</td>\n",
       "      <td>...</td>\n",
       "      <td>...</td>\n",
       "      <td>...</td>\n",
       "      <td>...</td>\n",
       "      <td>...</td>\n",
       "      <td>...</td>\n",
       "      <td>...</td>\n",
       "      <td>...</td>\n",
       "      <td>...</td>\n",
       "      <td>...</td>\n",
       "      <td>...</td>\n",
       "      <td>...</td>\n",
       "      <td>...</td>\n",
       "      <td>...</td>\n",
       "      <td>...</td>\n",
       "      <td>...</td>\n",
       "      <td>...</td>\n",
       "      <td>...</td>\n",
       "      <td>...</td>\n",
       "    </tr>\n",
       "    <tr>\n",
       "      <th>vdj_v1_hs_pbmc3_TTTCCTCAGCAATATG</th>\n",
       "      <td>45_2_1_131_2_8</td>\n",
       "      <td>93</td>\n",
       "      <td>vdj_v1_hs_pbmc3</td>\n",
       "      <td>IGH</td>\n",
       "      <td>IGK</td>\n",
       "      <td>T</td>\n",
       "      <td>T</td>\n",
       "      <td>IGHV2-5</td>\n",
       "      <td>IGKV4-1</td>\n",
       "      <td>IGHD5/OR15-5b|IGHD5/OR15-5a</td>\n",
       "      <td>...</td>\n",
       "      <td>CQQYYTTPLTF</td>\n",
       "      <td>IGH + IGK</td>\n",
       "      <td>IGH + IGK</td>\n",
       "      <td>T + T</td>\n",
       "      <td>T + T</td>\n",
       "      <td>IgM</td>\n",
       "      <td>IgM</td>\n",
       "      <td>Multi_VDJ_d|Multi_VDJ_j + Single</td>\n",
       "      <td>Multi</td>\n",
       "      <td>Single</td>\n",
       "    </tr>\n",
       "    <tr>\n",
       "      <th>vdj_v1_hs_pbmc3_TTTCCTCAGCGCTTAT</th>\n",
       "      <td>181_5_6_161_1_3</td>\n",
       "      <td>120</td>\n",
       "      <td>vdj_v1_hs_pbmc3</td>\n",
       "      <td>IGH</td>\n",
       "      <td>IGK</td>\n",
       "      <td>T</td>\n",
       "      <td>T</td>\n",
       "      <td>IGHV3-30</td>\n",
       "      <td>IGKV2-30</td>\n",
       "      <td>IGHD4-17</td>\n",
       "      <td>...</td>\n",
       "      <td>CMQGTHWPYTF</td>\n",
       "      <td>IGH + IGK</td>\n",
       "      <td>IGH + IGK</td>\n",
       "      <td>T + T</td>\n",
       "      <td>T + T</td>\n",
       "      <td>IgM</td>\n",
       "      <td>IgM</td>\n",
       "      <td>Single + Single</td>\n",
       "      <td>Single</td>\n",
       "      <td>Single</td>\n",
       "    </tr>\n",
       "    <tr>\n",
       "      <th>vdj_v1_hs_pbmc3_TTTCCTCAGGGAAACA</th>\n",
       "      <td>10_1_1_112_4_11</td>\n",
       "      <td>33</td>\n",
       "      <td>vdj_v1_hs_pbmc3</td>\n",
       "      <td>IGH</td>\n",
       "      <td>IGK</td>\n",
       "      <td>T</td>\n",
       "      <td>T</td>\n",
       "      <td>IGHV4-59</td>\n",
       "      <td>IGKV1-39|IGKV1D-39</td>\n",
       "      <td>IGHD6-13</td>\n",
       "      <td>...</td>\n",
       "      <td>CQQSYSTPWTF</td>\n",
       "      <td>IGH + IGK</td>\n",
       "      <td>IGH + IGK</td>\n",
       "      <td>T + T</td>\n",
       "      <td>T + T</td>\n",
       "      <td>IgM</td>\n",
       "      <td>IgM</td>\n",
       "      <td>Single + Multi_VJ_v</td>\n",
       "      <td>Single</td>\n",
       "      <td>Single</td>\n",
       "    </tr>\n",
       "    <tr>\n",
       "      <th>vdj_v1_hs_pbmc3_TTTGCGCCATACCATG</th>\n",
       "      <td>56_6_2_126_2_2</td>\n",
       "      <td>124</td>\n",
       "      <td>vdj_v1_hs_pbmc3</td>\n",
       "      <td>IGH</td>\n",
       "      <td>IGL</td>\n",
       "      <td>T</td>\n",
       "      <td>T</td>\n",
       "      <td>IGHV1-69</td>\n",
       "      <td>IGLV1-47</td>\n",
       "      <td>IGHD2-15</td>\n",
       "      <td>...</td>\n",
       "      <td>CAAWDDSLSGWVF</td>\n",
       "      <td>IGH + IGL</td>\n",
       "      <td>IGH + IGL</td>\n",
       "      <td>T + T</td>\n",
       "      <td>T + T</td>\n",
       "      <td>IgM</td>\n",
       "      <td>IgM</td>\n",
       "      <td>Single + Single</td>\n",
       "      <td>Single</td>\n",
       "      <td>Single</td>\n",
       "    </tr>\n",
       "    <tr>\n",
       "      <th>vdj_v1_hs_pbmc3_TTTGGTTGTAGGCATG</th>\n",
       "      <td>149_5_3_93_3_4</td>\n",
       "      <td>90</td>\n",
       "      <td>vdj_v1_hs_pbmc3</td>\n",
       "      <td>IGH</td>\n",
       "      <td>IGL</td>\n",
       "      <td>T</td>\n",
       "      <td>T</td>\n",
       "      <td>IGHV3-23</td>\n",
       "      <td>IGLV2-11</td>\n",
       "      <td></td>\n",
       "      <td>...</td>\n",
       "      <td>CCSYAGSYTVFF</td>\n",
       "      <td>IGH + IGL</td>\n",
       "      <td>IGH + IGL</td>\n",
       "      <td>T + T</td>\n",
       "      <td>T + T</td>\n",
       "      <td>IgM</td>\n",
       "      <td>IgM</td>\n",
       "      <td>Single + Multi_VJ_j</td>\n",
       "      <td>Single</td>\n",
       "      <td>Single</td>\n",
       "    </tr>\n",
       "  </tbody>\n",
       "</table>\n",
       "<p>2435 rows × 30 columns</p>\n",
       "</div>"
      ],
      "text/plain": [
       "                                             clone_id clone_id_by_size  \\\n",
       "sc5p_v2_hs_PBMC_10k_AAACCTGTCCGTTGTC    43_3_2_29_2_2              964   \n",
       "sc5p_v2_hs_PBMC_10k_AAACCTGTCGAGAACG  176_1_1_173_1_1              939   \n",
       "sc5p_v2_hs_PBMC_10k_AAACCTGTCTTGAGAC   20_4_1_156_1_1              691   \n",
       "sc5p_v2_hs_PBMC_10k_AAACGGGAGCGACGTA  150_1_1_128_2_7              795   \n",
       "sc5p_v2_hs_PBMC_10k_AAACGGGCACTGTTAG   210_2_4_51_4_4             1004   \n",
       "...                                               ...              ...   \n",
       "vdj_v1_hs_pbmc3_TTTCCTCAGCAATATG       45_2_1_131_2_8               93   \n",
       "vdj_v1_hs_pbmc3_TTTCCTCAGCGCTTAT      181_5_6_161_1_3              120   \n",
       "vdj_v1_hs_pbmc3_TTTCCTCAGGGAAACA      10_1_1_112_4_11               33   \n",
       "vdj_v1_hs_pbmc3_TTTGCGCCATACCATG       56_6_2_126_2_2              124   \n",
       "vdj_v1_hs_pbmc3_TTTGGTTGTAGGCATG       149_5_3_93_3_4               90   \n",
       "\n",
       "                                                sample_id locus_VDJ locus_VJ  \\\n",
       "sc5p_v2_hs_PBMC_10k_AAACCTGTCCGTTGTC  sc5p_v2_hs_PBMC_10k       IGH      IGK   \n",
       "sc5p_v2_hs_PBMC_10k_AAACCTGTCGAGAACG  sc5p_v2_hs_PBMC_10k       IGH      IGL   \n",
       "sc5p_v2_hs_PBMC_10k_AAACCTGTCTTGAGAC  sc5p_v2_hs_PBMC_10k       IGH      IGK   \n",
       "sc5p_v2_hs_PBMC_10k_AAACGGGAGCGACGTA  sc5p_v2_hs_PBMC_10k       IGH      IGL   \n",
       "sc5p_v2_hs_PBMC_10k_AAACGGGCACTGTTAG  sc5p_v2_hs_PBMC_10k       IGH      IGL   \n",
       "...                                                   ...       ...      ...   \n",
       "vdj_v1_hs_pbmc3_TTTCCTCAGCAATATG          vdj_v1_hs_pbmc3       IGH      IGK   \n",
       "vdj_v1_hs_pbmc3_TTTCCTCAGCGCTTAT          vdj_v1_hs_pbmc3       IGH      IGK   \n",
       "vdj_v1_hs_pbmc3_TTTCCTCAGGGAAACA          vdj_v1_hs_pbmc3       IGH      IGK   \n",
       "vdj_v1_hs_pbmc3_TTTGCGCCATACCATG          vdj_v1_hs_pbmc3       IGH      IGL   \n",
       "vdj_v1_hs_pbmc3_TTTGGTTGTAGGCATG          vdj_v1_hs_pbmc3       IGH      IGL   \n",
       "\n",
       "                                     productive_VDJ productive_VJ  \\\n",
       "sc5p_v2_hs_PBMC_10k_AAACCTGTCCGTTGTC              T             T   \n",
       "sc5p_v2_hs_PBMC_10k_AAACCTGTCGAGAACG              T             T   \n",
       "sc5p_v2_hs_PBMC_10k_AAACCTGTCTTGAGAC              T             T   \n",
       "sc5p_v2_hs_PBMC_10k_AAACGGGAGCGACGTA              T             T   \n",
       "sc5p_v2_hs_PBMC_10k_AAACGGGCACTGTTAG              T             T   \n",
       "...                                             ...           ...   \n",
       "vdj_v1_hs_pbmc3_TTTCCTCAGCAATATG                  T             T   \n",
       "vdj_v1_hs_pbmc3_TTTCCTCAGCGCTTAT                  T             T   \n",
       "vdj_v1_hs_pbmc3_TTTCCTCAGGGAAACA                  T             T   \n",
       "vdj_v1_hs_pbmc3_TTTGCGCCATACCATG                  T             T   \n",
       "vdj_v1_hs_pbmc3_TTTGGTTGTAGGCATG                  T             T   \n",
       "\n",
       "                                     v_call_genotyped_VDJ v_call_genotyped_VJ  \\\n",
       "sc5p_v2_hs_PBMC_10k_AAACCTGTCCGTTGTC             IGHV1-69             IGKV1-8   \n",
       "sc5p_v2_hs_PBMC_10k_AAACCTGTCGAGAACG              IGHV1-2            IGLV5-45   \n",
       "sc5p_v2_hs_PBMC_10k_AAACCTGTCTTGAGAC             IGHV5-51            IGKV1D-8   \n",
       "sc5p_v2_hs_PBMC_10k_AAACGGGAGCGACGTA              IGHV4-4            IGLV3-19   \n",
       "sc5p_v2_hs_PBMC_10k_AAACGGGCACTGTTAG             IGHV4-39            IGLV3-21   \n",
       "...                                                   ...                 ...   \n",
       "vdj_v1_hs_pbmc3_TTTCCTCAGCAATATG                  IGHV2-5             IGKV4-1   \n",
       "vdj_v1_hs_pbmc3_TTTCCTCAGCGCTTAT                 IGHV3-30            IGKV2-30   \n",
       "vdj_v1_hs_pbmc3_TTTCCTCAGGGAAACA                 IGHV4-59  IGKV1-39|IGKV1D-39   \n",
       "vdj_v1_hs_pbmc3_TTTGCGCCATACCATG                 IGHV1-69            IGLV1-47   \n",
       "vdj_v1_hs_pbmc3_TTTGGTTGTAGGCATG                 IGHV3-23            IGLV2-11   \n",
       "\n",
       "                                                       d_call_VDJ  ...  \\\n",
       "sc5p_v2_hs_PBMC_10k_AAACCTGTCCGTTGTC                     IGHD3-22  ...   \n",
       "sc5p_v2_hs_PBMC_10k_AAACCTGTCGAGAACG                               ...   \n",
       "sc5p_v2_hs_PBMC_10k_AAACCTGTCTTGAGAC                               ...   \n",
       "sc5p_v2_hs_PBMC_10k_AAACGGGAGCGACGTA                     IGHD6-13  ...   \n",
       "sc5p_v2_hs_PBMC_10k_AAACGGGCACTGTTAG                     IGHD3-22  ...   \n",
       "...                                                           ...  ...   \n",
       "vdj_v1_hs_pbmc3_TTTCCTCAGCAATATG      IGHD5/OR15-5b|IGHD5/OR15-5a  ...   \n",
       "vdj_v1_hs_pbmc3_TTTCCTCAGCGCTTAT                         IGHD4-17  ...   \n",
       "vdj_v1_hs_pbmc3_TTTCCTCAGGGAAACA                         IGHD6-13  ...   \n",
       "vdj_v1_hs_pbmc3_TTTGCGCCATACCATG                         IGHD2-15  ...   \n",
       "vdj_v1_hs_pbmc3_TTTGGTTGTAGGCATG                                   ...   \n",
       "\n",
       "                                     junction_aa_VJ locus_status  \\\n",
       "sc5p_v2_hs_PBMC_10k_AAACCTGTCCGTTGTC    CQQYYSYPRTF    IGH + IGK   \n",
       "sc5p_v2_hs_PBMC_10k_AAACCTGTCGAGAACG    CMIWHSSAWVV    IGH + IGL   \n",
       "sc5p_v2_hs_PBMC_10k_AAACCTGTCTTGAGAC    CQQYYSFPYTF    IGH + IGK   \n",
       "sc5p_v2_hs_PBMC_10k_AAACGGGAGCGACGTA  CNSRDSSGNHVVF    IGH + IGL   \n",
       "sc5p_v2_hs_PBMC_10k_AAACGGGCACTGTTAG  CQVWDSSSDHVVF    IGH + IGL   \n",
       "...                                             ...          ...   \n",
       "vdj_v1_hs_pbmc3_TTTCCTCAGCAATATG        CQQYYTTPLTF    IGH + IGK   \n",
       "vdj_v1_hs_pbmc3_TTTCCTCAGCGCTTAT        CMQGTHWPYTF    IGH + IGK   \n",
       "vdj_v1_hs_pbmc3_TTTCCTCAGGGAAACA        CQQSYSTPWTF    IGH + IGK   \n",
       "vdj_v1_hs_pbmc3_TTTGCGCCATACCATG      CAAWDDSLSGWVF    IGH + IGL   \n",
       "vdj_v1_hs_pbmc3_TTTGGTTGTAGGCATG       CCSYAGSYTVFF    IGH + IGL   \n",
       "\n",
       "                                     locus_status_summary productive  \\\n",
       "sc5p_v2_hs_PBMC_10k_AAACCTGTCCGTTGTC            IGH + IGK      T + T   \n",
       "sc5p_v2_hs_PBMC_10k_AAACCTGTCGAGAACG            IGH + IGL      T + T   \n",
       "sc5p_v2_hs_PBMC_10k_AAACCTGTCTTGAGAC            IGH + IGK      T + T   \n",
       "sc5p_v2_hs_PBMC_10k_AAACGGGAGCGACGTA            IGH + IGL      T + T   \n",
       "sc5p_v2_hs_PBMC_10k_AAACGGGCACTGTTAG            IGH + IGL      T + T   \n",
       "...                                                   ...        ...   \n",
       "vdj_v1_hs_pbmc3_TTTCCTCAGCAATATG                IGH + IGK      T + T   \n",
       "vdj_v1_hs_pbmc3_TTTCCTCAGCGCTTAT                IGH + IGK      T + T   \n",
       "vdj_v1_hs_pbmc3_TTTCCTCAGGGAAACA                IGH + IGK      T + T   \n",
       "vdj_v1_hs_pbmc3_TTTGCGCCATACCATG                IGH + IGL      T + T   \n",
       "vdj_v1_hs_pbmc3_TTTGGTTGTAGGCATG                IGH + IGL      T + T   \n",
       "\n",
       "                                     productive_summary isotype  \\\n",
       "sc5p_v2_hs_PBMC_10k_AAACCTGTCCGTTGTC              T + T     IgM   \n",
       "sc5p_v2_hs_PBMC_10k_AAACCTGTCGAGAACG              T + T     IgM   \n",
       "sc5p_v2_hs_PBMC_10k_AAACCTGTCTTGAGAC              T + T     IgM   \n",
       "sc5p_v2_hs_PBMC_10k_AAACGGGAGCGACGTA              T + T     IgM   \n",
       "sc5p_v2_hs_PBMC_10k_AAACGGGCACTGTTAG              T + T     IgM   \n",
       "...                                                 ...     ...   \n",
       "vdj_v1_hs_pbmc3_TTTCCTCAGCAATATG                  T + T     IgM   \n",
       "vdj_v1_hs_pbmc3_TTTCCTCAGCGCTTAT                  T + T     IgM   \n",
       "vdj_v1_hs_pbmc3_TTTCCTCAGGGAAACA                  T + T     IgM   \n",
       "vdj_v1_hs_pbmc3_TTTGCGCCATACCATG                  T + T     IgM   \n",
       "vdj_v1_hs_pbmc3_TTTGGTTGTAGGCATG                  T + T     IgM   \n",
       "\n",
       "                                      isotype_summary  \\\n",
       "sc5p_v2_hs_PBMC_10k_AAACCTGTCCGTTGTC              IgM   \n",
       "sc5p_v2_hs_PBMC_10k_AAACCTGTCGAGAACG              IgM   \n",
       "sc5p_v2_hs_PBMC_10k_AAACCTGTCTTGAGAC              IgM   \n",
       "sc5p_v2_hs_PBMC_10k_AAACGGGAGCGACGTA              IgM   \n",
       "sc5p_v2_hs_PBMC_10k_AAACGGGCACTGTTAG              IgM   \n",
       "...                                               ...   \n",
       "vdj_v1_hs_pbmc3_TTTCCTCAGCAATATG                  IgM   \n",
       "vdj_v1_hs_pbmc3_TTTCCTCAGCGCTTAT                  IgM   \n",
       "vdj_v1_hs_pbmc3_TTTCCTCAGGGAAACA                  IgM   \n",
       "vdj_v1_hs_pbmc3_TTTGCGCCATACCATG                  IgM   \n",
       "vdj_v1_hs_pbmc3_TTTGGTTGTAGGCATG                  IgM   \n",
       "\n",
       "                                                            vdj_status  \\\n",
       "sc5p_v2_hs_PBMC_10k_AAACCTGTCCGTTGTC                   Single + Single   \n",
       "sc5p_v2_hs_PBMC_10k_AAACCTGTCGAGAACG                   Single + Single   \n",
       "sc5p_v2_hs_PBMC_10k_AAACCTGTCTTGAGAC                   Single + Single   \n",
       "sc5p_v2_hs_PBMC_10k_AAACGGGAGCGACGTA               Single + Multi_VJ_j   \n",
       "sc5p_v2_hs_PBMC_10k_AAACGGGCACTGTTAG               Single + Multi_VJ_j   \n",
       "...                                                                ...   \n",
       "vdj_v1_hs_pbmc3_TTTCCTCAGCAATATG      Multi_VDJ_d|Multi_VDJ_j + Single   \n",
       "vdj_v1_hs_pbmc3_TTTCCTCAGCGCTTAT                       Single + Single   \n",
       "vdj_v1_hs_pbmc3_TTTCCTCAGGGAAACA                   Single + Multi_VJ_v   \n",
       "vdj_v1_hs_pbmc3_TTTGCGCCATACCATG                       Single + Single   \n",
       "vdj_v1_hs_pbmc3_TTTGGTTGTAGGCATG                   Single + Multi_VJ_j   \n",
       "\n",
       "                                      vdj_status_summary  \\\n",
       "sc5p_v2_hs_PBMC_10k_AAACCTGTCCGTTGTC              Single   \n",
       "sc5p_v2_hs_PBMC_10k_AAACCTGTCGAGAACG              Single   \n",
       "sc5p_v2_hs_PBMC_10k_AAACCTGTCTTGAGAC              Single   \n",
       "sc5p_v2_hs_PBMC_10k_AAACGGGAGCGACGTA              Single   \n",
       "sc5p_v2_hs_PBMC_10k_AAACGGGCACTGTTAG              Single   \n",
       "...                                                  ...   \n",
       "vdj_v1_hs_pbmc3_TTTCCTCAGCAATATG                   Multi   \n",
       "vdj_v1_hs_pbmc3_TTTCCTCAGCGCTTAT                  Single   \n",
       "vdj_v1_hs_pbmc3_TTTCCTCAGGGAAACA                  Single   \n",
       "vdj_v1_hs_pbmc3_TTTGCGCCATACCATG                  Single   \n",
       "vdj_v1_hs_pbmc3_TTTGGTTGTAGGCATG                  Single   \n",
       "\n",
       "                                     constant_status_summary  \n",
       "sc5p_v2_hs_PBMC_10k_AAACCTGTCCGTTGTC                  Single  \n",
       "sc5p_v2_hs_PBMC_10k_AAACCTGTCGAGAACG                  Single  \n",
       "sc5p_v2_hs_PBMC_10k_AAACCTGTCTTGAGAC                  Single  \n",
       "sc5p_v2_hs_PBMC_10k_AAACGGGAGCGACGTA                  Single  \n",
       "sc5p_v2_hs_PBMC_10k_AAACGGGCACTGTTAG                  Single  \n",
       "...                                                      ...  \n",
       "vdj_v1_hs_pbmc3_TTTCCTCAGCAATATG                      Single  \n",
       "vdj_v1_hs_pbmc3_TTTCCTCAGCGCTTAT                      Single  \n",
       "vdj_v1_hs_pbmc3_TTTCCTCAGGGAAACA                      Single  \n",
       "vdj_v1_hs_pbmc3_TTTGCGCCATACCATG                      Single  \n",
       "vdj_v1_hs_pbmc3_TTTGGTTGTAGGCATG                      Single  \n",
       "\n",
       "[2435 rows x 30 columns]"
      ]
     },
     "execution_count": 5,
     "metadata": {},
     "output_type": "execute_result"
    }
   ],
   "source": [
    "vdj.metadata"
   ]
  },
  {
   "cell_type": "markdown",
   "metadata": {},
   "source": [
    "### Alternative : Running `tl.define_clones`"
   ]
  },
  {
   "cell_type": "markdown",
   "metadata": {},
   "source": [
    "Alternatively, a wrapper to call *changeo's* `DefineClones.py` [[Gupta2015]](https://academic.oup.com/bioinformatics/article/31/20/3356/195677) is also included. To run it, you need to choose the distance threshold for clonal assignment. To facilitate this, the function `pp.calculate_threshold` will run [shazam's distToNearest](https://shazam.readthedocs.io/en/stable/topics/distToNearest/) function and return a plot showing the length normalized hamming distance distribution and automated threshold value. \n",
    "\n",
    "Again, `pp.calculate_threshold` will take a file path, pandas `DataFrame` or `Dandelion` object as input. If a dandelion object is provided, the threshold value will be inserted into the `.threshold` slot. For more fine control, please use [shazam's distToNearest](https://shazam.readthedocs.io/en/stable/topics/distToNearest/) and [changeo's DefineClones.py](https://immcantation.readthedocs.io/en/stable/tutorials/10x_tutorial.html) functions directly."
   ]
  },
  {
   "cell_type": "code",
   "execution_count": 6,
   "metadata": {
    "scrolled": true
   },
   "outputs": [
    {
     "name": "stdout",
     "output_type": "stream",
     "text": [
      "Calculating threshold\n"
     ]
    },
    {
     "name": "stderr",
     "output_type": "stream",
     "text": [
      "R[write to console]: Error in (function (db, sequenceColumn = \"junction\", vCallColumn = \"v_call\",  : \n",
      "  4 cell(s) with multiple heavy chains found. One heavy chain per cell is expected.\n",
      "\n"
     ]
    },
    {
     "name": "stdout",
     "output_type": "stream",
     "text": [
      "Rerun this after filtering. For now, switching to heavy mode.\n",
      "      Threshold method 'density' did not return with any values. Switching to method = 'gmm'.\n"
     ]
    },
    {
     "data": {
      "image/png": "[encoded data removed]",
      "text/plain": [
       "<Figure size 450x250 with 4 Axes>"
      ]
     },
     "metadata": {},
     "output_type": "display_data"
    },
    {
     "name": "stdout",
     "output_type": "stream",
     "text": [
      "<ggplot: (8795342249309)>\n",
      " finished: Updated Dandelion object: \n",
      "   'threshold', threshold value for tuning clonal assignment\n",
      " (0:01:31)\n"
     ]
    }
   ],
   "source": [
    "ddl.pp.calculate_threshold(vdj)"
   ]
  },
  {
   "cell_type": "code",
   "execution_count": 7,
   "metadata": {},
   "outputs": [
    {
     "data": {
      "text/plain": [
       "0.28125025509221974"
      ]
     },
     "execution_count": 7,
     "metadata": {},
     "output_type": "execute_result"
    }
   ],
   "source": [
    "# see the actual value in .threshold slot\n",
    "vdj.threshold"
   ]
  },
  {
   "cell_type": "markdown",
   "metadata": {},
   "source": [
    "You can also manually select a value as the threshold if you wish. Note that rerunning this with `manual_threshold` is just for reproducing the plot but with the line at 0.1 in this tutorial. You can just edit `vdj.threshold` directly if you wish."
   ]
  },
  {
   "cell_type": "code",
   "execution_count": 8,
   "metadata": {},
   "outputs": [
    {
     "name": "stdout",
     "output_type": "stream",
     "text": [
      "Calculating threshold\n"
     ]
    },
    {
     "name": "stderr",
     "output_type": "stream",
     "text": [
      "R[write to console]: Error in (function (db, sequenceColumn = \"junction\", vCallColumn = \"v_call\",  : \n",
      "  4 cell(s) with multiple heavy chains found. One heavy chain per cell is expected.\n",
      "\n"
     ]
    },
    {
     "name": "stdout",
     "output_type": "stream",
     "text": [
      "Rerun this after filtering. For now, switching to heavy mode.\n",
      "      Threshold method 'density' did not return with any values. Switching to method = 'gmm'.\n"
     ]
    },
    {
     "data": {
      "image/png": "[encoded data removed]",
      "text/plain": [
       "<Figure size 450x250 with 4 Axes>"
      ]
     },
     "metadata": {},
     "output_type": "display_data"
    },
    {
     "name": "stdout",
     "output_type": "stream",
     "text": [
      "<ggplot: (8795354022317)>\n",
      " finished: Updated Dandelion object: \n",
      "   'threshold', threshold value for tuning clonal assignment\n",
      " (0:01:32)\n"
     ]
    }
   ],
   "source": [
    "ddl.pp.calculate_threshold(vdj, manual_threshold = 0.1)"
   ]
  },
  {
   "cell_type": "code",
   "execution_count": 9,
   "metadata": {},
   "outputs": [
    {
     "data": {
      "text/plain": [
       "0.1"
      ]
     },
     "execution_count": 9,
     "metadata": {},
     "output_type": "execute_result"
    }
   ],
   "source": [
    "# see the updated .threshold slot\n",
    "vdj.threshold"
   ]
  },
  {
   "cell_type": "markdown",
   "metadata": {},
   "source": [
    "\n",
    "We can run `tl.define_clones` to call *changeo's* `DefineClones.py`; see [here](https://changeo.readthedocs.io/en/stable/methods/clustering.html) for more info. Note, if a `pandas.DataFrame` or file path is provided as the input, the value in dist option (corresponds to threshold value) needs to be manually supplied. If a `Dandelion` object is provided, it will automatically retrieve it from the threshold slot. "
   ]
  },
  {
   "cell_type": "code",
   "execution_count": 10,
   "metadata": {},
   "outputs": [
    {
     "name": "stdout",
     "output_type": "stream",
     "text": [
      "Finding clones\n",
      " finished: Updated Dandelion object: \n",
      "   'data', contig-indexed clone table\n",
      "   'metadata', cell-indexed clone table\n",
      " (0:00:28)\n"
     ]
    },
    {
     "data": {
      "text/plain": [
       "Dandelion class object with n_obs = 2435 and n_contigs = 4862\n",
       "    data: 'sequence_id', 'sequence', 'rev_comp', 'productive', 'v_call', 'd_call', 'j_call', 'sequence_alignment', 'germline_alignment', 'junction', 'junction_aa', 'v_cigar', 'd_cigar', 'j_cigar', 'stop_codon', 'vj_in_frame', 'locus', 'junction_length', 'np1_length', 'np2_length', 'v_sequence_start', 'v_sequence_end', 'v_germline_start', 'v_germline_end', 'd_sequence_start', 'd_sequence_end', 'd_germline_start', 'd_germline_end', 'j_sequence_start', 'j_sequence_end', 'j_germline_start', 'j_germline_end', 'v_score', 'v_identity', 'v_support', 'd_score', 'd_identity', 'd_support', 'j_score', 'j_identity', 'j_support', 'fwr1', 'fwr2', 'fwr3', 'fwr4', 'cdr1', 'cdr2', 'cdr3', 'cell_id', 'c_call', 'consensus_count', 'umi_count', 'v_call_10x', 'd_call_10x', 'j_call_10x', 'junction_10x', 'junction_10x_aa', 'v_call_genotyped', 'germline_alignment_d_mask', 'sample_id', 'j_support_igblastn', 'j_score_igblastn', 'j_call_igblastn', 'j_call_blastn', 'j_identity_blastn', 'j_alignment_length_blastn', 'j_number_of_mismatches_blastn', 'j_number_of_gap_openings_blastn', 'j_sequence_start_blastn', 'j_sequence_end_blastn', 'j_germline_start_blastn', 'j_germline_end_blastn', 'j_support_blastn', 'j_score_blastn', 'j_sequence_alignment_blastn', 'j_germline_alignment_blastn', 'cell_id_blastn', 'j_source', 'd_support_igblastn', 'd_score_igblastn', 'd_call_igblastn', 'd_call_blastn', 'd_identity_blastn', 'd_alignment_length_blastn', 'd_number_of_mismatches_blastn', 'd_number_of_gap_openings_blastn', 'd_sequence_start_blastn', 'd_sequence_end_blastn', 'd_germline_start_blastn', 'd_germline_end_blastn', 'd_support_blastn', 'd_score_blastn', 'd_sequence_alignment_blastn', 'd_germline_alignment_blastn', 'd_source', 'c_sequence_alignment', 'c_germline_alignment', 'c_sequence_start', 'c_sequence_end', 'c_score', 'c_identity', 'c_call_10x', 'junction_aa_length', 'fwr1_aa', 'fwr2_aa', 'fwr3_aa', 'fwr4_aa', 'cdr1_aa', 'cdr2_aa', 'cdr3_aa', 'sequence_alignment_aa', 'v_sequence_alignment_aa', 'd_sequence_alignment_aa', 'j_sequence_alignment_aa', 'mu_count', 'duplicate_count', 'clone_id', 'changeo_clone_id'\n",
       "    metadata: 'clone_id', 'clone_id_by_size', 'sample_id', 'locus_VDJ', 'locus_VJ', 'productive_VDJ', 'productive_VJ', 'v_call_genotyped_VDJ', 'v_call_genotyped_VJ', 'd_call_VDJ', 'j_call_VDJ', 'j_call_VJ', 'c_call_VDJ', 'c_call_VJ', 'duplicate_count_VDJ', 'duplicate_count_VJ', 'duplicate_count_VDJ_1', 'duplicate_count_VJ_1', 'duplicate_count_VDJ_2', 'junction_aa_VDJ', 'junction_aa_VJ', 'locus_status', 'locus_status_summary', 'productive', 'productive_summary', 'isotype', 'isotype_summary', 'vdj_status', 'vdj_status_summary', 'constant_status_summary', 'changeo_clone_id'\n",
       "    edges: 'source', 'target', 'weight'\n",
       "    layout: layout for 2435 vertices, layout for 999 vertices\n",
       "    graph: networkx graph of 2435 vertices, networkx graph of 999 vertices "
      ]
     },
     "execution_count": 10,
     "metadata": {},
     "output_type": "execute_result"
    }
   ],
   "source": [
    "ddl.tl.define_clones(vdj, key_added = 'changeo_clone_id')\n",
    "vdj"
   ]
  },
  {
   "cell_type": "markdown",
   "metadata": {},
   "source": [
    "Note that I specified the option `key_added` and this adds the output from `tl.define_clones` into a separate column. If left as default (`None`), it will write into `clone_id` column. The same option can be specified in `tl.find_clones` earlier."
   ]
  },
  {
   "cell_type": "markdown",
   "metadata": {},
   "source": [
    "## Generation of V(D)J network\n",
    "*dandelion* generates a network to facilitate visualisation of results, inspired from [[Bashford-Rogers13]](https://genome.cshlp.org/content/23/11/1874). This uses the full V(D)J contig sequences instead of just the junctional sequences to chart a tree-like network for each clone. The actual visualization will be achieved through `scanpy` later.\n",
    "\n",
    "**tl.generate_network**\n",
    "\n",
    "First we need to generate the network. `tl.generate_network` will take a V(D)J table that has clones defined, specifically under the `'clone_id'` column. The default mode is to use amino acid sequences for constructing Levenshtein distance matrices, but can be toggled using the `key` option.\n",
    "\n",
    "If you have a pre-processed table parsed from immcantation's [method](https://changeo.readthedocs.io/en/stable/examples/10x.html), or any other method as long as it's in a *AIRR* format, the table can be used as well.\n",
    "\n",
    "You can specify the `clone_key` option for generating the network for the clone id definition of choice as long as it exists as a column in the `.data` slot."
   ]
  },
  {
   "cell_type": "code",
   "execution_count": 11,
   "metadata": {},
   "outputs": [
    {
     "name": "stdout",
     "output_type": "stream",
     "text": [
      "Generating network\n"
     ]
    },
    {
     "name": "stderr",
     "output_type": "stream",
     "text": [
      "Setting up data: 4862it [00:04, 1124.58it/s]\n",
      "Calculating distances... : 100%|██████████| 492/492 [00:00<00:00, 1294.58it/s]\n",
      "Generating edge list : 100%|██████████| 489/489 [00:00<00:00, 1133.43it/s]\n",
      "Computing overlap : 100%|██████████| 1928/1928 [00:02<00:00, 655.00it/s]\n",
      "Linking edges : 100%|██████████| 1925/1925 [00:04<00:00, 433.62it/s]\n"
     ]
    },
    {
     "name": "stdout",
     "output_type": "stream",
     "text": [
      "generating network layout\n",
      " finished: Updated Dandelion object: \n",
      "   'data', contig-indexed clone table\n",
      "   'metadata', cell-indexed clone table\n",
      "   'edges', graph edges\n",
      "   'layout', graph layout\n",
      "   'graph', network constructed from distance matrices of VDJ- and VJ- chains (0:00:59)\n"
     ]
    }
   ],
   "source": [
    "ddl.tl.generate_network(vdj)"
   ]
  },
  {
   "cell_type": "markdown",
   "metadata": {},
   "source": [
    "This step works reasonably fast here but will take quite a while when a lot of contigs are provided (>100k cells may take 1 hour).\n",
    "\n",
    "You can also downsample the number of cells. This will return a new object as a downsampled copy of the original with its own distance matrix."
   ]
  },
  {
   "cell_type": "code",
   "execution_count": 12,
   "metadata": {},
   "outputs": [
    {
     "name": "stdout",
     "output_type": "stream",
     "text": [
      "Generating network\n",
      "Downsampling to 500 cells.\n"
     ]
    },
    {
     "name": "stderr",
     "output_type": "stream",
     "text": [
      "Setting up data: 998it [00:00, 1194.84it/s]\n",
      "Calculating distances... : 100%|██████████| 17/17 [00:00<00:00, 1706.47it/s]\n",
      "Generating edge list : 100%|██████████| 16/16 [00:00<00:00, 1019.10it/s]\n",
      "Computing overlap : 100%|██████████| 483/483 [00:00<00:00, 756.99it/s]\n",
      "Linking edges : 100%|██████████| 482/482 [00:00<00:00, 4441.50it/s]\n"
     ]
    },
    {
     "name": "stdout",
     "output_type": "stream",
     "text": [
      "generating network layout\n",
      " finished: Updated Dandelion object: \n",
      "   'data', contig-indexed clone table\n",
      "   'metadata', cell-indexed clone table\n",
      "   'edges', graph edges\n",
      "   'layout', graph layout\n",
      "   'graph', network constructed from distance matrices of VDJ- and VJ- chains (0:00:09)\n"
     ]
    },
    {
     "data": {
      "text/plain": [
       "Dandelion class object with n_obs = 500 and n_contigs = 998\n",
       "    data: 'sequence_id', 'sequence', 'rev_comp', 'productive', 'v_call', 'd_call', 'j_call', 'sequence_alignment', 'germline_alignment', 'junction', 'junction_aa', 'v_cigar', 'd_cigar', 'j_cigar', 'stop_codon', 'vj_in_frame', 'locus', 'junction_length', 'np1_length', 'np2_length', 'v_sequence_start', 'v_sequence_end', 'v_germline_start', 'v_germline_end', 'd_sequence_start', 'd_sequence_end', 'd_germline_start', 'd_germline_end', 'j_sequence_start', 'j_sequence_end', 'j_germline_start', 'j_germline_end', 'v_score', 'v_identity', 'v_support', 'd_score', 'd_identity', 'd_support', 'j_score', 'j_identity', 'j_support', 'fwr1', 'fwr2', 'fwr3', 'fwr4', 'cdr1', 'cdr2', 'cdr3', 'cell_id', 'c_call', 'consensus_count', 'umi_count', 'v_call_10x', 'd_call_10x', 'j_call_10x', 'junction_10x', 'junction_10x_aa', 'v_call_genotyped', 'germline_alignment_d_mask', 'sample_id', 'j_support_igblastn', 'j_score_igblastn', 'j_call_igblastn', 'j_call_blastn', 'j_identity_blastn', 'j_alignment_length_blastn', 'j_number_of_mismatches_blastn', 'j_number_of_gap_openings_blastn', 'j_sequence_start_blastn', 'j_sequence_end_blastn', 'j_germline_start_blastn', 'j_germline_end_blastn', 'j_support_blastn', 'j_score_blastn', 'j_sequence_alignment_blastn', 'j_germline_alignment_blastn', 'cell_id_blastn', 'j_source', 'd_support_igblastn', 'd_score_igblastn', 'd_call_igblastn', 'd_call_blastn', 'd_identity_blastn', 'd_alignment_length_blastn', 'd_number_of_mismatches_blastn', 'd_number_of_gap_openings_blastn', 'd_sequence_start_blastn', 'd_sequence_end_blastn', 'd_germline_start_blastn', 'd_germline_end_blastn', 'd_support_blastn', 'd_score_blastn', 'd_sequence_alignment_blastn', 'd_germline_alignment_blastn', 'd_source', 'c_sequence_alignment', 'c_germline_alignment', 'c_sequence_start', 'c_sequence_end', 'c_score', 'c_identity', 'c_call_10x', 'junction_aa_length', 'fwr1_aa', 'fwr2_aa', 'fwr3_aa', 'fwr4_aa', 'cdr1_aa', 'cdr2_aa', 'cdr3_aa', 'sequence_alignment_aa', 'v_sequence_alignment_aa', 'd_sequence_alignment_aa', 'j_sequence_alignment_aa', 'mu_count', 'duplicate_count', 'clone_id', 'changeo_clone_id'\n",
       "    metadata: 'clone_id', 'clone_id_by_size', 'sample_id', 'locus_VDJ', 'locus_VJ', 'productive_VDJ', 'productive_VJ', 'v_call_genotyped_VDJ', 'v_call_genotyped_VJ', 'd_call_VDJ', 'j_call_VDJ', 'j_call_VJ', 'c_call_VDJ', 'c_call_VJ', 'duplicate_count_VDJ', 'duplicate_count_VJ', 'duplicate_count_VDJ_1', 'duplicate_count_VJ_1', 'junction_aa_VDJ', 'junction_aa_VJ', 'locus_status', 'locus_status_summary', 'productive', 'productive_summary', 'isotype', 'isotype_summary', 'vdj_status', 'vdj_status_summary', 'constant_status_summary'\n",
       "    edges: 'source', 'target', 'weight'\n",
       "    layout: layout for 500 vertices, layout for 34 vertices\n",
       "    graph: networkx graph of 500 vertices, networkx graph of 34 vertices "
      ]
     },
     "execution_count": 12,
     "metadata": {},
     "output_type": "execute_result"
    }
   ],
   "source": [
    "vdj_downsample = ddl.tl.generate_network(vdj, downsample = 500)\n",
    "vdj_downsample"
   ]
  },
  {
   "cell_type": "markdown",
   "metadata": {},
   "source": [
    "**check the newly re-initialized Dandelion object**"
   ]
  },
  {
   "cell_type": "code",
   "execution_count": 13,
   "metadata": {},
   "outputs": [
    {
     "data": {
      "text/plain": [
       "Dandelion class object with n_obs = 2435 and n_contigs = 4862\n",
       "    data: 'sequence_id', 'sequence', 'rev_comp', 'productive', 'v_call', 'd_call', 'j_call', 'sequence_alignment', 'germline_alignment', 'junction', 'junction_aa', 'v_cigar', 'd_cigar', 'j_cigar', 'stop_codon', 'vj_in_frame', 'locus', 'junction_length', 'np1_length', 'np2_length', 'v_sequence_start', 'v_sequence_end', 'v_germline_start', 'v_germline_end', 'd_sequence_start', 'd_sequence_end', 'd_germline_start', 'd_germline_end', 'j_sequence_start', 'j_sequence_end', 'j_germline_start', 'j_germline_end', 'v_score', 'v_identity', 'v_support', 'd_score', 'd_identity', 'd_support', 'j_score', 'j_identity', 'j_support', 'fwr1', 'fwr2', 'fwr3', 'fwr4', 'cdr1', 'cdr2', 'cdr3', 'cell_id', 'c_call', 'consensus_count', 'umi_count', 'v_call_10x', 'd_call_10x', 'j_call_10x', 'junction_10x', 'junction_10x_aa', 'v_call_genotyped', 'germline_alignment_d_mask', 'sample_id', 'j_support_igblastn', 'j_score_igblastn', 'j_call_igblastn', 'j_call_blastn', 'j_identity_blastn', 'j_alignment_length_blastn', 'j_number_of_mismatches_blastn', 'j_number_of_gap_openings_blastn', 'j_sequence_start_blastn', 'j_sequence_end_blastn', 'j_germline_start_blastn', 'j_germline_end_blastn', 'j_support_blastn', 'j_score_blastn', 'j_sequence_alignment_blastn', 'j_germline_alignment_blastn', 'cell_id_blastn', 'j_source', 'd_support_igblastn', 'd_score_igblastn', 'd_call_igblastn', 'd_call_blastn', 'd_identity_blastn', 'd_alignment_length_blastn', 'd_number_of_mismatches_blastn', 'd_number_of_gap_openings_blastn', 'd_sequence_start_blastn', 'd_sequence_end_blastn', 'd_germline_start_blastn', 'd_germline_end_blastn', 'd_support_blastn', 'd_score_blastn', 'd_sequence_alignment_blastn', 'd_germline_alignment_blastn', 'd_source', 'c_sequence_alignment', 'c_germline_alignment', 'c_sequence_start', 'c_sequence_end', 'c_score', 'c_identity', 'c_call_10x', 'junction_aa_length', 'fwr1_aa', 'fwr2_aa', 'fwr3_aa', 'fwr4_aa', 'cdr1_aa', 'cdr2_aa', 'cdr3_aa', 'sequence_alignment_aa', 'v_sequence_alignment_aa', 'd_sequence_alignment_aa', 'j_sequence_alignment_aa', 'mu_count', 'duplicate_count', 'clone_id', 'changeo_clone_id'\n",
       "    metadata: 'clone_id', 'clone_id_by_size', 'sample_id', 'locus_VDJ', 'locus_VJ', 'productive_VDJ', 'productive_VJ', 'v_call_genotyped_VDJ', 'v_call_genotyped_VJ', 'd_call_VDJ', 'j_call_VDJ', 'j_call_VJ', 'c_call_VDJ', 'c_call_VJ', 'duplicate_count_VDJ', 'duplicate_count_VJ', 'duplicate_count_VDJ_1', 'duplicate_count_VJ_1', 'duplicate_count_VDJ_2', 'junction_aa_VDJ', 'junction_aa_VJ', 'locus_status', 'locus_status_summary', 'productive', 'productive_summary', 'isotype', 'isotype_summary', 'vdj_status', 'vdj_status_summary', 'constant_status_summary', 'changeo_clone_id'\n",
       "    edges: 'source', 'target', 'weight'\n",
       "    layout: layout for 2435 vertices, layout for 999 vertices\n",
       "    graph: networkx graph of 2435 vertices, networkx graph of 999 vertices "
      ]
     },
     "execution_count": 13,
     "metadata": {},
     "output_type": "execute_result"
    }
   ],
   "source": [
    "vdj"
   ]
  },
  {
   "cell_type": "markdown",
   "metadata": {},
   "source": [
    "The graph/networks can be accessed through the `.graph` slot as an [networkx](https://networkx.org/) graph object if you want to extract the data for network statistics or make any changes to the network."
   ]
  },
  {
   "cell_type": "markdown",
   "metadata": {},
   "source": [
    "At this point, we can save the dandelion object; the file can be quite big because the distance matrix is not sparse. I reccomend some form of compression (I use `bzip2` below but that can impact on read/write times significantly). See [here](https://pandas.pydata.org/pandas-docs/stable/reference/api/pandas.DataFrame.to_hdf.html) for options compression options."
   ]
  },
  {
   "cell_type": "code",
   "execution_count": 14,
   "metadata": {},
   "outputs": [],
   "source": [
    "vdj.write_h5ddl('dandelion_results.h5ddl', complib = 'bzip2')"
   ]
  },
  {
   "cell_type": "code",
   "execution_count": null,
   "metadata": {},
   "outputs": [],
   "source": []
  }
 ],
 "metadata": {
  "kernelspec": {
   "display_name": "Python (dandelion)",
   "language": "python",
   "name": "dandelion"
  },
  "language_info": {
   "codemirror_mode": {
    "name": "ipython",
    "version": 3
   },
   "file_extension": ".py",
   "mimetype": "text/x-python",
   "name": "python",
   "nbconvert_exporter": "python",
   "pygments_lexer": "ipython3",
   "version": "3.7.8"
  }
 },
 "nbformat": 4,
 "nbformat_minor": 2
}
