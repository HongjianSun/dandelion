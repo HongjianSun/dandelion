{
 "cells": [
  {
   "cell_type": "markdown",
   "metadata": {},
   "source": [
    "# BCR clustering\n",
    "\n",
    "![dandelion_logo](img/dandelion_logo_illustration.png)\n",
    "\n",
    "On the topic of finding clones/clonotypes, there are many ways used for clustering BCRs, almost all involving some measure based on sequence similarity. There are also a lot of very well established guidelines and criterias maintained by the BCR community. For example, *immcantation* uses a number of model-based [methods](https://changeo.readthedocs.io/en/stable/methods/clustering.html) [[Gupta2015]](https://academic.oup.com/bioinformatics/article/31/20/3356/195677) to group clones based on the distribution of length-normalised junctional hamming distance while others use the whole BCR V(D)J sequence to define clones as shown in this paper [[Bashford-Rogers19]](https://www.nature.com/articles/s41586-019-1595-3)."
   ]
  },
  {
   "cell_type": "markdown",
   "metadata": {},
   "source": [
    "***Import modules***"
   ]
  },
  {
   "cell_type": "code",
   "execution_count": 1,
   "metadata": {
    "scrolled": true
   },
   "outputs": [
    {
     "name": "stdout",
     "output_type": "stream",
     "text": [
      "dandelion==0.2.4.dev2 pandas==1.4.2 numpy==1.21.6 matplotlib==3.5.2 networkx==2.8.4 scipy==1.8.1\n"
     ]
    }
   ],
   "source": [
    "import os\n",
    "import pandas as pd\n",
    "import dandelion as ddl\n",
    "ddl.logging.print_header()"
   ]
  },
  {
   "cell_type": "code",
   "execution_count": 2,
   "metadata": {
    "scrolled": true
   },
   "outputs": [
    {
     "name": "stdout",
     "output_type": "stream",
     "text": [
      "scanpy==1.9.1 anndata==0.8.0 umap==0.5.3 numpy==1.21.6 scipy==1.8.1 pandas==1.4.2 scikit-learn==1.1.1 statsmodels==0.13.2 python-igraph==0.9.11 pynndescent==0.5.7\n"
     ]
    }
   ],
   "source": [
    "# change directory to somewhere more workable\n",
    "os.chdir(os.path.expanduser('/Users/kt16/Downloads/dandelion_tutorial/'))\n",
    "# I'm importing scanpy here to make use of its logging module.\n",
    "import scanpy as sc\n",
    "sc.settings.verbosity = 3\n",
    "import warnings\n",
    "warnings.filterwarnings('ignore')\n",
    "sc.logging.print_header()"
   ]
  },
  {
   "cell_type": "markdown",
   "metadata": {},
   "source": [
    "***Read in the previously saved files***\n",
    "\n",
    "I will work with the same example from the previous section since I have the filtered V(D)J data stored in a `Dandelion` class."
   ]
  },
  {
   "cell_type": "code",
   "execution_count": 3,
   "metadata": {
    "scrolled": true
   },
   "outputs": [
    {
     "data": {
      "text/plain": [
       "Dandelion class object with n_obs = 2545 and n_contigs = 5216\n",
       "    data: 'sequence_id', 'sequence', 'rev_comp', 'productive', 'v_call', 'd_call', 'j_call', 'sequence_alignment', 'germline_alignment', 'junction', 'junction_aa', 'v_cigar', 'd_cigar', 'j_cigar', 'stop_codon', 'vj_in_frame', 'locus', 'junction_length', 'np1_length', 'np2_length', 'v_sequence_start', 'v_sequence_end', 'v_germline_start', 'v_germline_end', 'd_sequence_start', 'd_sequence_end', 'd_germline_start', 'd_germline_end', 'j_sequence_start', 'j_sequence_end', 'j_germline_start', 'j_germline_end', 'v_score', 'v_identity', 'v_support', 'd_score', 'd_identity', 'd_support', 'j_score', 'j_identity', 'j_support', 'fwr1', 'fwr2', 'fwr3', 'fwr4', 'cdr1', 'cdr2', 'cdr3', 'cell_id', 'c_call', 'consensus_count', 'duplicate_count', 'v_call_10x', 'd_call_10x', 'j_call_10x', 'junction_10x', 'junction_10x_aa', 'v_call_genotyped', 'germline_alignment_d_mask', 'sample_id', 'j_support_igblastn', 'j_score_igblastn', 'j_call_igblastn', 'j_call_blastn', 'j_identity_blastn', 'j_alignment_length_blastn', 'j_number_of_mismatches_blastn', 'j_number_of_gap_openings_blastn', 'j_sequence_start_blastn', 'j_sequence_end_blastn', 'j_germline_start_blastn', 'j_germline_end_blastn', 'j_support_blastn', 'j_score_blastn', 'j_sequence_alignment_blastn', 'j_germline_alignment_blastn', 'cell_id_blastn', 'j_source', 'd_support_igblastn', 'd_score_igblastn', 'd_call_igblastn', 'd_call_blastn', 'd_identity_blastn', 'd_alignment_length_blastn', 'd_number_of_mismatches_blastn', 'd_number_of_gap_openings_blastn', 'd_sequence_start_blastn', 'd_sequence_end_blastn', 'd_germline_start_blastn', 'd_germline_end_blastn', 'd_support_blastn', 'd_score_blastn', 'd_sequence_alignment_blastn', 'd_germline_alignment_blastn', 'd_source', 'c_sequence_alignment', 'c_germline_alignment', 'c_sequence_start', 'c_sequence_end', 'c_score', 'c_identity', 'c_call_10x', 'junction_aa_length', 'fwr1_aa', 'fwr2_aa', 'fwr3_aa', 'fwr4_aa', 'cdr1_aa', 'cdr2_aa', 'cdr3_aa', 'sequence_alignment_aa', 'v_sequence_alignment_aa', 'd_sequence_alignment_aa', 'j_sequence_alignment_aa', 'mu_count', 'umi_count'\n",
       "    metadata: 'sample_id', 'locus_VDJ', 'locus_VJ', 'productive_VDJ', 'productive_VJ', 'v_call_genotyped_VDJ', 'v_call_genotyped_VJ', 'd_call_VDJ', 'j_call_VDJ', 'j_call_VJ', 'c_call_VDJ', 'c_call_VJ', 'duplicate_count_VDJ', 'duplicate_count_VJ', 'duplicate_count_VDJ_1', 'duplicate_count_VJ_1', 'duplicate_count_VJ_2', 'duplicate_count_VDJ_2', 'junction_VDJ', 'junction_VJ', 'junction_aa_VDJ', 'junction_aa_VJ', 'isotype', 'isotype_status', 'locus_status', 'productive_status', 'rearrangement_VDJ_status', 'rearrangement_VJ_status', 'constant_VDJ_status', 'constant_VJ_status'\n",
       "    edges: None\n",
       "    layout: None\n",
       "    graph: None"
      ]
     },
     "execution_count": 3,
     "metadata": {},
     "output_type": "execute_result"
    }
   ],
   "source": [
    "vdj = ddl.read_h5ddl('dandelion_results.h5ddl')\n",
    "vdj"
   ]
  },
  {
   "cell_type": "markdown",
   "metadata": {},
   "source": [
    "## Finding clones\n",
    "\n",
    "The following is *dandelion*'s implementation of a rather conventional method to define clones, `tl.find_clones`. \n",
    "\n",
    "Clone definition is based on the following criterias:\n",
    "\n",
    "    (1) Identical V- and J-gene usage in the VDJ chain (IGH/TRB/TRD).\n",
    "\n",
    "    (2) Identical CDR3 junctional/CDR3 sequence length in the VDJ chain.\n",
    "\n",
    "    (3) VDJ chain junctional/CDR3 sequences attains a minimum of % sequence similarity, based on hamming distance. The similarity cut-off is tunable (default is 85%; change to 100% if analyzing TCR data).\n",
    "\n",
    "    (4) VJ chain (IGK/IGL/TRA/TRG) usage. If cells within clones use different VJ chains, the clone will be splitted following the same conditions for VDJ chains in (1-3) as above.\n",
    "    \n",
    "\n",
    "The 'clone_id' name follows a `{A}_{B}_{C}_{D}_{E}_{F}` format and largely reflects the conditions above where:\n",
    "\n",
    "    {A} indicates if the contigs use the same V and J genes in the VDJ chain.\n",
    "    \n",
    "    {B} indicates if junctional/CDR3 sequences are equal in length in the VJ chain.\n",
    "    \n",
    "    {C} indicates if clones are splitted based on junctional/CDR3 hamming distance threshold (for VDJ chain).\n",
    "    \n",
    "    {D} indicates if the contigs use the same V and J genes in the VJ chain.\n",
    "    \n",
    "    {E} indicates if junctional/CDR3 sequences are equal in length in the VJ chain.\n",
    "    \n",
    "    {F} indicates if clones are splitted based on junctional/CDR3 hamming distance threshold (for VJ chain).\n",
    "\n",
    "If `collapse_label = True`, then instead of a 6-part format i.e. `{A}_{B}_{C}_{D}_{E}_{F}`, it becomes 4 parts:\n",
    "\n",
    "    {A} indicates if the contigs use the same V and J genes in the VDJ chain.\n",
    "    \n",
    "    {B} indicates if junctional/CDR3 sequences are equal in length in the VDJ chain.\n",
    "    \n",
    "    {C} indicates if clones are splitted based on junctional/CDR3 hamming distance threshold (for VDJ chain).\n",
    "    \n",
    "    {D} a single global number indicating VJ chain pairing. \n",
    "    \n",
    "The last position will not be annotated if there's only one group of light chains usage detected in the clone."
   ]
  },
  {
   "cell_type": "markdown",
   "metadata": {},
   "source": [
    "### Running `tl.find_clones`\n",
    "The function will take a file path, a pandas `DataFrame` (for example if you've used pandas to read in the filtered file already), or a `Dandelion` class object. The default mode for calculation of junctional hamming distance is to use the CDR3 junction amino acid sequences, specified via the `key` option (`None` defaults to `junction_aa`). You can switch it to using CDR3 junction nucleotide sequences (`key = 'junction'`), or even the full V(D)J amino acid sequence (`key = 'sequence_alignment_aa`), as long as the column name exists in the `.data` slot.\n",
    "\n",
    "If you want to use the alleles for defining V-J gene usuage, specify:\n",
    "```python\n",
    "by_alleles = True\n",
    "```\n",
    "\n",
    "Clustering TCR is potentially possible with the same setup, although some parameters may need to be tweaked."
   ]
  },
  {
   "cell_type": "code",
   "execution_count": 4,
   "metadata": {
    "scrolled": false
   },
   "outputs": [
    {
     "name": "stdout",
     "output_type": "stream",
     "text": [
      "Finding clonotypes\n"
     ]
    },
    {
     "name": "stderr",
     "output_type": "stream",
     "text": [
      "Finding clones based on VDJ chains : 100%|█████████████████████████████████████████████████████████████████████████████████████████████████████████████████| 217/217 [00:00<00:00, 1253.14it/s]\n",
      "Refining clone assignment based on VJ chain pairing : 100%|████████████████████████████████████████████████████████████████████████████████████████████| 2545/2545 [00:00<00:00, 548507.46it/s]\n"
     ]
    },
    {
     "name": "stdout",
     "output_type": "stream",
     "text": [
      " finished: Updated Dandelion object: \n",
      "   'data', contig-indexed clone table\n",
      "   'metadata', cell-indexed clone table\n",
      " (0:00:00)\n"
     ]
    },
    {
     "data": {
      "text/plain": [
       "Dandelion class object with n_obs = 2545 and n_contigs = 5216\n",
       "    data: 'sequence_id', 'sequence', 'rev_comp', 'productive', 'v_call', 'd_call', 'j_call', 'sequence_alignment', 'germline_alignment', 'junction', 'junction_aa', 'v_cigar', 'd_cigar', 'j_cigar', 'stop_codon', 'vj_in_frame', 'locus', 'junction_length', 'np1_length', 'np2_length', 'v_sequence_start', 'v_sequence_end', 'v_germline_start', 'v_germline_end', 'd_sequence_start', 'd_sequence_end', 'd_germline_start', 'd_germline_end', 'j_sequence_start', 'j_sequence_end', 'j_germline_start', 'j_germline_end', 'v_score', 'v_identity', 'v_support', 'd_score', 'd_identity', 'd_support', 'j_score', 'j_identity', 'j_support', 'fwr1', 'fwr2', 'fwr3', 'fwr4', 'cdr1', 'cdr2', 'cdr3', 'cell_id', 'c_call', 'consensus_count', 'duplicate_count', 'v_call_10x', 'd_call_10x', 'j_call_10x', 'junction_10x', 'junction_10x_aa', 'v_call_genotyped', 'germline_alignment_d_mask', 'sample_id', 'j_support_igblastn', 'j_score_igblastn', 'j_call_igblastn', 'j_call_blastn', 'j_identity_blastn', 'j_alignment_length_blastn', 'j_number_of_mismatches_blastn', 'j_number_of_gap_openings_blastn', 'j_sequence_start_blastn', 'j_sequence_end_blastn', 'j_germline_start_blastn', 'j_germline_end_blastn', 'j_support_blastn', 'j_score_blastn', 'j_sequence_alignment_blastn', 'j_germline_alignment_blastn', 'cell_id_blastn', 'j_source', 'd_support_igblastn', 'd_score_igblastn', 'd_call_igblastn', 'd_call_blastn', 'd_identity_blastn', 'd_alignment_length_blastn', 'd_number_of_mismatches_blastn', 'd_number_of_gap_openings_blastn', 'd_sequence_start_blastn', 'd_sequence_end_blastn', 'd_germline_start_blastn', 'd_germline_end_blastn', 'd_support_blastn', 'd_score_blastn', 'd_sequence_alignment_blastn', 'd_germline_alignment_blastn', 'd_source', 'c_sequence_alignment', 'c_germline_alignment', 'c_sequence_start', 'c_sequence_end', 'c_score', 'c_identity', 'c_call_10x', 'junction_aa_length', 'fwr1_aa', 'fwr2_aa', 'fwr3_aa', 'fwr4_aa', 'cdr1_aa', 'cdr2_aa', 'cdr3_aa', 'sequence_alignment_aa', 'v_sequence_alignment_aa', 'd_sequence_alignment_aa', 'j_sequence_alignment_aa', 'mu_count', 'umi_count', 'clone_id'\n",
       "    metadata: 'clone_id', 'clone_id_by_size', 'sample_id', 'locus_VDJ', 'locus_VJ', 'productive_VDJ', 'productive_VJ', 'v_call_genotyped_VDJ', 'v_call_genotyped_VJ', 'd_call_VDJ', 'j_call_VDJ', 'j_call_VJ', 'c_call_VDJ', 'c_call_VJ', 'duplicate_count_VDJ', 'duplicate_count_VJ', 'duplicate_count_VDJ_1', 'duplicate_count_VJ_1', 'duplicate_count_VJ_2', 'duplicate_count_VDJ_2', 'junction_VDJ', 'junction_VJ', 'junction_aa_VDJ', 'junction_aa_VJ', 'isotype', 'isotype_status', 'locus_status', 'productive_status', 'rearrangement_VDJ_status', 'rearrangement_VJ_status', 'constant_VDJ_status', 'constant_VJ_status'\n",
       "    edges: None\n",
       "    layout: None\n",
       "    graph: None"
      ]
     },
     "execution_count": 4,
     "metadata": {},
     "output_type": "execute_result"
    }
   ],
   "source": [
    "ddl.tl.find_clones(vdj)\n",
    "vdj"
   ]
  },
  {
   "cell_type": "markdown",
   "metadata": {},
   "source": [
    "This will return a new column with the column name `'clone_id'` as per convention. If a file path is provided as input, it will also save the file automatically into the base directory of the file name. Otherwise, a `Dandelion` object will be returned."
   ]
  },
  {
   "cell_type": "code",
   "execution_count": 5,
   "metadata": {},
   "outputs": [
    {
     "data": {
      "text/html": [
       "<div>\n",
       "<style scoped>\n",
       "    .dataframe tbody tr th:only-of-type {\n",
       "        vertical-align: middle;\n",
       "    }\n",
       "\n",
       "    .dataframe tbody tr th {\n",
       "        vertical-align: top;\n",
       "    }\n",
       "\n",
       "    .dataframe thead th {\n",
       "        text-align: right;\n",
       "    }\n",
       "</style>\n",
       "<table border=\"1\" class=\"dataframe\">\n",
       "  <thead>\n",
       "    <tr style=\"text-align: right;\">\n",
       "      <th></th>\n",
       "      <th>clone_id</th>\n",
       "      <th>clone_id_by_size</th>\n",
       "      <th>sample_id</th>\n",
       "      <th>locus_VDJ</th>\n",
       "      <th>locus_VJ</th>\n",
       "      <th>productive_VDJ</th>\n",
       "      <th>productive_VJ</th>\n",
       "      <th>v_call_genotyped_VDJ</th>\n",
       "      <th>v_call_genotyped_VJ</th>\n",
       "      <th>d_call_VDJ</th>\n",
       "      <th>...</th>\n",
       "      <th>junction_aa_VDJ</th>\n",
       "      <th>junction_aa_VJ</th>\n",
       "      <th>isotype</th>\n",
       "      <th>isotype_status</th>\n",
       "      <th>locus_status</th>\n",
       "      <th>productive_status</th>\n",
       "      <th>rearrangement_VDJ_status</th>\n",
       "      <th>rearrangement_VJ_status</th>\n",
       "      <th>constant_VDJ_status</th>\n",
       "      <th>constant_VJ_status</th>\n",
       "    </tr>\n",
       "  </thead>\n",
       "  <tbody>\n",
       "    <tr>\n",
       "      <th>sc5p_v2_hs_PBMC_10k_AAACCTGTCCGTTGTC</th>\n",
       "      <td>182_3_2_1_2_2</td>\n",
       "      <td>1327</td>\n",
       "      <td>sc5p_v2_hs_PBMC_10k</td>\n",
       "      <td>IGH</td>\n",
       "      <td>IGK</td>\n",
       "      <td>T</td>\n",
       "      <td>T</td>\n",
       "      <td>IGHV1-69</td>\n",
       "      <td>IGKV1-8</td>\n",
       "      <td>IGHD3-22</td>\n",
       "      <td>...</td>\n",
       "      <td>CATTYYYDSSGYYQNDAFDIW</td>\n",
       "      <td>CQQYYSYPRTF</td>\n",
       "      <td>IgM</td>\n",
       "      <td>IgM</td>\n",
       "      <td>IGH + IGK</td>\n",
       "      <td>T + T</td>\n",
       "      <td>Single</td>\n",
       "      <td>Single</td>\n",
       "      <td>Single</td>\n",
       "      <td>Single</td>\n",
       "    </tr>\n",
       "    <tr>\n",
       "      <th>sc5p_v2_hs_PBMC_10k_AAACCTGTCGAGAACG</th>\n",
       "      <td>113_1_1_44_1_1</td>\n",
       "      <td>1852</td>\n",
       "      <td>sc5p_v2_hs_PBMC_10k</td>\n",
       "      <td>IGH</td>\n",
       "      <td>IGL</td>\n",
       "      <td>T</td>\n",
       "      <td>T</td>\n",
       "      <td>IGHV1-2</td>\n",
       "      <td>IGLV5-45</td>\n",
       "      <td>None</td>\n",
       "      <td>...</td>\n",
       "      <td>CAREIEGDGVFEIW</td>\n",
       "      <td>CMIWHSSAWVV</td>\n",
       "      <td>IgM</td>\n",
       "      <td>IgM</td>\n",
       "      <td>IGH + IGL</td>\n",
       "      <td>T + T</td>\n",
       "      <td>Multi</td>\n",
       "      <td>Single</td>\n",
       "      <td>Single</td>\n",
       "      <td>Single</td>\n",
       "    </tr>\n",
       "    <tr>\n",
       "      <th>sc5p_v2_hs_PBMC_10k_AAACCTGTCTTGAGAC</th>\n",
       "      <td>135_4_1_192_1_1</td>\n",
       "      <td>1602</td>\n",
       "      <td>sc5p_v2_hs_PBMC_10k</td>\n",
       "      <td>IGH</td>\n",
       "      <td>IGK</td>\n",
       "      <td>T</td>\n",
       "      <td>T</td>\n",
       "      <td>IGHV5-51</td>\n",
       "      <td>IGKV1D-8</td>\n",
       "      <td>None</td>\n",
       "      <td>...</td>\n",
       "      <td>CARHIRGNRFGNDAFDIW</td>\n",
       "      <td>CQQYYSFPYTF</td>\n",
       "      <td>IgM</td>\n",
       "      <td>IgM</td>\n",
       "      <td>IGH + IGK</td>\n",
       "      <td>T + T</td>\n",
       "      <td>Multi</td>\n",
       "      <td>Single</td>\n",
       "      <td>Single</td>\n",
       "      <td>Single</td>\n",
       "    </tr>\n",
       "    <tr>\n",
       "      <th>sc5p_v2_hs_PBMC_10k_AAACGGGAGCGACGTA</th>\n",
       "      <td>183_1_1_107_2_7</td>\n",
       "      <td>1601</td>\n",
       "      <td>sc5p_v2_hs_PBMC_10k</td>\n",
       "      <td>IGH</td>\n",
       "      <td>IGL</td>\n",
       "      <td>T</td>\n",
       "      <td>T</td>\n",
       "      <td>IGHV4-4</td>\n",
       "      <td>IGLV3-19</td>\n",
       "      <td>IGHD6-13</td>\n",
       "      <td>...</td>\n",
       "      <td>CARVGYRAAAGTDAFDIW</td>\n",
       "      <td>CNSRDSSGNHVVF</td>\n",
       "      <td>IgM</td>\n",
       "      <td>IgM</td>\n",
       "      <td>IGH + IGL</td>\n",
       "      <td>T + T</td>\n",
       "      <td>Single</td>\n",
       "      <td>Single</td>\n",
       "      <td>Single</td>\n",
       "      <td>Single</td>\n",
       "    </tr>\n",
       "    <tr>\n",
       "      <th>sc5p_v2_hs_PBMC_10k_AAACGGGCACTGTTAG</th>\n",
       "      <td>213_2_3_147_4_4</td>\n",
       "      <td>1600</td>\n",
       "      <td>sc5p_v2_hs_PBMC_10k</td>\n",
       "      <td>IGH</td>\n",
       "      <td>IGL</td>\n",
       "      <td>T</td>\n",
       "      <td>T</td>\n",
       "      <td>IGHV4-39</td>\n",
       "      <td>IGLV3-21</td>\n",
       "      <td>IGHD3-22</td>\n",
       "      <td>...</td>\n",
       "      <td>CARRLITMIEGGAFDIW</td>\n",
       "      <td>CQVWDSSSDHVVF</td>\n",
       "      <td>IgM</td>\n",
       "      <td>IgM</td>\n",
       "      <td>IGH + IGL</td>\n",
       "      <td>T + T</td>\n",
       "      <td>Single</td>\n",
       "      <td>Single</td>\n",
       "      <td>Single</td>\n",
       "      <td>Single</td>\n",
       "    </tr>\n",
       "    <tr>\n",
       "      <th>...</th>\n",
       "      <td>...</td>\n",
       "      <td>...</td>\n",
       "      <td>...</td>\n",
       "      <td>...</td>\n",
       "      <td>...</td>\n",
       "      <td>...</td>\n",
       "      <td>...</td>\n",
       "      <td>...</td>\n",
       "      <td>...</td>\n",
       "      <td>...</td>\n",
       "      <td>...</td>\n",
       "      <td>...</td>\n",
       "      <td>...</td>\n",
       "      <td>...</td>\n",
       "      <td>...</td>\n",
       "      <td>...</td>\n",
       "      <td>...</td>\n",
       "      <td>...</td>\n",
       "      <td>...</td>\n",
       "      <td>...</td>\n",
       "      <td>...</td>\n",
       "    </tr>\n",
       "    <tr>\n",
       "      <th>vdj_v1_hs_pbmc3_TTTCCTCAGCAATATG</th>\n",
       "      <td>84_2_1_57_2_6</td>\n",
       "      <td>380</td>\n",
       "      <td>vdj_v1_hs_pbmc3</td>\n",
       "      <td>IGH</td>\n",
       "      <td>IGK</td>\n",
       "      <td>T</td>\n",
       "      <td>T</td>\n",
       "      <td>IGHV2-5</td>\n",
       "      <td>IGKV4-1</td>\n",
       "      <td>IGHD5/OR15-5b,IGHD5/OR15-5a</td>\n",
       "      <td>...</td>\n",
       "      <td>CVYDSAAVKW</td>\n",
       "      <td>CQQYYTTPLTF</td>\n",
       "      <td>IgM</td>\n",
       "      <td>IgM</td>\n",
       "      <td>IGH + IGK</td>\n",
       "      <td>T + T</td>\n",
       "      <td>Single</td>\n",
       "      <td>Single</td>\n",
       "      <td>Single</td>\n",
       "      <td>Single</td>\n",
       "    </tr>\n",
       "    <tr>\n",
       "      <th>vdj_v1_hs_pbmc3_TTTCCTCAGCGCTTAT</th>\n",
       "      <td>129_5_6_98_1_3</td>\n",
       "      <td>381</td>\n",
       "      <td>vdj_v1_hs_pbmc3</td>\n",
       "      <td>IGH</td>\n",
       "      <td>IGK</td>\n",
       "      <td>T</td>\n",
       "      <td>T</td>\n",
       "      <td>IGHV3-30</td>\n",
       "      <td>IGKV2-30</td>\n",
       "      <td>IGHD4-17</td>\n",
       "      <td>...</td>\n",
       "      <td>CAKAAYGEGLRYYYYGMDVW</td>\n",
       "      <td>CMQGTHWPYTF</td>\n",
       "      <td>IgM</td>\n",
       "      <td>IgM</td>\n",
       "      <td>IGH + IGK</td>\n",
       "      <td>T + T</td>\n",
       "      <td>Single</td>\n",
       "      <td>Single</td>\n",
       "      <td>Single</td>\n",
       "      <td>Single</td>\n",
       "    </tr>\n",
       "    <tr>\n",
       "      <th>vdj_v1_hs_pbmc3_TTTCCTCAGGGAAACA</th>\n",
       "      <td>180_1_1_181_4_13</td>\n",
       "      <td>382</td>\n",
       "      <td>vdj_v1_hs_pbmc3</td>\n",
       "      <td>IGH</td>\n",
       "      <td>IGK</td>\n",
       "      <td>T</td>\n",
       "      <td>T</td>\n",
       "      <td>IGHV4-59</td>\n",
       "      <td>IGKV1-39,IGKV1D-39</td>\n",
       "      <td>IGHD6-13</td>\n",
       "      <td>...</td>\n",
       "      <td>CARPRIAGSGWYFDLW</td>\n",
       "      <td>CQQSYSTPWTF</td>\n",
       "      <td>IgM</td>\n",
       "      <td>IgM</td>\n",
       "      <td>IGH + IGK</td>\n",
       "      <td>T + T</td>\n",
       "      <td>Single</td>\n",
       "      <td>Single</td>\n",
       "      <td>Single</td>\n",
       "      <td>Single</td>\n",
       "    </tr>\n",
       "    <tr>\n",
       "      <th>vdj_v1_hs_pbmc3_TTTGCGCCATACCATG</th>\n",
       "      <td>121_6_2_6_2_3</td>\n",
       "      <td>383</td>\n",
       "      <td>vdj_v1_hs_pbmc3</td>\n",
       "      <td>IGH</td>\n",
       "      <td>IGL</td>\n",
       "      <td>T</td>\n",
       "      <td>T</td>\n",
       "      <td>IGHV1-69</td>\n",
       "      <td>IGLV1-47</td>\n",
       "      <td>IGHD2-15</td>\n",
       "      <td>...</td>\n",
       "      <td>CARSLDIVVVVALYYYYGMDVW</td>\n",
       "      <td>CAAWDDSLSGWVF</td>\n",
       "      <td>IgM</td>\n",
       "      <td>IgM</td>\n",
       "      <td>IGH + IGL</td>\n",
       "      <td>T + T</td>\n",
       "      <td>Single</td>\n",
       "      <td>Single</td>\n",
       "      <td>Single</td>\n",
       "      <td>Single</td>\n",
       "    </tr>\n",
       "    <tr>\n",
       "      <th>vdj_v1_hs_pbmc3_TTTGGTTGTAGGCATG</th>\n",
       "      <td>82_5_7_122_3_4</td>\n",
       "      <td>384</td>\n",
       "      <td>vdj_v1_hs_pbmc3</td>\n",
       "      <td>IGH</td>\n",
       "      <td>IGL</td>\n",
       "      <td>T</td>\n",
       "      <td>T</td>\n",
       "      <td>IGHV3-23</td>\n",
       "      <td>IGLV2-11</td>\n",
       "      <td>None</td>\n",
       "      <td>...</td>\n",
       "      <td>CAGSRWLYSFDYW</td>\n",
       "      <td>CCSYAGSYTVFF</td>\n",
       "      <td>IgM</td>\n",
       "      <td>IgM</td>\n",
       "      <td>IGH + IGL</td>\n",
       "      <td>T + T</td>\n",
       "      <td>Multi</td>\n",
       "      <td>Single</td>\n",
       "      <td>Single</td>\n",
       "      <td>Single</td>\n",
       "    </tr>\n",
       "  </tbody>\n",
       "</table>\n",
       "<p>2545 rows × 32 columns</p>\n",
       "</div>"
      ],
      "text/plain": [
       "                                              clone_id clone_id_by_size  \\\n",
       "sc5p_v2_hs_PBMC_10k_AAACCTGTCCGTTGTC     182_3_2_1_2_2             1327   \n",
       "sc5p_v2_hs_PBMC_10k_AAACCTGTCGAGAACG    113_1_1_44_1_1             1852   \n",
       "sc5p_v2_hs_PBMC_10k_AAACCTGTCTTGAGAC   135_4_1_192_1_1             1602   \n",
       "sc5p_v2_hs_PBMC_10k_AAACGGGAGCGACGTA   183_1_1_107_2_7             1601   \n",
       "sc5p_v2_hs_PBMC_10k_AAACGGGCACTGTTAG   213_2_3_147_4_4             1600   \n",
       "...                                                ...              ...   \n",
       "vdj_v1_hs_pbmc3_TTTCCTCAGCAATATG         84_2_1_57_2_6              380   \n",
       "vdj_v1_hs_pbmc3_TTTCCTCAGCGCTTAT        129_5_6_98_1_3              381   \n",
       "vdj_v1_hs_pbmc3_TTTCCTCAGGGAAACA      180_1_1_181_4_13              382   \n",
       "vdj_v1_hs_pbmc3_TTTGCGCCATACCATG         121_6_2_6_2_3              383   \n",
       "vdj_v1_hs_pbmc3_TTTGGTTGTAGGCATG        82_5_7_122_3_4              384   \n",
       "\n",
       "                                                sample_id locus_VDJ locus_VJ  \\\n",
       "sc5p_v2_hs_PBMC_10k_AAACCTGTCCGTTGTC  sc5p_v2_hs_PBMC_10k       IGH      IGK   \n",
       "sc5p_v2_hs_PBMC_10k_AAACCTGTCGAGAACG  sc5p_v2_hs_PBMC_10k       IGH      IGL   \n",
       "sc5p_v2_hs_PBMC_10k_AAACCTGTCTTGAGAC  sc5p_v2_hs_PBMC_10k       IGH      IGK   \n",
       "sc5p_v2_hs_PBMC_10k_AAACGGGAGCGACGTA  sc5p_v2_hs_PBMC_10k       IGH      IGL   \n",
       "sc5p_v2_hs_PBMC_10k_AAACGGGCACTGTTAG  sc5p_v2_hs_PBMC_10k       IGH      IGL   \n",
       "...                                                   ...       ...      ...   \n",
       "vdj_v1_hs_pbmc3_TTTCCTCAGCAATATG          vdj_v1_hs_pbmc3       IGH      IGK   \n",
       "vdj_v1_hs_pbmc3_TTTCCTCAGCGCTTAT          vdj_v1_hs_pbmc3       IGH      IGK   \n",
       "vdj_v1_hs_pbmc3_TTTCCTCAGGGAAACA          vdj_v1_hs_pbmc3       IGH      IGK   \n",
       "vdj_v1_hs_pbmc3_TTTGCGCCATACCATG          vdj_v1_hs_pbmc3       IGH      IGL   \n",
       "vdj_v1_hs_pbmc3_TTTGGTTGTAGGCATG          vdj_v1_hs_pbmc3       IGH      IGL   \n",
       "\n",
       "                                     productive_VDJ productive_VJ  \\\n",
       "sc5p_v2_hs_PBMC_10k_AAACCTGTCCGTTGTC              T             T   \n",
       "sc5p_v2_hs_PBMC_10k_AAACCTGTCGAGAACG              T             T   \n",
       "sc5p_v2_hs_PBMC_10k_AAACCTGTCTTGAGAC              T             T   \n",
       "sc5p_v2_hs_PBMC_10k_AAACGGGAGCGACGTA              T             T   \n",
       "sc5p_v2_hs_PBMC_10k_AAACGGGCACTGTTAG              T             T   \n",
       "...                                             ...           ...   \n",
       "vdj_v1_hs_pbmc3_TTTCCTCAGCAATATG                  T             T   \n",
       "vdj_v1_hs_pbmc3_TTTCCTCAGCGCTTAT                  T             T   \n",
       "vdj_v1_hs_pbmc3_TTTCCTCAGGGAAACA                  T             T   \n",
       "vdj_v1_hs_pbmc3_TTTGCGCCATACCATG                  T             T   \n",
       "vdj_v1_hs_pbmc3_TTTGGTTGTAGGCATG                  T             T   \n",
       "\n",
       "                                     v_call_genotyped_VDJ v_call_genotyped_VJ  \\\n",
       "sc5p_v2_hs_PBMC_10k_AAACCTGTCCGTTGTC             IGHV1-69             IGKV1-8   \n",
       "sc5p_v2_hs_PBMC_10k_AAACCTGTCGAGAACG              IGHV1-2            IGLV5-45   \n",
       "sc5p_v2_hs_PBMC_10k_AAACCTGTCTTGAGAC             IGHV5-51            IGKV1D-8   \n",
       "sc5p_v2_hs_PBMC_10k_AAACGGGAGCGACGTA              IGHV4-4            IGLV3-19   \n",
       "sc5p_v2_hs_PBMC_10k_AAACGGGCACTGTTAG             IGHV4-39            IGLV3-21   \n",
       "...                                                   ...                 ...   \n",
       "vdj_v1_hs_pbmc3_TTTCCTCAGCAATATG                  IGHV2-5             IGKV4-1   \n",
       "vdj_v1_hs_pbmc3_TTTCCTCAGCGCTTAT                 IGHV3-30            IGKV2-30   \n",
       "vdj_v1_hs_pbmc3_TTTCCTCAGGGAAACA                 IGHV4-59  IGKV1-39,IGKV1D-39   \n",
       "vdj_v1_hs_pbmc3_TTTGCGCCATACCATG                 IGHV1-69            IGLV1-47   \n",
       "vdj_v1_hs_pbmc3_TTTGGTTGTAGGCATG                 IGHV3-23            IGLV2-11   \n",
       "\n",
       "                                                       d_call_VDJ  ...  \\\n",
       "sc5p_v2_hs_PBMC_10k_AAACCTGTCCGTTGTC                     IGHD3-22  ...   \n",
       "sc5p_v2_hs_PBMC_10k_AAACCTGTCGAGAACG                         None  ...   \n",
       "sc5p_v2_hs_PBMC_10k_AAACCTGTCTTGAGAC                         None  ...   \n",
       "sc5p_v2_hs_PBMC_10k_AAACGGGAGCGACGTA                     IGHD6-13  ...   \n",
       "sc5p_v2_hs_PBMC_10k_AAACGGGCACTGTTAG                     IGHD3-22  ...   \n",
       "...                                                           ...  ...   \n",
       "vdj_v1_hs_pbmc3_TTTCCTCAGCAATATG      IGHD5/OR15-5b,IGHD5/OR15-5a  ...   \n",
       "vdj_v1_hs_pbmc3_TTTCCTCAGCGCTTAT                         IGHD4-17  ...   \n",
       "vdj_v1_hs_pbmc3_TTTCCTCAGGGAAACA                         IGHD6-13  ...   \n",
       "vdj_v1_hs_pbmc3_TTTGCGCCATACCATG                         IGHD2-15  ...   \n",
       "vdj_v1_hs_pbmc3_TTTGGTTGTAGGCATG                             None  ...   \n",
       "\n",
       "                                             junction_aa_VDJ junction_aa_VJ  \\\n",
       "sc5p_v2_hs_PBMC_10k_AAACCTGTCCGTTGTC   CATTYYYDSSGYYQNDAFDIW    CQQYYSYPRTF   \n",
       "sc5p_v2_hs_PBMC_10k_AAACCTGTCGAGAACG          CAREIEGDGVFEIW    CMIWHSSAWVV   \n",
       "sc5p_v2_hs_PBMC_10k_AAACCTGTCTTGAGAC      CARHIRGNRFGNDAFDIW    CQQYYSFPYTF   \n",
       "sc5p_v2_hs_PBMC_10k_AAACGGGAGCGACGTA      CARVGYRAAAGTDAFDIW  CNSRDSSGNHVVF   \n",
       "sc5p_v2_hs_PBMC_10k_AAACGGGCACTGTTAG       CARRLITMIEGGAFDIW  CQVWDSSSDHVVF   \n",
       "...                                                      ...            ...   \n",
       "vdj_v1_hs_pbmc3_TTTCCTCAGCAATATG                  CVYDSAAVKW    CQQYYTTPLTF   \n",
       "vdj_v1_hs_pbmc3_TTTCCTCAGCGCTTAT        CAKAAYGEGLRYYYYGMDVW    CMQGTHWPYTF   \n",
       "vdj_v1_hs_pbmc3_TTTCCTCAGGGAAACA            CARPRIAGSGWYFDLW    CQQSYSTPWTF   \n",
       "vdj_v1_hs_pbmc3_TTTGCGCCATACCATG      CARSLDIVVVVALYYYYGMDVW  CAAWDDSLSGWVF   \n",
       "vdj_v1_hs_pbmc3_TTTGGTTGTAGGCATG               CAGSRWLYSFDYW   CCSYAGSYTVFF   \n",
       "\n",
       "                                     isotype isotype_status locus_status  \\\n",
       "sc5p_v2_hs_PBMC_10k_AAACCTGTCCGTTGTC     IgM            IgM    IGH + IGK   \n",
       "sc5p_v2_hs_PBMC_10k_AAACCTGTCGAGAACG     IgM            IgM    IGH + IGL   \n",
       "sc5p_v2_hs_PBMC_10k_AAACCTGTCTTGAGAC     IgM            IgM    IGH + IGK   \n",
       "sc5p_v2_hs_PBMC_10k_AAACGGGAGCGACGTA     IgM            IgM    IGH + IGL   \n",
       "sc5p_v2_hs_PBMC_10k_AAACGGGCACTGTTAG     IgM            IgM    IGH + IGL   \n",
       "...                                      ...            ...          ...   \n",
       "vdj_v1_hs_pbmc3_TTTCCTCAGCAATATG         IgM            IgM    IGH + IGK   \n",
       "vdj_v1_hs_pbmc3_TTTCCTCAGCGCTTAT         IgM            IgM    IGH + IGK   \n",
       "vdj_v1_hs_pbmc3_TTTCCTCAGGGAAACA         IgM            IgM    IGH + IGK   \n",
       "vdj_v1_hs_pbmc3_TTTGCGCCATACCATG         IgM            IgM    IGH + IGL   \n",
       "vdj_v1_hs_pbmc3_TTTGGTTGTAGGCATG         IgM            IgM    IGH + IGL   \n",
       "\n",
       "                                     productive_status  \\\n",
       "sc5p_v2_hs_PBMC_10k_AAACCTGTCCGTTGTC             T + T   \n",
       "sc5p_v2_hs_PBMC_10k_AAACCTGTCGAGAACG             T + T   \n",
       "sc5p_v2_hs_PBMC_10k_AAACCTGTCTTGAGAC             T + T   \n",
       "sc5p_v2_hs_PBMC_10k_AAACGGGAGCGACGTA             T + T   \n",
       "sc5p_v2_hs_PBMC_10k_AAACGGGCACTGTTAG             T + T   \n",
       "...                                                ...   \n",
       "vdj_v1_hs_pbmc3_TTTCCTCAGCAATATG                 T + T   \n",
       "vdj_v1_hs_pbmc3_TTTCCTCAGCGCTTAT                 T + T   \n",
       "vdj_v1_hs_pbmc3_TTTCCTCAGGGAAACA                 T + T   \n",
       "vdj_v1_hs_pbmc3_TTTGCGCCATACCATG                 T + T   \n",
       "vdj_v1_hs_pbmc3_TTTGGTTGTAGGCATG                 T + T   \n",
       "\n",
       "                                      rearrangement_VDJ_status  \\\n",
       "sc5p_v2_hs_PBMC_10k_AAACCTGTCCGTTGTC                    Single   \n",
       "sc5p_v2_hs_PBMC_10k_AAACCTGTCGAGAACG                     Multi   \n",
       "sc5p_v2_hs_PBMC_10k_AAACCTGTCTTGAGAC                     Multi   \n",
       "sc5p_v2_hs_PBMC_10k_AAACGGGAGCGACGTA                    Single   \n",
       "sc5p_v2_hs_PBMC_10k_AAACGGGCACTGTTAG                    Single   \n",
       "...                                                        ...   \n",
       "vdj_v1_hs_pbmc3_TTTCCTCAGCAATATG                        Single   \n",
       "vdj_v1_hs_pbmc3_TTTCCTCAGCGCTTAT                        Single   \n",
       "vdj_v1_hs_pbmc3_TTTCCTCAGGGAAACA                        Single   \n",
       "vdj_v1_hs_pbmc3_TTTGCGCCATACCATG                        Single   \n",
       "vdj_v1_hs_pbmc3_TTTGGTTGTAGGCATG                         Multi   \n",
       "\n",
       "                                      rearrangement_VJ_status  \\\n",
       "sc5p_v2_hs_PBMC_10k_AAACCTGTCCGTTGTC                   Single   \n",
       "sc5p_v2_hs_PBMC_10k_AAACCTGTCGAGAACG                   Single   \n",
       "sc5p_v2_hs_PBMC_10k_AAACCTGTCTTGAGAC                   Single   \n",
       "sc5p_v2_hs_PBMC_10k_AAACGGGAGCGACGTA                   Single   \n",
       "sc5p_v2_hs_PBMC_10k_AAACGGGCACTGTTAG                   Single   \n",
       "...                                                       ...   \n",
       "vdj_v1_hs_pbmc3_TTTCCTCAGCAATATG                       Single   \n",
       "vdj_v1_hs_pbmc3_TTTCCTCAGCGCTTAT                       Single   \n",
       "vdj_v1_hs_pbmc3_TTTCCTCAGGGAAACA                       Single   \n",
       "vdj_v1_hs_pbmc3_TTTGCGCCATACCATG                       Single   \n",
       "vdj_v1_hs_pbmc3_TTTGGTTGTAGGCATG                       Single   \n",
       "\n",
       "                                      constant_VDJ_status  constant_VJ_status  \n",
       "sc5p_v2_hs_PBMC_10k_AAACCTGTCCGTTGTC               Single              Single  \n",
       "sc5p_v2_hs_PBMC_10k_AAACCTGTCGAGAACG               Single              Single  \n",
       "sc5p_v2_hs_PBMC_10k_AAACCTGTCTTGAGAC               Single              Single  \n",
       "sc5p_v2_hs_PBMC_10k_AAACGGGAGCGACGTA               Single              Single  \n",
       "sc5p_v2_hs_PBMC_10k_AAACGGGCACTGTTAG               Single              Single  \n",
       "...                                                   ...                 ...  \n",
       "vdj_v1_hs_pbmc3_TTTCCTCAGCAATATG                   Single              Single  \n",
       "vdj_v1_hs_pbmc3_TTTCCTCAGCGCTTAT                   Single              Single  \n",
       "vdj_v1_hs_pbmc3_TTTCCTCAGGGAAACA                   Single              Single  \n",
       "vdj_v1_hs_pbmc3_TTTGCGCCATACCATG                   Single              Single  \n",
       "vdj_v1_hs_pbmc3_TTTGGTTGTAGGCATG                   Single              Single  \n",
       "\n",
       "[2545 rows x 32 columns]"
      ]
     },
     "execution_count": 5,
     "metadata": {},
     "output_type": "execute_result"
    }
   ],
   "source": [
    "vdj.metadata"
   ]
  },
  {
   "cell_type": "markdown",
   "metadata": {},
   "source": [
    "### Alternative : Running `tl.define_clones`"
   ]
  },
  {
   "cell_type": "markdown",
   "metadata": {},
   "source": [
    "Alternatively, a wrapper to call *changeo's* `DefineClones.py` [[Gupta2015]](https://academic.oup.com/bioinformatics/article/31/20/3356/195677) is also included. To run it, you need to choose the distance threshold for clonal assignment. To facilitate this, the function `pp.calculate_threshold` will run [shazam's distToNearest](https://shazam.readthedocs.io/en/stable/topics/distToNearest/) function and return a plot showing the length normalized hamming distance distribution and automated threshold value. \n",
    "\n",
    "Again, `pp.calculate_threshold` will take a file path, pandas `DataFrame` or `Dandelion` object as input. If a dandelion object is provided, the threshold value will be inserted into the `.threshold` slot. For more fine control, please use [shazam's distToNearest](https://shazam.readthedocs.io/en/stable/topics/distToNearest/) and [changeo's DefineClones.py](https://immcantation.readthedocs.io/en/stable/tutorials/10x_tutorial.html) functions directly."
   ]
  },
  {
   "cell_type": "code",
   "execution_count": 6,
   "metadata": {
    "scrolled": true
   },
   "outputs": [
    {
     "name": "stdout",
     "output_type": "stream",
     "text": [
      "Calculating threshold\n"
     ]
    },
    {
     "name": "stderr",
     "output_type": "stream",
     "text": [
      "R[write to console]: Error in (function (db, sequenceColumn = \"junction\", vCallColumn = \"v_call\",  : \n",
      "  13 cell(s) with multiple heavy chains found. One heavy chain per cell is expected.\n",
      "\n"
     ]
    },
    {
     "name": "stdout",
     "output_type": "stream",
     "text": [
      "Rerun this after filtering. For now, switching to heavy mode.\n",
      "      Threshold method 'density' did not return with any values. Switching to method = 'gmm'.\n"
     ]
    },
    {
     "data": {
      "image/png": "[encoded data removed]",
      "text/plain": [
       "<Figure size 432x288 with 4 Axes>"
      ]
     },
     "metadata": {},
     "output_type": "display_data"
    },
    {
     "name": "stdout",
     "output_type": "stream",
     "text": [
      "\n",
      " finished: Updated Dandelion object: \n",
      "   'threshold', threshold value for tuning clonal assignment\n",
      " (0:02:32)\n"
     ]
    }
   ],
   "source": [
    "ddl.pp.calculate_threshold(vdj)"
   ]
  },
  {
   "cell_type": "code",
   "execution_count": 7,
   "metadata": {},
   "outputs": [
    {
     "data": {
      "text/plain": [
       "0.2812490654754071"
      ]
     },
     "execution_count": 7,
     "metadata": {},
     "output_type": "execute_result"
    }
   ],
   "source": [
    "# see the actual value in .threshold slot\n",
    "vdj.threshold"
   ]
  },
  {
   "cell_type": "markdown",
   "metadata": {},
   "source": [
    "You can also manually select a value as the threshold if you wish. Note that rerunning this with `manual_threshold` is just for reproducing the plot but with the line at 0.1 in this tutorial. You can just edit `vdj.threshold` directly if you wish."
   ]
  },
  {
   "cell_type": "code",
   "execution_count": 8,
   "metadata": {},
   "outputs": [
    {
     "name": "stdout",
     "output_type": "stream",
     "text": [
      "Calculating threshold\n"
     ]
    },
    {
     "name": "stderr",
     "output_type": "stream",
     "text": [
      "R[write to console]: Error in (function (db, sequenceColumn = \"junction\", vCallColumn = \"v_call\",  : \n",
      "  13 cell(s) with multiple heavy chains found. One heavy chain per cell is expected.\n",
      "\n"
     ]
    },
    {
     "name": "stdout",
     "output_type": "stream",
     "text": [
      "Rerun this after filtering. For now, switching to heavy mode.\n",
      "      Threshold method 'density' did not return with any values. Switching to method = 'gmm'.\n"
     ]
    },
    {
     "data": {
      "image/png": "[encoded data removed]",
      "text/plain": [
       "<Figure size 450x250 with 4 Axes>"
      ]
     },
     "metadata": {},
     "output_type": "display_data"
    },
    {
     "name": "stdout",
     "output_type": "stream",
     "text": [
      "\n",
      " finished: Updated Dandelion object: \n",
      "   'threshold', threshold value for tuning clonal assignment\n",
      " (0:02:30)\n"
     ]
    }
   ],
   "source": [
    "ddl.pp.calculate_threshold(vdj, manual_threshold = 0.1)"
   ]
  },
  {
   "cell_type": "code",
   "execution_count": 9,
   "metadata": {},
   "outputs": [
    {
     "data": {
      "text/plain": [
       "0.1"
      ]
     },
     "execution_count": 9,
     "metadata": {},
     "output_type": "execute_result"
    }
   ],
   "source": [
    "# see the updated .threshold slot\n",
    "vdj.threshold"
   ]
  },
  {
   "cell_type": "markdown",
   "metadata": {},
   "source": [
    "\n",
    "We can run `tl.define_clones` to call *changeo's* `DefineClones.py`; see [here](https://changeo.readthedocs.io/en/stable/methods/clustering.html) for more info. Note, if a `pandas.DataFrame` or file path is provided as the input, the value in dist option (corresponds to threshold value) needs to be manually supplied. If a `Dandelion` object is provided, it will automatically retrieve it from the threshold slot. "
   ]
  },
  {
   "cell_type": "code",
   "execution_count": 10,
   "metadata": {},
   "outputs": [
    {
     "name": "stdout",
     "output_type": "stream",
     "text": [
      "Finding clones\n",
      "       START> DefineClones\n",
      "        FILE> dandelion_define_clones_heavy-clone.tsv\n",
      "   SEQ_FIELD> junction\n",
      "     V_FIELD> v_call_genotyped\n",
      "     J_FIELD> j_call\n",
      " MAX_MISSING> 0\n",
      "GROUP_FIELDS> None\n",
      "      ACTION> set\n",
      "        MODE> gene\n",
      "    DISTANCE> 0.1\n",
      "     LINKAGE> single\n",
      "       MODEL> ham\n",
      "        NORM> len\n",
      "         SYM> avg\n",
      "       NPROC> 1\n",
      "\n",
      "PROGRESS> [Grouping sequences] 00:55:26 (2558) 0.0 min\n",
      "\n",
      "PROGRESS> [Assigning clones] 00:55:35 |####################| 100% (2,558) 0.3 min\n",
      "\n",
      " OUTPUT> dandelion_define_clones_heavy-clone.tsv\n",
      " CLONES> 2021\n",
      "RECORDS> 2558\n",
      "   PASS> 2558\n",
      "   FAIL> 0\n",
      "    END> DefineClones\n",
      "\n",
      " finished: Updated Dandelion object: \n",
      "   'data', contig-indexed clone table\n",
      "   'metadata', cell-indexed clone table\n",
      " (0:00:35)\n"
     ]
    },
    {
     "data": {
      "text/plain": [
       "Dandelion class object with n_obs = 2545 and n_contigs = 5216\n",
       "    data: 'sequence_id', 'sequence', 'rev_comp', 'productive', 'v_call', 'd_call', 'j_call', 'sequence_alignment', 'germline_alignment', 'junction', 'junction_aa', 'v_cigar', 'd_cigar', 'j_cigar', 'stop_codon', 'vj_in_frame', 'locus', 'junction_length', 'np1_length', 'np2_length', 'v_sequence_start', 'v_sequence_end', 'v_germline_start', 'v_germline_end', 'd_sequence_start', 'd_sequence_end', 'd_germline_start', 'd_germline_end', 'j_sequence_start', 'j_sequence_end', 'j_germline_start', 'j_germline_end', 'v_score', 'v_identity', 'v_support', 'd_score', 'd_identity', 'd_support', 'j_score', 'j_identity', 'j_support', 'fwr1', 'fwr2', 'fwr3', 'fwr4', 'cdr1', 'cdr2', 'cdr3', 'cell_id', 'c_call', 'consensus_count', 'duplicate_count', 'v_call_10x', 'd_call_10x', 'j_call_10x', 'junction_10x', 'junction_10x_aa', 'v_call_genotyped', 'germline_alignment_d_mask', 'sample_id', 'j_support_igblastn', 'j_score_igblastn', 'j_call_igblastn', 'j_call_blastn', 'j_identity_blastn', 'j_alignment_length_blastn', 'j_number_of_mismatches_blastn', 'j_number_of_gap_openings_blastn', 'j_sequence_start_blastn', 'j_sequence_end_blastn', 'j_germline_start_blastn', 'j_germline_end_blastn', 'j_support_blastn', 'j_score_blastn', 'j_sequence_alignment_blastn', 'j_germline_alignment_blastn', 'cell_id_blastn', 'j_source', 'd_support_igblastn', 'd_score_igblastn', 'd_call_igblastn', 'd_call_blastn', 'd_identity_blastn', 'd_alignment_length_blastn', 'd_number_of_mismatches_blastn', 'd_number_of_gap_openings_blastn', 'd_sequence_start_blastn', 'd_sequence_end_blastn', 'd_germline_start_blastn', 'd_germline_end_blastn', 'd_support_blastn', 'd_score_blastn', 'd_sequence_alignment_blastn', 'd_germline_alignment_blastn', 'd_source', 'c_sequence_alignment', 'c_germline_alignment', 'c_sequence_start', 'c_sequence_end', 'c_score', 'c_identity', 'c_call_10x', 'junction_aa_length', 'fwr1_aa', 'fwr2_aa', 'fwr3_aa', 'fwr4_aa', 'cdr1_aa', 'cdr2_aa', 'cdr3_aa', 'sequence_alignment_aa', 'v_sequence_alignment_aa', 'd_sequence_alignment_aa', 'j_sequence_alignment_aa', 'mu_count', 'umi_count', 'clone_id', 'changeo_clone_id'\n",
       "    metadata: 'clone_id', 'clone_id_by_size', 'sample_id', 'locus_VDJ', 'locus_VJ', 'productive_VDJ', 'productive_VJ', 'v_call_genotyped_VDJ', 'v_call_genotyped_VJ', 'd_call_VDJ', 'j_call_VDJ', 'j_call_VJ', 'c_call_VDJ', 'c_call_VJ', 'duplicate_count_VDJ', 'duplicate_count_VJ', 'duplicate_count_VDJ_1', 'duplicate_count_VJ_1', 'duplicate_count_VJ_2', 'duplicate_count_VDJ_2', 'junction_VDJ', 'junction_VJ', 'junction_aa_VDJ', 'junction_aa_VJ', 'isotype', 'isotype_status', 'locus_status', 'productive_status', 'rearrangement_VDJ_status', 'rearrangement_VJ_status', 'constant_VDJ_status', 'constant_VJ_status', 'changeo_clone_id'\n",
       "    edges: None\n",
       "    layout: None\n",
       "    graph: None"
      ]
     },
     "execution_count": 10,
     "metadata": {},
     "output_type": "execute_result"
    }
   ],
   "source": [
    "ddl.tl.define_clones(vdj, key_added = 'changeo_clone_id')\n",
    "vdj"
   ]
  },
  {
   "cell_type": "markdown",
   "metadata": {},
   "source": [
    "Note that I specified the option `key_added` and this adds the output from `tl.define_clones` into a separate column. If left as default (`None`), it will write into `clone_id` column. The same option can be specified in `tl.find_clones` earlier."
   ]
  },
  {
   "cell_type": "markdown",
   "metadata": {},
   "source": [
    "## Generation of V(D)J network\n",
    "*dandelion* generates a network to facilitate visualisation of results, inspired from [[Bashford-Rogers13]](https://genome.cshlp.org/content/23/11/1874). This uses the full V(D)J contig sequences instead of just the junctional sequences to chart a tree-like network for each clone. The actual visualization will be achieved through `scanpy` later.\n",
    "\n",
    "**tl.generate_network**\n",
    "\n",
    "First we need to generate the network. `tl.generate_network` will take a V(D)J table that has clones defined, specifically under the `'clone_id'` column. The default mode is to use amino acid sequences for constructing Levenshtein distance matrices, but can be toggled using the `key` option.\n",
    "\n",
    "If you have a pre-processed table parsed from immcantation's [method](https://changeo.readthedocs.io/en/stable/examples/10x.html), or any other method as long as it's in a *AIRR* format, the table can be used as well.\n",
    "\n",
    "You can specify the `clone_key` option for generating the network for the clone id definition of choice as long as it exists as a column in the `.data` slot."
   ]
  },
  {
   "cell_type": "code",
   "execution_count": 11,
   "metadata": {},
   "outputs": [
    {
     "name": "stdout",
     "output_type": "stream",
     "text": [
      "Generating network\n"
     ]
    },
    {
     "name": "stderr",
     "output_type": "stream",
     "text": [
      "Setting up data: 5216it [00:02, 2342.20it/s]\n",
      "Calculating distances... : 100%|█████████████████████████████████████████████████████████████████████████████████████████████████████████████████████████| 2130/2130 [00:01<00:00, 1548.91it/s]\n",
      "Generating edge list : 100%|███████████████████████████████████████████████████████████████████████████████████████████████████████████████████████████████| 512/512 [00:00<00:00, 1761.89it/s]\n",
      "Computing overlap : 100%|█████████████████████████████████████████████████████████████████████████████████████████████████████████████████████████████████| 2130/2130 [00:03<00:00, 601.91it/s]\n",
      "Linking edges : 100%|████████████████████████████████████████████████████████████████████████████████████████████████████████████████████████████████████| 2016/2016 [00:01<00:00, 1052.32it/s]\n"
     ]
    },
    {
     "name": "stdout",
     "output_type": "stream",
     "text": [
      "generating network layout\n",
      " finished: Updated Dandelion object: \n",
      "   'data', contig-indexed clone table\n",
      "   'metadata', cell-indexed clone table\n",
      "   'edges', graph edges\n",
      "   'layout', graph layout\n",
      "   'graph', network constructed from distance matrices of VDJ- and VJ- chains (0:01:23)\n"
     ]
    }
   ],
   "source": [
    "ddl.tl.generate_network(vdj)"
   ]
  },
  {
   "cell_type": "markdown",
   "metadata": {},
   "source": [
    "In `dandelion` version `>=0.2.2`, the default `layout_method` is changed to `sfdp`, which is implemented through `graph-tool` [package](https://graph-tool.skewed.de/). This is significantly faster than the default modified Fruchterman-Reingold layout which while will work reasonably fast here, it will take quite a while when a lot of contigs are provided (>100k cells may take 1 hour). You can toggle this behaviour with:\n",
    "\n",
    "```python\n",
    "ddl.tl.generate_network(vdj, layout_method = 'mod_fr') # for the original\n",
    "ddl.tl.generate_network(vdj, layout_method = 'sfdp') # for sfdp\n",
    "```\n",
    "\n",
    "#### generating graph without layout\n",
    "\n",
    "If you don't care for the layout and simply want access to the network/graph, you can do:\n",
    "```python\n",
    "ddl.tl.generate_network(vdj, compute_layout = False)\n",
    "```\n",
    "and use the `networkx` graph in `vdj.graph[0]` or `vdj.graph[1]` and compute your own layout as you wish."
   ]
  },
  {
   "cell_type": "markdown",
   "metadata": {},
   "source": [
    "#### down sampling data/graph\n",
    "\n",
    "You can also downsample the number of cells. This will return a new object as a downsampled copy of the original with its own distance matrix."
   ]
  },
  {
   "cell_type": "code",
   "execution_count": 12,
   "metadata": {},
   "outputs": [
    {
     "name": "stdout",
     "output_type": "stream",
     "text": [
      "Generating network\n",
      "Downsampling to 500 cells.\n"
     ]
    },
    {
     "name": "stderr",
     "output_type": "stream",
     "text": [
      "Setting up data: 1021it [00:00, 1220.86it/s]\n",
      "Calculating distances... : 100%|███████████████████████████████████████████████████████████████████████████████████████████████████████████████████████████| 493/493 [00:00<00:00, 1737.66it/s]\n",
      "Generating edge list : 100%|█████████████████████████████████████████████████████████████████████████████████████████████████████████████████████████████████| 33/33 [00:00<00:00, 1748.64it/s]\n",
      "Computing overlap : 100%|███████████████████████████████████████████████████████████████████████████████████████████████████████████████████████████████████| 493/493 [00:01<00:00, 404.70it/s]\n",
      "Linking edges : 100%|██████████████████████████████████████████████████████████████████████████████████████████████████████████████████████████████████████| 466/466 [00:00<00:00, 6100.12it/s]\n"
     ]
    },
    {
     "name": "stdout",
     "output_type": "stream",
     "text": [
      "generating network layout\n",
      " finished: Updated Dandelion object: \n",
      "   'data', contig-indexed clone table\n",
      "   'metadata', cell-indexed clone table\n",
      "   'edges', graph edges\n",
      "   'layout', graph layout\n",
      "   'graph', network constructed from distance matrices of VDJ- and VJ- chains (0:00:07)\n"
     ]
    },
    {
     "data": {
      "text/plain": [
       "Dandelion class object with n_obs = 500 and n_contigs = 1021\n",
       "    data: 'sequence_id', 'sequence', 'rev_comp', 'productive', 'v_call', 'd_call', 'j_call', 'sequence_alignment', 'germline_alignment', 'junction', 'junction_aa', 'v_cigar', 'd_cigar', 'j_cigar', 'stop_codon', 'vj_in_frame', 'locus', 'junction_length', 'np1_length', 'np2_length', 'v_sequence_start', 'v_sequence_end', 'v_germline_start', 'v_germline_end', 'd_sequence_start', 'd_sequence_end', 'd_germline_start', 'd_germline_end', 'j_sequence_start', 'j_sequence_end', 'j_germline_start', 'j_germline_end', 'v_score', 'v_identity', 'v_support', 'd_score', 'd_identity', 'd_support', 'j_score', 'j_identity', 'j_support', 'fwr1', 'fwr2', 'fwr3', 'fwr4', 'cdr1', 'cdr2', 'cdr3', 'cell_id', 'c_call', 'consensus_count', 'duplicate_count', 'v_call_10x', 'd_call_10x', 'j_call_10x', 'junction_10x', 'junction_10x_aa', 'v_call_genotyped', 'germline_alignment_d_mask', 'sample_id', 'j_support_igblastn', 'j_score_igblastn', 'j_call_igblastn', 'j_call_blastn', 'j_identity_blastn', 'j_alignment_length_blastn', 'j_number_of_mismatches_blastn', 'j_number_of_gap_openings_blastn', 'j_sequence_start_blastn', 'j_sequence_end_blastn', 'j_germline_start_blastn', 'j_germline_end_blastn', 'j_support_blastn', 'j_score_blastn', 'j_sequence_alignment_blastn', 'j_germline_alignment_blastn', 'cell_id_blastn', 'j_source', 'd_support_igblastn', 'd_score_igblastn', 'd_call_igblastn', 'd_call_blastn', 'd_identity_blastn', 'd_alignment_length_blastn', 'd_number_of_mismatches_blastn', 'd_number_of_gap_openings_blastn', 'd_sequence_start_blastn', 'd_sequence_end_blastn', 'd_germline_start_blastn', 'd_germline_end_blastn', 'd_support_blastn', 'd_score_blastn', 'd_sequence_alignment_blastn', 'd_germline_alignment_blastn', 'd_source', 'c_sequence_alignment', 'c_germline_alignment', 'c_sequence_start', 'c_sequence_end', 'c_score', 'c_identity', 'c_call_10x', 'junction_aa_length', 'fwr1_aa', 'fwr2_aa', 'fwr3_aa', 'fwr4_aa', 'cdr1_aa', 'cdr2_aa', 'cdr3_aa', 'sequence_alignment_aa', 'v_sequence_alignment_aa', 'd_sequence_alignment_aa', 'j_sequence_alignment_aa', 'mu_count', 'umi_count', 'clone_id', 'changeo_clone_id'\n",
       "    metadata: 'clone_id', 'clone_id_by_size', 'sample_id', 'locus_VDJ', 'locus_VJ', 'productive_VDJ', 'productive_VJ', 'v_call_genotyped_VDJ', 'v_call_genotyped_VJ', 'd_call_VDJ', 'j_call_VDJ', 'j_call_VJ', 'c_call_VDJ', 'c_call_VJ', 'duplicate_count_VDJ', 'duplicate_count_VJ', 'duplicate_count_VDJ_1', 'duplicate_count_VJ_1', 'duplicate_count_VJ_2', 'junction_VDJ', 'junction_VJ', 'junction_aa_VDJ', 'junction_aa_VJ', 'isotype', 'isotype_status', 'locus_status', 'productive_status', 'rearrangement_VDJ_status', 'rearrangement_VJ_status', 'constant_VDJ_status', 'constant_VJ_status'\n",
       "    edges: 'source', 'target', 'weight'\n",
       "    layout: layout for 500 vertices, layout for 67 vertices\n",
       "    graph: networkx graph of 500 vertices, networkx graph of 67 vertices "
      ]
     },
     "execution_count": 12,
     "metadata": {},
     "output_type": "execute_result"
    }
   ],
   "source": [
    "vdj_downsample = ddl.tl.generate_network(vdj, downsample = 500)\n",
    "vdj_downsample"
   ]
  },
  {
   "cell_type": "markdown",
   "metadata": {},
   "source": [
    "**check the newly re-initialized Dandelion object**"
   ]
  },
  {
   "cell_type": "code",
   "execution_count": 13,
   "metadata": {},
   "outputs": [
    {
     "data": {
      "text/plain": [
       "Dandelion class object with n_obs = 2545 and n_contigs = 5216\n",
       "    data: 'sequence_id', 'sequence', 'rev_comp', 'productive', 'v_call', 'd_call', 'j_call', 'sequence_alignment', 'germline_alignment', 'junction', 'junction_aa', 'v_cigar', 'd_cigar', 'j_cigar', 'stop_codon', 'vj_in_frame', 'locus', 'junction_length', 'np1_length', 'np2_length', 'v_sequence_start', 'v_sequence_end', 'v_germline_start', 'v_germline_end', 'd_sequence_start', 'd_sequence_end', 'd_germline_start', 'd_germline_end', 'j_sequence_start', 'j_sequence_end', 'j_germline_start', 'j_germline_end', 'v_score', 'v_identity', 'v_support', 'd_score', 'd_identity', 'd_support', 'j_score', 'j_identity', 'j_support', 'fwr1', 'fwr2', 'fwr3', 'fwr4', 'cdr1', 'cdr2', 'cdr3', 'cell_id', 'c_call', 'consensus_count', 'duplicate_count', 'v_call_10x', 'd_call_10x', 'j_call_10x', 'junction_10x', 'junction_10x_aa', 'v_call_genotyped', 'germline_alignment_d_mask', 'sample_id', 'j_support_igblastn', 'j_score_igblastn', 'j_call_igblastn', 'j_call_blastn', 'j_identity_blastn', 'j_alignment_length_blastn', 'j_number_of_mismatches_blastn', 'j_number_of_gap_openings_blastn', 'j_sequence_start_blastn', 'j_sequence_end_blastn', 'j_germline_start_blastn', 'j_germline_end_blastn', 'j_support_blastn', 'j_score_blastn', 'j_sequence_alignment_blastn', 'j_germline_alignment_blastn', 'cell_id_blastn', 'j_source', 'd_support_igblastn', 'd_score_igblastn', 'd_call_igblastn', 'd_call_blastn', 'd_identity_blastn', 'd_alignment_length_blastn', 'd_number_of_mismatches_blastn', 'd_number_of_gap_openings_blastn', 'd_sequence_start_blastn', 'd_sequence_end_blastn', 'd_germline_start_blastn', 'd_germline_end_blastn', 'd_support_blastn', 'd_score_blastn', 'd_sequence_alignment_blastn', 'd_germline_alignment_blastn', 'd_source', 'c_sequence_alignment', 'c_germline_alignment', 'c_sequence_start', 'c_sequence_end', 'c_score', 'c_identity', 'c_call_10x', 'junction_aa_length', 'fwr1_aa', 'fwr2_aa', 'fwr3_aa', 'fwr4_aa', 'cdr1_aa', 'cdr2_aa', 'cdr3_aa', 'sequence_alignment_aa', 'v_sequence_alignment_aa', 'd_sequence_alignment_aa', 'j_sequence_alignment_aa', 'mu_count', 'umi_count', 'clone_id', 'changeo_clone_id'\n",
       "    metadata: 'clone_id', 'clone_id_by_size', 'sample_id', 'locus_VDJ', 'locus_VJ', 'productive_VDJ', 'productive_VJ', 'v_call_genotyped_VDJ', 'v_call_genotyped_VJ', 'd_call_VDJ', 'j_call_VDJ', 'j_call_VJ', 'c_call_VDJ', 'c_call_VJ', 'duplicate_count_VDJ', 'duplicate_count_VJ', 'duplicate_count_VDJ_1', 'duplicate_count_VJ_1', 'duplicate_count_VJ_2', 'duplicate_count_VDJ_2', 'junction_VDJ', 'junction_VJ', 'junction_aa_VDJ', 'junction_aa_VJ', 'isotype', 'isotype_status', 'locus_status', 'productive_status', 'rearrangement_VDJ_status', 'rearrangement_VJ_status', 'constant_VDJ_status', 'constant_VJ_status', 'changeo_clone_id'\n",
       "    edges: 'source', 'target', 'weight'\n",
       "    layout: layout for 2545 vertices, layout for 1041 vertices\n",
       "    graph: networkx graph of 2545 vertices, networkx graph of 1041 vertices "
      ]
     },
     "execution_count": 13,
     "metadata": {},
     "output_type": "execute_result"
    }
   ],
   "source": [
    "vdj"
   ]
  },
  {
   "cell_type": "markdown",
   "metadata": {},
   "source": [
    "The graph/networks can be accessed through the `.graph` slot as an [networkx](https://networkx.org/) graph object if you want to extract the data for network statistics or make any changes to the network."
   ]
  },
  {
   "cell_type": "markdown",
   "metadata": {},
   "source": [
    "At this point, we can save the dandelion object; the file can be quite big because the distance matrix is not sparse. I reccomend some form of compression (I use `bzip2` below but that can impact on read/write times significantly). See [here](https://pandas.pydata.org/pandas-docs/stable/reference/api/pandas.DataFrame.to_hdf.html) for compression options."
   ]
  },
  {
   "cell_type": "code",
   "execution_count": 14,
   "metadata": {},
   "outputs": [],
   "source": [
    "vdj.write_h5ddl('dandelion_results.h5ddl', complib = 'bzip2')"
   ]
  },
  {
   "cell_type": "code",
   "execution_count": null,
   "metadata": {},
   "outputs": [],
   "source": []
  }
 ],
 "metadata": {
  "kernelspec": {
   "display_name": "Python (dandelion)",
   "language": "python",
   "name": "dandelion"
  },
  "language_info": {
   "codemirror_mode": {
    "name": "ipython",
    "version": 3
   },
   "file_extension": ".py",
   "mimetype": "text/x-python",
   "name": "python",
   "nbconvert_exporter": "python",
   "pygments_lexer": "ipython3",
   "version": "3.9.13"
  }
 },
 "nbformat": 4,
 "nbformat_minor": 2
}
