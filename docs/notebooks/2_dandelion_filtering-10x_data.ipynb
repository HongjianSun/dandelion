{
 "cells": [
  {
   "cell_type": "markdown",
   "metadata": {},
   "source": [
    "# Filtering\n",
    "![dandelion_logo](img/dandelion_logo_illustration.png)\n",
    "\n",
    "We now move on to filtering out BCR contigs (and corresponding cells if necessary) from the BCR data and transcriptome object loaded in *scanpy*."
   ]
  },
  {
   "cell_type": "markdown",
   "metadata": {},
   "source": [
    "**Import *dandelion* module**"
   ]
  },
  {
   "cell_type": "code",
   "execution_count": 1,
   "metadata": {},
   "outputs": [
    {
     "name": "stdout",
     "output_type": "stream",
     "text": [
      "dandelion==0.0.29 pandas==1.1.4 numpy==1.19.4 matplotlib==3.3.3 networkx==2.5 scipy==1.5.3 skbio==0.5.6\n"
     ]
    }
   ],
   "source": [
    "import os\n",
    "import dandelion as ddl\n",
    "# change directory to somewhere more workable\n",
    "os.chdir(os.path.expanduser('/Users/kt16/Downloads/dandelion_tutorial/'))\n",
    "ddl.logging.print_header()"
   ]
  },
  {
   "cell_type": "markdown",
   "metadata": {},
   "source": [
    "**Import modules for use with scanpy**"
   ]
  },
  {
   "cell_type": "code",
   "execution_count": 2,
   "metadata": {},
   "outputs": [
    {
     "name": "stdout",
     "output_type": "stream",
     "text": [
      "scanpy==1.6.0 anndata==0.7.4 umap==0.4.6 numpy==1.19.4 scipy==1.5.3 pandas==1.1.4 scikit-learn==0.23.2 statsmodels==0.12.1 python-igraph==0.8.3 leidenalg==0.8.3\n"
     ]
    }
   ],
   "source": [
    "import pandas as pd\n",
    "import numpy as np\n",
    "import scanpy as sc\n",
    "import warnings\n",
    "import functools\n",
    "import seaborn as sns\n",
    "import scipy.stats\n",
    "import anndata\n",
    "\n",
    "warnings.filterwarnings('ignore')\n",
    "sc.logging.print_header()"
   ]
  },
  {
   "cell_type": "markdown",
   "metadata": {},
   "source": [
    "**Import the transcriptome data**"
   ]
  },
  {
   "cell_type": "code",
   "execution_count": 3,
   "metadata": {},
   "outputs": [
    {
     "name": "stderr",
     "output_type": "stream",
     "text": [
      "Variable names are not unique. To make them unique, call `.var_names_make_unique`.\n",
      "Variable names are not unique. To make them unique, call `.var_names_make_unique`.\n",
      "Variable names are not unique. To make them unique, call `.var_names_make_unique`.\n",
      "Variable names are not unique. To make them unique, call `.var_names_make_unique`.\n",
      "Variable names are not unique. To make them unique, call `.var_names_make_unique`.\n",
      "Variable names are not unique. To make them unique, call `.var_names_make_unique`.\n",
      "Variable names are not unique. To make them unique, call `.var_names_make_unique`.\n",
      "Variable names are not unique. To make them unique, call `.var_names_make_unique`.\n"
     ]
    },
    {
     "data": {
      "text/plain": [
       "AnnData object with n_obs × n_vars = 30471 × 31915\n",
       "    obs: 'sampleid', 'batch'\n",
       "    var: 'feature_types', 'genome', 'gene_ids-0', 'gene_ids-1', 'gene_ids-2', 'gene_ids-3'"
      ]
     },
     "execution_count": 3,
     "metadata": {},
     "output_type": "execute_result"
    }
   ],
   "source": [
    "samples = ['sc5p_v2_hs_PBMC_1k', 'sc5p_v2_hs_PBMC_10k', 'vdj_v1_hs_pbmc3', 'vdj_nextgem_hs_pbmc3']\n",
    "adata_list = []\n",
    "for sample in samples:\n",
    "    adata = sc.read_10x_h5(sample +'/' + sample + '_filtered_feature_bc_matrix.h5', gex_only=True)\n",
    "    adata.obs['sampleid'] = sample\n",
    "    # rename cells to sample id + barcode\n",
    "    adata.obs_names = [str(sample)+'_'+str(j) for j in adata.obs_names]\n",
    "    adata.var_names_make_unique()\n",
    "    adata_list.append(adata)\n",
    "adata = adata_list[0].concatenate(adata_list[1:])\n",
    "# rename the obs_names again, this time cleaving the trailing -#\n",
    "adata.obs_names = [str(j).split('-')[0] for j in adata.obs_names]\n",
    "adata"
   ]
  },
  {
   "cell_type": "markdown",
   "metadata": {},
   "source": [
    "I'm using a wrapper called `pp.recipe_scanpy_qc` to run through a generic [scanpy](https://scanpy-tutorials.readthedocs.io/en/latest/pbmc3k.html) workflow. You can skip this if you already have a pre-processed `AnnData` object for the subsequent steps."
   ]
  },
  {
   "cell_type": "code",
   "execution_count": 4,
   "metadata": {
    "scrolled": true
   },
   "outputs": [
    {
     "data": {
      "text/plain": [
       "AnnData object with n_obs × n_vars = 30471 × 31915\n",
       "    obs: 'sampleid', 'batch', 'scrublet_score', 'n_genes', 'percent_mito', 'n_counts', 'is_doublet', 'filter_rna'\n",
       "    var: 'feature_types', 'genome', 'gene_ids-0', 'gene_ids-1', 'gene_ids-2', 'gene_ids-3'"
      ]
     },
     "execution_count": 4,
     "metadata": {},
     "output_type": "execute_result"
    }
   ],
   "source": [
    "ddl.pp.recipe_scanpy_qc(adata)\n",
    "adata"
   ]
  },
  {
   "cell_type": "markdown",
   "metadata": {},
   "source": [
    "To proceed, the `.obs` need to contain a `filter_rna` column.\n",
    "\n",
    "If you have a pre-processed/filltered `AnnData` object that is ready, just add a `'filter_rna'` column into the `.obs` slot with every value set to `False` and you should be good to go:\n",
    "\n",
    "```python\n",
    "adata.obs['filter_rna'] = False\n",
    "```"
   ]
  },
  {
   "cell_type": "code",
   "execution_count": 5,
   "metadata": {},
   "outputs": [],
   "source": [
    "# adata.obs['filter_rna'] = False"
   ]
  },
  {
   "cell_type": "markdown",
   "metadata": {},
   "source": [
    "**Filter cells that are potental doublets and poor quality in both the BCR data and transcriptome data**\n",
    "\n",
    "We use the function `pp.filter_bcr` to mark and filter out cells and contigs from both the BCR data and transcriptome data in `AnnData`. The operation will remove bad quality cells based on transcriptome information as well as remove BCR doublets (multiplet heavy chain, and/or light chains) from the BCR data. In some situations, a single cell can have multiple heavy/light chain contigs although they have an identical V(D)J+C alignment; in situations like this, the contigs with lesser umis will be dropped and the umis transferred to duplicate_count column. The same procedure is applied to both heavy chain and light chains before identifying doublets. \n",
    "\n",
    "Cells in the gene expression object without BCR information will not be affected i.e. the `AnnData` object can hold non-B cells. Run `?ddl.pp.filter_bcr` to check what each option does."
   ]
  },
  {
   "cell_type": "code",
   "execution_count": 6,
   "metadata": {
    "scrolled": true
   },
   "outputs": [
    {
     "data": {
      "text/html": [
       "<div>\n",
       "<style scoped>\n",
       "    .dataframe tbody tr th:only-of-type {\n",
       "        vertical-align: middle;\n",
       "    }\n",
       "\n",
       "    .dataframe tbody tr th {\n",
       "        vertical-align: top;\n",
       "    }\n",
       "\n",
       "    .dataframe thead th {\n",
       "        text-align: right;\n",
       "    }\n",
       "</style>\n",
       "<table border=\"1\" class=\"dataframe\">\n",
       "  <thead>\n",
       "    <tr style=\"text-align: right;\">\n",
       "      <th></th>\n",
       "      <th>sequence_id</th>\n",
       "      <th>sequence</th>\n",
       "      <th>rev_comp</th>\n",
       "      <th>productive</th>\n",
       "      <th>v_call</th>\n",
       "      <th>d_call</th>\n",
       "      <th>j_call</th>\n",
       "      <th>sequence_alignment</th>\n",
       "      <th>germline_alignment</th>\n",
       "      <th>junction</th>\n",
       "      <th>...</th>\n",
       "      <th>fwr3_aa</th>\n",
       "      <th>fwr4_aa</th>\n",
       "      <th>cdr1_aa</th>\n",
       "      <th>cdr2_aa</th>\n",
       "      <th>cdr3_aa</th>\n",
       "      <th>sequence_alignment_aa</th>\n",
       "      <th>v_sequence_alignment_aa</th>\n",
       "      <th>d_sequence_alignment_aa</th>\n",
       "      <th>j_sequence_alignment_aa</th>\n",
       "      <th>mu_freq</th>\n",
       "    </tr>\n",
       "  </thead>\n",
       "  <tbody>\n",
       "    <tr>\n",
       "      <th>0</th>\n",
       "      <td>sc5p_v2_hs_PBMC_1k_AACTCCCAGGCTAGGT_contig_2</td>\n",
       "      <td>ATACTTTCTGAGAGTCCTGGACCTCCTGTGCAAGAACATGAAACAT...</td>\n",
       "      <td>F</td>\n",
       "      <td>T</td>\n",
       "      <td>IGHV4-61*02</td>\n",
       "      <td>IGHD3-3*01</td>\n",
       "      <td>IGHJ6*02</td>\n",
       "      <td>CAGGTGCAGCTGCAGGAGTCGGGCCCA...GGACTGGTGAAGCCTT...</td>\n",
       "      <td>CAGGTGCAGCTGCAGGAGTCGGGCCCA...GGACTGGTGAAGCCTT...</td>\n",
       "      <td>TGTGCGAGAGAAAATTACGATTTTTGGAGTGGTTATTACCACGGTG...</td>\n",
       "      <td>...</td>\n",
       "      <td>NYNPSLKSRVTISVDTSKNQFSLKLSSVTAADTAVYYC</td>\n",
       "      <td>WGQGTTVTVSS</td>\n",
       "      <td>GGSISSGSYY</td>\n",
       "      <td>IYTSGST</td>\n",
       "      <td>ARENYDFWSGYYHGADV</td>\n",
       "      <td>QVQLQESGPGLVKPSQTLSLTCTVSGGSISSGSYYWSWIRQPAGKG...</td>\n",
       "      <td>QVQLQESGPGLVKPSQTLSLTCTVSGGSISSGSYYWSWIRQPAGKG...</td>\n",
       "      <td>YDFWSGY</td>\n",
       "      <td>YHGADVWGQGTTVTVSS</td>\n",
       "      <td>0.008571</td>\n",
       "    </tr>\n",
       "    <tr>\n",
       "      <th>1</th>\n",
       "      <td>sc5p_v2_hs_PBMC_1k_AACTCCCAGGCTAGGT_contig_3</td>\n",
       "      <td>GGCTGGGGTCTCAGGAGGCAGCGCTCTGGGGACGTCTCCACCATGG...</td>\n",
       "      <td>F</td>\n",
       "      <td>F</td>\n",
       "      <td>IGLV2-5*01</td>\n",
       "      <td>NaN</td>\n",
       "      <td>IGLJ3*02</td>\n",
       "      <td>CAGTCTGCCCTGATTCAGCCTCCCTCC...GTGTCCGGGTCTCCTG...</td>\n",
       "      <td>CAGTCTGCCCTGATTCAGCCTCCCTCC...GTGTCCGGGTCTCCTG...</td>\n",
       "      <td>TGCTGCTCATATACAAGCAGTGCCACTTTCTTGGGTGTTC</td>\n",
       "      <td>...</td>\n",
       "      <td>TQPSGVPDRFSGSKSGNTASMTISGLQAEDEADY*C</td>\n",
       "      <td>RRRDQADRP</td>\n",
       "      <td>SSDVGSYDY</td>\n",
       "      <td>NVN</td>\n",
       "      <td>CSYTSSATFLG</td>\n",
       "      <td>QSALIQPPSVSGSPGQSVTISCTGTSSDVGSYDYVSWYQQHPGTVP...</td>\n",
       "      <td>QSALIQPPSVSGSPGQSVTISCTGTSSDVGSYDYVSWYQQHPGTVP...</td>\n",
       "      <td>NaN</td>\n",
       "      <td>LGVRRRDQADRP</td>\n",
       "      <td>0.000000</td>\n",
       "    </tr>\n",
       "    <tr>\n",
       "      <th>2</th>\n",
       "      <td>sc5p_v2_hs_PBMC_1k_AACTCCCAGGCTAGGT_contig_1</td>\n",
       "      <td>ACTGCGGGGGTAAGAGGTTGTGTCCACCATGGCCTGGACTCCTCTC...</td>\n",
       "      <td>F</td>\n",
       "      <td>T</td>\n",
       "      <td>IGLV5-45*03</td>\n",
       "      <td>NaN</td>\n",
       "      <td>IGLJ3*02</td>\n",
       "      <td>CAGGCTGTGCTGACTCAGCCGTCTTCC...CTCTCTGCATCTCCTG...</td>\n",
       "      <td>CAGGCTGTGCTGACTCAGCCGTCTTCC...CTCTCTGCATCTCCTG...</td>\n",
       "      <td>TGTATGATTTGGCACAGCAGCGCTTGGGTGTTC</td>\n",
       "      <td>...</td>\n",
       "      <td>QQGSGVPSRFSGSKDASANAGILLISGLQSEDEADYYC</td>\n",
       "      <td>FGGGTKLTVL</td>\n",
       "      <td>SGINVGTYR</td>\n",
       "      <td>YKSDSDK</td>\n",
       "      <td>MIWHSSAWV</td>\n",
       "      <td>QAVLTQPSSLSASPGASASLTCTLRSGINVGTYRIYWYQQKPGSPP...</td>\n",
       "      <td>QAVLTQPSSLSASPGASASLTCTLRSGINVGTYRIYWYQQKPGSPP...</td>\n",
       "      <td>NaN</td>\n",
       "      <td>VFGGGTKLTVL</td>\n",
       "      <td>0.000000</td>\n",
       "    </tr>\n",
       "    <tr>\n",
       "      <th>3</th>\n",
       "      <td>sc5p_v2_hs_PBMC_1k_AACTCTTGTCATCGGC_contig_3</td>\n",
       "      <td>AGCAGAGCTCTGGGGAGTCTGCACCATGGCTTGGACCCCACTCCTC...</td>\n",
       "      <td>F</td>\n",
       "      <td>F</td>\n",
       "      <td>IGLV4-69*01</td>\n",
       "      <td>NaN</td>\n",
       "      <td>IGLJ3*02</td>\n",
       "      <td>CAGCTTGTGCTGACTCAATCGCCCTCT...GCCTCTGCCTCCCTGG...</td>\n",
       "      <td>CAGCTTGTGCTGACTCAATCGCCCTCT...GCCTCTGCCTCCCTGG...</td>\n",
       "      <td>TGTCAGACCTGGGGCACTGGCATTCTTGGGTGTTC</td>\n",
       "      <td>...</td>\n",
       "      <td>SKGDGIPDRFSGSSSGAERYLTISSLQSEDEADYYC</td>\n",
       "      <td>SAEGPS*PS</td>\n",
       "      <td>SGHSSYA</td>\n",
       "      <td>LNSDGSH</td>\n",
       "      <td>QTWGTGILG</td>\n",
       "      <td>QLVLTQSPSASASLGASVKLTCTLSSGHSSYAIAWHQQQPEKGPRY...</td>\n",
       "      <td>QLVLTQSPSASASLGASVKLTCTLSSGHSSYAIAWHQQQPEKGPRY...</td>\n",
       "      <td>NaN</td>\n",
       "      <td>GCSAEGPS*PS*</td>\n",
       "      <td>0.000000</td>\n",
       "    </tr>\n",
       "    <tr>\n",
       "      <th>4</th>\n",
       "      <td>sc5p_v2_hs_PBMC_1k_AACTCTTGTCATCGGC_contig_1</td>\n",
       "      <td>AGAGCTCTGGGGAGTCTGCACCATGGCTTGGACCCCACTCCTCTTC...</td>\n",
       "      <td>F</td>\n",
       "      <td>T</td>\n",
       "      <td>IGLV4-69*01</td>\n",
       "      <td>NaN</td>\n",
       "      <td>IGLJ1*01</td>\n",
       "      <td>CAGCTTGTGCTGACTCAATCGCCCTCT...GCCTCTGCCTCCCTGG...</td>\n",
       "      <td>CAGCTTGTGCTGACTCAATCGCCCTCT...GCCTCTGCCTCCCTGG...</td>\n",
       "      <td>TGTCAGACCTGGGGCACTGGCATTTATGTCTTC</td>\n",
       "      <td>...</td>\n",
       "      <td>SKGDGIPDRFSGSSSGAERYLTISSLQSEDEADYYC</td>\n",
       "      <td>FGTGTKVTVL</td>\n",
       "      <td>SGHSSYA</td>\n",
       "      <td>LNSDGSH</td>\n",
       "      <td>QTWGTGIYV</td>\n",
       "      <td>QLVLTQSPSASASLGASVKLTCTLSSGHSSYAIAWHQQQPEKGPRY...</td>\n",
       "      <td>QLVLTQSPSASASLGASVKLTCTLSSGHSSYAIAWHQQQPEKGPRY...</td>\n",
       "      <td>NaN</td>\n",
       "      <td>YVFGTGTKVTVL</td>\n",
       "      <td>0.000000</td>\n",
       "    </tr>\n",
       "    <tr>\n",
       "      <th>...</th>\n",
       "      <td>...</td>\n",
       "      <td>...</td>\n",
       "      <td>...</td>\n",
       "      <td>...</td>\n",
       "      <td>...</td>\n",
       "      <td>...</td>\n",
       "      <td>...</td>\n",
       "      <td>...</td>\n",
       "      <td>...</td>\n",
       "      <td>...</td>\n",
       "      <td>...</td>\n",
       "      <td>...</td>\n",
       "      <td>...</td>\n",
       "      <td>...</td>\n",
       "      <td>...</td>\n",
       "      <td>...</td>\n",
       "      <td>...</td>\n",
       "      <td>...</td>\n",
       "      <td>...</td>\n",
       "      <td>...</td>\n",
       "      <td>...</td>\n",
       "    </tr>\n",
       "    <tr>\n",
       "      <th>7507</th>\n",
       "      <td>vdj_nextgem_hs_pbmc3_TTTGCGCTCTGTCAAG_contig_2</td>\n",
       "      <td>ATCACATAACAACCACATTCCTCCTCTAAAGAAGCCCCCGGGAGCC...</td>\n",
       "      <td>F</td>\n",
       "      <td>T</td>\n",
       "      <td>IGHV1-69*01,IGHV1-69D*01</td>\n",
       "      <td>IGHD3-22*01</td>\n",
       "      <td>IGHJ4*02</td>\n",
       "      <td>CAGGTGCAGCTGGTGCAGTCTGGGGCT...GAAGTGAAGAAGCCTG...</td>\n",
       "      <td>CAGGTGCAGCTGGTGCAGTCTGGGGCT...GAGGTGAAGAAGCCTG...</td>\n",
       "      <td>TGTGCGAGGGGGAAGTATTACTATGATAAAAGTGGGTCTCCACCTC...</td>\n",
       "      <td>...</td>\n",
       "      <td>NYAQKFQGRVSITADESTTTAYMELSSLRSEDSAVYYC</td>\n",
       "      <td>WGQGTLVTVSS</td>\n",
       "      <td>GGIFSSYA</td>\n",
       "      <td>IIPIFGAT</td>\n",
       "      <td>ARGKYYYDKSGSPPPIYSFDY</td>\n",
       "      <td>QVQLVQSGAEVKKPGSSVKVSCKVSGGIFSSYAISWVRQAPGQGLE...</td>\n",
       "      <td>QVQLVQSGAEVKKPGSSVKVSCKVSGGIFSSYAISWVRQAPGQGLE...</td>\n",
       "      <td>YYYDKSG</td>\n",
       "      <td>FDYWGQGTLVTVSS</td>\n",
       "      <td>0.047619</td>\n",
       "    </tr>\n",
       "    <tr>\n",
       "      <th>7508</th>\n",
       "      <td>vdj_nextgem_hs_pbmc3_TTTGGTTGTAAGGATT_contig_1</td>\n",
       "      <td>AGAGCTCTGGAGAAGAGCTGCTCAGTTAGGACCCAGAGGGAACCAT...</td>\n",
       "      <td>F</td>\n",
       "      <td>T</td>\n",
       "      <td>IGKV3-20*01</td>\n",
       "      <td>NaN</td>\n",
       "      <td>IGKJ2*01,IGKJ2*02</td>\n",
       "      <td>GAAATTGTGTTGACGCAGTCTCCAGGCACCCTGTCTTTGTCTCCAG...</td>\n",
       "      <td>GAAATTGTGTTGACGCAGTCTCCAGGCACCCTGTCTTTGTCTCCAG...</td>\n",
       "      <td>TGTCAGCAGTATGATGAGTCACCTCTGACTTTT</td>\n",
       "      <td>...</td>\n",
       "      <td>SRATGIPDRFSGSGSGTDFTLTISRLVPEDFAVYYC</td>\n",
       "      <td>FGQGTKLEIK</td>\n",
       "      <td>QSLTNSQ</td>\n",
       "      <td>GAS</td>\n",
       "      <td>QQYDESPLT</td>\n",
       "      <td>EIVLTQSPGTLSLSPGERATLSCRASQSLTNSQLAWYQQKPGQAPR...</td>\n",
       "      <td>EIVLTQSPGTLSLSPGERATLSCRASQSLTNSQLAWYQQKPGQAPR...</td>\n",
       "      <td>NaN</td>\n",
       "      <td>TFGQGTKLEIK</td>\n",
       "      <td>0.034161</td>\n",
       "    </tr>\n",
       "    <tr>\n",
       "      <th>7509</th>\n",
       "      <td>vdj_nextgem_hs_pbmc3_TTTGGTTGTAAGGATT_contig_2</td>\n",
       "      <td>AGCTCTGGGAGAGGAGCCCCAGCCCTGAGATTCCCAGGTGTTTCCA...</td>\n",
       "      <td>F</td>\n",
       "      <td>T</td>\n",
       "      <td>IGHV3-9*01</td>\n",
       "      <td>IGHD5-18*01,IGHD5-5*01</td>\n",
       "      <td>IGHJ6*03</td>\n",
       "      <td>GAAGTGCAGCTGGTGGAGTCTGGGGGA...GGCTTGGTACAGCCTG...</td>\n",
       "      <td>GAAGTGCAGCTGGTGGAGTCTGGGGGA...GGCTTGGTACAGCCTG...</td>\n",
       "      <td>TGTGCAAAAGACGGATACAGCTATCGTTCGTCATACTACTTTTACA...</td>\n",
       "      <td>...</td>\n",
       "      <td>GYADSVKGRFTISRDNAKNSLYLQMNSLRAEDTALYYC</td>\n",
       "      <td>WGKGTTVTVSS</td>\n",
       "      <td>GFSFDDYV</td>\n",
       "      <td>ISWNSGRT</td>\n",
       "      <td>AKDGYSYRSSYYFYMDV</td>\n",
       "      <td>EVQLVESGGGLVQPGRSLRLSCAASGFSFDDYVMHWVRQAPGKGLE...</td>\n",
       "      <td>EVQLVESGGGLVQPGRSLRLSCAASGFSFDDYVMHWVRQAPGKGLE...</td>\n",
       "      <td>GYSYR</td>\n",
       "      <td>YYFYMDVWGKGTTVTVSS</td>\n",
       "      <td>0.028571</td>\n",
       "    </tr>\n",
       "    <tr>\n",
       "      <th>7510</th>\n",
       "      <td>vdj_nextgem_hs_pbmc3_TTTGTCACAGTAGAGC_contig_1</td>\n",
       "      <td>AGCTCTGAGAGAGGAGCCCAGCCCTGGGATTTTCAGGTGTTTTCAT...</td>\n",
       "      <td>F</td>\n",
       "      <td>T</td>\n",
       "      <td>IGHV3-23*01,IGHV3-23D*01</td>\n",
       "      <td>IGHD4-17*01</td>\n",
       "      <td>IGHJ4*02</td>\n",
       "      <td>GAGGTGCAGCTGTTGGAGTCTGGGGGA...GGCTTGGTACAGCCTG...</td>\n",
       "      <td>GAGGTGCAGCTGTTGGAGTCTGGGGGA...GGCTTGGTACAGCCTG...</td>\n",
       "      <td>TGTGCGAAAGATTTTAGGTCGCCATACGGTGACTACTACTTTGACT...</td>\n",
       "      <td>...</td>\n",
       "      <td>YYADSVKGRFTISRDNSKNTLYLQMNSLRAEDTAVYYC</td>\n",
       "      <td>WGQGTLVTVSS</td>\n",
       "      <td>GFTFSSYA</td>\n",
       "      <td>ISGSGGST</td>\n",
       "      <td>AKDFRSPYGDYYFDY</td>\n",
       "      <td>EVQLLESGGGLVQPGGSLRLSCAASGFTFSSYAMSWVRQAPGKGLE...</td>\n",
       "      <td>EVQLLESGGGLVQPGGSLRLSCAASGFTFSSYAMSWVRQAPGKGLE...</td>\n",
       "      <td>YGD</td>\n",
       "      <td>YFDYWGQGTLVTVSS</td>\n",
       "      <td>0.000000</td>\n",
       "    </tr>\n",
       "    <tr>\n",
       "      <th>7511</th>\n",
       "      <td>vdj_nextgem_hs_pbmc3_TTTGTCACAGTAGAGC_contig_2</td>\n",
       "      <td>GTGGGTCCAGGAGGCAGAACTCTGGGTGTCTCACCATGGCCTGGAT...</td>\n",
       "      <td>F</td>\n",
       "      <td>T</td>\n",
       "      <td>IGLV3-25*03</td>\n",
       "      <td>NaN</td>\n",
       "      <td>IGLJ1*01</td>\n",
       "      <td>TCCTATGAGCTGACACAGCCACCCTCG...GTGTCAGTGTCCCCAG...</td>\n",
       "      <td>TCCTATGAGCTGACACAGCCACCCTCG...GTGTCAGTGTCCCCAG...</td>\n",
       "      <td>TGTCAATCAGCAGACAGCAGTGGTACTTATCTTTATGTCTTC</td>\n",
       "      <td>...</td>\n",
       "      <td>ERPSGIPERFSGSSSGTTVTLTISGVQAEDEADYYC</td>\n",
       "      <td>FGTGTKVTVL</td>\n",
       "      <td>ALPKQY</td>\n",
       "      <td>KDS</td>\n",
       "      <td>QSADSSGTYLYV</td>\n",
       "      <td>SYELTQPPSVSVSPGQTARITCSGDALPKQYAYWYQQKPGQAPVLV...</td>\n",
       "      <td>SYELTQPPSVSVSPGQTARITCSGDALPKQYAYWYQQKPGQAPVLV...</td>\n",
       "      <td>NaN</td>\n",
       "      <td>YVFGTGTKVTVL</td>\n",
       "      <td>0.000000</td>\n",
       "    </tr>\n",
       "  </tbody>\n",
       "</table>\n",
       "<p>7512 rows × 81 columns</p>\n",
       "</div>"
      ],
      "text/plain": [
       "                                         sequence_id  \\\n",
       "0       sc5p_v2_hs_PBMC_1k_AACTCCCAGGCTAGGT_contig_2   \n",
       "1       sc5p_v2_hs_PBMC_1k_AACTCCCAGGCTAGGT_contig_3   \n",
       "2       sc5p_v2_hs_PBMC_1k_AACTCCCAGGCTAGGT_contig_1   \n",
       "3       sc5p_v2_hs_PBMC_1k_AACTCTTGTCATCGGC_contig_3   \n",
       "4       sc5p_v2_hs_PBMC_1k_AACTCTTGTCATCGGC_contig_1   \n",
       "...                                              ...   \n",
       "7507  vdj_nextgem_hs_pbmc3_TTTGCGCTCTGTCAAG_contig_2   \n",
       "7508  vdj_nextgem_hs_pbmc3_TTTGGTTGTAAGGATT_contig_1   \n",
       "7509  vdj_nextgem_hs_pbmc3_TTTGGTTGTAAGGATT_contig_2   \n",
       "7510  vdj_nextgem_hs_pbmc3_TTTGTCACAGTAGAGC_contig_1   \n",
       "7511  vdj_nextgem_hs_pbmc3_TTTGTCACAGTAGAGC_contig_2   \n",
       "\n",
       "                                               sequence rev_comp productive  \\\n",
       "0     ATACTTTCTGAGAGTCCTGGACCTCCTGTGCAAGAACATGAAACAT...        F          T   \n",
       "1     GGCTGGGGTCTCAGGAGGCAGCGCTCTGGGGACGTCTCCACCATGG...        F          F   \n",
       "2     ACTGCGGGGGTAAGAGGTTGTGTCCACCATGGCCTGGACTCCTCTC...        F          T   \n",
       "3     AGCAGAGCTCTGGGGAGTCTGCACCATGGCTTGGACCCCACTCCTC...        F          F   \n",
       "4     AGAGCTCTGGGGAGTCTGCACCATGGCTTGGACCCCACTCCTCTTC...        F          T   \n",
       "...                                                 ...      ...        ...   \n",
       "7507  ATCACATAACAACCACATTCCTCCTCTAAAGAAGCCCCCGGGAGCC...        F          T   \n",
       "7508  AGAGCTCTGGAGAAGAGCTGCTCAGTTAGGACCCAGAGGGAACCAT...        F          T   \n",
       "7509  AGCTCTGGGAGAGGAGCCCCAGCCCTGAGATTCCCAGGTGTTTCCA...        F          T   \n",
       "7510  AGCTCTGAGAGAGGAGCCCAGCCCTGGGATTTTCAGGTGTTTTCAT...        F          T   \n",
       "7511  GTGGGTCCAGGAGGCAGAACTCTGGGTGTCTCACCATGGCCTGGAT...        F          T   \n",
       "\n",
       "                        v_call                  d_call             j_call  \\\n",
       "0                  IGHV4-61*02              IGHD3-3*01           IGHJ6*02   \n",
       "1                   IGLV2-5*01                     NaN           IGLJ3*02   \n",
       "2                  IGLV5-45*03                     NaN           IGLJ3*02   \n",
       "3                  IGLV4-69*01                     NaN           IGLJ3*02   \n",
       "4                  IGLV4-69*01                     NaN           IGLJ1*01   \n",
       "...                        ...                     ...                ...   \n",
       "7507  IGHV1-69*01,IGHV1-69D*01             IGHD3-22*01           IGHJ4*02   \n",
       "7508               IGKV3-20*01                     NaN  IGKJ2*01,IGKJ2*02   \n",
       "7509                IGHV3-9*01  IGHD5-18*01,IGHD5-5*01           IGHJ6*03   \n",
       "7510  IGHV3-23*01,IGHV3-23D*01             IGHD4-17*01           IGHJ4*02   \n",
       "7511               IGLV3-25*03                     NaN           IGLJ1*01   \n",
       "\n",
       "                                     sequence_alignment  \\\n",
       "0     CAGGTGCAGCTGCAGGAGTCGGGCCCA...GGACTGGTGAAGCCTT...   \n",
       "1     CAGTCTGCCCTGATTCAGCCTCCCTCC...GTGTCCGGGTCTCCTG...   \n",
       "2     CAGGCTGTGCTGACTCAGCCGTCTTCC...CTCTCTGCATCTCCTG...   \n",
       "3     CAGCTTGTGCTGACTCAATCGCCCTCT...GCCTCTGCCTCCCTGG...   \n",
       "4     CAGCTTGTGCTGACTCAATCGCCCTCT...GCCTCTGCCTCCCTGG...   \n",
       "...                                                 ...   \n",
       "7507  CAGGTGCAGCTGGTGCAGTCTGGGGCT...GAAGTGAAGAAGCCTG...   \n",
       "7508  GAAATTGTGTTGACGCAGTCTCCAGGCACCCTGTCTTTGTCTCCAG...   \n",
       "7509  GAAGTGCAGCTGGTGGAGTCTGGGGGA...GGCTTGGTACAGCCTG...   \n",
       "7510  GAGGTGCAGCTGTTGGAGTCTGGGGGA...GGCTTGGTACAGCCTG...   \n",
       "7511  TCCTATGAGCTGACACAGCCACCCTCG...GTGTCAGTGTCCCCAG...   \n",
       "\n",
       "                                     germline_alignment  \\\n",
       "0     CAGGTGCAGCTGCAGGAGTCGGGCCCA...GGACTGGTGAAGCCTT...   \n",
       "1     CAGTCTGCCCTGATTCAGCCTCCCTCC...GTGTCCGGGTCTCCTG...   \n",
       "2     CAGGCTGTGCTGACTCAGCCGTCTTCC...CTCTCTGCATCTCCTG...   \n",
       "3     CAGCTTGTGCTGACTCAATCGCCCTCT...GCCTCTGCCTCCCTGG...   \n",
       "4     CAGCTTGTGCTGACTCAATCGCCCTCT...GCCTCTGCCTCCCTGG...   \n",
       "...                                                 ...   \n",
       "7507  CAGGTGCAGCTGGTGCAGTCTGGGGCT...GAGGTGAAGAAGCCTG...   \n",
       "7508  GAAATTGTGTTGACGCAGTCTCCAGGCACCCTGTCTTTGTCTCCAG...   \n",
       "7509  GAAGTGCAGCTGGTGGAGTCTGGGGGA...GGCTTGGTACAGCCTG...   \n",
       "7510  GAGGTGCAGCTGTTGGAGTCTGGGGGA...GGCTTGGTACAGCCTG...   \n",
       "7511  TCCTATGAGCTGACACAGCCACCCTCG...GTGTCAGTGTCCCCAG...   \n",
       "\n",
       "                                               junction  ...  \\\n",
       "0     TGTGCGAGAGAAAATTACGATTTTTGGAGTGGTTATTACCACGGTG...  ...   \n",
       "1              TGCTGCTCATATACAAGCAGTGCCACTTTCTTGGGTGTTC  ...   \n",
       "2                     TGTATGATTTGGCACAGCAGCGCTTGGGTGTTC  ...   \n",
       "3                   TGTCAGACCTGGGGCACTGGCATTCTTGGGTGTTC  ...   \n",
       "4                     TGTCAGACCTGGGGCACTGGCATTTATGTCTTC  ...   \n",
       "...                                                 ...  ...   \n",
       "7507  TGTGCGAGGGGGAAGTATTACTATGATAAAAGTGGGTCTCCACCTC...  ...   \n",
       "7508                  TGTCAGCAGTATGATGAGTCACCTCTGACTTTT  ...   \n",
       "7509  TGTGCAAAAGACGGATACAGCTATCGTTCGTCATACTACTTTTACA...  ...   \n",
       "7510  TGTGCGAAAGATTTTAGGTCGCCATACGGTGACTACTACTTTGACT...  ...   \n",
       "7511         TGTCAATCAGCAGACAGCAGTGGTACTTATCTTTATGTCTTC  ...   \n",
       "\n",
       "                                     fwr3_aa      fwr4_aa     cdr1_aa  \\\n",
       "0     NYNPSLKSRVTISVDTSKNQFSLKLSSVTAADTAVYYC  WGQGTTVTVSS  GGSISSGSYY   \n",
       "1       TQPSGVPDRFSGSKSGNTASMTISGLQAEDEADY*C    RRRDQADRP   SSDVGSYDY   \n",
       "2     QQGSGVPSRFSGSKDASANAGILLISGLQSEDEADYYC   FGGGTKLTVL   SGINVGTYR   \n",
       "3       SKGDGIPDRFSGSSSGAERYLTISSLQSEDEADYYC    SAEGPS*PS     SGHSSYA   \n",
       "4       SKGDGIPDRFSGSSSGAERYLTISSLQSEDEADYYC   FGTGTKVTVL     SGHSSYA   \n",
       "...                                      ...          ...         ...   \n",
       "7507  NYAQKFQGRVSITADESTTTAYMELSSLRSEDSAVYYC  WGQGTLVTVSS    GGIFSSYA   \n",
       "7508    SRATGIPDRFSGSGSGTDFTLTISRLVPEDFAVYYC   FGQGTKLEIK     QSLTNSQ   \n",
       "7509  GYADSVKGRFTISRDNAKNSLYLQMNSLRAEDTALYYC  WGKGTTVTVSS    GFSFDDYV   \n",
       "7510  YYADSVKGRFTISRDNSKNTLYLQMNSLRAEDTAVYYC  WGQGTLVTVSS    GFTFSSYA   \n",
       "7511    ERPSGIPERFSGSSSGTTVTLTISGVQAEDEADYYC   FGTGTKVTVL      ALPKQY   \n",
       "\n",
       "       cdr2_aa                cdr3_aa  \\\n",
       "0      IYTSGST      ARENYDFWSGYYHGADV   \n",
       "1          NVN            CSYTSSATFLG   \n",
       "2      YKSDSDK              MIWHSSAWV   \n",
       "3      LNSDGSH              QTWGTGILG   \n",
       "4      LNSDGSH              QTWGTGIYV   \n",
       "...        ...                    ...   \n",
       "7507  IIPIFGAT  ARGKYYYDKSGSPPPIYSFDY   \n",
       "7508       GAS              QQYDESPLT   \n",
       "7509  ISWNSGRT      AKDGYSYRSSYYFYMDV   \n",
       "7510  ISGSGGST        AKDFRSPYGDYYFDY   \n",
       "7511       KDS           QSADSSGTYLYV   \n",
       "\n",
       "                                  sequence_alignment_aa  \\\n",
       "0     QVQLQESGPGLVKPSQTLSLTCTVSGGSISSGSYYWSWIRQPAGKG...   \n",
       "1     QSALIQPPSVSGSPGQSVTISCTGTSSDVGSYDYVSWYQQHPGTVP...   \n",
       "2     QAVLTQPSSLSASPGASASLTCTLRSGINVGTYRIYWYQQKPGSPP...   \n",
       "3     QLVLTQSPSASASLGASVKLTCTLSSGHSSYAIAWHQQQPEKGPRY...   \n",
       "4     QLVLTQSPSASASLGASVKLTCTLSSGHSSYAIAWHQQQPEKGPRY...   \n",
       "...                                                 ...   \n",
       "7507  QVQLVQSGAEVKKPGSSVKVSCKVSGGIFSSYAISWVRQAPGQGLE...   \n",
       "7508  EIVLTQSPGTLSLSPGERATLSCRASQSLTNSQLAWYQQKPGQAPR...   \n",
       "7509  EVQLVESGGGLVQPGRSLRLSCAASGFSFDDYVMHWVRQAPGKGLE...   \n",
       "7510  EVQLLESGGGLVQPGGSLRLSCAASGFTFSSYAMSWVRQAPGKGLE...   \n",
       "7511  SYELTQPPSVSVSPGQTARITCSGDALPKQYAYWYQQKPGQAPVLV...   \n",
       "\n",
       "                                v_sequence_alignment_aa  \\\n",
       "0     QVQLQESGPGLVKPSQTLSLTCTVSGGSISSGSYYWSWIRQPAGKG...   \n",
       "1     QSALIQPPSVSGSPGQSVTISCTGTSSDVGSYDYVSWYQQHPGTVP...   \n",
       "2     QAVLTQPSSLSASPGASASLTCTLRSGINVGTYRIYWYQQKPGSPP...   \n",
       "3     QLVLTQSPSASASLGASVKLTCTLSSGHSSYAIAWHQQQPEKGPRY...   \n",
       "4     QLVLTQSPSASASLGASVKLTCTLSSGHSSYAIAWHQQQPEKGPRY...   \n",
       "...                                                 ...   \n",
       "7507  QVQLVQSGAEVKKPGSSVKVSCKVSGGIFSSYAISWVRQAPGQGLE...   \n",
       "7508  EIVLTQSPGTLSLSPGERATLSCRASQSLTNSQLAWYQQKPGQAPR...   \n",
       "7509  EVQLVESGGGLVQPGRSLRLSCAASGFSFDDYVMHWVRQAPGKGLE...   \n",
       "7510  EVQLLESGGGLVQPGGSLRLSCAASGFTFSSYAMSWVRQAPGKGLE...   \n",
       "7511  SYELTQPPSVSVSPGQTARITCSGDALPKQYAYWYQQKPGQAPVLV...   \n",
       "\n",
       "      d_sequence_alignment_aa  j_sequence_alignment_aa   mu_freq  \n",
       "0                     YDFWSGY        YHGADVWGQGTTVTVSS  0.008571  \n",
       "1                         NaN             LGVRRRDQADRP  0.000000  \n",
       "2                         NaN              VFGGGTKLTVL  0.000000  \n",
       "3                         NaN             GCSAEGPS*PS*  0.000000  \n",
       "4                         NaN             YVFGTGTKVTVL  0.000000  \n",
       "...                       ...                      ...       ...  \n",
       "7507                  YYYDKSG           FDYWGQGTLVTVSS  0.047619  \n",
       "7508                      NaN              TFGQGTKLEIK  0.034161  \n",
       "7509                    GYSYR       YYFYMDVWGKGTTVTVSS  0.028571  \n",
       "7510                      YGD          YFDYWGQGTLVTVSS  0.000000  \n",
       "7511                      NaN             YVFGTGTKVTVL  0.000000  \n",
       "\n",
       "[7512 rows x 81 columns]"
      ]
     },
     "execution_count": 6,
     "metadata": {},
     "output_type": "execute_result"
    }
   ],
   "source": [
    "# first we read in the 4 bcr files\n",
    "bcr_files = []\n",
    "for sample in samples:\n",
    "    file_location = sample +'/dandelion/data/'+sample+'_b_filtered_contig_igblast_db-pass_genotyped.tsv'\n",
    "    bcr_files.append(pd.read_csv(file_location, sep = '\\t'))\n",
    "bcr = bcr_files[0].append(bcr_files[1:])\n",
    "bcr.reset_index(inplace = True, drop = True)\n",
    "bcr"
   ]
  },
  {
   "cell_type": "code",
   "execution_count": null,
   "metadata": {},
   "outputs": [
    {
     "name": "stdout",
     "output_type": "stream",
     "text": [
      "Scanning for poor quality/ambiguous contigs with 3 cpus\n"
     ]
    }
   ],
   "source": [
    "# The function will return both objects. \n",
    "vdj, adata = ddl.pp.filter_bcr(bcr, adata)"
   ]
  },
  {
   "cell_type": "markdown",
   "metadata": {},
   "source": [
    "The default mode is to filter any remaining 'doublet' light chains, but some may be interested in keeping them. The option to change the behaviour is by toggling:\n",
    "```python\n",
    "filter_lightchains=False\n",
    "```\n",
    "\n",
    "Another default behavour is that if the cell in the BCR table cannot be found in the transcriptomic data, it will also be removed from the BCR data. This can be changed by toggling:\n",
    "```python\n",
    "filter_missing=False\n",
    "```\n",
    "\n",
    "Also, when contigs are marked as poor quality, the default behaviour is to remove the contigs associated with the barcode, and not the barcode from the transcriptome data. This can be toggled to remove the entire cell if the intention is to retain a conservative dataset for both BCR and transcriptome data:\n",
    "```python\n",
    "filter_poorqualitybcr=True\n",
    "```\n",
    "\n",
    "And lastly, the default behaviour is to rescue the heavy chain contig with the highest umi if there are multiple contigs for a single cell. The function requires a minimum fold-difference of 2 between the highest and lowest umi in order to rescue the contig. However, if the contigs have similar number of umis, or if the sum of the umis are very low, then the entire cell will be filtered. The fold-difference cut-off can be specified via the option `umi_foldchange_cutoff`. This can be toggled to be ignored i.e. drop all multiple IGH contigs:\n",
    "```python\n",
    "rescue_igh = False\n",
    "```"
   ]
  },
  {
   "cell_type": "markdown",
   "metadata": {},
   "source": [
    "**Check the output V(D)J table**\n",
    "\n",
    "The vdj table is returned as a `Dandelion` class object in the `.data` slot (described in further detail in the next notebook); if a file was provided for `filter_bcr` above, a new file will be created in the same folder with the `filtered` prefix. Note that this `vdj` table is indexed based on contigs (sequence_id)."
   ]
  },
  {
   "cell_type": "code",
   "execution_count": null,
   "metadata": {},
   "outputs": [],
   "source": [
    "vdj"
   ]
  },
  {
   "cell_type": "markdown",
   "metadata": {},
   "source": [
    "**Check the AnnData object as well**\n",
    "\n",
    "And the `AnnData` object is indexed based on cells."
   ]
  },
  {
   "cell_type": "code",
   "execution_count": null,
   "metadata": {
    "scrolled": true
   },
   "outputs": [],
   "source": [
    "adata"
   ]
  },
  {
   "cell_type": "markdown",
   "metadata": {},
   "source": [
    "The `.obs` slot in the `AnnData` object now contains a few new columns related to BCR:\n",
    "\n",
    "1) **has_bcr :** `True/False` statement marking cells with a matching BCR (pre-contig filtering).\n",
    "\n",
    "2) **filter_bcr_quality :** `True/False` recommendation for filtering cells identified as having poor quality contigs if `filter_poorqualitybcr=True` (pre-contig filtering).\n",
    "\n",
    "3) **filter_bcr_heavy :** `True/False` recommendation for filtering cells identified as heavy chain 'doublets' (after rescue if `rescue_igh=True`) (pre-contig filtering).\n",
    "\n",
    "4) **filter_bcr_light :** `True/False` recommendation for filtering cells identifed as having multiple light chain contigs (pre-contig filtering).\n",
    "\n",
    "***Most importantly:***\n",
    "\n",
    "5) **bcr_QC_pass :** `True/False` statement marking cells where BCR contigs were removed from #1 due to contigs failing QC. (post-contig filtering)\n",
    "\n",
    "6) **filter_bcr :** `True/False` recommendation for filter for cells flagged in 2-4 (post-contig filtering).\n",
    "\n",
    "So this means that to go forward, you want to only select cells that have BCR that passed QC (`has_bcr == True` and `bcr_QC_pass == True`) with filtering recommendation to be false (`filter_bcr == False`)."
   ]
  },
  {
   "cell_type": "markdown",
   "metadata": {},
   "source": [
    "**The number of cells that actually has a matching BCR can be tabluated.**"
   ]
  },
  {
   "cell_type": "code",
   "execution_count": null,
   "metadata": {
    "scrolled": true
   },
   "outputs": [],
   "source": [
    "pd.crosstab(adata.obs['has_bcr'], adata.obs['filter_bcr'])"
   ]
  },
  {
   "cell_type": "code",
   "execution_count": null,
   "metadata": {},
   "outputs": [],
   "source": [
    "pd.crosstab(adata.obs['has_bcr'], adata.obs['bcr_QC_pass'])"
   ]
  },
  {
   "cell_type": "code",
   "execution_count": null,
   "metadata": {},
   "outputs": [],
   "source": [
    "pd.crosstab(adata.obs['bcr_QC_pass'], adata.obs['filter_bcr'])"
   ]
  },
  {
   "cell_type": "markdown",
   "metadata": {},
   "source": [
    "**Now actually filter the AnnData object and run through a standard workflow starting by filtering genes and normalizing the data**\n",
    "\n",
    "Because the 'filtered' `AnnData` object was returned as a filtered but otherwise unprocessed object, we still need to normalize and run through the usual process here. The following is just a standard scanpy workflow."
   ]
  },
  {
   "cell_type": "code",
   "execution_count": null,
   "metadata": {},
   "outputs": [],
   "source": [
    "# filter genes\n",
    "sc.pp.filter_genes(adata, min_cells=3)\n",
    "# Normalize the counts\n",
    "sc.pp.normalize_total(adata, target_sum=1e4)\n",
    "# Logarithmize the data\n",
    "sc.pp.log1p(adata)\n",
    "# Stash the normalised counts\n",
    "adata.raw = adata"
   ]
  },
  {
   "cell_type": "markdown",
   "metadata": {},
   "source": [
    "**Identify highly-variable genes**"
   ]
  },
  {
   "cell_type": "code",
   "execution_count": null,
   "metadata": {},
   "outputs": [],
   "source": [
    "sc.pp.highly_variable_genes(adata, min_mean=0.0125, max_mean=3, min_disp=0.5)\n",
    "sc.pl.highly_variable_genes(adata)"
   ]
  },
  {
   "cell_type": "markdown",
   "metadata": {},
   "source": [
    "**Filter the genes to only those marked as highly-variable**"
   ]
  },
  {
   "cell_type": "code",
   "execution_count": null,
   "metadata": {},
   "outputs": [],
   "source": [
    "adata = adata[:, adata.var.highly_variable]"
   ]
  },
  {
   "cell_type": "markdown",
   "metadata": {},
   "source": [
    "**Regress out effects of total counts per cell and the percentage of mitochondrial genes expressed. Scale the data to unit variance.**"
   ]
  },
  {
   "cell_type": "code",
   "execution_count": null,
   "metadata": {},
   "outputs": [],
   "source": [
    "sc.pp.regress_out(adata, ['n_counts', 'percent_mito'])\n",
    "sc.pp.scale(adata, max_value=10)"
   ]
  },
  {
   "cell_type": "markdown",
   "metadata": {},
   "source": [
    "**Run PCA**"
   ]
  },
  {
   "cell_type": "code",
   "execution_count": null,
   "metadata": {},
   "outputs": [],
   "source": [
    "sc.tl.pca(adata, svd_solver='arpack')\n",
    "sc.pl.pca_variance_ratio(adata, log=True, n_pcs = 50)"
   ]
  },
  {
   "cell_type": "markdown",
   "metadata": {},
   "source": [
    "**Computing the neighborhood graph, umap and clusters**"
   ]
  },
  {
   "cell_type": "code",
   "execution_count": null,
   "metadata": {},
   "outputs": [],
   "source": [
    "# Computing the neighborhood graph\n",
    "sc.pp.neighbors(adata)\n",
    "# Embedding the neighborhood graph\n",
    "sc.tl.umap(adata)\n",
    "# Clustering the neighborhood graph\n",
    "sc.tl.leiden(adata)"
   ]
  },
  {
   "cell_type": "markdown",
   "metadata": {},
   "source": [
    "**Visualizing the clusters and whether or not there's a corresponding BCR**"
   ]
  },
  {
   "cell_type": "code",
   "execution_count": null,
   "metadata": {
    "scrolled": true
   },
   "outputs": [],
   "source": [
    "sc.pl.umap(adata, color=['leiden', 'bcr_QC_pass'])"
   ]
  },
  {
   "cell_type": "markdown",
   "metadata": {},
   "source": [
    "**Visualizing some B cell genes**"
   ]
  },
  {
   "cell_type": "code",
   "execution_count": null,
   "metadata": {
    "scrolled": true
   },
   "outputs": [],
   "source": [
    "sc.pl.umap(adata, color=['IGHM', 'JCHAIN'])"
   ]
  },
  {
   "cell_type": "markdown",
   "metadata": {},
   "source": [
    "**Save AnnData**\n",
    "\n",
    "We can save this `AnnData` object for now."
   ]
  },
  {
   "cell_type": "code",
   "execution_count": null,
   "metadata": {},
   "outputs": [],
   "source": [
    "adata.write('adata.h5ad', compression = 'gzip')"
   ]
  },
  {
   "cell_type": "markdown",
   "metadata": {},
   "source": [
    "**Save dandelion**"
   ]
  },
  {
   "cell_type": "markdown",
   "metadata": {},
   "source": [
    "To save the vdj object, we have two options - either save the `.data` and `.metadata` slots with pandas' functions:"
   ]
  },
  {
   "cell_type": "code",
   "execution_count": null,
   "metadata": {},
   "outputs": [],
   "source": [
    "vdj.data.to_csv('filtered_vdj_table.tsv', sep = '\\t')"
   ]
  },
  {
   "cell_type": "markdown",
   "metadata": {},
   "source": [
    "Or save the whole Dandelion class object with either `.write_h5`, which saves the class to a HDF5 format, or using a pickle-based `.write_pkl` function."
   ]
  },
  {
   "cell_type": "code",
   "execution_count": null,
   "metadata": {},
   "outputs": [],
   "source": [
    "vdj.write_h5('dandelion_results.h5', complib = 'bzip2')"
   ]
  },
  {
   "cell_type": "code",
   "execution_count": null,
   "metadata": {},
   "outputs": [],
   "source": [
    "vdj.write_pkl('dandelion_results.pkl.pbz2') # this will automatically use bzip2 for compression, swith the extension to .gz for gzip"
   ]
  },
  {
   "cell_type": "code",
   "execution_count": null,
   "metadata": {},
   "outputs": [],
   "source": []
  }
 ],
 "metadata": {
  "kernelspec": {
   "display_name": "Python (dandelion)",
   "language": "python",
   "name": "dandelion"
  },
  "language_info": {
   "codemirror_mode": {
    "name": "ipython",
    "version": 3
   },
   "file_extension": ".py",
   "mimetype": "text/x-python",
   "name": "python",
   "nbconvert_exporter": "python",
   "pygments_lexer": "ipython3",
   "version": "3.7.8"
  }
 },
 "nbformat": 4,
 "nbformat_minor": 2
}
