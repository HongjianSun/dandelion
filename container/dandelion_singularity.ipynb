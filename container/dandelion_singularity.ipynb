{
  "nbformat": 4,
  "nbformat_minor": 0,
  "metadata": {
    "colab": {
      "name": "dandelion_singularity.ipynb",
      "provenance": [],
      "collapsed_sections": [],
      "authorship_tag": "ABX9TyPpF8lt0gpAQFBR+MAR6UwF",
      "include_colab_link": true
    },
    "kernelspec": {
      "name": "python3",
      "display_name": "Python 3"
    },
    "language_info": {
      "name": "python"
    }
  },
  "cells": [
    {
      "cell_type": "markdown",
      "metadata": {
        "id": "view-in-github",
        "colab_type": "text"
      },
      "source": [
        "<a href=\"https://colab.research.google.com/github/zktuong/dandelion/blob/master/container/dandelion_singularity.ipynb\" target=\"_parent\"><img src=\"https://colab.research.google.com/assets/colab-badge.svg\" alt=\"Open In Colab\"/></a>"
      ]
    },
    {
      "cell_type": "markdown",
      "source": [
        "# Introduction to `dandelion`\n",
        "<img src='https://github.com/zktuong/dandelion/blob/master/docs/notebooks/img/dandelion_logo_illustration.png?raw=true' />"
      ],
      "metadata": {
        "id": "8RX_Q1Ynbfz-"
      }
    },
    {
      "cell_type": "markdown",
      "source": [
        "## **Set up python environment**"
      ],
      "metadata": {
        "id": "ZwkDT2N3rvAo"
      }
    },
    {
      "cell_type": "code",
      "source": [
        "# install dependencies with pip\n",
        "!python -m pip install -q scanpy[leiden]==1.9.1 sc-dandelion==0.2.4 -U \n",
        "# ignore the pip dependency error"
      ],
      "metadata": {
        "id": "cz_yEFkJQ6xk",
        "outputId": "84293694-875e-457e-be32-ae04590c6dc1",
        "colab": {
          "base_uri": "https://localhost:8080/"
        }
      },
      "execution_count": 1,
      "outputs": [
        {
          "output_type": "stream",
          "name": "stdout",
          "text": [
            "\u001b[K     |████████████████████████████████| 10.3 MB 25.7 MB/s \n",
            "\u001b[31mERROR: pip's dependency resolver does not currently take into account all the packages that are installed. This behaviour is the source of the following dependency conflicts.\n",
            "albumentations 0.1.12 requires imgaug<0.2.7,>=0.2.5, but you have imgaug 0.2.9 which is incompatible.\u001b[0m\n",
            "\u001b[K     |████████████████████████████████| 2.0 MB 27.4 MB/s \n",
            "\u001b[K     |████████████████████████████████| 463 kB 62.1 MB/s \n",
            "\u001b[K     |████████████████████████████████| 42 kB 1.3 MB/s \n",
            "\u001b[K     |████████████████████████████████| 180 kB 54.1 MB/s \n",
            "\u001b[K     |████████████████████████████████| 150 kB 56.2 MB/s \n",
            "\u001b[K     |████████████████████████████████| 1.3 MB 53.9 MB/s \n",
            "\u001b[K     |████████████████████████████████| 96 kB 4.8 MB/s \n",
            "\u001b[K     |████████████████████████████████| 88 kB 6.4 MB/s \n",
            "\u001b[K     |████████████████████████████████| 2.3 MB 63.4 MB/s \n",
            "\u001b[K     |████████████████████████████████| 596 kB 21.3 MB/s \n",
            "\u001b[K     |████████████████████████████████| 109 kB 44.9 MB/s \n",
            "\u001b[K     |████████████████████████████████| 49 kB 4.9 MB/s \n",
            "\u001b[K     |████████████████████████████████| 3.1 MB 41.8 MB/s \n",
            "\u001b[K     |████████████████████████████████| 1.1 MB 49.4 MB/s \n",
            "\u001b[K     |████████████████████████████████| 63 kB 1.5 MB/s \n",
            "\u001b[?25h  Building wheel for adjustText (setup.py) ... \u001b[?25l\u001b[?25hdone\n",
            "  Building wheel for changeo (setup.py) ... \u001b[?25l\u001b[?25hdone\n",
            "  Building wheel for airr (setup.py) ... \u001b[?25l\u001b[?25hdone\n",
            "  Building wheel for distance (setup.py) ... \u001b[?25l\u001b[?25hdone\n",
            "  Building wheel for polyleven (setup.py) ... \u001b[?25l\u001b[?25hdone\n",
            "  Building wheel for presto (setup.py) ... \u001b[?25l\u001b[?25hdone\n",
            "  Building wheel for umap-learn (setup.py) ... \u001b[?25l\u001b[?25hdone\n",
            "  Building wheel for pynndescent (setup.py) ... \u001b[?25l\u001b[?25hdone\n",
            "  Building wheel for yamlordereddictloader (setup.py) ... \u001b[?25l\u001b[?25hdone\n",
            "  Building wheel for python-igraph (setup.py) ... \u001b[?25l\u001b[?25hdone\n",
            "  Building wheel for session-info (setup.py) ... \u001b[?25l\u001b[?25hdone\n"
          ]
        }
      ]
    },
    {
      "cell_type": "code",
      "source": [
        "import dandelion as ddl\n",
        "ddl.logging.print_header()"
      ],
      "metadata": {
        "id": "EGxP8-UOQ63P",
        "outputId": "4899fda1-5b09-424d-9c2e-976c3355c2c9",
        "colab": {
          "base_uri": "https://localhost:8080/"
        }
      },
      "execution_count": 2,
      "outputs": [
        {
          "output_type": "stream",
          "name": "stdout",
          "text": [
            "dandelion==0.2.4 pandas==1.3.5 numpy==1.21.6 matplotlib==3.2.2 networkx==2.6.3 scipy==1.4.1\n"
          ]
        }
      ]
    },
    {
      "cell_type": "markdown",
      "source": [
        "## **Setup Singularity**"
      ],
      "metadata": {
        "id": "MVRO4dzChKuo"
      }
    },
    {
      "cell_type": "markdown",
      "source": [
        "On top of installing `dandelion`, we will set up `singularity` for running the preprocessing as it requires several non-python softwares and database dependencies that are easily taken care of by the container. Please be patient as the following steps will take ~10-15 mins."
      ],
      "metadata": {
        "id": "scqbiROEWA3b"
      }
    },
    {
      "cell_type": "code",
      "execution_count": 3,
      "metadata": {
        "id": "BoUCKJ4yET_k",
        "colab": {
          "base_uri": "https://localhost:8080/"
        },
        "outputId": "55e20379-5024-49f0-dab4-d6d632b51c9e"
      },
      "outputs": [
        {
          "output_type": "stream",
          "name": "stdout",
          "text": [
            "CPU times: user 2.57 s, sys: 374 ms, total: 2.94 s\n",
            "Wall time: 5min 31s\n"
          ]
        }
      ],
      "source": [
        "%%time\n",
        "# set up singularity\n",
        "!echo 'debconf debconf/frontend select Noninteractive' | sudo debconf-set-selections\n",
        "!sudo apt-get -qq update && sudo apt-get install build-essential libssl-dev uuid-dev libgpgme11-dev squashfs-tools libseccomp-dev pkg-config -qq > /dev/null\n",
        "!export VERSION=1.13 OS=linux ARCH=amd64 && wget -q https://dl.google.com/go/go$VERSION.$OS-$ARCH.tar.gz && sudo tar -C /usr/local -xzf go$VERSION.$OS-$ARCH.tar.gz && rm go$VERSION.$OS-$ARCH.tar.gz\n",
        "!if [ ! -d \"singularity\" ]; then git clone https://github.com/sylabs/singularity.git -q; fi\n",
        "!export GOPATH=${HOME}/go && export PATH=/usr/local/go/bin:${PATH}:${GOPATH}/bin && cd singularity && git checkout -q v3.6.1 && ./mconfig >/dev/null 2>/dev/null && make -C ./builddir >/dev/null 2>/dev/null && sudo make -C ./builddir install >/dev/null 2>/dev/null\n",
        "# Download the `dandelion` singularity image\n",
        "!if [ ! -e \"sc-dandelion_latest.sif\" ]; then singularity -s pull library://kt16/default/sc-dandelion:latest; fi"
      ]
    },
    {
      "cell_type": "markdown",
      "source": [
        "Normally, to check whether everything is set up properly, the following command will print out the help message from the preprocessing script in the container:\n",
        "\n",
        "```bash\n",
        "singularity run -B $PWD sc-dandelion_latest.sif dandelion-preprocess --help\n",
        "```\n",
        "\n",
        "However, in order to mount the container in this google colab notebook, we have to add an additional step to convert it into sandbox mode and install `ipykernel`. Also, ignore any `LD_PRELOAD` error message that appears throughout later."
      ],
      "metadata": {
        "id": "8Lod8CKwADl7"
      }
    },
    {
      "cell_type": "code",
      "source": [
        "# Convert to sandbox mode to make it work for google colab notebook\n",
        "!sudo singularity build --sandbox sc-dandelion_latest sc-dandelion_latest.sif && singularity -s exec -u -B $PWD sc-dandelion_latest pip install ipykernel -q"
      ],
      "metadata": {
        "colab": {
          "base_uri": "https://localhost:8080/"
        },
        "id": "_5xa5r2M_8TH",
        "outputId": "2ca1b285-5639-412e-b6c6-31963211499e"
      },
      "execution_count": 4,
      "outputs": [
        {
          "output_type": "stream",
          "name": "stdout",
          "text": [
            "\u001b[34mINFO:   \u001b[0m Starting build...\n",
            "\u001b[34mINFO:   \u001b[0m Creating sandbox directory...\n",
            "\u001b[34mINFO:   \u001b[0m Build complete: sc-dandelion_latest\n",
            "ERROR: ld.so: object '/usr/lib/x86_64-linux-gnu/libtcmalloc.so.4' from LD_PRELOAD cannot be preloaded (cannot open shared object file): ignored.\n",
            "\u001b[33m  WARNING: The script pygmentize is installed in '/root/.local/bin' which is not on PATH.\n",
            "  Consider adding this directory to PATH or, if you prefer to suppress this warning, use --no-warn-script-location.\u001b[0m\u001b[33m\n",
            "\u001b[0m\u001b[33m  WARNING: The scripts jupyter, jupyter-migrate and jupyter-troubleshoot are installed in '/root/.local/bin' which is not on PATH.\n",
            "  Consider adding this directory to PATH or, if you prefer to suppress this warning, use --no-warn-script-location.\u001b[0m\u001b[33m\n",
            "\u001b[0m\u001b[33m  WARNING: The scripts jupyter-kernel, jupyter-kernelspec and jupyter-run are installed in '/root/.local/bin' which is not on PATH.\n",
            "  Consider adding this directory to PATH or, if you prefer to suppress this warning, use --no-warn-script-location.\u001b[0m\u001b[33m\n",
            "\u001b[0m\u001b[33m  WARNING: The scripts ipython and ipython3 are installed in '/root/.local/bin' which is not on PATH.\n",
            "  Consider adding this directory to PATH or, if you prefer to suppress this warning, use --no-warn-script-location.\u001b[0m\u001b[33m\n",
            "\u001b[0m\u001b[33mWARNING: Running pip as the 'root' user can result in broken permissions and conflicting behaviour with the system package manager. It is recommended to use a virtual environment instead: https://pip.pypa.io/warnings/venv\u001b[0m\u001b[33m\n",
            "\u001b[0m"
          ]
        }
      ]
    },
    {
      "cell_type": "markdown",
      "source": [
        "Now to check if everything is set up properly:"
      ],
      "metadata": {
        "id": "_bQcQtUzAPpN"
      }
    },
    {
      "cell_type": "code",
      "source": [
        "# Note: I'm calling the sandbox directory rather than the .sif image file\n",
        "!singularity run -u -B $PWD sc-dandelion_latest dandelion-preprocess --help"
      ],
      "metadata": {
        "colab": {
          "base_uri": "https://localhost:8080/"
        },
        "id": "sBUW3TKQ-XMX",
        "outputId": "a8052be9-6879-4723-94b3-74c5e098f82d"
      },
      "execution_count": 5,
      "outputs": [
        {
          "output_type": "stream",
          "name": "stdout",
          "text": [
            "ERROR: ld.so: object '/usr/lib/x86_64-linux-gnu/libtcmalloc.so.4' from LD_PRELOAD cannot be preloaded (cannot open shared object file): ignored.\n",
            "ERROR: ld.so: object '/usr/lib/x86_64-linux-gnu/libtcmalloc.so.4' from LD_PRELOAD cannot be preloaded (cannot open shared object file): ignored.\n",
            "ERROR: ld.so: object '/usr/lib/x86_64-linux-gnu/libtcmalloc.so.4' from LD_PRELOAD cannot be preloaded (cannot open shared object file): ignored.\n",
            "ERROR: ld.so: object '/usr/lib/x86_64-linux-gnu/libtcmalloc.so.4' from LD_PRELOAD cannot be preloaded (cannot open shared object file): ignored.\n",
            "Software versions:\n",
            "\n",
            "dandelion==0.2.4 pandas==1.4.3 numpy==1.22.4 matplotlib==3.5.2 networkx==2.8.4 scipy==1.8.1\n",
            "usage: dandelion_preprocess.py\n",
            "       [-h]\n",
            "       [--meta META]\n",
            "       [--chain CHAIN]\n",
            "       [--file_prefix FILE_PREFIX]\n",
            "       [--sep SEP]\n",
            "       [--flavour FLAVOUR]\n",
            "       [--skip_format_header]\n",
            "       [--filter_to_high_confidence]\n",
            "       [--skip_reassign_dj]\n",
            "       [--keep_trailing_hyphen_number]\n",
            "       [--clean_output]\n",
            "\n",
            "optional arguments:\n",
            "  -h, --help\n",
            "    show this\n",
            "    help\n",
            "    message and\n",
            "    exit\n",
            "  --meta META\n",
            "    Optional\n",
            "    metadata\n",
            "    CSV file,\n",
            "    header\n",
            "    required,\n",
            "    first\n",
            "    column for\n",
            "    sample ID\n",
            "    matching\n",
            "    folder\n",
            "    names in\n",
            "    the\n",
            "    directory\n",
            "    this is\n",
            "    being ran\n",
            "    in. Can\n",
            "    have a \"pre\n",
            "    fix\"/\"suffi\n",
            "    x\" column\n",
            "    for barcode\n",
            "    alteration,\n",
            "    and \"indivi\n",
            "    dual\" to\n",
            "    provide\n",
            "    tigger\n",
            "    groupings\n",
            "    that isn't\n",
            "    analysing\n",
            "    all of the\n",
            "    samples\n",
            "    jointly.\n",
            "  --chain CHAIN\n",
            "    Whether the\n",
            "    data is TR\n",
            "    or IG, as\n",
            "    the preproc\n",
            "    essing\n",
            "    pipelines\n",
            "    differ.\n",
            "    Defaults to\n",
            "    \"IG\".\n",
            "  --file_prefix FILE_PREFIX\n",
            "    Which set\n",
            "    of contig\n",
            "    files to\n",
            "    take for\n",
            "    the folder.\n",
            "    For a given\n",
            "    PREFIX,\n",
            "    will use PR\n",
            "    EFIX_contig\n",
            "    _annotation\n",
            "    s.csv and P\n",
            "    REFIX_conti\n",
            "    g.fasta.\n",
            "    Defaults to\n",
            "    \"filtered\".\n",
            "  --sep SEP\n",
            "    The\n",
            "    separator\n",
            "    to place\n",
            "    between the\n",
            "    barcode and\n",
            "    prefix/suff\n",
            "    ix. Uses\n",
            "    sample\n",
            "    names as a\n",
            "    prefix for\n",
            "    BCR data if\n",
            "    metadata\n",
            "    CSV file\n",
            "    absent and\n",
            "    more than\n",
            "    one sample\n",
            "    to process.\n",
            "    Defaults to\n",
            "    \"_\".\n",
            "  --flavour FLAVOUR\n",
            "    The\n",
            "    \"flavour\"\n",
            "    for running\n",
            "    igblastn re\n",
            "    annotation.\n",
            "    Accepts\n",
            "    either\n",
            "    \"strict\" or\n",
            "    \"original\".\n",
            "    strict will\n",
            "    enforce\n",
            "    evalue and\n",
            "    penalty\n",
            "    cutoffs.\n",
            "  --skip_format_header\n",
            "    If passed,\n",
            "    skips\n",
            "    formatting\n",
            "    of contig\n",
            "    headers.\n",
            "  --filter_to_high_confidence\n",
            "    If passed,\n",
            "    limits the\n",
            "    contig\n",
            "    space to\n",
            "    ones that\n",
            "    are set to\n",
            "    \"True\" in\n",
            "    the high_co\n",
            "    nfidence\n",
            "    column of\n",
            "    the contig\n",
            "    annotation.\n",
            "  --skip_reassign_dj\n",
            "    If passed,\n",
            "    skips\n",
            "    reassigning\n",
            "    d/j calls\n",
            "    with blastn\n",
            "    when flavou\n",
            "    r=strict.\n",
            "  --keep_trailing_hyphen_number\n",
            "    If passed,\n",
            "    do not\n",
            "    strip out\n",
            "    the\n",
            "    trailing\n",
            "    hyphen\n",
            "    number,\n",
            "    e.g. \"-1\",\n",
            "    from the\n",
            "    end of\n",
            "    barcodes.\n",
            "  --clean_output\n",
            "    If passed,\n",
            "    remove inte\n",
            "    rmediate\n",
            "    files that\n",
            "    aren't the\n",
            "    primary\n",
            "    output from\n",
            "    the run\n",
            "    reults. The\n",
            "    intermediat\n",
            "    e files may\n",
            "    be occasion\n",
            "    ally useful\n",
            "    for\n",
            "    inspection.\n"
          ]
        }
      ]
    },
    {
      "cell_type": "markdown",
      "source": [
        "## **Download example datasets from 10X**\n",
        "\n",
        "We will download example datasets freely available from 10X Genomics. To keep this tutorial short, we will trim to just 5000 contigs in both files but definitely do try it again later on the full datasets!"
      ],
      "metadata": {
        "id": "l8eQnXggICzi"
      }
    },
    {
      "cell_type": "code",
      "source": [
        "!if [ ! -d \"/content/example/sc5p_v2_hs_B_prevax\" ]; then mkdir -p /content/example/sc5p_v2_hs_B_prevax; fi\n",
        "!cd /content/example/sc5p_v2_hs_B_prevax && wget -q -O filtered_feature_bc_matrix.h5 https://cf.10xgenomics.com/samples/cell-vdj/5.0.0/sc5p_v2_hs_B_prevax_10k_5gex_B/sc5p_v2_hs_B_prevax_10k_5gex_B_count_filtered_feature_bc_matrix.h5\n",
        "!cd /content/example/sc5p_v2_hs_B_prevax && wget -q -O filtered_contig.fasta https://cf.10xgenomics.com/samples/cell-vdj/5.0.0/sc5p_v2_hs_B_prevax_10k_5gex_B/sc5p_v2_hs_B_prevax_10k_5gex_B_vdj_b_filtered_contig.fasta\n",
        "!cd /content/example/sc5p_v2_hs_B_prevax && wget -q -O filtered_contig_annotations.csv https://cf.10xgenomics.com/samples/cell-vdj/5.0.0/sc5p_v2_hs_B_prevax_10k_5gex_B/sc5p_v2_hs_B_prevax_10k_5gex_B_vdj_b_filtered_contig_annotations.csv\n",
        "\n",
        "!if [ ! -d \"/content/example/sc5p_v2_hs_B_postvax\" ]; then mkdir -p /content/example/sc5p_v2_hs_B_postvax; fi\n",
        "!cd /content/example/sc5p_v2_hs_B_postvax && wget -q -O filtered_feature_bc_matrix.h5 https://cf.10xgenomics.com/samples/cell-vdj/5.0.0/sc5p_v2_hs_B_postvax_10k_5gex_B/sc5p_v2_hs_B_postvax_10k_5gex_B_count_filtered_feature_bc_matrix.h5\n",
        "!cd /content/example/sc5p_v2_hs_B_postvax && wget -q -O filtered_contig.fasta https://cf.10xgenomics.com/samples/cell-vdj/5.0.0/sc5p_v2_hs_B_postvax_10k_5gex_B/sc5p_v2_hs_B_postvax_10k_5gex_B_vdj_b_filtered_contig.fasta\n",
        "!cd /content/example/sc5p_v2_hs_B_postvax && wget -q -O filtered_contig_annotations.csv https://cf.10xgenomics.com/samples/cell-vdj/5.0.0/sc5p_v2_hs_B_postvax_10k_5gex_B/sc5p_v2_hs_B_postvax_10k_5gex_B_vdj_b_filtered_contig_annotations.csv\n",
        "\n",
        "# trim to just 5000 contigs to make this tutorial shorter\n",
        "!cd /content/example/sc5p_v2_hs_B_prevax && head -10000 filtered_contig.fasta > filtered_5k_contig.fasta && sed -i '1,+9999d' filtered_contig.fasta && head -5001 filtered_contig_annotations.csv > filtered_5k_contig_annotations.csv && sed -i '1,+5000d' filtered_contig_annotations.csv\n",
        "!cd /content/example/sc5p_v2_hs_B_postvax && head -10000 filtered_contig.fasta > filtered_5k_contig.fasta && sed -i '1,+9999d' filtered_contig.fasta && head -5001 filtered_contig_annotations.csv > filtered_5k_contig_annotations.csv && sed -i '1,+5000d' filtered_contig_annotations.csv"
      ],
      "metadata": {
        "id": "58iS20Iw9WgO"
      },
      "execution_count": 6,
      "outputs": []
    },
    {
      "cell_type": "markdown",
      "source": [
        "## **Preprocessing 10x outputs with singularity image**\n",
        "\n",
        "As there are two folders to process, we will create a `.csv` file for the `--meta` option that tells the script which folders (`sample_id`) to run the preprocessing, whether to append any `prefix`/`suffix`, and whether the folders belong to a particular `individual` (for [TIgGER](https://tigger.readthedocs.io/))."
      ],
      "metadata": {
        "id": "JVduiOVQIPwV"
      }
    },
    {
      "cell_type": "code",
      "source": [
        "import pandas as pd\n",
        "meta = pd.DataFrame([['sc5p_v2_hs_B_prevax', 'prevax', 'sc5p_v2'], \n",
        "                     ['sc5p_v2_hs_B_postvax', 'postvax', 'sc5p_v2']], \n",
        "                    columns = ['sample_id', 'prefix', 'individual'])\n",
        "meta.to_csv('/content/example/meta.csv', index = False)\n",
        "meta"
      ],
      "metadata": {
        "colab": {
          "base_uri": "https://localhost:8080/",
          "height": 112
        },
        "id": "V1_EndSTH99b",
        "outputId": "ec41314e-b7df-4879-9966-c3cf7521f04a"
      },
      "execution_count": 7,
      "outputs": [
        {
          "output_type": "execute_result",
          "data": {
            "text/plain": [
              "              sample_id   prefix individual\n",
              "0   sc5p_v2_hs_B_prevax   prevax    sc5p_v2\n",
              "1  sc5p_v2_hs_B_postvax  postvax    sc5p_v2"
            ],
            "text/html": [
              "\n",
              "  <div id=\"df-e060b2be-e7b6-4f15-8fd4-62153e055038\">\n",
              "    <div class=\"colab-df-container\">\n",
              "      <div>\n",
              "<style scoped>\n",
              "    .dataframe tbody tr th:only-of-type {\n",
              "        vertical-align: middle;\n",
              "    }\n",
              "\n",
              "    .dataframe tbody tr th {\n",
              "        vertical-align: top;\n",
              "    }\n",
              "\n",
              "    .dataframe thead th {\n",
              "        text-align: right;\n",
              "    }\n",
              "</style>\n",
              "<table border=\"1\" class=\"dataframe\">\n",
              "  <thead>\n",
              "    <tr style=\"text-align: right;\">\n",
              "      <th></th>\n",
              "      <th>sample_id</th>\n",
              "      <th>prefix</th>\n",
              "      <th>individual</th>\n",
              "    </tr>\n",
              "  </thead>\n",
              "  <tbody>\n",
              "    <tr>\n",
              "      <th>0</th>\n",
              "      <td>sc5p_v2_hs_B_prevax</td>\n",
              "      <td>prevax</td>\n",
              "      <td>sc5p_v2</td>\n",
              "    </tr>\n",
              "    <tr>\n",
              "      <th>1</th>\n",
              "      <td>sc5p_v2_hs_B_postvax</td>\n",
              "      <td>postvax</td>\n",
              "      <td>sc5p_v2</td>\n",
              "    </tr>\n",
              "  </tbody>\n",
              "</table>\n",
              "</div>\n",
              "      <button class=\"colab-df-convert\" onclick=\"convertToInteractive('df-e060b2be-e7b6-4f15-8fd4-62153e055038')\"\n",
              "              title=\"Convert this dataframe to an interactive table.\"\n",
              "              style=\"display:none;\">\n",
              "        \n",
              "  <svg xmlns=\"http://www.w3.org/2000/svg\" height=\"24px\"viewBox=\"0 0 24 24\"\n",
              "       width=\"24px\">\n",
              "    <path d=\"M0 0h24v24H0V0z\" fill=\"none\"/>\n",
              "    <path d=\"M18.56 5.44l.94 2.06.94-2.06 2.06-.94-2.06-.94-.94-2.06-.94 2.06-2.06.94zm-11 1L8.5 8.5l.94-2.06 2.06-.94-2.06-.94L8.5 2.5l-.94 2.06-2.06.94zm10 10l.94 2.06.94-2.06 2.06-.94-2.06-.94-.94-2.06-.94 2.06-2.06.94z\"/><path d=\"M17.41 7.96l-1.37-1.37c-.4-.4-.92-.59-1.43-.59-.52 0-1.04.2-1.43.59L10.3 9.45l-7.72 7.72c-.78.78-.78 2.05 0 2.83L4 21.41c.39.39.9.59 1.41.59.51 0 1.02-.2 1.41-.59l7.78-7.78 2.81-2.81c.8-.78.8-2.07 0-2.86zM5.41 20L4 18.59l7.72-7.72 1.47 1.35L5.41 20z\"/>\n",
              "  </svg>\n",
              "      </button>\n",
              "      \n",
              "  <style>\n",
              "    .colab-df-container {\n",
              "      display:flex;\n",
              "      flex-wrap:wrap;\n",
              "      gap: 12px;\n",
              "    }\n",
              "\n",
              "    .colab-df-convert {\n",
              "      background-color: #E8F0FE;\n",
              "      border: none;\n",
              "      border-radius: 50%;\n",
              "      cursor: pointer;\n",
              "      display: none;\n",
              "      fill: #1967D2;\n",
              "      height: 32px;\n",
              "      padding: 0 0 0 0;\n",
              "      width: 32px;\n",
              "    }\n",
              "\n",
              "    .colab-df-convert:hover {\n",
              "      background-color: #E2EBFA;\n",
              "      box-shadow: 0px 1px 2px rgba(60, 64, 67, 0.3), 0px 1px 3px 1px rgba(60, 64, 67, 0.15);\n",
              "      fill: #174EA6;\n",
              "    }\n",
              "\n",
              "    [theme=dark] .colab-df-convert {\n",
              "      background-color: #3B4455;\n",
              "      fill: #D2E3FC;\n",
              "    }\n",
              "\n",
              "    [theme=dark] .colab-df-convert:hover {\n",
              "      background-color: #434B5C;\n",
              "      box-shadow: 0px 1px 3px 1px rgba(0, 0, 0, 0.15);\n",
              "      filter: drop-shadow(0px 1px 2px rgba(0, 0, 0, 0.3));\n",
              "      fill: #FFFFFF;\n",
              "    }\n",
              "  </style>\n",
              "\n",
              "      <script>\n",
              "        const buttonEl =\n",
              "          document.querySelector('#df-e060b2be-e7b6-4f15-8fd4-62153e055038 button.colab-df-convert');\n",
              "        buttonEl.style.display =\n",
              "          google.colab.kernel.accessAllowed ? 'block' : 'none';\n",
              "\n",
              "        async function convertToInteractive(key) {\n",
              "          const element = document.querySelector('#df-e060b2be-e7b6-4f15-8fd4-62153e055038');\n",
              "          const dataTable =\n",
              "            await google.colab.kernel.invokeFunction('convertToInteractive',\n",
              "                                                     [key], {});\n",
              "          if (!dataTable) return;\n",
              "\n",
              "          const docLinkHtml = 'Like what you see? Visit the ' +\n",
              "            '<a target=\"_blank\" href=https://colab.research.google.com/notebooks/data_table.ipynb>data table notebook</a>'\n",
              "            + ' to learn more about interactive tables.';\n",
              "          element.innerHTML = '';\n",
              "          dataTable['output_type'] = 'display_data';\n",
              "          await google.colab.output.renderOutput(dataTable, element);\n",
              "          const docLink = document.createElement('div');\n",
              "          docLink.innerHTML = docLinkHtml;\n",
              "          element.appendChild(docLink);\n",
              "        }\n",
              "      </script>\n",
              "    </div>\n",
              "  </div>\n",
              "  "
            ]
          },
          "metadata": {},
          "execution_count": 7
        }
      ]
    },
    {
      "cell_type": "markdown",
      "source": [
        "And now to actually run the preprocessing. The number of input contigs and `cpus` available determine how fast this step completes. In this google colab notebook, it typically takes ~15 min to process the two folders."
      ],
      "metadata": {
        "id": "G3Ar2MDSKLWH"
      }
    },
    {
      "cell_type": "code",
      "source": [
        "%%time\n",
        "!cd /content/example && singularity run -u -B $PWD ../sc-dandelion_latest dandelion-preprocess \\\n",
        "  --meta meta.csv \\\n",
        "  --chain IG \\\n",
        "  --file_prefix filtered_5k \\\n",
        "  --keep_trailing_hyphen_number"
      ],
      "metadata": {
        "colab": {
          "base_uri": "https://localhost:8080/"
        },
        "id": "wvdC8anSGh0I",
        "outputId": "3022f255-1ef4-4902-9854-5763a1c59bcb"
      },
      "execution_count": 8,
      "outputs": [
        {
          "output_type": "stream",
          "name": "stdout",
          "text": [
            "ERROR: ld.so: object '/usr/lib/x86_64-linux-gnu/libtcmalloc.so.4' from LD_PRELOAD cannot be preloaded (cannot open shared object file): ignored.\n",
            "ERROR: ld.so: object '/usr/lib/x86_64-linux-gnu/libtcmalloc.so.4' from LD_PRELOAD cannot be preloaded (cannot open shared object file): ignored.\n",
            "Software versions:\n",
            "\n",
            "dandelion==0.2.4 pandas==1.4.3 numpy==1.22.4 matplotlib==3.5.2 networkx==2.8.4 scipy==1.8.1\n",
            "\n",
            "Beginning preprocessing\n",
            "\n",
            "command line parameters:\n",
            ": \n",
            "--------------------------------------------------------------\n",
            "    --meta = meta.csv\n",
            "    --chain = ig\n",
            "    --file_prefix = filtered_5k\n",
            "    --sep = _\n",
            "    --flavour = strict\n",
            "    --skip_format_header = False\n",
            "    --filter_to_high_confidence = False\n",
            "    --keep_trailing_hyphen_number = True\n",
            "    --skip_reassign_dj = False\n",
            "    --clean_output = False\n",
            "--------------------------------------------------------------\n",
            "\n",
            "Formating fasta(s) : 100% 2/2 [00:00<00:00,  4.88it/s]\n",
            "Assigning genes :   0% 0/2 [00:00<?, ?it/s]Processing sc5p_v2_hs_B_prevax/dandelion/filtered_5k_contig.fasta \n",
            "\n",
            "Running command: igblastn -germline_db_V /share/database/igblast//database/imgt_human_ig_v -germline_db_D /share/database/igblast//database/imgt_human_ig_d -germline_db_J /share/database/igblast//database/imgt_human_ig_j -auxiliary_data /share/database/igblast/optional_file/human_gl.aux -domain_system imgt -ig_seqtype Ig -organism human -outfmt 7 std qseq sseq btop -query sc5p_v2_hs_B_prevax/dandelion/filtered_5k_contig.fasta -out /content/example/sc5p_v2_hs_B_prevax/dandelion/tmp/filtered_5k_contig_igblast.fmt7 -evalue 0.0001 -min_D_match 9\n",
            "\n",
            "ERROR: ld.so: object '/usr/lib/x86_64-linux-gnu/libtcmalloc.so.4' from LD_PRELOAD cannot be preloaded (cannot open shared object file): ignored.\n",
            "Running command: igblastn -germline_db_V /share/database/igblast//database/imgt_human_ig_v -germline_db_D /share/database/igblast//database/imgt_human_ig_d -germline_db_J /share/database/igblast//database/imgt_human_ig_j -auxiliary_data /share/database/igblast/optional_file/human_gl.aux -domain_system imgt -ig_seqtype Ig -organism human -outfmt 19 -query sc5p_v2_hs_B_prevax/dandelion/filtered_5k_contig.fasta -out /content/example/sc5p_v2_hs_B_prevax/dandelion/tmp/filtered_5k_contig_igblast.tsv -evalue 0.0001 -min_D_match 9\n",
            "\n",
            "ERROR: ld.so: object '/usr/lib/x86_64-linux-gnu/libtcmalloc.so.4' from LD_PRELOAD cannot be preloaded (cannot open shared object file): ignored.\n",
            "Running command: MakeDb.py igblast -i sc5p_v2_hs_B_prevax/dandelion/tmp/filtered_5k_contig_igblast.fmt7 -s sc5p_v2_hs_B_prevax/dandelion/filtered_5k_contig.fasta -r /share/database/germlines/imgt/human/vdj/ --10x sc5p_v2_hs_B_prevax/dandelion/filtered_5k_contig_annotations.csv --extended\n",
            "\n",
            "ERROR: ld.so: object '/usr/lib/x86_64-linux-gnu/libtcmalloc.so.4' from LD_PRELOAD cannot be preloaded (cannot open shared object file): ignored.\n",
            "         START> MakeDB\n",
            "       COMMAND> igblast\n",
            "  ALIGNER_FILE> filtered_5k_contig_igblast.fmt7\n",
            "      SEQ_FILE> filtered_5k_contig.fasta\n",
            "       ASIS_ID> False\n",
            "    ASIS_CALLS> False\n",
            "       PARTIAL> False\n",
            "      EXTENDED> True\n",
            "INFER_JUNCTION> False\n",
            "\n",
            "PROGRESS> 21:28:16 |Done                | 0.0 min\n",
            "\n",
            "PROGRESS> 21:28:25 |####################| 100% (5,000) 0.2 min\n",
            "\n",
            "OUTPUT> filtered_5k_contig_igblast_db-pass.tsv\n",
            "  PASS> 4990\n",
            "  FAIL> 10\n",
            "   END> MakeDb\n",
            "\n",
            "Running command: MakeDb.py igblast -i sc5p_v2_hs_B_prevax/dandelion/tmp/filtered_5k_contig_igblast.fmt7 -s sc5p_v2_hs_B_prevax/dandelion/filtered_5k_contig.fasta -r /share/database/germlines/imgt/human/vdj/ --10x sc5p_v2_hs_B_prevax/dandelion/filtered_5k_contig_annotations.csv --extended --failed\n",
            "\n",
            "ERROR: ld.so: object '/usr/lib/x86_64-linux-gnu/libtcmalloc.so.4' from LD_PRELOAD cannot be preloaded (cannot open shared object file): ignored.\n",
            "         START> MakeDB\n",
            "       COMMAND> igblast\n",
            "  ALIGNER_FILE> filtered_5k_contig_igblast.fmt7\n",
            "      SEQ_FILE> filtered_5k_contig.fasta\n",
            "       ASIS_ID> False\n",
            "    ASIS_CALLS> False\n",
            "       PARTIAL> False\n",
            "      EXTENDED> True\n",
            "INFER_JUNCTION> False\n",
            "\n",
            "PROGRESS> 21:28:25 |Done                | 0.0 min\n",
            "\n",
            "PROGRESS> 21:28:34 |####################| 100% (5,000) 0.1 min\n",
            "\n",
            "OUTPUT> filtered_5k_contig_igblast_db-pass.tsv\n",
            "  PASS> 4990\n",
            "  FAIL> 10\n",
            "   END> MakeDb\n",
            "\n",
            "Running command: blastn -db /share/database/igblast/database/imgt_human_ig_j -evalue 0.0001 -max_hsps 10 -outfmt 6 qseqid sseqid pident length mismatch gapopen qstart qend sstart send evalue bitscore qseq sseq -query sc5p_v2_hs_B_prevax/dandelion/filtered_5k_contig.fasta -dust no -word_size 7\n",
            "\n",
            "ERROR: ld.so: object '/usr/lib/x86_64-linux-gnu/libtcmalloc.so.4' from LD_PRELOAD cannot be preloaded (cannot open shared object file): ignored.\n",
            "Running command: blastn -db /share/database/igblast/database/imgt_human_ig_d -evalue 0.001 -max_hsps 10 -outfmt 6 qseqid sseqid pident length mismatch gapopen qstart qend sstart send evalue bitscore qseq sseq -query sc5p_v2_hs_B_prevax/dandelion/filtered_5k_contig.fasta -dust no -word_size 9\n",
            "\n",
            "ERROR: ld.so: object '/usr/lib/x86_64-linux-gnu/libtcmalloc.so.4' from LD_PRELOAD cannot be preloaded (cannot open shared object file): ignored.\n",
            "Assigning genes :  50% 1/2 [06:21<06:21, 381.50s/it]Processing sc5p_v2_hs_B_postvax/dandelion/filtered_5k_contig.fasta \n",
            "\n",
            "Running command: igblastn -germline_db_V /share/database/igblast//database/imgt_human_ig_v -germline_db_D /share/database/igblast//database/imgt_human_ig_d -germline_db_J /share/database/igblast//database/imgt_human_ig_j -auxiliary_data /share/database/igblast/optional_file/human_gl.aux -domain_system imgt -ig_seqtype Ig -organism human -outfmt 7 std qseq sseq btop -query sc5p_v2_hs_B_postvax/dandelion/filtered_5k_contig.fasta -out /content/example/sc5p_v2_hs_B_postvax/dandelion/tmp/filtered_5k_contig_igblast.fmt7 -evalue 0.0001 -min_D_match 9\n",
            "\n",
            "ERROR: ld.so: object '/usr/lib/x86_64-linux-gnu/libtcmalloc.so.4' from LD_PRELOAD cannot be preloaded (cannot open shared object file): ignored.\n",
            "Running command: igblastn -germline_db_V /share/database/igblast//database/imgt_human_ig_v -germline_db_D /share/database/igblast//database/imgt_human_ig_d -germline_db_J /share/database/igblast//database/imgt_human_ig_j -auxiliary_data /share/database/igblast/optional_file/human_gl.aux -domain_system imgt -ig_seqtype Ig -organism human -outfmt 19 -query sc5p_v2_hs_B_postvax/dandelion/filtered_5k_contig.fasta -out /content/example/sc5p_v2_hs_B_postvax/dandelion/tmp/filtered_5k_contig_igblast.tsv -evalue 0.0001 -min_D_match 9\n",
            "\n",
            "ERROR: ld.so: object '/usr/lib/x86_64-linux-gnu/libtcmalloc.so.4' from LD_PRELOAD cannot be preloaded (cannot open shared object file): ignored.\n",
            "Running command: MakeDb.py igblast -i sc5p_v2_hs_B_postvax/dandelion/tmp/filtered_5k_contig_igblast.fmt7 -s sc5p_v2_hs_B_postvax/dandelion/filtered_5k_contig.fasta -r /share/database/germlines/imgt/human/vdj/ --10x sc5p_v2_hs_B_postvax/dandelion/filtered_5k_contig_annotations.csv --extended\n",
            "\n",
            "ERROR: ld.so: object '/usr/lib/x86_64-linux-gnu/libtcmalloc.so.4' from LD_PRELOAD cannot be preloaded (cannot open shared object file): ignored.\n",
            "         START> MakeDB\n",
            "       COMMAND> igblast\n",
            "  ALIGNER_FILE> filtered_5k_contig_igblast.fmt7\n",
            "      SEQ_FILE> filtered_5k_contig.fasta\n",
            "       ASIS_ID> False\n",
            "    ASIS_CALLS> False\n",
            "       PARTIAL> False\n",
            "      EXTENDED> True\n",
            "INFER_JUNCTION> False\n",
            "\n",
            "PROGRESS> 21:34:35 |Done                | 0.0 min\n",
            "\n",
            "PROGRESS> 21:34:44 |####################| 100% (5,000) 0.1 min\n",
            "\n",
            "OUTPUT> filtered_5k_contig_igblast_db-pass.tsv\n",
            "  PASS> 4989\n",
            "  FAIL> 11\n",
            "   END> MakeDb\n",
            "\n",
            "Running command: MakeDb.py igblast -i sc5p_v2_hs_B_postvax/dandelion/tmp/filtered_5k_contig_igblast.fmt7 -s sc5p_v2_hs_B_postvax/dandelion/filtered_5k_contig.fasta -r /share/database/germlines/imgt/human/vdj/ --10x sc5p_v2_hs_B_postvax/dandelion/filtered_5k_contig_annotations.csv --extended --failed\n",
            "\n",
            "ERROR: ld.so: object '/usr/lib/x86_64-linux-gnu/libtcmalloc.so.4' from LD_PRELOAD cannot be preloaded (cannot open shared object file): ignored.\n",
            "         START> MakeDB\n",
            "       COMMAND> igblast\n",
            "  ALIGNER_FILE> filtered_5k_contig_igblast.fmt7\n",
            "      SEQ_FILE> filtered_5k_contig.fasta\n",
            "       ASIS_ID> False\n",
            "    ASIS_CALLS> False\n",
            "       PARTIAL> False\n",
            "      EXTENDED> True\n",
            "INFER_JUNCTION> False\n",
            "\n",
            "PROGRESS> 21:34:45 |Done                | 0.0 min\n",
            "\n",
            "PROGRESS> 21:34:53 |####################| 100% (5,000) 0.1 min\n",
            "\n",
            "OUTPUT> filtered_5k_contig_igblast_db-pass.tsv\n",
            "  PASS> 4989\n",
            "  FAIL> 11\n",
            "   END> MakeDb\n",
            "\n",
            "Running command: blastn -db /share/database/igblast/database/imgt_human_ig_j -evalue 0.0001 -max_hsps 10 -outfmt 6 qseqid sseqid pident length mismatch gapopen qstart qend sstart send evalue bitscore qseq sseq -query sc5p_v2_hs_B_postvax/dandelion/filtered_5k_contig.fasta -dust no -word_size 7\n",
            "\n",
            "ERROR: ld.so: object '/usr/lib/x86_64-linux-gnu/libtcmalloc.so.4' from LD_PRELOAD cannot be preloaded (cannot open shared object file): ignored.\n",
            "Running command: blastn -db /share/database/igblast/database/imgt_human_ig_d -evalue 0.001 -max_hsps 10 -outfmt 6 qseqid sseqid pident length mismatch gapopen qstart qend sstart send evalue bitscore qseq sseq -query sc5p_v2_hs_B_postvax/dandelion/filtered_5k_contig.fasta -dust no -word_size 9\n",
            "\n",
            "ERROR: ld.so: object '/usr/lib/x86_64-linux-gnu/libtcmalloc.so.4' from LD_PRELOAD cannot be preloaded (cannot open shared object file): ignored.\n",
            "Assigning genes : 100% 2/2 [12:39<00:00, 379.88s/it]\n",
            "Processing data file(s) :   0% 0/2 [00:00<?, ?it/s]Running command: ParseDb.py select -d sc5p_v2_hs_B_prevax/dandelion/tmp/filtered_5k_contig_igblast_db-pass.tsv -f locus -u IGH --logic all --regex --outname filtered_5k_contig_igblast_db-pass_heavy\n",
            "\n",
            "ERROR: ld.so: object '/usr/lib/x86_64-linux-gnu/libtcmalloc.so.4' from LD_PRELOAD cannot be preloaded (cannot open shared object file): ignored.\n",
            "  START> ParseDb\n",
            "COMMAND> select\n",
            "   FILE> filtered_5k_contig_igblast_db-pass.tsv\n",
            " FIELDS> locus\n",
            " VALUES> IGH\n",
            "  REGEX> True\n",
            "\n",
            "PROGRESS> 21:35:07 |####################| 100% (4,990) 0.0 min\n",
            "\n",
            "   OUTPUT> filtered_5k_contig_igblast_db-pass_heavy_parse-select.tsv\n",
            "  RECORDS> 4990\n",
            " SELECTED> 2428\n",
            "DISCARDED> 2562\n",
            "      END> ParseDb\n",
            "\n",
            "Running command: ParseDb.py select -d sc5p_v2_hs_B_prevax/dandelion/tmp/filtered_5k_contig_igblast_db-pass.tsv -f locus -u IG[LK] --logic all --regex --outname filtered_5k_contig_igblast_db-pass_light\n",
            "\n",
            "ERROR: ld.so: object '/usr/lib/x86_64-linux-gnu/libtcmalloc.so.4' from LD_PRELOAD cannot be preloaded (cannot open shared object file): ignored.\n",
            "  START> ParseDb\n",
            "COMMAND> select\n",
            "   FILE> filtered_5k_contig_igblast_db-pass.tsv\n",
            " FIELDS> locus\n",
            " VALUES> IG[LK]\n",
            "  REGEX> True\n",
            "\n",
            "PROGRESS> 21:35:08 |####################| 100% (4,990) 0.0 min\n",
            "\n",
            "   OUTPUT> filtered_5k_contig_igblast_db-pass_light_parse-select.tsv\n",
            "  RECORDS> 4990\n",
            " SELECTED> 2562\n",
            "DISCARDED> 2428\n",
            "      END> ParseDb\n",
            "\n",
            "Processing data file(s) :  50% 1/2 [00:01<00:01,  1.84s/it]Running command: ParseDb.py select -d sc5p_v2_hs_B_postvax/dandelion/tmp/filtered_5k_contig_igblast_db-pass.tsv -f locus -u IGH --logic all --regex --outname filtered_5k_contig_igblast_db-pass_heavy\n",
            "\n",
            "ERROR: ld.so: object '/usr/lib/x86_64-linux-gnu/libtcmalloc.so.4' from LD_PRELOAD cannot be preloaded (cannot open shared object file): ignored.\n",
            "  START> ParseDb\n",
            "COMMAND> select\n",
            "   FILE> filtered_5k_contig_igblast_db-pass.tsv\n",
            " FIELDS> locus\n",
            " VALUES> IGH\n",
            "  REGEX> True\n",
            "\n",
            "PROGRESS> 21:35:09 |####################| 100% (4,989) 0.0 min\n",
            "\n",
            "   OUTPUT> filtered_5k_contig_igblast_db-pass_heavy_parse-select.tsv\n",
            "  RECORDS> 4989\n",
            " SELECTED> 2439\n",
            "DISCARDED> 2550\n",
            "      END> ParseDb\n",
            "\n",
            "Running command: ParseDb.py select -d sc5p_v2_hs_B_postvax/dandelion/tmp/filtered_5k_contig_igblast_db-pass.tsv -f locus -u IG[LK] --logic all --regex --outname filtered_5k_contig_igblast_db-pass_light\n",
            "\n",
            "ERROR: ld.so: object '/usr/lib/x86_64-linux-gnu/libtcmalloc.so.4' from LD_PRELOAD cannot be preloaded (cannot open shared object file): ignored.\n",
            "  START> ParseDb\n",
            "COMMAND> select\n",
            "   FILE> filtered_5k_contig_igblast_db-pass.tsv\n",
            " FIELDS> locus\n",
            " VALUES> IG[LK]\n",
            "  REGEX> True\n",
            "\n",
            "PROGRESS> 21:35:09 |####################| 100% (4,989) 0.0 min\n",
            "\n",
            "   OUTPUT> filtered_5k_contig_igblast_db-pass_light_parse-select.tsv\n",
            "  RECORDS> 4989\n",
            " SELECTED> 2550\n",
            "DISCARDED> 2439\n",
            "      END> ParseDb\n",
            "\n",
            "Processing data file(s) : 100% 2/2 [00:03<00:00,  1.83s/it]\n",
            "Concatenating objects\n",
            "Running command: awk \"FNR==1 && NR!=1 { while (/^sequence_id/) getline; } 1 {print}\" sc5p_v2_hs_B_prevax/dandelion/tmp/filtered_5k_contig_igblast_db-pass_heavy_parse-select.tsv sc5p_v2_hs_B_postvax/dandelion/tmp/filtered_5k_contig_igblast_db-pass_heavy_parse-select.tsv > sc5p_v2/sc5p_v2_heavy_igblast_db-pass.tsv\n",
            "\n",
            "Running command: awk \"FNR==1 && NR!=1 { while (/^sequence_id/) getline; } 1 {print}\" sc5p_v2_hs_B_prevax/dandelion/tmp/filtered_5k_contig_igblast_db-pass_light_parse-select.tsv sc5p_v2_hs_B_postvax/dandelion/tmp/filtered_5k_contig_igblast_db-pass_light_parse-select.tsv > sc5p_v2/sc5p_v2_light_igblast_db-pass.tsv\n",
            "\n",
            "ERROR: ld.so: object '/usr/lib/x86_64-linux-gnu/libtcmalloc.so.4' from LD_PRELOAD cannot be preloaded (cannot open shared object file): ignored.\n",
            "ERROR: ld.so: object '/usr/lib/x86_64-linux-gnu/libtcmalloc.so.4' from LD_PRELOAD cannot be preloaded (cannot open shared object file): ignored.\n",
            "ERROR: ld.so: object '/usr/lib/x86_64-linux-gnu/libtcmalloc.so.4' from LD_PRELOAD cannot be preloaded (cannot open shared object file): ignored.\n",
            "ERROR: ld.so: object '/usr/lib/x86_64-linux-gnu/libtcmalloc.so.4' from LD_PRELOAD cannot be preloaded (cannot open shared object file): ignored.\n",
            "      Running tigger-genotype with novel allele discovery.\n",
            "      Reassigning alleles\n",
            "Running command: tigger-genotype.R -d sc5p_v2/sc5p_v2_heavy_igblast_db-pass.tsv -r /share/database/germlines/imgt/human/vdj/imgt_human_IGHV.fasta -n sc5p_v2_heavy_igblast_db-pass -N YES -o sc5p_v2 -f airr\n",
            "\n",
            "ERROR: ld.so: object '/usr/lib/x86_64-linux-gnu/libtcmalloc.so.4' from LD_PRELOAD cannot be preloaded (cannot open shared object file): ignored.\n",
            "ERROR: ld.so: object '/usr/lib/x86_64-linux-gnu/libtcmalloc.so.4' from LD_PRELOAD cannot be preloaded (cannot open shared object file): ignored.\n",
            "ERROR: ld.so: object '/usr/lib/x86_64-linux-gnu/libtcmalloc.so.4' from LD_PRELOAD cannot be preloaded (cannot open shared object file): ignored.\n",
            "ERROR: ld.so: object '/usr/lib/x86_64-linux-gnu/libtcmalloc.so.4' from LD_PRELOAD cannot be preloaded (cannot open shared object file): ignored.\n",
            "ERROR: ld.so: object '/usr/lib/x86_64-linux-gnu/libtcmalloc.so.4' from LD_PRELOAD cannot be preloaded (cannot open shared object file): ignored.\n",
            "ERROR: ld.so: object '/usr/lib/x86_64-linux-gnu/libtcmalloc.so.4' from LD_PRELOAD cannot be preloaded (cannot open shared object file): ignored.\n",
            "ERROR: ld.so: object '/usr/lib/x86_64-linux-gnu/libtcmalloc.so.4' from LD_PRELOAD cannot be preloaded (cannot open shared object file): ignored.\n",
            "ERROR: ld.so: object '/usr/lib/x86_64-linux-gnu/libtcmalloc.so.4' from LD_PRELOAD cannot be preloaded (cannot open shared object file): ignored.\n",
            "ERROR: ld.so: object '/usr/lib/x86_64-linux-gnu/libtcmalloc.so.4' from LD_PRELOAD cannot be preloaded (cannot open shared object file): ignored.\n",
            "ERROR: ld.so: object '/usr/lib/x86_64-linux-gnu/libtcmalloc.so.4' from LD_PRELOAD cannot be preloaded (cannot open shared object file): ignored.\n",
            "\u001b[?25h\u001b[?25hERROR: ld.so: object '/usr/lib/x86_64-linux-gnu/libtcmalloc.so.4' from LD_PRELOAD cannot be preloaded (cannot open shared object file): ignored.\n",
            "\u001b[?25h\u001b[?25h\u001b[?25hERROR: ld.so: object '/usr/lib/x86_64-linux-gnu/libtcmalloc.so.4' from LD_PRELOAD cannot be preloaded (cannot open shared object file): ignored.\n",
            "ERROR: ld.so: object '/usr/lib/x86_64-linux-gnu/libtcmalloc.so.4' from LD_PRELOAD cannot be preloaded (cannot open shared object file): ignored.\n",
            "\u001b[?25h\u001b[?25h\u001b[?25h\u001b[?25h\u001b[?25h\u001b[?25h\u001b[?25h\u001b[?25h\u001b[?25h\u001b[?25h\u001b[?25h\u001b[?25hERROR: ld.so: object '/usr/lib/x86_64-linux-gnu/libtcmalloc.so.4' from LD_PRELOAD cannot be preloaded (cannot open shared object file): ignored.\n",
            "ERROR: ld.so: object '/usr/lib/x86_64-linux-gnu/libtcmalloc.so.4' from LD_PRELOAD cannot be preloaded (cannot open shared object file): ignored.\n",
            "ERROR: ld.so: object '/usr/lib/x86_64-linux-gnu/libtcmalloc.so.4' from LD_PRELOAD cannot be preloaded (cannot open shared object file): ignored.\n",
            "\u001b[?25h\u001b[?25hERROR: ld.so: object '/usr/lib/x86_64-linux-gnu/libtcmalloc.so.4' from LD_PRELOAD cannot be preloaded (cannot open shared object file): ignored.\n",
            "ERROR: ld.so: object '/usr/lib/x86_64-linux-gnu/libtcmalloc.so.4' from LD_PRELOAD cannot be preloaded (cannot open shared object file): ignored.\n",
            "\u001b[?25h\u001b[?25h\u001b[?25h\u001b[?25h\u001b[?25h\u001b[?25h\u001b[?25h\u001b[?25h\u001b[?25h\u001b[?25hnull device \n",
            "          1 \n",
            "\u001b[?25h\u001b[?25hERROR: ld.so: object '/usr/lib/x86_64-linux-gnu/libtcmalloc.so.4' from LD_PRELOAD cannot be preloaded (cannot open shared object file): ignored.\n",
            "ERROR: ld.so: object '/usr/lib/x86_64-linux-gnu/libtcmalloc.so.4' from LD_PRELOAD cannot be preloaded (cannot open shared object file): ignored.\n",
            "tigger-genotype execution took: 0:00:28 secs (Wall clock time)\n",
            "\n",
            "            Reconstructing heavy chain dmask germline sequences with v_call_genotyped.\n",
            "Running command: CreateGermlines.py -d sc5p_v2/sc5p_v2_heavy_igblast_db-pass_genotyped.tsv -g dmask -r sc5p_v2/sc5p_v2_heavy_igblast_db-pass_genotype.fasta /share/database/germlines/imgt/human/vdj//imgt_human_IGHD.fasta /share/database/germlines/imgt/human/vdj//imgt_human_IGHJ.fasta --vf v_call_genotyped\n",
            "\n",
            "ERROR: ld.so: object '/usr/lib/x86_64-linux-gnu/libtcmalloc.so.4' from LD_PRELOAD cannot be preloaded (cannot open shared object file): ignored.\n",
            "     START> CreateGermlines\n",
            "      FILE> sc5p_v2_heavy_igblast_db-pass_genotyped.tsv\n",
            "GERM_TYPES> dmask\n",
            " SEQ_FIELD> sequence_alignment\n",
            "   V_FIELD> v_call_genotyped\n",
            "   D_FIELD> d_call\n",
            "   J_FIELD> j_call\n",
            "    CLONED> False\n",
            "\n",
            "PROGRESS> 21:35:46 |####################| 100% (4,867) 0.1 min\n",
            "\n",
            " OUTPUT> sc5p_v2_heavy_igblast_db-pass_genotyped_germ-pass.tsv\n",
            "RECORDS> 4867\n",
            "   PASS> 4784\n",
            "   FAIL> 83\n",
            "    END> CreateGermlines\n",
            "\n",
            "            Reconstructing light chain dmaskgermline sequences with v_call.\n",
            "Running command: CreateGermlines.py -d sc5p_v2/sc5p_v2_light_igblast_db-pass.tsv -g dmask -r /share/database/germlines/imgt/human/vdj//imgt_human_IGKV.fasta /share/database/germlines/imgt/human/vdj//imgt_human_IGKJ.fasta /share/database/germlines/imgt/human/vdj//imgt_human_IGLV.fasta /share/database/germlines/imgt/human/vdj//imgt_human_IGLJ.fasta --vf v_call\n",
            "\n",
            "ERROR: ld.so: object '/usr/lib/x86_64-linux-gnu/libtcmalloc.so.4' from LD_PRELOAD cannot be preloaded (cannot open shared object file): ignored.\n",
            "     START> CreateGermlines\n",
            "      FILE> sc5p_v2_light_igblast_db-pass.tsv\n",
            "GERM_TYPES> dmask\n",
            " SEQ_FIELD> sequence_alignment\n",
            "   V_FIELD> v_call\n",
            "   D_FIELD> d_call\n",
            "   J_FIELD> j_call\n",
            "    CLONED> False\n",
            "\n",
            "PROGRESS> 21:35:55 |####################| 100% (5,112) 0.1 min\n",
            "\n",
            " OUTPUT> sc5p_v2_light_igblast_db-pass_germ-pass.tsv\n",
            "RECORDS> 5112\n",
            "   PASS> 5112\n",
            "   FAIL> 0\n",
            "    END> CreateGermlines\n",
            "\n",
            "      For convenience, entries for light chain `v_call` are copied to `v_call_genotyped`.\n",
            "Returning summary plot\n",
            "/opt/conda/envs/sc-dandelion-container/lib/python3.9/site-packages/plotnine/ggplot.py:817: PlotnineWarning: Filename: sc5p_v2/sc5p_v2_reassign_alleles.pdf\n",
            "Writing out to individual folders : 100% 2/2 [00:05<00:00,  2.72s/it]\n",
            "Assign isotypes \n",
            "\n",
            "Running command: blastn -db /share/database/blast/human/human_BCR_C.fasta -evalue 0.0001 -max_hsps 1 -outfmt 6 qseqid sseqid pident length mismatch gapopen qstart qend sstart send evalue bitscore qseq sseq -query sc5p_v2_hs_B_prevax/dandelion/filtered_5k_contig.fasta -dust no\n",
            "\n",
            "ERROR: ld.so: object '/usr/lib/x86_64-linux-gnu/libtcmalloc.so.4' from LD_PRELOAD cannot be preloaded (cannot open shared object file): ignored.\n",
            "Loading 10X annotations \n",
            "\n",
            "Preparing new calls \n",
            "\n",
            "Correcting C calls \n",
            "\n",
            "Finishing up \n",
            "\n",
            "/opt/conda/envs/sc-dandelion-container/lib/python3.9/site-packages/plotnine/ggplot.py:817: PlotnineWarning: Filename: sc5p_v2_hs_B_prevax/dandelion/assign_isotype.pdf\n",
            "ERROR: ld.so: object '/usr/lib/x86_64-linux-gnu/libtcmalloc.so.4' from LD_PRELOAD cannot be preloaded (cannot open shared object file): ignored.\n",
            "ERROR: ld.so: object '/usr/lib/x86_64-linux-gnu/libtcmalloc.so.4' from LD_PRELOAD cannot be preloaded (cannot open shared object file): ignored.\n",
            "ERROR: ld.so: object '/usr/lib/x86_64-linux-gnu/libtcmalloc.so.4' from LD_PRELOAD cannot be preloaded (cannot open shared object file): ignored.\n",
            "Running command: blastn -db /share/database/blast/human/human_BCR_C.fasta -evalue 0.0001 -max_hsps 1 -outfmt 6 qseqid sseqid pident length mismatch gapopen qstart qend sstart send evalue bitscore qseq sseq -query sc5p_v2_hs_B_postvax/dandelion/filtered_5k_contig.fasta -dust no\n",
            "\n",
            "ERROR: ld.so: object '/usr/lib/x86_64-linux-gnu/libtcmalloc.so.4' from LD_PRELOAD cannot be preloaded (cannot open shared object file): ignored.\n",
            "Loading 10X annotations \n",
            "\n",
            "Preparing new calls \n",
            "\n",
            "Correcting C calls \n",
            "\n",
            "Finishing up \n",
            "\n",
            "/opt/conda/envs/sc-dandelion-container/lib/python3.9/site-packages/plotnine/ggplot.py:817: PlotnineWarning: Filename: sc5p_v2_hs_B_postvax/dandelion/assign_isotype.pdf\n",
            "ERROR: ld.so: object '/usr/lib/x86_64-linux-gnu/libtcmalloc.so.4' from LD_PRELOAD cannot be preloaded (cannot open shared object file): ignored.\n",
            "ERROR: ld.so: object '/usr/lib/x86_64-linux-gnu/libtcmalloc.so.4' from LD_PRELOAD cannot be preloaded (cannot open shared object file): ignored.\n",
            "ERROR: ld.so: object '/usr/lib/x86_64-linux-gnu/libtcmalloc.so.4' from LD_PRELOAD cannot be preloaded (cannot open shared object file): ignored.\n",
            "Quantifying mutations\n",
            "ERROR: ld.so: object '/usr/lib/x86_64-linux-gnu/libtcmalloc.so.4' from LD_PRELOAD cannot be preloaded (cannot open shared object file): ignored.\n",
            "ERROR: ld.so: object '/usr/lib/x86_64-linux-gnu/libtcmalloc.so.4' from LD_PRELOAD cannot be preloaded (cannot open shared object file): ignored.\n",
            "ERROR: ld.so: object '/usr/lib/x86_64-linux-gnu/libtcmalloc.so.4' from LD_PRELOAD cannot be preloaded (cannot open shared object file): ignored.\n",
            "ERROR: ld.so: object '/usr/lib/x86_64-linux-gnu/libtcmalloc.so.4' from LD_PRELOAD cannot be preloaded (cannot open shared object file): ignored.\n",
            "ERROR: ld.so: object '/usr/lib/x86_64-linux-gnu/libtcmalloc.so.4' from LD_PRELOAD cannot be preloaded (cannot open shared object file): ignored.\n",
            "ERROR: ld.so: object '/usr/lib/x86_64-linux-gnu/libtcmalloc.so.4' from LD_PRELOAD cannot be preloaded (cannot open shared object file): ignored.\n",
            "ERROR: ld.so: object '/usr/lib/x86_64-linux-gnu/libtcmalloc.so.4' from LD_PRELOAD cannot be preloaded (cannot open shared object file): ignored.\n",
            "ERROR: ld.so: object '/usr/lib/x86_64-linux-gnu/libtcmalloc.so.4' from LD_PRELOAD cannot be preloaded (cannot open shared object file): ignored.\n",
            " finished: saving DataFrame at sc5p_v2_hs_B_prevax/dandelion/filtered_5k_contig_dandelion.tsv\n",
            " (0:00:30)\n",
            "Quantifying mutations\n",
            "ERROR: ld.so: object '/usr/lib/x86_64-linux-gnu/libtcmalloc.so.4' from LD_PRELOAD cannot be preloaded (cannot open shared object file): ignored.\n",
            "ERROR: ld.so: object '/usr/lib/x86_64-linux-gnu/libtcmalloc.so.4' from LD_PRELOAD cannot be preloaded (cannot open shared object file): ignored.\n",
            " finished: saving DataFrame at sc5p_v2_hs_B_prevax/dandelion/filtered_5k_contig_dandelion.tsv\n",
            " (0:00:20)\n",
            "Quantifying mutations\n",
            "ERROR: ld.so: object '/usr/lib/x86_64-linux-gnu/libtcmalloc.so.4' from LD_PRELOAD cannot be preloaded (cannot open shared object file): ignored.\n",
            "ERROR: ld.so: object '/usr/lib/x86_64-linux-gnu/libtcmalloc.so.4' from LD_PRELOAD cannot be preloaded (cannot open shared object file): ignored.\n",
            " finished: saving DataFrame at sc5p_v2_hs_B_postvax/dandelion/filtered_5k_contig_dandelion.tsv\n",
            " (0:00:21)\n",
            "Quantifying mutations\n",
            "ERROR: ld.so: object '/usr/lib/x86_64-linux-gnu/libtcmalloc.so.4' from LD_PRELOAD cannot be preloaded (cannot open shared object file): ignored.\n",
            "ERROR: ld.so: object '/usr/lib/x86_64-linux-gnu/libtcmalloc.so.4' from LD_PRELOAD cannot be preloaded (cannot open shared object file): ignored.\n",
            " finished: saving DataFrame at sc5p_v2_hs_B_postvax/dandelion/filtered_5k_contig_dandelion.tsv\n",
            " (0:00:21)\n",
            "Pre-processing finished.\n",
            " (0:15:52)\n",
            "\u001b[?25hERROR: ld.so: object '/usr/lib/x86_64-linux-gnu/libtcmalloc.so.4' from LD_PRELOAD cannot be preloaded (cannot open shared object file): ignored.\n",
            "ERROR: ld.so: object '/usr/lib/x86_64-linux-gnu/libtcmalloc.so.4' from LD_PRELOAD cannot be preloaded (cannot open shared object file): ignored.\n",
            "ERROR: ld.so: object '/usr/lib/x86_64-linux-gnu/libtcmalloc.so.4' from LD_PRELOAD cannot be preloaded (cannot open shared object file): ignored.\n",
            "ERROR: ld.so: object '/usr/lib/x86_64-linux-gnu/libtcmalloc.so.4' from LD_PRELOAD cannot be preloaded (cannot open shared object file): ignored.\n",
            "R[write to console]: Warning messages:\n",
            "\n",
            "R[write to console]: 1: \n",
            "R[write to console]: In (function (package, help, pos = 2, lib.loc = NULL, character.only = FALSE,  :\n",
            "R[write to console]: \n",
            " \n",
            "R[write to console]:  library ‘/usr/lib/R/site-library’ contains no packages\n",
            "\n",
            "R[write to console]: 2: \n",
            "R[write to console]: In (function (package, help, pos = 2, lib.loc = NULL, character.only = FALSE,  :\n",
            "R[write to console]: \n",
            " \n",
            "R[write to console]:  library ‘/usr/lib/R/site-library’ contains no packages\n",
            "\n",
            "R[write to console]: 3: \n",
            "R[write to console]: In (function (package, help, pos = 2, lib.loc = NULL, character.only = FALSE,  :\n",
            "R[write to console]: \n",
            " \n",
            "R[write to console]:  library ‘/usr/lib/R/site-library’ contains no packages\n",
            "\n",
            "R[write to console]: 4: \n",
            "R[write to console]: In (function (package, help, pos = 2, lib.loc = NULL, character.only = FALSE,  :\n",
            "R[write to console]: \n",
            " \n",
            "R[write to console]:  library ‘/usr/lib/R/site-library’ contains no packages\n",
            "\n",
            "R[write to console]: 5: \n",
            "R[write to console]: In (function (package, help, pos = 2, lib.loc = NULL, character.only = FALSE,  :\n",
            "R[write to console]: \n",
            " \n",
            "R[write to console]:  library ‘/usr/lib/R/site-library’ contains no packages\n",
            "\n",
            "R[write to console]: 6: \n",
            "R[write to console]: In (function (package, help, pos = 2, lib.loc = NULL, character.only = FALSE,  :\n",
            "R[write to console]: \n",
            " \n",
            "R[write to console]:  library ‘/usr/lib/R/site-library’ contains no packages\n",
            "\n",
            "R[write to console]: 7: \n",
            "R[write to console]: In (function (package, help, pos = 2, lib.loc = NULL, character.only = FALSE,  :\n",
            "R[write to console]: \n",
            " \n",
            "R[write to console]:  library ‘/usr/lib/R/site-library’ contains no packages\n",
            "\n",
            "R[write to console]: 8: \n",
            "R[write to console]: In (function (package, help, pos = 2, lib.loc = NULL, character.only = FALSE,  :\n",
            "R[write to console]: \n",
            " \n",
            "R[write to console]:  library ‘/usr/lib/R/site-library’ contains no packages\n",
            "\n",
            "CPU times: user 7.45 s, sys: 985 ms, total: 8.43 s\n",
            "Wall time: 16min 3s\n"
          ]
        }
      ]
    },
    {
      "cell_type": "markdown",
      "source": [
        "And now we have a processed output (`filtered_5k_contig_dandelion.tsv`) in each folder that can be used for downstream exploration."
      ],
      "metadata": {
        "id": "H6ImfnLZOBtF"
      }
    },
    {
      "cell_type": "markdown",
      "source": [
        "## **Post-processing**\n",
        "\n",
        "The data is now ready for post-processing QCs and analysis. To start, let's first prepare the single-cell gene expression data.\n",
        "\n",
        "### Import the transcriptome data"
      ],
      "metadata": {
        "id": "WNAZ6p9xXJlz"
      }
    },
    {
      "cell_type": "code",
      "source": [
        "import scanpy as sc\n",
        "\n",
        "adatas = []\n",
        "for sample in ['prevax', 'postvax']:\n",
        "  adata = sc.read_10x_h5('/content/example/sc5p_v2_hs_B_'+sample+'/filtered_feature_bc_matrix.h5')\n",
        "  adata.var_names_make_unique()\n",
        "  adata.obs_names = [sample + '_' + o for o in adata.obs_names]\n",
        "  adata.obs['sample_id'] = sample\n",
        "  adatas.append(adata)\n",
        "adata = sc.concat(adatas)\n",
        "adata"
      ],
      "metadata": {
        "id": "OkSDBTzoK2a4",
        "colab": {
          "base_uri": "https://localhost:8080/"
        },
        "outputId": "1da47e61-9d7f-4dd9-c921-c9d2300aceb4"
      },
      "execution_count": 9,
      "outputs": [
        {
          "output_type": "stream",
          "name": "stderr",
          "text": [
            "/usr/local/lib/python3.7/dist-packages/anndata/_core/anndata.py:1830: UserWarning: Variable names are not unique. To make them unique, call `.var_names_make_unique`.\n",
            "  utils.warn_names_duplicates(\"var\")\n"
          ]
        },
        {
          "output_type": "execute_result",
          "data": {
            "text/plain": [
              "AnnData object with n_obs × n_vars = 18115 × 36601\n",
              "    obs: 'sample_id'"
            ]
          },
          "metadata": {},
          "execution_count": 9
        }
      ]
    },
    {
      "cell_type": "markdown",
      "source": [
        "### Import the BCR data"
      ],
      "metadata": {
        "id": "tN8HVKYSW6UW"
      }
    },
    {
      "cell_type": "code",
      "source": [
        "import pandas as pd\n",
        "# first we read in the 2 processed files\n",
        "bcr_files = []\n",
        "for sample in ['prevax', 'postvax']:\n",
        "    file_location = '/content/example/sc5p_v2_hs_B_'+sample+'/dandelion/filtered_5k_contig_dandelion.tsv'\n",
        "    bcr_files.append(pd.read_csv(file_location, sep = '\\t'))\n",
        "bcr = bcr_files[0].append(bcr_files[1])\n",
        "bcr.reset_index(inplace = True, drop = True)\n",
        "bcr"
      ],
      "metadata": {
        "colab": {
          "base_uri": "https://localhost:8080/",
          "height": 765
        },
        "id": "wTRvGdn-WHjo",
        "outputId": "e7f620d6-5742-4971-f5ee-f8d4c8a7e7cb"
      },
      "execution_count": 10,
      "outputs": [
        {
          "output_type": "execute_result",
          "data": {
            "text/plain": [
              "                              sequence_id  \\\n",
              "0      prevax_AAACCTGAGAGACGAA-1_contig_1   \n",
              "1      prevax_AAACCTGAGAGACGAA-1_contig_2   \n",
              "2      prevax_AAACCTGAGCGCCTTG-1_contig_1   \n",
              "3      prevax_AAACCTGAGCGCCTTG-1_contig_2   \n",
              "4      prevax_AAACCTGAGTGAACAT-1_contig_1   \n",
              "...                                   ...   \n",
              "9891  postvax_CAGTAACTCTTCAACT-1_contig_1   \n",
              "9892  postvax_CAGTCCTAGGACGAAA-1_contig_1   \n",
              "9893  postvax_CAGTCCTAGGACGAAA-1_contig_2   \n",
              "9894  postvax_CAGTCCTAGGCATTGG-1_contig_2   \n",
              "9895  postvax_CAGTCCTAGGCATTGG-1_contig_1   \n",
              "\n",
              "                                               sequence rev_comp productive  \\\n",
              "0     GCCTGGGTCAGAGCTCTGGGGAGGAACTGCTCACTTAGGACCCAGA...        F          T   \n",
              "1     AGCTCTGAGAGAGGAGCCCAGCCCTGGGATTTTCAGGTGTTTTCAT...        F          T   \n",
              "2     GATCAGGACTCCTCAGTTCACCTTCTCACAATGAGGCTCCCTGCTC...        F          T   \n",
              "3     CGAGCCCAGCACTGGAAGTCGCCGGTGTTTCCATTCGGTGATCAGC...        F          T   \n",
              "4     TATATAGGGGGAGTCAGTCTCAGTCAGGACACAGCATGGACATGAG...        F          T   \n",
              "...                                                 ...      ...        ...   \n",
              "9891  GAGCTCTGGGAGAGGAGCCCAGCACTAGAAGTCGGCGGTGTTTCCA...        F          T   \n",
              "9892  GGAGCAGAAAGGGGAGGCAGATTGTCTCTGCAGCTGCAAGCCCAGC...        F          T   \n",
              "9893  ATCACATAACAACCACATTCCTCCTCTAAAGAAGCCCCTGGGAGCA...        F          T   \n",
              "9894  GTGGGCTCAGAAGCAGAGTTCTGGGGTGTCTCCACCATGGCCTGGA...        F          T   \n",
              "9895  ATACTTTCTGAGAGTCCTGGACCTCCTGTGCAAGAACATGAAACAT...        F          T   \n",
              "\n",
              "                                   v_call       d_call    j_call  \\\n",
              "0                             IGKV3-15*01          NaN  IGKJ4*01   \n",
              "1                IGHV3-23*01,IGHV3-23D*01  IGHD5-24*01  IGHJ4*02   \n",
              "2                             IGKV2-30*01          NaN  IGKJ3*01   \n",
              "3               IGHV3-30*04,IGHV3-30-3*03          NaN  IGHJ3*02   \n",
              "4                IGKV1-39*01,IGKV1D-39*01          NaN  IGKJ2*03   \n",
              "...                                   ...          ...       ...   \n",
              "9891  IGHV3-33*01,IGHV3-33*05,IGHV3-33*06          NaN  IGHJ4*02   \n",
              "9892                          IGKV3-20*01          NaN  IGKJ1*01   \n",
              "9893             IGHV1-69*01,IGHV1-69D*01  IGHD2-15*01  IGHJ4*02   \n",
              "9894                          IGLV3-19*01          NaN  IGLJ3*02   \n",
              "9895                          IGHV4-59*08   IGHD2-2*02  IGHJ2*01   \n",
              "\n",
              "                                     sequence_alignment  \\\n",
              "0     GAAATAGTGATGACGCAGTCTCCAGCCACCCTGTCTGTGTCTCCGG...   \n",
              "1     GAGGTGCAGCTGTTGGAGTCTGGGGGA...GGCTTGGTACAGCCTG...   \n",
              "2     GATGTTGTGATGACTCAGTCTCCACTCTCCCTGCCCGTCACCCTTG...   \n",
              "3     CAGGTGCAGCTGGTGGAGTCTGGGGGA...GGCGTGGTCCAGCCTG...   \n",
              "4     GACATCCAGATGACCCAGTCTCCATCCTCCCTGTCTGCATCTGTGG...   \n",
              "...                                                 ...   \n",
              "9891  CAGGTGAAGCTGGTGGAGTCTGGGGGA...GGCGTGGTCCAGGCGG...   \n",
              "9892  GAAATTGTGTTGACGCAGTCTCCAGGCACCCTGTCTTTGTCTCCAG...   \n",
              "9893  CAGGTGCAGCTGGTGCAGTCTGGGGCT...GAGGTGAAGAAGCCTG...   \n",
              "9894  TCTTCTGAGCTGACTCAGGACCCTGCT...GTGTCTGTGGCCTTGG...   \n",
              "9895  CAGGTGCAGCTGCAGGAGTCGGGCCCA...GGACTGGTGAAGCCTT...   \n",
              "\n",
              "                                     germline_alignment  \\\n",
              "0     GAAATAGTGATGACGCAGTCTCCAGCCACCCTGTCTGTGTCTCCAG...   \n",
              "1     GAGGTGCAGCTGTTGGAGTCTGGGGGA...GGCTTGGTACAGCCTG...   \n",
              "2     GATGTTGTGATGACTCAGTCTCCACTCTCCCTGCCCGTCACCCTTG...   \n",
              "3     CAGGTGCAGCTGGTGGAGTCTGGGGGA...GGCGTGGTCCAGCCTG...   \n",
              "4     GACATCCAGATGACCCAGTCTCCATCCTCCCTGTCTGCATCTGTAG...   \n",
              "...                                                 ...   \n",
              "9891  CAGGTGCAGCTGGTGGAGTCTGGGGGA...GGCGTGGTCCAGCCTG...   \n",
              "9892  GAAATTGTGTTGACGCAGTCTCCAGGCACCCTGTCTTTGTCTCCAG...   \n",
              "9893  CAGGTGCAGCTGGTGCAGTCTGGGGCT...GAGGTGAAGAAGCCTG...   \n",
              "9894  TCTTCTGAGCTGACTCAGGACCCTGCT...GTGTCTGTGGCCTTGG...   \n",
              "9895  CAGGTGCAGCTGCAGGAGTCGGGCCCA...GGACTGGTGAAGCCTT...   \n",
              "\n",
              "                                               junction  ...      fwr4_aa  \\\n",
              "0                     TGTCAGCAGTATAATAACTGGCCTCTCACTTTC  ...   FGGGTKVEIK   \n",
              "1     TGTGCCGCTACCCTAGGGACCCGTAGAGATGGTTACAATTTTGCAT...  ...  WGQETLVTVSS   \n",
              "2                     TGCATGCAAGGTACACACTGGCGTTTCACTTTC  ...   FGPGTKVDIK   \n",
              "3               TGTGCGAGTTTCGACTACCATAGTGCTTTTGATATCTGG  ...  WGQGTMVTVSS   \n",
              "4                  TGTCAACAGAGTTACAGTACCCCTCCGTATAGTTTT  ...   FGQGTKLEIK   \n",
              "...                                                 ...  ...          ...   \n",
              "9891         TGTGCGTCAGGGGTGGGGGCTACTCGCTACTTTGACTACTGG  ...  WGQGTLVTVSS   \n",
              "9892                  TGTCAGCAGTATGGTAGCTCAACAGGGACGTTC  ...   FGQGTKVEIK   \n",
              "9893  TGTGCGAGAGAGAGGGTCCCCCTTGATATTGTAGTGGTGGTAGCTG...  ...  WGQGTLVTVSS   \n",
              "9894            TGTAACTCCCGGGACAACAGTGGTCACCTTCTATTGTTC  ...   FGGGTKLTVL   \n",
              "9895  TGTGCGAGACTAGTTGTAGTAGTGCCAGCTGCTATAGTCGTGTCGG...  ...  WGRGTLVTVSS   \n",
              "\n",
              "          cdr1_aa   cdr2_aa                cdr3_aa  \\\n",
              "0          QSVSSN       GAS              QQYNNWPLT   \n",
              "1        GVTFNSYA  ISGSGANT        AATLGTRRDGYNFAY   \n",
              "2     QSLVYSDGNTY       KVS              MQGTHWRFT   \n",
              "3        GFTFSTYD  ISYDGSNK            ASFDYHSAFDI   \n",
              "4          QNIGSY       AAS             QQSYSTPPYS   \n",
              "...           ...       ...                    ...   \n",
              "9891     GFTFRNYG  IFYDGSDQ           ASGVGATRYFDY   \n",
              "9892      QSVSSSY       GAS              QQYGSSTGT   \n",
              "9893     GGTFSSYA  IIPIFGTA  ARERVPLDIVVVVAATYYFDY   \n",
              "9894       SLRSYY       ANN            NSRDNSGHLLL   \n",
              "9895     GGSISSYS   FDYSGSA  ARLVVVVPAAIVVSDYWYFDL   \n",
              "\n",
              "                                  sequence_alignment_aa  \\\n",
              "0     EIVMTQSPATLSVSPGERATLSCRASQSVSSNLAWYQHKPGQAPRL...   \n",
              "1     EVQLLESGGGLVQPGGSLRLSCAASGVTFNSYAMSWVRQAPGKGLE...   \n",
              "2     DVVMTQSPLSLPVTLGQPASISCRSSQSLVYSDGNTYLNWFQQRPG...   \n",
              "3     QVQLVESGGGVVQPGRSLRLSCAASGFTFSTYDMHWVRQAPGEGLE...   \n",
              "4     DIQMTQSPSSLSASVGDRVTITCRAGQNIGSYLNWYQQKAGKAPKL...   \n",
              "...                                                 ...   \n",
              "9891  QVKLVESGGGVVQAGRSLRLSCAASGFTFRNYGMHWVRQAPGKGLE...   \n",
              "9892  EIVLTQSPGTLSLSPGERATLSCRASQSVSSSYLAWYQQKPGQAPR...   \n",
              "9893  QVQLVQSGAEVKKPGSSVKVSCKASGGTFSSYAISWVRQAPGQGLE...   \n",
              "9894  SSELTQDPAVSVALGQTVRITCQGDSLRSYYASWYQQKPGQAPVLV...   \n",
              "9895  QVQLQESGPGLVKPSETLSLTCTVSGGSISSYSWNWIRQPPGKGLE...   \n",
              "\n",
              "                                v_sequence_alignment_aa  \\\n",
              "0     EIVMTQSPATLSVSPGERATLSCRASQSVSSNLAWYQHKPGQAPRL...   \n",
              "1     EVQLLESGGGLVQPGGSLRLSCAASGVTFNSYAMSWVRQAPGKGLE...   \n",
              "2     DVVMTQSPLSLPVTLGQPASISCRSSQSLVYSDGNTYLNWFQQRPG...   \n",
              "3     QVQLVESGGGVVQPGRSLRLSCAASGFTFSTYDMHWVRQAPGEGLE...   \n",
              "4     DIQMTQSPSSLSASVGDRVTITCRAGQNIGSYLNWYQQKAGKAPKL...   \n",
              "...                                                 ...   \n",
              "9891  QVKLVESGGGVVQAGRSLRLSCAASGFTFRNYGMHWVRQAPGKGLE...   \n",
              "9892  EIVLTQSPGTLSLSPGERATLSCRASQSVSSSYLAWYQQKPGQAPR...   \n",
              "9893  QVQLVQSGAEVKKPGSSVKVSCKASGGTFSSYAISWVRQAPGQGLE...   \n",
              "9894  SSELTQDPAVSVALGQTVRITCQGDSLRSYYASWYQQKPGQAPVLV...   \n",
              "9895  QVQLQESGPGLVKPSETLSLTCTVSGGSISSYSWNWIRQPPGKGLE...   \n",
              "\n",
              "     d_sequence_alignment_aa  j_sequence_alignment_aa  mu_count   mu_freq  \n",
              "0                        NaN              TFGGGTKVEIK         2  0.006231  \n",
              "1                      RDGYN             YWGQETLVTVSS         7  0.021472  \n",
              "2                        NaN             FTFGPGTKVDIK         2  0.005988  \n",
              "3                        NaN          AFDIWGQGTMVTVSS         8  0.023599  \n",
              "4                        NaN             YSFGQGTKLEIK        24  0.074074  \n",
              "...                      ...                      ...       ...       ...  \n",
              "9891                     NaN          YFDYWGQGTLVTVSS        17  0.050445  \n",
              "9892                     NaN              TFGQGTKVEIK         0  0.000000  \n",
              "9893               DIVVVVAAT          YFDYWGQGTLVTVSS         0  0.000000  \n",
              "9894                     NaN               FGGGTKLTVL        11  0.034161  \n",
              "9895                 VVVPAAI        YWYFDLWGRGTLVTVSS        10  0.029155  \n",
              "\n",
              "[9896 rows x 116 columns]"
            ],
            "text/html": [
              "\n",
              "  <div id=\"df-bc223436-e9b9-4d4b-9631-b79fa4f2ff86\">\n",
              "    <div class=\"colab-df-container\">\n",
              "      <div>\n",
              "<style scoped>\n",
              "    .dataframe tbody tr th:only-of-type {\n",
              "        vertical-align: middle;\n",
              "    }\n",
              "\n",
              "    .dataframe tbody tr th {\n",
              "        vertical-align: top;\n",
              "    }\n",
              "\n",
              "    .dataframe thead th {\n",
              "        text-align: right;\n",
              "    }\n",
              "</style>\n",
              "<table border=\"1\" class=\"dataframe\">\n",
              "  <thead>\n",
              "    <tr style=\"text-align: right;\">\n",
              "      <th></th>\n",
              "      <th>sequence_id</th>\n",
              "      <th>sequence</th>\n",
              "      <th>rev_comp</th>\n",
              "      <th>productive</th>\n",
              "      <th>v_call</th>\n",
              "      <th>d_call</th>\n",
              "      <th>j_call</th>\n",
              "      <th>sequence_alignment</th>\n",
              "      <th>germline_alignment</th>\n",
              "      <th>junction</th>\n",
              "      <th>...</th>\n",
              "      <th>fwr4_aa</th>\n",
              "      <th>cdr1_aa</th>\n",
              "      <th>cdr2_aa</th>\n",
              "      <th>cdr3_aa</th>\n",
              "      <th>sequence_alignment_aa</th>\n",
              "      <th>v_sequence_alignment_aa</th>\n",
              "      <th>d_sequence_alignment_aa</th>\n",
              "      <th>j_sequence_alignment_aa</th>\n",
              "      <th>mu_count</th>\n",
              "      <th>mu_freq</th>\n",
              "    </tr>\n",
              "  </thead>\n",
              "  <tbody>\n",
              "    <tr>\n",
              "      <th>0</th>\n",
              "      <td>prevax_AAACCTGAGAGACGAA-1_contig_1</td>\n",
              "      <td>GCCTGGGTCAGAGCTCTGGGGAGGAACTGCTCACTTAGGACCCAGA...</td>\n",
              "      <td>F</td>\n",
              "      <td>T</td>\n",
              "      <td>IGKV3-15*01</td>\n",
              "      <td>NaN</td>\n",
              "      <td>IGKJ4*01</td>\n",
              "      <td>GAAATAGTGATGACGCAGTCTCCAGCCACCCTGTCTGTGTCTCCGG...</td>\n",
              "      <td>GAAATAGTGATGACGCAGTCTCCAGCCACCCTGTCTGTGTCTCCAG...</td>\n",
              "      <td>TGTCAGCAGTATAATAACTGGCCTCTCACTTTC</td>\n",
              "      <td>...</td>\n",
              "      <td>FGGGTKVEIK</td>\n",
              "      <td>QSVSSN</td>\n",
              "      <td>GAS</td>\n",
              "      <td>QQYNNWPLT</td>\n",
              "      <td>EIVMTQSPATLSVSPGERATLSCRASQSVSSNLAWYQHKPGQAPRL...</td>\n",
              "      <td>EIVMTQSPATLSVSPGERATLSCRASQSVSSNLAWYQHKPGQAPRL...</td>\n",
              "      <td>NaN</td>\n",
              "      <td>TFGGGTKVEIK</td>\n",
              "      <td>2</td>\n",
              "      <td>0.006231</td>\n",
              "    </tr>\n",
              "    <tr>\n",
              "      <th>1</th>\n",
              "      <td>prevax_AAACCTGAGAGACGAA-1_contig_2</td>\n",
              "      <td>AGCTCTGAGAGAGGAGCCCAGCCCTGGGATTTTCAGGTGTTTTCAT...</td>\n",
              "      <td>F</td>\n",
              "      <td>T</td>\n",
              "      <td>IGHV3-23*01,IGHV3-23D*01</td>\n",
              "      <td>IGHD5-24*01</td>\n",
              "      <td>IGHJ4*02</td>\n",
              "      <td>GAGGTGCAGCTGTTGGAGTCTGGGGGA...GGCTTGGTACAGCCTG...</td>\n",
              "      <td>GAGGTGCAGCTGTTGGAGTCTGGGGGA...GGCTTGGTACAGCCTG...</td>\n",
              "      <td>TGTGCCGCTACCCTAGGGACCCGTAGAGATGGTTACAATTTTGCAT...</td>\n",
              "      <td>...</td>\n",
              "      <td>WGQETLVTVSS</td>\n",
              "      <td>GVTFNSYA</td>\n",
              "      <td>ISGSGANT</td>\n",
              "      <td>AATLGTRRDGYNFAY</td>\n",
              "      <td>EVQLLESGGGLVQPGGSLRLSCAASGVTFNSYAMSWVRQAPGKGLE...</td>\n",
              "      <td>EVQLLESGGGLVQPGGSLRLSCAASGVTFNSYAMSWVRQAPGKGLE...</td>\n",
              "      <td>RDGYN</td>\n",
              "      <td>YWGQETLVTVSS</td>\n",
              "      <td>7</td>\n",
              "      <td>0.021472</td>\n",
              "    </tr>\n",
              "    <tr>\n",
              "      <th>2</th>\n",
              "      <td>prevax_AAACCTGAGCGCCTTG-1_contig_1</td>\n",
              "      <td>GATCAGGACTCCTCAGTTCACCTTCTCACAATGAGGCTCCCTGCTC...</td>\n",
              "      <td>F</td>\n",
              "      <td>T</td>\n",
              "      <td>IGKV2-30*01</td>\n",
              "      <td>NaN</td>\n",
              "      <td>IGKJ3*01</td>\n",
              "      <td>GATGTTGTGATGACTCAGTCTCCACTCTCCCTGCCCGTCACCCTTG...</td>\n",
              "      <td>GATGTTGTGATGACTCAGTCTCCACTCTCCCTGCCCGTCACCCTTG...</td>\n",
              "      <td>TGCATGCAAGGTACACACTGGCGTTTCACTTTC</td>\n",
              "      <td>...</td>\n",
              "      <td>FGPGTKVDIK</td>\n",
              "      <td>QSLVYSDGNTY</td>\n",
              "      <td>KVS</td>\n",
              "      <td>MQGTHWRFT</td>\n",
              "      <td>DVVMTQSPLSLPVTLGQPASISCRSSQSLVYSDGNTYLNWFQQRPG...</td>\n",
              "      <td>DVVMTQSPLSLPVTLGQPASISCRSSQSLVYSDGNTYLNWFQQRPG...</td>\n",
              "      <td>NaN</td>\n",
              "      <td>FTFGPGTKVDIK</td>\n",
              "      <td>2</td>\n",
              "      <td>0.005988</td>\n",
              "    </tr>\n",
              "    <tr>\n",
              "      <th>3</th>\n",
              "      <td>prevax_AAACCTGAGCGCCTTG-1_contig_2</td>\n",
              "      <td>CGAGCCCAGCACTGGAAGTCGCCGGTGTTTCCATTCGGTGATCAGC...</td>\n",
              "      <td>F</td>\n",
              "      <td>T</td>\n",
              "      <td>IGHV3-30*04,IGHV3-30-3*03</td>\n",
              "      <td>NaN</td>\n",
              "      <td>IGHJ3*02</td>\n",
              "      <td>CAGGTGCAGCTGGTGGAGTCTGGGGGA...GGCGTGGTCCAGCCTG...</td>\n",
              "      <td>CAGGTGCAGCTGGTGGAGTCTGGGGGA...GGCGTGGTCCAGCCTG...</td>\n",
              "      <td>TGTGCGAGTTTCGACTACCATAGTGCTTTTGATATCTGG</td>\n",
              "      <td>...</td>\n",
              "      <td>WGQGTMVTVSS</td>\n",
              "      <td>GFTFSTYD</td>\n",
              "      <td>ISYDGSNK</td>\n",
              "      <td>ASFDYHSAFDI</td>\n",
              "      <td>QVQLVESGGGVVQPGRSLRLSCAASGFTFSTYDMHWVRQAPGEGLE...</td>\n",
              "      <td>QVQLVESGGGVVQPGRSLRLSCAASGFTFSTYDMHWVRQAPGEGLE...</td>\n",
              "      <td>NaN</td>\n",
              "      <td>AFDIWGQGTMVTVSS</td>\n",
              "      <td>8</td>\n",
              "      <td>0.023599</td>\n",
              "    </tr>\n",
              "    <tr>\n",
              "      <th>4</th>\n",
              "      <td>prevax_AAACCTGAGTGAACAT-1_contig_1</td>\n",
              "      <td>TATATAGGGGGAGTCAGTCTCAGTCAGGACACAGCATGGACATGAG...</td>\n",
              "      <td>F</td>\n",
              "      <td>T</td>\n",
              "      <td>IGKV1-39*01,IGKV1D-39*01</td>\n",
              "      <td>NaN</td>\n",
              "      <td>IGKJ2*03</td>\n",
              "      <td>GACATCCAGATGACCCAGTCTCCATCCTCCCTGTCTGCATCTGTGG...</td>\n",
              "      <td>GACATCCAGATGACCCAGTCTCCATCCTCCCTGTCTGCATCTGTAG...</td>\n",
              "      <td>TGTCAACAGAGTTACAGTACCCCTCCGTATAGTTTT</td>\n",
              "      <td>...</td>\n",
              "      <td>FGQGTKLEIK</td>\n",
              "      <td>QNIGSY</td>\n",
              "      <td>AAS</td>\n",
              "      <td>QQSYSTPPYS</td>\n",
              "      <td>DIQMTQSPSSLSASVGDRVTITCRAGQNIGSYLNWYQQKAGKAPKL...</td>\n",
              "      <td>DIQMTQSPSSLSASVGDRVTITCRAGQNIGSYLNWYQQKAGKAPKL...</td>\n",
              "      <td>NaN</td>\n",
              "      <td>YSFGQGTKLEIK</td>\n",
              "      <td>24</td>\n",
              "      <td>0.074074</td>\n",
              "    </tr>\n",
              "    <tr>\n",
              "      <th>...</th>\n",
              "      <td>...</td>\n",
              "      <td>...</td>\n",
              "      <td>...</td>\n",
              "      <td>...</td>\n",
              "      <td>...</td>\n",
              "      <td>...</td>\n",
              "      <td>...</td>\n",
              "      <td>...</td>\n",
              "      <td>...</td>\n",
              "      <td>...</td>\n",
              "      <td>...</td>\n",
              "      <td>...</td>\n",
              "      <td>...</td>\n",
              "      <td>...</td>\n",
              "      <td>...</td>\n",
              "      <td>...</td>\n",
              "      <td>...</td>\n",
              "      <td>...</td>\n",
              "      <td>...</td>\n",
              "      <td>...</td>\n",
              "      <td>...</td>\n",
              "    </tr>\n",
              "    <tr>\n",
              "      <th>9891</th>\n",
              "      <td>postvax_CAGTAACTCTTCAACT-1_contig_1</td>\n",
              "      <td>GAGCTCTGGGAGAGGAGCCCAGCACTAGAAGTCGGCGGTGTTTCCA...</td>\n",
              "      <td>F</td>\n",
              "      <td>T</td>\n",
              "      <td>IGHV3-33*01,IGHV3-33*05,IGHV3-33*06</td>\n",
              "      <td>NaN</td>\n",
              "      <td>IGHJ4*02</td>\n",
              "      <td>CAGGTGAAGCTGGTGGAGTCTGGGGGA...GGCGTGGTCCAGGCGG...</td>\n",
              "      <td>CAGGTGCAGCTGGTGGAGTCTGGGGGA...GGCGTGGTCCAGCCTG...</td>\n",
              "      <td>TGTGCGTCAGGGGTGGGGGCTACTCGCTACTTTGACTACTGG</td>\n",
              "      <td>...</td>\n",
              "      <td>WGQGTLVTVSS</td>\n",
              "      <td>GFTFRNYG</td>\n",
              "      <td>IFYDGSDQ</td>\n",
              "      <td>ASGVGATRYFDY</td>\n",
              "      <td>QVKLVESGGGVVQAGRSLRLSCAASGFTFRNYGMHWVRQAPGKGLE...</td>\n",
              "      <td>QVKLVESGGGVVQAGRSLRLSCAASGFTFRNYGMHWVRQAPGKGLE...</td>\n",
              "      <td>NaN</td>\n",
              "      <td>YFDYWGQGTLVTVSS</td>\n",
              "      <td>17</td>\n",
              "      <td>0.050445</td>\n",
              "    </tr>\n",
              "    <tr>\n",
              "      <th>9892</th>\n",
              "      <td>postvax_CAGTCCTAGGACGAAA-1_contig_1</td>\n",
              "      <td>GGAGCAGAAAGGGGAGGCAGATTGTCTCTGCAGCTGCAAGCCCAGC...</td>\n",
              "      <td>F</td>\n",
              "      <td>T</td>\n",
              "      <td>IGKV3-20*01</td>\n",
              "      <td>NaN</td>\n",
              "      <td>IGKJ1*01</td>\n",
              "      <td>GAAATTGTGTTGACGCAGTCTCCAGGCACCCTGTCTTTGTCTCCAG...</td>\n",
              "      <td>GAAATTGTGTTGACGCAGTCTCCAGGCACCCTGTCTTTGTCTCCAG...</td>\n",
              "      <td>TGTCAGCAGTATGGTAGCTCAACAGGGACGTTC</td>\n",
              "      <td>...</td>\n",
              "      <td>FGQGTKVEIK</td>\n",
              "      <td>QSVSSSY</td>\n",
              "      <td>GAS</td>\n",
              "      <td>QQYGSSTGT</td>\n",
              "      <td>EIVLTQSPGTLSLSPGERATLSCRASQSVSSSYLAWYQQKPGQAPR...</td>\n",
              "      <td>EIVLTQSPGTLSLSPGERATLSCRASQSVSSSYLAWYQQKPGQAPR...</td>\n",
              "      <td>NaN</td>\n",
              "      <td>TFGQGTKVEIK</td>\n",
              "      <td>0</td>\n",
              "      <td>0.000000</td>\n",
              "    </tr>\n",
              "    <tr>\n",
              "      <th>9893</th>\n",
              "      <td>postvax_CAGTCCTAGGACGAAA-1_contig_2</td>\n",
              "      <td>ATCACATAACAACCACATTCCTCCTCTAAAGAAGCCCCTGGGAGCA...</td>\n",
              "      <td>F</td>\n",
              "      <td>T</td>\n",
              "      <td>IGHV1-69*01,IGHV1-69D*01</td>\n",
              "      <td>IGHD2-15*01</td>\n",
              "      <td>IGHJ4*02</td>\n",
              "      <td>CAGGTGCAGCTGGTGCAGTCTGGGGCT...GAGGTGAAGAAGCCTG...</td>\n",
              "      <td>CAGGTGCAGCTGGTGCAGTCTGGGGCT...GAGGTGAAGAAGCCTG...</td>\n",
              "      <td>TGTGCGAGAGAGAGGGTCCCCCTTGATATTGTAGTGGTGGTAGCTG...</td>\n",
              "      <td>...</td>\n",
              "      <td>WGQGTLVTVSS</td>\n",
              "      <td>GGTFSSYA</td>\n",
              "      <td>IIPIFGTA</td>\n",
              "      <td>ARERVPLDIVVVVAATYYFDY</td>\n",
              "      <td>QVQLVQSGAEVKKPGSSVKVSCKASGGTFSSYAISWVRQAPGQGLE...</td>\n",
              "      <td>QVQLVQSGAEVKKPGSSVKVSCKASGGTFSSYAISWVRQAPGQGLE...</td>\n",
              "      <td>DIVVVVAAT</td>\n",
              "      <td>YFDYWGQGTLVTVSS</td>\n",
              "      <td>0</td>\n",
              "      <td>0.000000</td>\n",
              "    </tr>\n",
              "    <tr>\n",
              "      <th>9894</th>\n",
              "      <td>postvax_CAGTCCTAGGCATTGG-1_contig_2</td>\n",
              "      <td>GTGGGCTCAGAAGCAGAGTTCTGGGGTGTCTCCACCATGGCCTGGA...</td>\n",
              "      <td>F</td>\n",
              "      <td>T</td>\n",
              "      <td>IGLV3-19*01</td>\n",
              "      <td>NaN</td>\n",
              "      <td>IGLJ3*02</td>\n",
              "      <td>TCTTCTGAGCTGACTCAGGACCCTGCT...GTGTCTGTGGCCTTGG...</td>\n",
              "      <td>TCTTCTGAGCTGACTCAGGACCCTGCT...GTGTCTGTGGCCTTGG...</td>\n",
              "      <td>TGTAACTCCCGGGACAACAGTGGTCACCTTCTATTGTTC</td>\n",
              "      <td>...</td>\n",
              "      <td>FGGGTKLTVL</td>\n",
              "      <td>SLRSYY</td>\n",
              "      <td>ANN</td>\n",
              "      <td>NSRDNSGHLLL</td>\n",
              "      <td>SSELTQDPAVSVALGQTVRITCQGDSLRSYYASWYQQKPGQAPVLV...</td>\n",
              "      <td>SSELTQDPAVSVALGQTVRITCQGDSLRSYYASWYQQKPGQAPVLV...</td>\n",
              "      <td>NaN</td>\n",
              "      <td>FGGGTKLTVL</td>\n",
              "      <td>11</td>\n",
              "      <td>0.034161</td>\n",
              "    </tr>\n",
              "    <tr>\n",
              "      <th>9895</th>\n",
              "      <td>postvax_CAGTCCTAGGCATTGG-1_contig_1</td>\n",
              "      <td>ATACTTTCTGAGAGTCCTGGACCTCCTGTGCAAGAACATGAAACAT...</td>\n",
              "      <td>F</td>\n",
              "      <td>T</td>\n",
              "      <td>IGHV4-59*08</td>\n",
              "      <td>IGHD2-2*02</td>\n",
              "      <td>IGHJ2*01</td>\n",
              "      <td>CAGGTGCAGCTGCAGGAGTCGGGCCCA...GGACTGGTGAAGCCTT...</td>\n",
              "      <td>CAGGTGCAGCTGCAGGAGTCGGGCCCA...GGACTGGTGAAGCCTT...</td>\n",
              "      <td>TGTGCGAGACTAGTTGTAGTAGTGCCAGCTGCTATAGTCGTGTCGG...</td>\n",
              "      <td>...</td>\n",
              "      <td>WGRGTLVTVSS</td>\n",
              "      <td>GGSISSYS</td>\n",
              "      <td>FDYSGSA</td>\n",
              "      <td>ARLVVVVPAAIVVSDYWYFDL</td>\n",
              "      <td>QVQLQESGPGLVKPSETLSLTCTVSGGSISSYSWNWIRQPPGKGLE...</td>\n",
              "      <td>QVQLQESGPGLVKPSETLSLTCTVSGGSISSYSWNWIRQPPGKGLE...</td>\n",
              "      <td>VVVPAAI</td>\n",
              "      <td>YWYFDLWGRGTLVTVSS</td>\n",
              "      <td>10</td>\n",
              "      <td>0.029155</td>\n",
              "    </tr>\n",
              "  </tbody>\n",
              "</table>\n",
              "<p>9896 rows × 116 columns</p>\n",
              "</div>\n",
              "      <button class=\"colab-df-convert\" onclick=\"convertToInteractive('df-bc223436-e9b9-4d4b-9631-b79fa4f2ff86')\"\n",
              "              title=\"Convert this dataframe to an interactive table.\"\n",
              "              style=\"display:none;\">\n",
              "        \n",
              "  <svg xmlns=\"http://www.w3.org/2000/svg\" height=\"24px\"viewBox=\"0 0 24 24\"\n",
              "       width=\"24px\">\n",
              "    <path d=\"M0 0h24v24H0V0z\" fill=\"none\"/>\n",
              "    <path d=\"M18.56 5.44l.94 2.06.94-2.06 2.06-.94-2.06-.94-.94-2.06-.94 2.06-2.06.94zm-11 1L8.5 8.5l.94-2.06 2.06-.94-2.06-.94L8.5 2.5l-.94 2.06-2.06.94zm10 10l.94 2.06.94-2.06 2.06-.94-2.06-.94-.94-2.06-.94 2.06-2.06.94z\"/><path d=\"M17.41 7.96l-1.37-1.37c-.4-.4-.92-.59-1.43-.59-.52 0-1.04.2-1.43.59L10.3 9.45l-7.72 7.72c-.78.78-.78 2.05 0 2.83L4 21.41c.39.39.9.59 1.41.59.51 0 1.02-.2 1.41-.59l7.78-7.78 2.81-2.81c.8-.78.8-2.07 0-2.86zM5.41 20L4 18.59l7.72-7.72 1.47 1.35L5.41 20z\"/>\n",
              "  </svg>\n",
              "      </button>\n",
              "      \n",
              "  <style>\n",
              "    .colab-df-container {\n",
              "      display:flex;\n",
              "      flex-wrap:wrap;\n",
              "      gap: 12px;\n",
              "    }\n",
              "\n",
              "    .colab-df-convert {\n",
              "      background-color: #E8F0FE;\n",
              "      border: none;\n",
              "      border-radius: 50%;\n",
              "      cursor: pointer;\n",
              "      display: none;\n",
              "      fill: #1967D2;\n",
              "      height: 32px;\n",
              "      padding: 0 0 0 0;\n",
              "      width: 32px;\n",
              "    }\n",
              "\n",
              "    .colab-df-convert:hover {\n",
              "      background-color: #E2EBFA;\n",
              "      box-shadow: 0px 1px 2px rgba(60, 64, 67, 0.3), 0px 1px 3px 1px rgba(60, 64, 67, 0.15);\n",
              "      fill: #174EA6;\n",
              "    }\n",
              "\n",
              "    [theme=dark] .colab-df-convert {\n",
              "      background-color: #3B4455;\n",
              "      fill: #D2E3FC;\n",
              "    }\n",
              "\n",
              "    [theme=dark] .colab-df-convert:hover {\n",
              "      background-color: #434B5C;\n",
              "      box-shadow: 0px 1px 3px 1px rgba(0, 0, 0, 0.15);\n",
              "      filter: drop-shadow(0px 1px 2px rgba(0, 0, 0, 0.3));\n",
              "      fill: #FFFFFF;\n",
              "    }\n",
              "  </style>\n",
              "\n",
              "      <script>\n",
              "        const buttonEl =\n",
              "          document.querySelector('#df-bc223436-e9b9-4d4b-9631-b79fa4f2ff86 button.colab-df-convert');\n",
              "        buttonEl.style.display =\n",
              "          google.colab.kernel.accessAllowed ? 'block' : 'none';\n",
              "\n",
              "        async function convertToInteractive(key) {\n",
              "          const element = document.querySelector('#df-bc223436-e9b9-4d4b-9631-b79fa4f2ff86');\n",
              "          const dataTable =\n",
              "            await google.colab.kernel.invokeFunction('convertToInteractive',\n",
              "                                                     [key], {});\n",
              "          if (!dataTable) return;\n",
              "\n",
              "          const docLinkHtml = 'Like what you see? Visit the ' +\n",
              "            '<a target=\"_blank\" href=https://colab.research.google.com/notebooks/data_table.ipynb>data table notebook</a>'\n",
              "            + ' to learn more about interactive tables.';\n",
              "          element.innerHTML = '';\n",
              "          dataTable['output_type'] = 'display_data';\n",
              "          await google.colab.output.renderOutput(dataTable, element);\n",
              "          const docLink = document.createElement('div');\n",
              "          docLink.innerHTML = docLinkHtml;\n",
              "          element.appendChild(docLink);\n",
              "        }\n",
              "      </script>\n",
              "    </div>\n",
              "  </div>\n",
              "  "
            ]
          },
          "metadata": {},
          "execution_count": 10
        }
      ]
    },
    {
      "cell_type": "markdown",
      "source": [
        "### **Run QC on both the V(D)J data and transcriptome data**\n",
        "\n",
        "We use the function `pp.check_contigs` to mark ambiguous contigs in the V(D)J data and `Dandelion` will subsequently know which contigs to transfer to the transcriptome adata's `.obs`."
      ],
      "metadata": {
        "id": "nyuErJEFh8gz"
      }
    },
    {
      "cell_type": "code",
      "source": [
        "vdj, adata = ddl.pp.check_contigs(bcr, adata)\n",
        "vdj"
      ],
      "metadata": {
        "colab": {
          "base_uri": "https://localhost:8080/"
        },
        "id": "TMUcP_d_WEzK",
        "outputId": "4db7f5c3-b797-4a73-d88e-d00322e29d8f"
      },
      "execution_count": 11,
      "outputs": [
        {
          "output_type": "stream",
          "name": "stderr",
          "text": [
            "Preparing data: 9896it [00:05, 1807.03it/s]\n",
            "Scanning for poor quality/ambiguous contigs: 100%|██████████| 4713/4713 [00:45<00:00, 102.63it/s]\n"
          ]
        },
        {
          "output_type": "execute_result",
          "data": {
            "text/plain": [
              "Dandelion class object with n_obs = 4713 and n_contigs = 9896\n",
              "    data: 'sequence_id', 'sequence', 'rev_comp', 'productive', 'v_call', 'd_call', 'j_call', 'sequence_alignment', 'germline_alignment', 'junction', 'junction_aa', 'v_cigar', 'd_cigar', 'j_cigar', 'stop_codon', 'vj_in_frame', 'locus', 'junction_length', 'np1_length', 'np2_length', 'v_sequence_start', 'v_sequence_end', 'v_germline_start', 'v_germline_end', 'd_sequence_start', 'd_sequence_end', 'd_germline_start', 'd_germline_end', 'j_sequence_start', 'j_sequence_end', 'j_germline_start', 'j_germline_end', 'v_score', 'v_identity', 'v_support', 'd_score', 'd_identity', 'd_support', 'j_score', 'j_identity', 'j_support', 'fwr1', 'fwr2', 'fwr3', 'fwr4', 'cdr1', 'cdr2', 'cdr3', 'cell_id', 'c_call', 'consensus_count', 'duplicate_count', 'v_call_10x', 'd_call_10x', 'j_call_10x', 'junction_10x', 'junction_10x_aa', 'j_support_igblastn', 'j_score_igblastn', 'j_call_igblastn', 'j_call_blastn', 'j_identity_blastn', 'j_alignment_length_blastn', 'j_number_of_mismatches_blastn', 'j_number_of_gap_openings_blastn', 'j_sequence_start_blastn', 'j_sequence_end_blastn', 'j_germline_start_blastn', 'j_germline_end_blastn', 'j_support_blastn', 'j_score_blastn', 'j_sequence_alignment_blastn', 'j_germline_alignment_blastn', 'cell_id_blastn', 'j_source', 'd_support_igblastn', 'd_score_igblastn', 'd_call_igblastn', 'd_call_blastn', 'd_identity_blastn', 'd_alignment_length_blastn', 'd_number_of_mismatches_blastn', 'd_number_of_gap_openings_blastn', 'd_sequence_start_blastn', 'd_sequence_end_blastn', 'd_germline_start_blastn', 'd_germline_end_blastn', 'd_support_blastn', 'd_score_blastn', 'd_sequence_alignment_blastn', 'd_germline_alignment_blastn', 'd_source', 'v_call_genotyped', 'germline_alignment_d_mask', 'sample_id', 'c_sequence_alignment', 'c_germline_alignment', 'c_sequence_start', 'c_sequence_end', 'c_score', 'c_identity', 'c_call_10x', 'junction_aa_length', 'fwr1_aa', 'fwr2_aa', 'fwr3_aa', 'fwr4_aa', 'cdr1_aa', 'cdr2_aa', 'cdr3_aa', 'sequence_alignment_aa', 'v_sequence_alignment_aa', 'd_sequence_alignment_aa', 'j_sequence_alignment_aa', 'mu_count', 'mu_freq', 'ambiguous', 'rearrangement_status'\n",
              "    metadata: 'sample_id', 'locus_VDJ', 'locus_VJ', 'productive_VDJ', 'productive_VJ', 'v_call_genotyped_VDJ', 'd_call_VDJ', 'j_call_VDJ', 'v_call_genotyped_VJ', 'j_call_VJ', 'c_call_VDJ', 'c_call_VJ', 'junction_VDJ', 'junction_VJ', 'junction_aa_VDJ', 'junction_aa_VJ', 'v_call_genotyped_B_VDJ', 'd_call_B_VDJ', 'j_call_B_VDJ', 'v_call_genotyped_B_VJ', 'j_call_B_VJ', 'c_call_B_VDJ', 'c_call_B_VJ', 'productive_B_VDJ', 'productive_B_VJ', 'duplicate_count_B_VDJ', 'duplicate_count_B_VJ', 'isotype', 'isotype_status', 'locus_status', 'chain_status', 'rearrangement_status_VDJ', 'rearrangement_status_VJ'"
            ]
          },
          "metadata": {},
          "execution_count": 11
        }
      ]
    },
    {
      "cell_type": "markdown",
      "source": [
        "Also run through a generic `scanpy` preprocessing workflow on the `AnnData` object."
      ],
      "metadata": {
        "id": "2eXPgvxdXkyf"
      }
    },
    {
      "cell_type": "code",
      "source": [
        "# filter genes\n",
        "sc.pp.filter_genes(adata, min_cells=3)\n",
        "# Normalize the counts\n",
        "sc.pp.normalize_total(adata, target_sum=1e4)\n",
        "# Logarithmize the data\n",
        "sc.pp.log1p(adata)\n",
        "# Identify highly-variable genes\n",
        "sc.pp.highly_variable_genes(adata, min_mean=0.0125, max_mean=3, min_disp=0.5)\n",
        "# remove VDJ genes from highly variable. This is a personal choice.\n",
        "import re\n",
        "for i in adata.var.index:\n",
        "    if re.search('^TR[AB][VDJ]|^IG[HKL][VDJC]', i):\n",
        "        adata.var.at[i, 'highly_variable'] = False\n",
        "# stash in raw\n",
        "adata.raw = adata\n",
        "# filter to only highly variable\n",
        "adata = adata[:, adata.var.highly_variable].copy()\n",
        "# scale\n",
        "sc.pp.scale(adata, max_value=10)\n",
        "# pca\n",
        "sc.tl.pca(adata, svd_solver='arpack')\n",
        "# Computing the neighborhood graph\n",
        "sc.pp.neighbors(adata)\n",
        "# umap\n",
        "sc.tl.umap(adata)\n",
        "# Cluster\n",
        "sc.tl.leiden(adata)\n",
        "adata"
      ],
      "metadata": {
        "id": "i3dY6p00N1ye",
        "colab": {
          "base_uri": "https://localhost:8080/"
        },
        "outputId": "b607c66b-05b4-4359-9b65-0cacb0281054"
      },
      "execution_count": 12,
      "outputs": [
        {
          "output_type": "stream",
          "name": "stderr",
          "text": [
            "/usr/local/lib/python3.7/dist-packages/numba/np/ufunc/parallel.py:363: NumbaWarning: The TBB threading layer requires TBB version 2019.5 or later i.e., TBB_INTERFACE_VERSION >= 11005. Found TBB_INTERFACE_VERSION = 9107. The TBB threading layer is disabled.\n",
            "  warnings.warn(problem)\n"
          ]
        },
        {
          "output_type": "execute_result",
          "data": {
            "text/plain": [
              "AnnData object with n_obs × n_vars = 18115 × 868\n",
              "    obs: 'sample_id', 'has_contig', 'locus_VDJ', 'locus_VJ', 'productive_VDJ', 'productive_VJ', 'v_call_genotyped_VDJ', 'd_call_VDJ', 'j_call_VDJ', 'v_call_genotyped_VJ', 'j_call_VJ', 'c_call_VDJ', 'c_call_VJ', 'junction_VDJ', 'junction_VJ', 'junction_aa_VDJ', 'junction_aa_VJ', 'v_call_genotyped_B_VDJ', 'd_call_B_VDJ', 'j_call_B_VDJ', 'v_call_genotyped_B_VJ', 'j_call_B_VJ', 'c_call_B_VDJ', 'c_call_B_VJ', 'productive_B_VDJ', 'productive_B_VJ', 'duplicate_count_B_VDJ', 'duplicate_count_B_VJ', 'isotype', 'isotype_status', 'locus_status', 'chain_status', 'rearrangement_status_VDJ', 'rearrangement_status_VJ', 'leiden'\n",
              "    var: 'n_cells', 'highly_variable', 'means', 'dispersions', 'dispersions_norm', 'mean', 'std'\n",
              "    uns: 'log1p', 'hvg', 'pca', 'neighbors', 'umap', 'leiden'\n",
              "    obsm: 'X_pca', 'X_umap'\n",
              "    varm: 'PCs'\n",
              "    obsp: 'distances', 'connectivities'"
            ]
          },
          "metadata": {},
          "execution_count": 12
        }
      ]
    },
    {
      "cell_type": "code",
      "source": [
        "# save because there maybe issues with plotting-\n",
        "adata.write_h5ad('adata.h5ad', compression = 'gzip')"
      ],
      "metadata": {
        "id": "mCw7rLXrnD0Z"
      },
      "execution_count": 17,
      "outputs": []
    },
    {
      "cell_type": "code",
      "source": [
        "vdj.write_h5ddl('vdj.h5ddl')"
      ],
      "metadata": {
        "id": "TeSGf90LnLUd"
      },
      "execution_count": 18,
      "outputs": []
    },
    {
      "cell_type": "code",
      "source": [
        "# if you run into any issues with plotting below, run this and restart the runtime\n",
        "!python -m pip install -q matplotlib -U"
      ],
      "metadata": {
        "id": "HrSZoK6FnSOF",
        "outputId": "df3663c1-647d-4243-9430-fa011cec5482",
        "colab": {
          "base_uri": "https://localhost:8080/"
        }
      },
      "execution_count": 19,
      "outputs": [
        {
          "output_type": "stream",
          "name": "stdout",
          "text": [
            "\u001b[K     |████████████████████████████████| 11.2 MB 27.5 MB/s \n",
            "\u001b[K     |████████████████████████████████| 944 kB 39.2 MB/s \n",
            "\u001b[31mERROR: pip's dependency resolver does not currently take into account all the packages that are installed. This behaviour is the source of the following dependency conflicts.\n",
            "albumentations 0.1.12 requires imgaug<0.2.7,>=0.2.5, but you have imgaug 0.2.9 which is incompatible.\u001b[0m\n",
            "\u001b[?25h"
          ]
        }
      ]
    },
    {
      "cell_type": "code",
      "source": [
        "import scanpy as sc\n",
        "import dandelion as ddl\n",
        "\n",
        "adata = sc.read_h5ad('adata.h5ad')\n",
        "vdj = ddl.read_h5ddl('vdj.h5ddl')"
      ],
      "metadata": {
        "id": "nUrLjy04nbFz"
      },
      "execution_count": 1,
      "outputs": []
    },
    {
      "cell_type": "markdown",
      "source": [
        "### Visualizing the clusters and whether or not there’s a corresponding V(D)J receptor"
      ],
      "metadata": {
        "id": "i_B35QnvXy39"
      }
    },
    {
      "cell_type": "code",
      "source": [
        "sc.pl.umap(adata, color=['leiden'])"
      ],
      "metadata": {
        "id": "4OV8SP6AR4au",
        "colab": {
          "base_uri": "https://localhost:8080/",
          "height": 282
        },
        "outputId": "db8584da-6e60-442d-ac9a-f3396aba774f"
      },
      "execution_count": 2,
      "outputs": [
        {
          "output_type": "display_data",
          "data": {
            "text/plain": [
              "<Figure size 432x288 with 1 Axes>"
            ],
            "image/png": "[encoded data removed]"
          },
          "metadata": {}
        }
      ]
    },
    {
      "cell_type": "markdown",
      "source": [
        "The naming for the chain_statuses should be self-explanatory and are very similar to how `scirpy` names their `chain_pairing`. A key difference is the `-exception` flags. They indicate special circumstances that `Dandelion` prefers to be more lenient. For example, IgM/IgD cells will be flagged as `Extra pair-exception` due to having an extra IGH contig."
      ],
      "metadata": {
        "id": "OlkATIpUiXnZ"
      }
    },
    {
      "cell_type": "code",
      "source": [
        "sc.pl.umap(adata, color=['chain_status'], groups = ['Single pair', 'Extra pair', 'Extra pair-exception', 'Orphan VDJ', 'Orphan VJ'], ncols = 1)"
      ],
      "metadata": {
        "id": "baPw1Q2AcLYg",
        "colab": {
          "base_uri": "https://localhost:8080/",
          "height": 282
        },
        "outputId": "d524a1aa-1e78-4cf9-abc0-ad13adce531b"
      },
      "execution_count": 3,
      "outputs": [
        {
          "output_type": "display_data",
          "data": {
            "text/plain": [
              "<Figure size 432x288 with 1 Axes>"
            ],
            "image/png": "[encoded data removed]"
          },
          "metadata": {}
        }
      ]
    },
    {
      "cell_type": "markdown",
      "source": [
        "### Finding clones"
      ],
      "metadata": {
        "id": "mIkWUY3EX9PS"
      }
    },
    {
      "cell_type": "code",
      "source": [
        "ddl.tl.find_clones(vdj)"
      ],
      "metadata": {
        "colab": {
          "base_uri": "https://localhost:8080/"
        },
        "id": "yT_vmx9kX-hJ",
        "outputId": "fdfe144e-b480-455c-eaa0-cb6459b793d8"
      },
      "execution_count": 4,
      "outputs": [
        {
          "output_type": "stream",
          "name": "stderr",
          "text": [
            "Finding clones based on B cell VDJ chains : 100%|██████████| 242/242 [00:00<00:00, 650.29it/s]\n",
            "Refining clone assignment based on VJ chain pairing : 100%|██████████| 4379/4379 [00:00<00:00, 191622.84it/s]\n"
          ]
        }
      ]
    },
    {
      "cell_type": "markdown",
      "source": [
        "### Generate BCR network"
      ],
      "metadata": {
        "id": "4ImsEJcaYSrF"
      }
    },
    {
      "cell_type": "code",
      "source": [
        "ddl.tl.generate_network(vdj)\n",
        "# it's quite hard to install graph-tool on google colab, so try it on a local computer."
      ],
      "metadata": {
        "colab": {
          "base_uri": "https://localhost:8080/"
        },
        "id": "MwcqDTH1YQOs",
        "outputId": "e3630984-9929-45d7-be4c-b9c84f40083f"
      },
      "execution_count": 5,
      "outputs": [
        {
          "output_type": "stream",
          "name": "stderr",
          "text": [
            "Setting up data: 9569it [00:05, 1794.44it/s]\n",
            "Calculating distances... : 100%|██████████| 4746/4746 [00:01<00:00, 3124.97it/s]\n",
            "Generating edge list : 100%|██████████| 32/32 [00:00<00:00, 396.08it/s]\n",
            "Computing overlap : 100%|██████████| 4746/4746 [00:10<00:00, 448.23it/s]\n",
            "Linking edges : 100%|██████████| 4343/4343 [00:00<00:00, 38782.24it/s]\n"
          ]
        },
        {
          "output_type": "stream",
          "name": "stdout",
          "text": [
            "To benefit from faster layout computation, please install graph-tool: conda install -c conda-forge graph-tool\n"
          ]
        }
      ]
    },
    {
      "cell_type": "markdown",
      "source": [
        "### Transfer to `AnnData` and visualise"
      ],
      "metadata": {
        "id": "Z3wv3O7kYTMi"
      }
    },
    {
      "cell_type": "code",
      "source": [
        "ddl.tl.transfer(adata, vdj, expanded_only = True)\n",
        "adata"
      ],
      "metadata": {
        "colab": {
          "base_uri": "https://localhost:8080/"
        },
        "id": "WH0T6L1AYQRl",
        "outputId": "5fde70f3-1ba4-4e44-cfa0-f61a13589afd"
      },
      "execution_count": 6,
      "outputs": [
        {
          "output_type": "execute_result",
          "data": {
            "text/plain": [
              "AnnData object with n_obs × n_vars = 18115 × 868\n",
              "    obs: 'sample_id', 'has_contig', 'locus_VDJ', 'locus_VJ', 'productive_VDJ', 'productive_VJ', 'v_call_genotyped_VDJ', 'd_call_VDJ', 'j_call_VDJ', 'v_call_genotyped_VJ', 'j_call_VJ', 'c_call_VDJ', 'c_call_VJ', 'junction_VDJ', 'junction_VJ', 'junction_aa_VDJ', 'junction_aa_VJ', 'v_call_genotyped_B_VDJ', 'd_call_B_VDJ', 'j_call_B_VDJ', 'v_call_genotyped_B_VJ', 'j_call_B_VJ', 'c_call_B_VDJ', 'c_call_B_VJ', 'productive_B_VDJ', 'productive_B_VJ', 'duplicate_count_B_VDJ', 'duplicate_count_B_VJ', 'isotype', 'isotype_status', 'locus_status', 'chain_status', 'rearrangement_status_VDJ', 'rearrangement_status_VJ', 'leiden', 'clone_id', 'clone_id_by_size'\n",
              "    var: 'n_cells', 'highly_variable', 'means', 'dispersions', 'dispersions_norm', 'mean', 'std'\n",
              "    uns: 'chain_status_colors', 'hvg', 'leiden', 'leiden_colors', 'log1p', 'neighbors', 'pca', 'umap', 'rna_neighbors', 'clone_id'\n",
              "    obsm: 'X_pca', 'X_umap', 'X_vdj'\n",
              "    varm: 'PCs'\n",
              "    obsp: 'connectivities', 'distances', 'rna_connectivities', 'rna_distances', 'vdj_connectivities', 'vdj_distances'"
            ]
          },
          "metadata": {},
          "execution_count": 6
        }
      ]
    },
    {
      "cell_type": "code",
      "source": [
        "sc.set_figure_params(figsize = [6,6])\n",
        "ddl.pl.clone_network(adata,\n",
        "                     color = ['sample_id', 'isotype_status'],\n",
        "                     edges_width = 1,\n",
        "                     size = 100,\n",
        "                     ncols = 1\n",
        "                     )"
      ],
      "metadata": {
        "colab": {
          "base_uri": "https://localhost:8080/",
          "height": 857
        },
        "id": "w9MbtURuYQVF",
        "outputId": "0209809c-be00-4a12-d07e-bf83d3eb4296"
      },
      "execution_count": 7,
      "outputs": [
        {
          "output_type": "display_data",
          "data": {
            "text/plain": [
              "<Figure size 549.6x960 with 2 Axes>"
            ],
            "image/png": "[encoded data removed]"
          },
          "metadata": {
            "image/png": {
              "width": 624,
              "height": 840
            }
          }
        }
      ]
    },
    {
      "cell_type": "markdown",
      "source": [
        "Remember, this is only 5000 contigs because we trimmed this earlier. Try it again without trimming!"
      ],
      "metadata": {
        "id": "tIurpDpTgtBf"
      }
    },
    {
      "cell_type": "markdown",
      "source": [
        "For more in-depth tutorial and examples of the workflow, please visit `dandelion`'s [documentation](https://sc-dandelion.readthedocs.io/) and [github repository](https://github.com/zktuong/dandelion)."
      ],
      "metadata": {
        "id": "ZzZjfDPjYjZb"
      }
    },
    {
      "cell_type": "code",
      "source": [
        ""
      ],
      "metadata": {
        "id": "iV5_OOTpY44h"
      },
      "execution_count": null,
      "outputs": []
    }
  ]
}